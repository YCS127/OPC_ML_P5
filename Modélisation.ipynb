{
 "cells": [
  {
   "cell_type": "markdown",
   "id": "36ef7913",
   "metadata": {
    "toc": true
   },
   "source": [
    "<h1>Table of Contents<span class=\"tocSkip\"></span></h1>\n",
    "<div class=\"toc\"><ul class=\"toc-item\"><li><span><a href=\"#Librairies\" data-toc-modified-id=\"Librairies-1\"><span class=\"toc-item-num\">1&nbsp;&nbsp;</span>Librairies</a></span></li><li><span><a href=\"#Les-données\" data-toc-modified-id=\"Les-données-2\"><span class=\"toc-item-num\">2&nbsp;&nbsp;</span>Les données</a></span></li><li><span><a href=\"#Classification-supervisée\" data-toc-modified-id=\"Classification-supervisée-3\"><span class=\"toc-item-num\">3&nbsp;&nbsp;</span>Classification supervisée</a></span><ul class=\"toc-item\"><li><span><a href=\"#Fréquence-de-distribution-des-tokens\" data-toc-modified-id=\"Fréquence-de-distribution-des-tokens-3.1\"><span class=\"toc-item-num\">3.1&nbsp;&nbsp;</span>Fréquence de distribution des tokens</a></span></li><li><span><a href=\"#Fréquence-de-distribution-des-tags\" data-toc-modified-id=\"Fréquence-de-distribution-des-tags-3.2\"><span class=\"toc-item-num\">3.2&nbsp;&nbsp;</span>Fréquence de distribution des tags</a></span></li><li><span><a href=\"#Nombre-de-tags-par-observation\" data-toc-modified-id=\"Nombre-de-tags-par-observation-3.3\"><span class=\"toc-item-num\">3.3&nbsp;&nbsp;</span>Nombre de tags par observation</a></span></li><li><span><a href=\"#Nombre-de-tags-uniques\" data-toc-modified-id=\"Nombre-de-tags-uniques-3.4\"><span class=\"toc-item-num\">3.4&nbsp;&nbsp;</span>Nombre de tags uniques</a></span></li><li><span><a href=\"#WordCloud\" data-toc-modified-id=\"WordCloud-3.5\"><span class=\"toc-item-num\">3.5&nbsp;&nbsp;</span>WordCloud</a></span></li><li><span><a href=\"#Top-200-tags\" data-toc-modified-id=\"Top-200-tags-3.6\"><span class=\"toc-item-num\">3.6&nbsp;&nbsp;</span>Top 200 tags</a></span></li><li><span><a href=\"#Word-embedding\" data-toc-modified-id=\"Word-embedding-3.7\"><span class=\"toc-item-num\">3.7&nbsp;&nbsp;</span>Word embedding</a></span><ul class=\"toc-item\"><li><span><a href=\"#Tf-idf\" data-toc-modified-id=\"Tf-idf-3.7.1\"><span class=\"toc-item-num\">3.7.1&nbsp;&nbsp;</span>Tf-idf</a></span></li><li><span><a href=\"#Word2vec\" data-toc-modified-id=\"Word2vec-3.7.2\"><span class=\"toc-item-num\">3.7.2&nbsp;&nbsp;</span>Word2vec</a></span></li><li><span><a href=\"#Bert\" data-toc-modified-id=\"Bert-3.7.3\"><span class=\"toc-item-num\">3.7.3&nbsp;&nbsp;</span>Bert</a></span></li><li><span><a href=\"#Use\" data-toc-modified-id=\"Use-3.7.4\"><span class=\"toc-item-num\">3.7.4&nbsp;&nbsp;</span>Use</a></span></li></ul></li><li><span><a href=\"#Préparation-des-tags\" data-toc-modified-id=\"Préparation-des-tags-3.8\"><span class=\"toc-item-num\">3.8&nbsp;&nbsp;</span>Préparation des tags</a></span><ul class=\"toc-item\"><li><span><a href=\"#Tags-uniques\" data-toc-modified-id=\"Tags-uniques-3.8.1\"><span class=\"toc-item-num\">3.8.1&nbsp;&nbsp;</span>Tags uniques</a></span></li><li><span><a href=\"#Encodage-des-tags\" data-toc-modified-id=\"Encodage-des-tags-3.8.2\"><span class=\"toc-item-num\">3.8.2&nbsp;&nbsp;</span>Encodage des tags</a></span></li></ul></li><li><span><a href=\"#Partition-des-données\" data-toc-modified-id=\"Partition-des-données-3.9\"><span class=\"toc-item-num\">3.9&nbsp;&nbsp;</span>Partition des données</a></span></li><li><span><a href=\"#Réduction-de-dimension\" data-toc-modified-id=\"Réduction-de-dimension-3.10\"><span class=\"toc-item-num\">3.10&nbsp;&nbsp;</span>Réduction de dimension</a></span></li><li><span><a href=\"#Performance-comparée\" data-toc-modified-id=\"Performance-comparée-3.11\"><span class=\"toc-item-num\">3.11&nbsp;&nbsp;</span>Performance comparée</a></span><ul class=\"toc-item\"><li><span><a href=\"#Procédure\" data-toc-modified-id=\"Procédure-3.11.1\"><span class=\"toc-item-num\">3.11.1&nbsp;&nbsp;</span>Procédure</a></span></li><li><span><a href=\"#Fonction-de-comparaison\" data-toc-modified-id=\"Fonction-de-comparaison-3.11.2\"><span class=\"toc-item-num\">3.11.2&nbsp;&nbsp;</span>Fonction de comparaison</a></span></li><li><span><a href=\"#On-compare-les-performances\" data-toc-modified-id=\"On-compare-les-performances-3.11.3\"><span class=\"toc-item-num\">3.11.3&nbsp;&nbsp;</span>On compare les performances</a></span></li><li><span><a href=\"#Optimisation-modèle-retenu\" data-toc-modified-id=\"Optimisation-modèle-retenu-3.11.4\"><span class=\"toc-item-num\">3.11.4&nbsp;&nbsp;</span>Optimisation modèle retenu</a></span></li><li><span><a href=\"#Sauvegarde-des-modèles-et-données\" data-toc-modified-id=\"Sauvegarde-des-modèles-et-données-3.11.5\"><span class=\"toc-item-num\">3.11.5&nbsp;&nbsp;</span>Sauvegarde des modèles et données</a></span></li><li><span><a href=\"#Fonction-de-prédiction\" data-toc-modified-id=\"Fonction-de-prédiction-3.11.6\"><span class=\"toc-item-num\">3.11.6&nbsp;&nbsp;</span>Fonction de prédiction</a></span></li><li><span><a href=\"#Fonction-de-vérification\" data-toc-modified-id=\"Fonction-de-vérification-3.11.7\"><span class=\"toc-item-num\">3.11.7&nbsp;&nbsp;</span>Fonction de vérification</a></span></li></ul></li></ul></li><li><span><a href=\"#Classification-non-supervisée\" data-toc-modified-id=\"Classification-non-supervisée-4\"><span class=\"toc-item-num\">4&nbsp;&nbsp;</span>Classification non supervisée</a></span><ul class=\"toc-item\"><li><span><a href=\"#Préparation-data\" data-toc-modified-id=\"Préparation-data-4.1\"><span class=\"toc-item-num\">4.1&nbsp;&nbsp;</span>Préparation data</a></span></li><li><span><a href=\"#Conversion-des-données\" data-toc-modified-id=\"Conversion-des-données-4.2\"><span class=\"toc-item-num\">4.2&nbsp;&nbsp;</span>Conversion des données</a></span></li><li><span><a href=\"#Choix-du-modèle\" data-toc-modified-id=\"Choix-du-modèle-4.3\"><span class=\"toc-item-num\">4.3&nbsp;&nbsp;</span>Choix du modèle</a></span></li><li><span><a href=\"#Recherche-du-nombre-de-topics-(cohérence)\" data-toc-modified-id=\"Recherche-du-nombre-de-topics-(cohérence)-4.4\"><span class=\"toc-item-num\">4.4&nbsp;&nbsp;</span>Recherche du nombre de topics (cohérence)</a></span></li><li><span><a href=\"#Les-mesures-de-cohérence-du-modèle\" data-toc-modified-id=\"Les-mesures-de-cohérence-du-modèle-4.5\"><span class=\"toc-item-num\">4.5&nbsp;&nbsp;</span>Les mesures de cohérence du modèle</a></span></li><li><span><a href=\"#Visualisation-des-topics\" data-toc-modified-id=\"Visualisation-des-topics-4.6\"><span class=\"toc-item-num\">4.6&nbsp;&nbsp;</span>Visualisation des topics</a></span></li><li><span><a href=\"#Stockage-des-résultats-(df)\" data-toc-modified-id=\"Stockage-des-résultats-(df)-4.7\"><span class=\"toc-item-num\">4.7&nbsp;&nbsp;</span>Stockage des résultats (df)</a></span></li><li><span><a href=\"#Sérialisation-modèle-et-dictionnaire\" data-toc-modified-id=\"Sérialisation-modèle-et-dictionnaire-4.8\"><span class=\"toc-item-num\">4.8&nbsp;&nbsp;</span>Sérialisation modèle et dictionnaire</a></span></li><li><span><a href=\"#Fonction-de-prédiction\" data-toc-modified-id=\"Fonction-de-prédiction-4.9\"><span class=\"toc-item-num\">4.9&nbsp;&nbsp;</span>Fonction de prédiction</a></span></li><li><span><a href=\"#Fonction-de-vérification\" data-toc-modified-id=\"Fonction-de-vérification-4.10\"><span class=\"toc-item-num\">4.10&nbsp;&nbsp;</span>Fonction de vérification</a></span></li></ul></li><li><span><a href=\"#Conclusion\" data-toc-modified-id=\"Conclusion-5\"><span class=\"toc-item-num\">5&nbsp;&nbsp;</span>Conclusion</a></span></li></ul></div>"
   ]
  },
  {
   "cell_type": "markdown",
   "id": "d13e1008",
   "metadata": {},
   "source": [
    "# Librairies"
   ]
  },
  {
   "cell_type": "code",
   "execution_count": 1,
   "id": "d162bbac",
   "metadata": {
    "ExecuteTime": {
     "end_time": "2023-05-20T20:46:01.997769Z",
     "start_time": "2023-05-20T20:45:58.922876Z"
    }
   },
   "outputs": [
    {
     "name": "stdout",
     "output_type": "stream",
     "text": [
      "Python 3.9.16\n",
      "Version des librairies utilisées :\n",
      "NumPy                 : 1.21.4\n",
      "Pandas                : 1.5.3\n",
      "Python                : 3.9.16 (main, Mar  8 2023, 10:39:24) [MSC v.1916 64 bit (AMD64)]\n",
      "Matplotlib            : 3.7.1\n",
      "Seaborn               : 0.12.2\n"
     ]
    }
   ],
   "source": [
    "import warnings\n",
    "warnings.filterwarnings(\"ignore\")\n",
    "import pandas as pd\n",
    "import seaborn as sns\n",
    "import matplotlib.pyplot as plt\n",
    "import numpy as np\n",
    "import os, shutil\n",
    "\n",
    "\n",
    "from bs4 import BeautifulSoup \n",
    "import nltk\n",
    "#from nltk.corpus import stopwords \n",
    "#from nltk.stem.porter import PorterStemmer\n",
    "import re\n",
    "import pickle\n",
    "from collections import Counter\n",
    "import logging\n",
    "import time\n",
    "\n",
    "# Import des librairies\n",
    "\n",
    "#import nltk\n",
    "#import pickle\n",
    "#import time\n",
    "#from sklearn import cluster, metrics\n",
    "#from sklearn import manifold, decomposition\n",
    "\n",
    "#\n",
    "#import re\n",
    "\n",
    "from wordcloud import WordCloud\n",
    "\n",
    "logging.disable(logging.WARNING) # disable WARNING, INFO and DEBUG logging everywhere\n",
    "\n",
    "# mes fonctions\n",
    "path2 = os.getcwd()\n",
    "path1 = 'C:\\\\Users\\\\clsab\\\\noteBooks\\\\utils_ycs'\n",
    "shutil.copy(path1+'\\\\YCS_functions.py', path2)\n",
    "from YCS_functions import *\n",
    "\n",
    "# Versions\n",
    "!python --version\n",
    "import sys\n",
    "import matplotlib as mpl\n",
    "\n",
    "print('Version des librairies utilisées :')\n",
    "\n",
    "print('NumPy                 : ' + np.version.full_version)\n",
    "print('Pandas                : ' + pd.__version__)\n",
    "print('Python                : ' + sys.version)\n",
    "print('Matplotlib            : ' + mpl.__version__)\n",
    "print('Seaborn               : ' + sns.__version__)\n",
    "#%pycodestyle_on"
   ]
  },
  {
   "cell_type": "code",
   "execution_count": 2,
   "id": "36da5d2c",
   "metadata": {
    "ExecuteTime": {
     "end_time": "2023-05-20T20:46:02.044432Z",
     "start_time": "2023-05-20T20:46:02.001692Z"
    }
   },
   "outputs": [
    {
     "name": "stdout",
     "output_type": "stream",
     "text": [
      "matplotlib: 3.7.1\n",
      "re        : 2.2.1\n",
      "seaborn   : 0.12.2\n",
      "numpy     : 1.21.4\n",
      "sys       : 3.9.16 (main, Mar  8 2023, 10:39:24) [MSC v.1916 64 bit (AMD64)]\n",
      "nltk      : 3.7\n",
      "logging   : 0.5.1.2\n",
      "pandas    : 1.5.3\n",
      "\n"
     ]
    }
   ],
   "source": [
    "%load_ext watermark\n",
    "%watermark --iversions"
   ]
  },
  {
   "cell_type": "markdown",
   "id": "3dbc904d",
   "metadata": {},
   "source": [
    "# Les données"
   ]
  },
  {
   "cell_type": "code",
   "execution_count": 3,
   "id": "707a58a6",
   "metadata": {
    "ExecuteTime": {
     "end_time": "2023-05-20T20:46:02.340533Z",
     "start_time": "2023-05-20T20:46:02.046965Z"
    }
   },
   "outputs": [
    {
     "data": {
      "text/html": [
       "<div>\n",
       "<style scoped>\n",
       "    .dataframe tbody tr th:only-of-type {\n",
       "        vertical-align: middle;\n",
       "    }\n",
       "\n",
       "    .dataframe tbody tr th {\n",
       "        vertical-align: top;\n",
       "    }\n",
       "\n",
       "    .dataframe thead th {\n",
       "        text-align: right;\n",
       "    }\n",
       "</style>\n",
       "<table border=\"1\" class=\"dataframe\">\n",
       "  <thead>\n",
       "    <tr style=\"text-align: right;\">\n",
       "      <th></th>\n",
       "      <th>Post</th>\n",
       "      <th>splitted_text</th>\n",
       "      <th>splitted_tags</th>\n",
       "    </tr>\n",
       "  </thead>\n",
       "  <tbody>\n",
       "    <tr>\n",
       "      <th>0</th>\n",
       "      <td>How to convert Decimal to Double in C#? &lt;p&gt;I w...</td>\n",
       "      <td>[convert, decimal, assign, opacity, value, opa...</td>\n",
       "      <td>[floating, point, type, conversion, double, de...</td>\n",
       "    </tr>\n",
       "    <tr>\n",
       "      <th>1</th>\n",
       "      <td>Why did the width collapse in the percentage w...</td>\n",
       "      <td>[width, collapse, percentage, width, child, el...</td>\n",
       "      <td>[html, internet, explorer]</td>\n",
       "    </tr>\n",
       "    <tr>\n",
       "      <th>2</th>\n",
       "      <td>How do I calculate someone's age based on a Da...</td>\n",
       "      <td>[calculate, someone, birthday, person, calculate]</td>\n",
       "      <td>[datetime]</td>\n",
       "    </tr>\n",
       "  </tbody>\n",
       "</table>\n",
       "</div>"
      ],
      "text/plain": [
       "                                                Post  \\\n",
       "0  How to convert Decimal to Double in C#? <p>I w...   \n",
       "1  Why did the width collapse in the percentage w...   \n",
       "2  How do I calculate someone's age based on a Da...   \n",
       "\n",
       "                                       splitted_text  \\\n",
       "0  [convert, decimal, assign, opacity, value, opa...   \n",
       "1  [width, collapse, percentage, width, child, el...   \n",
       "2  [calculate, someone, birthday, person, calculate]   \n",
       "\n",
       "                                       splitted_tags  \n",
       "0  [floating, point, type, conversion, double, de...  \n",
       "1                         [html, internet, explorer]  \n",
       "2                                         [datetime]  "
      ]
     },
     "execution_count": 3,
     "metadata": {},
     "output_type": "execute_result"
    }
   ],
   "source": [
    "data = pd.read_pickle('data/cleaned_corpus.pkl')\n",
    "data.reset_index(drop=True, inplace=True)\n",
    "data.head(3)"
   ]
  },
  {
   "cell_type": "code",
   "execution_count": 4,
   "id": "4e9e37a4",
   "metadata": {
    "ExecuteTime": {
     "end_time": "2023-05-20T20:46:02.356510Z",
     "start_time": "2023-05-20T20:46:02.343533Z"
    }
   },
   "outputs": [
    {
     "data": {
      "text/plain": [
       "(43798, 3)"
      ]
     },
     "execution_count": 4,
     "metadata": {},
     "output_type": "execute_result"
    }
   ],
   "source": [
    "data.shape"
   ]
  },
  {
   "cell_type": "markdown",
   "id": "f9bd992d",
   "metadata": {},
   "source": [
    "# Classification supervisée"
   ]
  },
  {
   "cell_type": "markdown",
   "id": "6b839b0c",
   "metadata": {},
   "source": [
    "## Fréquence de distribution des tokens"
   ]
  },
  {
   "cell_type": "code",
   "execution_count": 5,
   "id": "19e3b760",
   "metadata": {
    "ExecuteTime": {
     "end_time": "2023-05-20T20:46:02.372509Z",
     "start_time": "2023-05-20T20:46:02.359507Z"
    }
   },
   "outputs": [],
   "source": [
    "def words_freq(listOfList):\n",
    "    \"\"\"\n",
    "    Build distribution of words (frequency)\n",
    "    Args: List of lists\n",
    "    Return: word_dist_df(DataFrame)with frequency\n",
    "    \n",
    "    \"\"\"\n",
    "    \n",
    "    from nltk import FreqDist\n",
    "    \n",
    "    word_list = [token for token_list in listOfList for token in token_list]\n",
    "    word_dist = FreqDist(word_list)\n",
    "    word_dist_df = pd.DataFrame(word_dist.items(), columns=['Word', 'Frequency']).set_index('Word')\n",
    "    word_dist_df.sort_values(\"Frequency\", ascending=False, inplace=True)\n",
    "\n",
    "    return word_dist_df"
   ]
  },
  {
   "cell_type": "code",
   "execution_count": 6,
   "id": "1e0b0bb0",
   "metadata": {
    "ExecuteTime": {
     "end_time": "2023-05-20T20:46:02.890633Z",
     "start_time": "2023-05-20T20:46:02.374505Z"
    }
   },
   "outputs": [
    {
     "name": "stdout",
     "output_type": "stream",
     "text": [
      "Nombre de tokens du corpus 43923\n",
      "\n",
      "___Affichage des 10 tokens les plus utilisés___\n"
     ]
    },
    {
     "data": {
      "text/html": [
       "<div>\n",
       "<style scoped>\n",
       "    .dataframe tbody tr th:only-of-type {\n",
       "        vertical-align: middle;\n",
       "    }\n",
       "\n",
       "    .dataframe tbody tr th {\n",
       "        vertical-align: top;\n",
       "    }\n",
       "\n",
       "    .dataframe thead th {\n",
       "        text-align: right;\n",
       "    }\n",
       "</style>\n",
       "<table border=\"1\" class=\"dataframe\">\n",
       "  <thead>\n",
       "    <tr style=\"text-align: right;\">\n",
       "      <th></th>\n",
       "      <th>Frequency</th>\n",
       "    </tr>\n",
       "    <tr>\n",
       "      <th>Word</th>\n",
       "      <th></th>\n",
       "    </tr>\n",
       "  </thead>\n",
       "  <tbody>\n",
       "    <tr>\n",
       "      <th>code</th>\n",
       "      <td>14837</td>\n",
       "    </tr>\n",
       "    <tr>\n",
       "      <th>class</th>\n",
       "      <td>12590</td>\n",
       "    </tr>\n",
       "    <tr>\n",
       "      <th>file</th>\n",
       "      <td>11469</td>\n",
       "    </tr>\n",
       "    <tr>\n",
       "      <th>application</th>\n",
       "      <td>10489</td>\n",
       "    </tr>\n",
       "    <tr>\n",
       "      <th>system</th>\n",
       "      <td>8388</td>\n",
       "    </tr>\n",
       "    <tr>\n",
       "      <th>name</th>\n",
       "      <td>8344</td>\n",
       "    </tr>\n",
       "    <tr>\n",
       "      <th>value</th>\n",
       "      <td>8258</td>\n",
       "    </tr>\n",
       "    <tr>\n",
       "      <th>something</th>\n",
       "      <td>7989</td>\n",
       "    </tr>\n",
       "    <tr>\n",
       "      <th>time</th>\n",
       "      <td>7912</td>\n",
       "    </tr>\n",
       "    <tr>\n",
       "      <th>example</th>\n",
       "      <td>7214</td>\n",
       "    </tr>\n",
       "  </tbody>\n",
       "</table>\n",
       "</div>"
      ],
      "text/plain": [
       "             Frequency\n",
       "Word                  \n",
       "code             14837\n",
       "class            12590\n",
       "file             11469\n",
       "application      10489\n",
       "system            8388\n",
       "name              8344\n",
       "value             8258\n",
       "something         7989\n",
       "time              7912\n",
       "example           7214"
      ]
     },
     "metadata": {},
     "output_type": "display_data"
    },
    {
     "name": "stdout",
     "output_type": "stream",
     "text": [
      "CPU times: total: 422 ms\n",
      "Wall time: 507 ms\n"
     ]
    }
   ],
   "source": [
    "%%time\n",
    "corpus = data['splitted_text'].to_list()\n",
    "corpus_dist_df = words_freq(corpus)\n",
    "\n",
    "print(f\"Nombre de tokens du corpus {corpus_dist_df.shape[0]}\")\n",
    "print(\"\")\n",
    "print(\"___Affichage des 10 tokens les plus utilisés___\")\n",
    "display(corpus_dist_df.head(10))"
   ]
  },
  {
   "cell_type": "code",
   "execution_count": 7,
   "id": "cb72c8f1",
   "metadata": {
    "ExecuteTime": {
     "end_time": "2023-05-20T20:46:03.080575Z",
     "start_time": "2023-05-20T20:46:02.893510Z"
    }
   },
   "outputs": [
    {
     "data": {
      "image/png": "[encoded data removed]",
      "text/plain": [
       "<Figure size 1000x300 with 1 Axes>"
      ]
     },
     "metadata": {},
     "output_type": "display_data"
    }
   ],
   "source": [
    "# on visualise\n",
    "plt.figure(figsize=(10, 3))\n",
    "\n",
    "x = corpus_dist_df.head(10).index\n",
    "y = corpus_dist_df.head(10).Frequency\n",
    "\n",
    "plt.bar(x, y, color=\"darkred\")\n",
    "plt.title(\"Fréquence des 20 tokens les plus utilisés\",\n",
    "          fontsize=\"12\")\n",
    "plt.xlabel(\"Tokens\",\n",
    "           c=\"gray\")\n",
    "plt.ylabel(\"Nombre d'observations\",\n",
    "           c=\"gray\")\n",
    "plt.xticks(rotation = 45)\n",
    "plt.show()"
   ]
  },
  {
   "cell_type": "markdown",
   "id": "4d32e7a1",
   "metadata": {},
   "source": [
    "## Fréquence de distribution des tags"
   ]
  },
  {
   "cell_type": "code",
   "execution_count": 8,
   "id": "ef6a7864",
   "metadata": {
    "ExecuteTime": {
     "end_time": "2023-05-20T20:46:03.172584Z",
     "start_time": "2023-05-20T20:46:03.083639Z"
    }
   },
   "outputs": [
    {
     "name": "stdout",
     "output_type": "stream",
     "text": [
      "___Affichage des 10 tags les plus utilisés___\n"
     ]
    },
    {
     "data": {
      "text/html": [
       "<div>\n",
       "<style scoped>\n",
       "    .dataframe tbody tr th:only-of-type {\n",
       "        vertical-align: middle;\n",
       "    }\n",
       "\n",
       "    .dataframe tbody tr th {\n",
       "        vertical-align: top;\n",
       "    }\n",
       "\n",
       "    .dataframe thead th {\n",
       "        text-align: right;\n",
       "    }\n",
       "</style>\n",
       "<table border=\"1\" class=\"dataframe\">\n",
       "  <thead>\n",
       "    <tr style=\"text-align: right;\">\n",
       "      <th></th>\n",
       "      <th>Frequency</th>\n",
       "    </tr>\n",
       "    <tr>\n",
       "      <th>Word</th>\n",
       "      <th></th>\n",
       "    </tr>\n",
       "  </thead>\n",
       "  <tbody>\n",
       "    <tr>\n",
       "      <th>java</th>\n",
       "      <td>3982</td>\n",
       "    </tr>\n",
       "    <tr>\n",
       "      <th>python</th>\n",
       "      <td>2302</td>\n",
       "    </tr>\n",
       "    <tr>\n",
       "      <th>server</th>\n",
       "      <td>2256</td>\n",
       "    </tr>\n",
       "    <tr>\n",
       "      <th>javascript</th>\n",
       "      <td>2204</td>\n",
       "    </tr>\n",
       "    <tr>\n",
       "      <th>visual</th>\n",
       "      <td>2007</td>\n",
       "    </tr>\n",
       "    <tr>\n",
       "      <th>window</th>\n",
       "      <td>1956</td>\n",
       "    </tr>\n",
       "    <tr>\n",
       "      <th>studio</th>\n",
       "      <td>1753</td>\n",
       "    </tr>\n",
       "    <tr>\n",
       "      <th>ruby</th>\n",
       "      <td>1500</td>\n",
       "    </tr>\n",
       "    <tr>\n",
       "      <th>database</th>\n",
       "      <td>1365</td>\n",
       "    </tr>\n",
       "    <tr>\n",
       "      <th>html</th>\n",
       "      <td>1322</td>\n",
       "    </tr>\n",
       "  </tbody>\n",
       "</table>\n",
       "</div>"
      ],
      "text/plain": [
       "            Frequency\n",
       "Word                 \n",
       "java             3982\n",
       "python           2302\n",
       "server           2256\n",
       "javascript       2204\n",
       "visual           2007\n",
       "window           1956\n",
       "studio           1753\n",
       "ruby             1500\n",
       "database         1365\n",
       "html             1322"
      ]
     },
     "metadata": {},
     "output_type": "display_data"
    },
    {
     "name": "stdout",
     "output_type": "stream",
     "text": [
      "Nombre de tags: 5742\n",
      "CPU times: total: 15.6 ms\n",
      "Wall time: 68.9 ms\n"
     ]
    }
   ],
   "source": [
    "%%time\n",
    "tags = data['splitted_tags'].to_list()\n",
    "\n",
    "tag_dist_df = words_freq(tags)\n",
    "\n",
    "print(\"___Affichage des 10 tags les plus utilisés___\")\n",
    "display(tag_dist_df.head(10))\n",
    "print(f\"Nombre de tags: {len(tag_dist_df)}\")"
   ]
  },
  {
   "cell_type": "code",
   "execution_count": 9,
   "id": "9a500ac5",
   "metadata": {
    "ExecuteTime": {
     "end_time": "2023-05-20T20:46:03.345881Z",
     "start_time": "2023-05-20T20:46:03.176584Z"
    }
   },
   "outputs": [
    {
     "data": {
      "image/png": "[encoded data removed]",
      "text/plain": [
       "<Figure size 1000x300 with 1 Axes>"
      ]
     },
     "metadata": {},
     "output_type": "display_data"
    }
   ],
   "source": [
    "# on visualise\n",
    "plt.figure(figsize=(10, 3))\n",
    "\n",
    "x = tag_dist_df.head(10).index\n",
    "y = tag_dist_df.head(10).Frequency\n",
    "\n",
    "plt.bar(x, y, color=\"darkred\")\n",
    "plt.title(\"Fréquence des 10 tags les plus utilisés\",\n",
    "          fontsize=\"12\")\n",
    "plt.xlabel(\"Tags\",\n",
    "           c=\"gray\")\n",
    "plt.ylabel(\"Nombre d'observations\",\n",
    "           c=\"gray\")\n",
    "plt.xticks(rotation = 45)\n",
    "plt.show()"
   ]
  },
  {
   "cell_type": "markdown",
   "id": "debbc857",
   "metadata": {},
   "source": [
    "## Nombre de tags par observation"
   ]
  },
  {
   "cell_type": "code",
   "execution_count": 10,
   "id": "37cd76d7",
   "metadata": {
    "ExecuteTime": {
     "end_time": "2023-05-20T20:46:03.692436Z",
     "start_time": "2023-05-20T20:46:03.349901Z"
    }
   },
   "outputs": [
    {
     "data": {
      "text/plain": [
       "Text(0, 0.5, \"Nombre d'observations\")"
      ]
     },
     "execution_count": 10,
     "metadata": {},
     "output_type": "execute_result"
    },
    {
     "data": {
      "image/png": "[encoded data removed]",
      "text/plain": [
       "<Figure size 1000x300 with 1 Axes>"
      ]
     },
     "metadata": {},
     "output_type": "display_data"
    }
   ],
   "source": [
    "# nbre de tags par observation\n",
    "tag_num = [len(data[\"splitted_tags\"][idx]) for idx in data.index]\n",
    "\n",
    "# on visualise\n",
    "fig = plt.figure(figsize=(10, 3))\n",
    "plt.title(\"Nombre de tags par observation\",\n",
    "          fontsize='12')\n",
    "x = Counter(tag_num).keys()\n",
    "y = Counter(tag_num).values()\n",
    "plt.bar(x,\n",
    "        y,\n",
    "        color=\"darkred\")\n",
    "plt.xlabel(\"Nombre de tags\",\n",
    "           c='gray')\n",
    "plt.ylabel(\"Nombre d'observations\",\n",
    "           c='gray')"
   ]
  },
  {
   "cell_type": "markdown",
   "id": "14fa4552",
   "metadata": {},
   "source": [
    "## Nombre de tags uniques"
   ]
  },
  {
   "cell_type": "code",
   "execution_count": 11,
   "id": "7172992e",
   "metadata": {
    "ExecuteTime": {
     "end_time": "2023-05-20T20:46:03.770749Z",
     "start_time": "2023-05-20T20:46:03.695552Z"
    }
   },
   "outputs": [
    {
     "name": "stdout",
     "output_type": "stream",
     "text": [
      "Nombre total de tags: 123917\n",
      "Nombre de tags uniques: 5742\n"
     ]
    }
   ],
   "source": [
    "tag_list = []\n",
    "for item in data['splitted_tags']:\n",
    "    tag_list += item\n",
    "unique_tag_list = list(np.unique(tag_list))\n",
    "\n",
    "print('Nombre total de tags:', len(tag_list))\n",
    "print(\"Nombre de tags uniques:\", len(unique_tag_list))"
   ]
  },
  {
   "cell_type": "markdown",
   "id": "227bf279",
   "metadata": {},
   "source": [
    "## WordCloud"
   ]
  },
  {
   "cell_type": "code",
   "execution_count": 12,
   "id": "6d12b8d8",
   "metadata": {
    "ExecuteTime": {
     "end_time": "2023-05-20T20:46:04.773267Z",
     "start_time": "2023-05-20T20:46:03.773754Z"
    }
   },
   "outputs": [
    {
     "data": {
      "image/png": "[encoded data removed]",
      "text/plain": [
       "<Figure size 640x480 with 1 Axes>"
      ]
     },
     "metadata": {},
     "output_type": "display_data"
    }
   ],
   "source": [
    "text = text = \" \".join(tag_list) \n",
    "wordcloud = WordCloud().generate(text)\n",
    "\n",
    "plt.imshow(wordcloud, interpolation='bilinear')\n",
    "plt.axis(\"off\")\n",
    "plt.show()"
   ]
  },
  {
   "cell_type": "markdown",
   "id": "325f8933",
   "metadata": {},
   "source": [
    "## Top 200 tags"
   ]
  },
  {
   "cell_type": "markdown",
   "id": "00121873",
   "metadata": {},
   "source": [
    "Pour les analyses futures, nous décidons de ne retenir que les top 200 tags (les plus représentés)  \n",
    "Nous devons filtrer les documents qui ne sont pas liés aux top 200 tags"
   ]
  },
  {
   "cell_type": "code",
   "execution_count": 13,
   "id": "92be828d",
   "metadata": {
    "ExecuteTime": {
     "end_time": "2023-05-20T20:46:05.120086Z",
     "start_time": "2023-05-20T20:46:04.775263Z"
    }
   },
   "outputs": [
    {
     "name": "stdout",
     "output_type": "stream",
     "text": [
      "Nobre d'observations dans le corpus initial: 43798\n",
      "Observations restantes dans le coprus traité: 37928\n",
      "CPU times: total: 266 ms\n",
      "Wall time: 331 ms\n"
     ]
    }
   ],
   "source": [
    "%%time\n",
    "first_200_tags = tag_dist_df[0:200].index.to_list()\n",
    "\n",
    "print(f\"Nobre d'observations dans le corpus initial: {data.shape[0]}\")\n",
    "\n",
    "filtered_corpus_tag_df = data.copy()\n",
    "\n",
    "filtered_corpus_tag_df['tags_in_top200'] = \\\n",
    "    filtered_corpus_tag_df['splitted_tags'].apply(\n",
    "        lambda tags: [tag for tag in tags if tag in first_200_tags])\n",
    "filtered_corpus_tag_df['len_tags_in_top200'] = \\\n",
    "    filtered_corpus_tag_df['tags_in_top200'].apply(\n",
    "        lambda x: len(x))\n",
    "\n",
    "missing_idx = \\\n",
    "    filtered_corpus_tag_df[filtered_corpus_tag_df['len_tags_in_top200'] == 0].index\n",
    "\n",
    "filtered_corpus_tag_df.drop(index=missing_idx, inplace=True)\n",
    "\n",
    "data.drop(index=missing_idx, inplace=True)\n",
    "\n",
    "print(f\"Observations restantes dans le coprus traité: {filtered_corpus_tag_df.shape[0]}\")\n",
    "\n",
    "top200_corpus = filtered_corpus_tag_df['splitted_text'].to_list()\n",
    "top200_tags = filtered_corpus_tag_df['tags_in_top200'].to_list()\n",
    "top200_joined_corpus = [\" \".join(text) for text in filtered_corpus_tag_df['splitted_text']]"
   ]
  },
  {
   "cell_type": "markdown",
   "id": "dc186856",
   "metadata": {},
   "source": [
    "## Word embedding"
   ]
  },
  {
   "cell_type": "markdown",
   "id": "4c2b453b",
   "metadata": {},
   "source": [
    "Pour entraîner les modèles nous avons besoin de transformer les 'words' en vecteurs  \n",
    "Trois méthodes peuvent être envisagées:\n",
    "* **TF**: Chaque liste de token (appelée document) est transformée en un vecteur indiquant la **fréquence** brute de chaque terme du corpus dans la liste. \n",
    "* **TF-IDF**: Dans cette méthode, la **fréquence brute** d’un token  est remplacée par un indicateur composé de sa fréquence d’apparition du token dans le document et la **fréquence inverse** du nombre de documents où le token apparaît.  \n",
    "Cette méthode permet de minorer les tokens présents dans un nombre élevé de documents et de normaliser la taille des documents.\n",
    "* **Word2vec**: autre méthode de plongement lexical (word embedding) qui utilise cette fois-ci des **réseaux neuronaux** à 3 couches entraînés pour construire le **contexte** linguistique des mots\n",
    "* **Bert**\n",
    "* **Use**\n",
    "\n",
    "\n",
    "Les documents contenant des termes génériques et de longueurs très variables, nous avons décidé d’utiliser une vectorisation par TF-IDF et Word2vec en comparant les performances  \n",
    "\n",
    "Afin de de ne garder que les tokens les plus représentatifs, nous avons entraîné les modèles de vectorisation sur des dictionnaires de correspondance (vocabulary) ne comportant que des termes dont la fréquence est supérieure à 1000 occurrences dans le corpus."
   ]
  },
  {
   "cell_type": "markdown",
   "id": "fec012f4",
   "metadata": {},
   "source": [
    "### Tf-idf"
   ]
  },
  {
   "cell_type": "code",
   "execution_count": 14,
   "id": "097a9292",
   "metadata": {
    "ExecuteTime": {
     "end_time": "2023-05-20T20:46:06.132210Z",
     "start_time": "2023-05-20T20:46:05.122670Z"
    }
   },
   "outputs": [
    {
     "name": "stdout",
     "output_type": "stream",
     "text": [
      "10 premiers posts vectorisés via le modèle de TF-IDF\n"
     ]
    },
    {
     "data": {
      "text/html": [
       "<div>\n",
       "<style scoped>\n",
       "    .dataframe tbody tr th:only-of-type {\n",
       "        vertical-align: middle;\n",
       "    }\n",
       "\n",
       "    .dataframe tbody tr th {\n",
       "        vertical-align: top;\n",
       "    }\n",
       "\n",
       "    .dataframe thead th {\n",
       "        text-align: right;\n",
       "    }\n",
       "</style>\n",
       "<table border=\"1\" class=\"dataframe\">\n",
       "  <thead>\n",
       "    <tr style=\"text-align: right;\">\n",
       "      <th>Word</th>\n",
       "      <th>code</th>\n",
       "      <th>class</th>\n",
       "      <th>file</th>\n",
       "      <th>application</th>\n",
       "      <th>name</th>\n",
       "      <th>system</th>\n",
       "      <th>value</th>\n",
       "      <th>time</th>\n",
       "      <th>something</th>\n",
       "      <th>java</th>\n",
       "      <th>...</th>\n",
       "      <th>module</th>\n",
       "      <th>color</th>\n",
       "      <th>count</th>\n",
       "      <th>documentation</th>\n",
       "      <th>parameter</th>\n",
       "      <th>google</th>\n",
       "      <th>length</th>\n",
       "      <th>product</th>\n",
       "      <th>stuff</th>\n",
       "      <th>thread</th>\n",
       "    </tr>\n",
       "  </thead>\n",
       "  <tbody>\n",
       "    <tr>\n",
       "      <th>0</th>\n",
       "      <td>0.0</td>\n",
       "      <td>0.0</td>\n",
       "      <td>0.0</td>\n",
       "      <td>0.0</td>\n",
       "      <td>0.0</td>\n",
       "      <td>0.0</td>\n",
       "      <td>0.562999</td>\n",
       "      <td>0.000000</td>\n",
       "      <td>0.000000</td>\n",
       "      <td>0.0</td>\n",
       "      <td>...</td>\n",
       "      <td>0.0</td>\n",
       "      <td>0.0</td>\n",
       "      <td>0.0</td>\n",
       "      <td>0.0</td>\n",
       "      <td>0.0</td>\n",
       "      <td>0.0</td>\n",
       "      <td>0.0</td>\n",
       "      <td>0.0</td>\n",
       "      <td>0.0</td>\n",
       "      <td>0.0</td>\n",
       "    </tr>\n",
       "    <tr>\n",
       "      <th>1</th>\n",
       "      <td>0.0</td>\n",
       "      <td>0.0</td>\n",
       "      <td>0.0</td>\n",
       "      <td>0.0</td>\n",
       "      <td>0.0</td>\n",
       "      <td>0.0</td>\n",
       "      <td>0.000000</td>\n",
       "      <td>0.000000</td>\n",
       "      <td>0.502155</td>\n",
       "      <td>0.0</td>\n",
       "      <td>...</td>\n",
       "      <td>0.0</td>\n",
       "      <td>0.0</td>\n",
       "      <td>0.0</td>\n",
       "      <td>0.0</td>\n",
       "      <td>0.0</td>\n",
       "      <td>0.0</td>\n",
       "      <td>0.0</td>\n",
       "      <td>0.0</td>\n",
       "      <td>0.0</td>\n",
       "      <td>0.0</td>\n",
       "    </tr>\n",
       "    <tr>\n",
       "      <th>2</th>\n",
       "      <td>0.0</td>\n",
       "      <td>0.0</td>\n",
       "      <td>0.0</td>\n",
       "      <td>0.0</td>\n",
       "      <td>0.0</td>\n",
       "      <td>0.0</td>\n",
       "      <td>0.000000</td>\n",
       "      <td>0.000000</td>\n",
       "      <td>0.000000</td>\n",
       "      <td>0.0</td>\n",
       "      <td>...</td>\n",
       "      <td>0.0</td>\n",
       "      <td>0.0</td>\n",
       "      <td>0.0</td>\n",
       "      <td>0.0</td>\n",
       "      <td>0.0</td>\n",
       "      <td>0.0</td>\n",
       "      <td>0.0</td>\n",
       "      <td>0.0</td>\n",
       "      <td>0.0</td>\n",
       "      <td>0.0</td>\n",
       "    </tr>\n",
       "    <tr>\n",
       "      <th>3</th>\n",
       "      <td>0.0</td>\n",
       "      <td>0.0</td>\n",
       "      <td>0.0</td>\n",
       "      <td>0.0</td>\n",
       "      <td>0.0</td>\n",
       "      <td>0.0</td>\n",
       "      <td>0.491629</td>\n",
       "      <td>0.870804</td>\n",
       "      <td>0.000000</td>\n",
       "      <td>0.0</td>\n",
       "      <td>...</td>\n",
       "      <td>0.0</td>\n",
       "      <td>0.0</td>\n",
       "      <td>0.0</td>\n",
       "      <td>0.0</td>\n",
       "      <td>0.0</td>\n",
       "      <td>0.0</td>\n",
       "      <td>0.0</td>\n",
       "      <td>0.0</td>\n",
       "      <td>0.0</td>\n",
       "      <td>0.0</td>\n",
       "    </tr>\n",
       "    <tr>\n",
       "      <th>4</th>\n",
       "      <td>0.0</td>\n",
       "      <td>0.0</td>\n",
       "      <td>0.0</td>\n",
       "      <td>0.0</td>\n",
       "      <td>0.0</td>\n",
       "      <td>0.0</td>\n",
       "      <td>0.000000</td>\n",
       "      <td>0.000000</td>\n",
       "      <td>0.000000</td>\n",
       "      <td>0.0</td>\n",
       "      <td>...</td>\n",
       "      <td>0.0</td>\n",
       "      <td>0.0</td>\n",
       "      <td>0.0</td>\n",
       "      <td>0.0</td>\n",
       "      <td>0.0</td>\n",
       "      <td>0.0</td>\n",
       "      <td>0.0</td>\n",
       "      <td>0.0</td>\n",
       "      <td>0.0</td>\n",
       "      <td>0.0</td>\n",
       "    </tr>\n",
       "    <tr>\n",
       "      <th>5</th>\n",
       "      <td>0.0</td>\n",
       "      <td>0.0</td>\n",
       "      <td>0.0</td>\n",
       "      <td>0.0</td>\n",
       "      <td>0.0</td>\n",
       "      <td>0.0</td>\n",
       "      <td>0.000000</td>\n",
       "      <td>0.000000</td>\n",
       "      <td>0.000000</td>\n",
       "      <td>0.0</td>\n",
       "      <td>...</td>\n",
       "      <td>0.0</td>\n",
       "      <td>0.0</td>\n",
       "      <td>0.0</td>\n",
       "      <td>0.0</td>\n",
       "      <td>0.0</td>\n",
       "      <td>0.0</td>\n",
       "      <td>0.0</td>\n",
       "      <td>0.0</td>\n",
       "      <td>0.0</td>\n",
       "      <td>0.0</td>\n",
       "    </tr>\n",
       "    <tr>\n",
       "      <th>6</th>\n",
       "      <td>0.0</td>\n",
       "      <td>0.0</td>\n",
       "      <td>0.0</td>\n",
       "      <td>0.0</td>\n",
       "      <td>0.0</td>\n",
       "      <td>0.0</td>\n",
       "      <td>0.000000</td>\n",
       "      <td>0.000000</td>\n",
       "      <td>0.000000</td>\n",
       "      <td>0.0</td>\n",
       "      <td>...</td>\n",
       "      <td>0.0</td>\n",
       "      <td>0.0</td>\n",
       "      <td>0.0</td>\n",
       "      <td>0.0</td>\n",
       "      <td>0.0</td>\n",
       "      <td>0.0</td>\n",
       "      <td>0.0</td>\n",
       "      <td>0.0</td>\n",
       "      <td>0.0</td>\n",
       "      <td>0.0</td>\n",
       "    </tr>\n",
       "    <tr>\n",
       "      <th>7</th>\n",
       "      <td>0.0</td>\n",
       "      <td>0.0</td>\n",
       "      <td>0.0</td>\n",
       "      <td>0.0</td>\n",
       "      <td>0.0</td>\n",
       "      <td>0.0</td>\n",
       "      <td>0.000000</td>\n",
       "      <td>0.000000</td>\n",
       "      <td>0.000000</td>\n",
       "      <td>0.0</td>\n",
       "      <td>...</td>\n",
       "      <td>0.0</td>\n",
       "      <td>0.0</td>\n",
       "      <td>0.0</td>\n",
       "      <td>0.0</td>\n",
       "      <td>0.0</td>\n",
       "      <td>0.0</td>\n",
       "      <td>0.0</td>\n",
       "      <td>0.0</td>\n",
       "      <td>0.0</td>\n",
       "      <td>0.0</td>\n",
       "    </tr>\n",
       "    <tr>\n",
       "      <th>8</th>\n",
       "      <td>0.0</td>\n",
       "      <td>0.0</td>\n",
       "      <td>0.0</td>\n",
       "      <td>0.0</td>\n",
       "      <td>0.0</td>\n",
       "      <td>0.0</td>\n",
       "      <td>0.151796</td>\n",
       "      <td>0.873832</td>\n",
       "      <td>0.000000</td>\n",
       "      <td>0.0</td>\n",
       "      <td>...</td>\n",
       "      <td>0.0</td>\n",
       "      <td>0.0</td>\n",
       "      <td>0.0</td>\n",
       "      <td>0.0</td>\n",
       "      <td>0.0</td>\n",
       "      <td>0.0</td>\n",
       "      <td>0.0</td>\n",
       "      <td>0.0</td>\n",
       "      <td>0.0</td>\n",
       "      <td>0.0</td>\n",
       "    </tr>\n",
       "    <tr>\n",
       "      <th>9</th>\n",
       "      <td>0.0</td>\n",
       "      <td>0.0</td>\n",
       "      <td>0.0</td>\n",
       "      <td>0.0</td>\n",
       "      <td>0.0</td>\n",
       "      <td>0.0</td>\n",
       "      <td>0.000000</td>\n",
       "      <td>0.000000</td>\n",
       "      <td>0.000000</td>\n",
       "      <td>0.0</td>\n",
       "      <td>...</td>\n",
       "      <td>0.0</td>\n",
       "      <td>0.0</td>\n",
       "      <td>0.0</td>\n",
       "      <td>0.0</td>\n",
       "      <td>0.0</td>\n",
       "      <td>0.0</td>\n",
       "      <td>0.0</td>\n",
       "      <td>0.0</td>\n",
       "      <td>0.0</td>\n",
       "      <td>0.0</td>\n",
       "    </tr>\n",
       "  </tbody>\n",
       "</table>\n",
       "<p>10 rows × 165 columns</p>\n",
       "</div>"
      ],
      "text/plain": [
       "Word  code  class  file  application  name  system     value      time  \\\n",
       "0      0.0    0.0   0.0          0.0   0.0     0.0  0.562999  0.000000   \n",
       "1      0.0    0.0   0.0          0.0   0.0     0.0  0.000000  0.000000   \n",
       "2      0.0    0.0   0.0          0.0   0.0     0.0  0.000000  0.000000   \n",
       "3      0.0    0.0   0.0          0.0   0.0     0.0  0.491629  0.870804   \n",
       "4      0.0    0.0   0.0          0.0   0.0     0.0  0.000000  0.000000   \n",
       "5      0.0    0.0   0.0          0.0   0.0     0.0  0.000000  0.000000   \n",
       "6      0.0    0.0   0.0          0.0   0.0     0.0  0.000000  0.000000   \n",
       "7      0.0    0.0   0.0          0.0   0.0     0.0  0.000000  0.000000   \n",
       "8      0.0    0.0   0.0          0.0   0.0     0.0  0.151796  0.873832   \n",
       "9      0.0    0.0   0.0          0.0   0.0     0.0  0.000000  0.000000   \n",
       "\n",
       "Word  something  java  ...  module  color  count  documentation  parameter  \\\n",
       "0      0.000000   0.0  ...     0.0    0.0    0.0            0.0        0.0   \n",
       "1      0.502155   0.0  ...     0.0    0.0    0.0            0.0        0.0   \n",
       "2      0.000000   0.0  ...     0.0    0.0    0.0            0.0        0.0   \n",
       "3      0.000000   0.0  ...     0.0    0.0    0.0            0.0        0.0   \n",
       "4      0.000000   0.0  ...     0.0    0.0    0.0            0.0        0.0   \n",
       "5      0.000000   0.0  ...     0.0    0.0    0.0            0.0        0.0   \n",
       "6      0.000000   0.0  ...     0.0    0.0    0.0            0.0        0.0   \n",
       "7      0.000000   0.0  ...     0.0    0.0    0.0            0.0        0.0   \n",
       "8      0.000000   0.0  ...     0.0    0.0    0.0            0.0        0.0   \n",
       "9      0.000000   0.0  ...     0.0    0.0    0.0            0.0        0.0   \n",
       "\n",
       "Word  google  length  product  stuff  thread  \n",
       "0        0.0     0.0      0.0    0.0     0.0  \n",
       "1        0.0     0.0      0.0    0.0     0.0  \n",
       "2        0.0     0.0      0.0    0.0     0.0  \n",
       "3        0.0     0.0      0.0    0.0     0.0  \n",
       "4        0.0     0.0      0.0    0.0     0.0  \n",
       "5        0.0     0.0      0.0    0.0     0.0  \n",
       "6        0.0     0.0      0.0    0.0     0.0  \n",
       "7        0.0     0.0      0.0    0.0     0.0  \n",
       "8        0.0     0.0      0.0    0.0     0.0  \n",
       "9        0.0     0.0      0.0    0.0     0.0  \n",
       "\n",
       "[10 rows x 165 columns]"
      ]
     },
     "metadata": {},
     "output_type": "display_data"
    },
    {
     "name": "stdout",
     "output_type": "stream",
     "text": [
      " Nombre d'observations: 37928\n",
      " nombre de variables: 165\n"
     ]
    }
   ],
   "source": [
    "from sklearn.feature_extraction.text import TfidfVectorizer\n",
    "\n",
    "# corpus top 200 with frequency\n",
    "corpus = data['splitted_text'].to_list()\n",
    "corpus_dist_df = words_freq(corpus)\n",
    "\n",
    "# vocabulary\n",
    "vocabulary = corpus_dist_df[corpus_dist_df['Frequency'] >= 1000].index\n",
    "\n",
    "tfidf_vectorizer = TfidfVectorizer(vocabulary=vocabulary)\n",
    "X = tfidf_vectorizer.fit_transform(top200_joined_corpus)\n",
    "tfidf_data = pd.DataFrame(X.toarray(), columns=vocabulary)\n",
    "\n",
    "print(\"10 premiers posts vectorisés via le modèle de TF-IDF\")\n",
    "\n",
    "display(tfidf_data.head(10))\n",
    "\n",
    "print(f\" Nombre d'observations: {tfidf_data.shape[0]}\")\n",
    "print(f\" nombre de variables: {tfidf_data.shape[1]}\")\n",
    "\n",
    "# on serialise\n",
    "filename_tfidf_model = 'model/tfidf_model.pkl'\n",
    "pickle.dump(tfidf_vectorizer,\n",
    "            open(filename_tfidf_model, 'wb'))\n",
    "\n",
    "filename_vocabulary = \"model/vocabulary.pkl\"\n",
    "pickle.dump(vocabulary,\n",
    "            open(filename_vocabulary, 'wb'))"
   ]
  },
  {
   "cell_type": "code",
   "execution_count": 15,
   "id": "34bf39a7",
   "metadata": {
    "ExecuteTime": {
     "end_time": "2023-05-20T20:46:06.147745Z",
     "start_time": "2023-05-20T20:46:06.136214Z"
    }
   },
   "outputs": [
    {
     "data": {
      "text/plain": [
       "(37928, 165)"
      ]
     },
     "execution_count": 15,
     "metadata": {},
     "output_type": "execute_result"
    }
   ],
   "source": [
    "tfidf_data.shape"
   ]
  },
  {
   "cell_type": "markdown",
   "id": "7ec0ccd7",
   "metadata": {},
   "source": [
    "### Word2vec"
   ]
  },
  {
   "cell_type": "code",
   "execution_count": 16,
   "id": "48c6dc9f",
   "metadata": {
    "ExecuteTime": {
     "end_time": "2023-05-20T20:46:06.163745Z",
     "start_time": "2023-05-20T20:46:06.151730Z"
    }
   },
   "outputs": [],
   "source": [
    "def get_mean_vector(w2v_vectors, words):\n",
    "    \n",
    "    words = [word for word in words if word in w2v_vectors]\n",
    "    if words:\n",
    "        avg_vector = np.mean(w2v_vectors[words], axis=0)\n",
    "    else:\n",
    "        avg_vector = np.zeros_like(w2v_vectors['hi'])\n",
    "    return avg_vector"
   ]
  },
  {
   "cell_type": "code",
   "execution_count": 17,
   "id": "ec0ae41a",
   "metadata": {
    "ExecuteTime": {
     "end_time": "2023-05-20T20:46:12.166498Z",
     "start_time": "2023-05-20T20:46:06.165710Z"
    }
   },
   "outputs": [],
   "source": [
    "w2v_word = [text.split() for text in top200_joined_corpus]\n",
    "from gensim.models import Word2Vec\n",
    "w2v_model = Word2Vec(w2v_word,\n",
    "                     vector_size=100,\n",
    "                     window=5,\n",
    "                     min_count=1,\n",
    "                     workers=4)\n",
    "\n",
    "X_w2v = np.array([get_mean_vector(w2v_model.wv, words) for words in w2v_word])"
   ]
  },
  {
   "cell_type": "markdown",
   "id": "535c1fc1",
   "metadata": {},
   "source": [
    "### Bert"
   ]
  },
  {
   "cell_type": "code",
   "execution_count": 18,
   "id": "c2da0a31",
   "metadata": {
    "ExecuteTime": {
     "end_time": "2023-05-20T20:46:12.181892Z",
     "start_time": "2023-05-20T20:46:12.170045Z"
    }
   },
   "outputs": [],
   "source": [
    "#pip install --upgrade tensorflow --user"
   ]
  },
  {
   "cell_type": "code",
   "execution_count": 19,
   "id": "25922c76",
   "metadata": {
    "ExecuteTime": {
     "end_time": "2023-05-20T20:46:12.197260Z",
     "start_time": "2023-05-20T20:46:12.183953Z"
    }
   },
   "outputs": [],
   "source": [
    "#import tensorflow as tf\n",
    "#import tensorflow_hub as hub\n",
    "#\n",
    "#import tensorflow.keras\n",
    "#from tensorflow.keras import backend as K\n",
    "#\n",
    "#from tensorflow.keras.preprocessing.text import Tokenizer\n",
    "#from tensorflow.keras.preprocessing.sequence import pad_sequences\n",
    "#from tensorflow.keras import metrics as kmetrics\n",
    "#from tensorflow.keras.layers import *\n",
    "#from tensorflow.keras.models import Model\n",
    "#\n",
    "## Bert\n",
    "#import os\n",
    "#import transformers\n",
    "#from transformers import AutoTokenizer, AutoConfig, TFAutoModel    \n",
    "#\n",
    "##from transformers import *\n",
    "#os.environ[\"TF_KERAS\"]='1'"
   ]
  },
  {
   "cell_type": "code",
   "execution_count": 20,
   "id": "898b9378",
   "metadata": {
    "ExecuteTime": {
     "end_time": "2023-05-20T20:46:12.213032Z",
     "start_time": "2023-05-20T20:46:12.200553Z"
    }
   },
   "outputs": [],
   "source": [
    "## Fonction de préparation des sentences\n",
    "#def bert_inp_fct(sentences, bert_tokenizer, max_length) :\n",
    "#    input_ids=[]\n",
    "#    token_type_ids = []\n",
    "#    attention_mask=[]\n",
    "#    bert_inp_tot = []\n",
    "#\n",
    "#    for sent in sentences:\n",
    "#        bert_inp = bert_tokenizer.encode_plus(sent,\n",
    "#                                              add_special_tokens = True,\n",
    "#                                              max_length = max_length,\n",
    "#                                              padding='max_length',\n",
    "#                                              return_attention_mask = True, \n",
    "#                                              return_token_type_ids=True,\n",
    "#                                              truncation=True,\n",
    "#                                              return_tensors=\"tf\")\n",
    "#    \n",
    "#        input_ids.append(bert_inp['input_ids'][0])\n",
    "#        token_type_ids.append(bert_inp['token_type_ids'][0])\n",
    "#        attention_mask.append(bert_inp['attention_mask'][0])\n",
    "#        bert_inp_tot.append((bert_inp['input_ids'][0], \n",
    "#                             bert_inp['token_type_ids'][0], \n",
    "#                             bert_inp['attention_mask'][0]))\n",
    "#\n",
    "#    input_ids = np.asarray(input_ids)\n",
    "#    token_type_ids = np.asarray(token_type_ids)\n",
    "#    attention_mask = np.array(attention_mask)\n",
    "#    \n",
    "#    return input_ids, token_type_ids, attention_mask, bert_inp_tot"
   ]
  },
  {
   "cell_type": "code",
   "execution_count": 21,
   "id": "0f9c92f1",
   "metadata": {
    "ExecuteTime": {
     "end_time": "2023-05-20T20:46:12.228509Z",
     "start_time": "2023-05-20T20:46:12.215096Z"
    }
   },
   "outputs": [],
   "source": [
    "## Fonction de création des features\n",
    "#def feature_BERT_fct(model, model_type, sentences, max_length, b_size, mode='TFhub') :\n",
    "#    batch_size = b_size\n",
    "#    batch_size_pred = b_size\n",
    "#    bert_tokenizer = AutoTokenizer.from_pretrained(model_type)\n",
    "#    time1 = time.time()\n",
    "#\n",
    "#    for step in range(len(sentences)//batch_size) :\n",
    "#        idx = step*batch_size\n",
    "#        input_ids, token_type_ids, attention_mask, bert_inp_tot = bert_inp_fct(sentences[idx:idx+batch_size], \n",
    "#                                                                      bert_tokenizer, max_length)\n",
    "#        \n",
    "#        if mode=='HF' :    # Bert HuggingFace\n",
    "#            outputs = model.predict([input_ids, attention_mask, token_type_ids], batch_size=batch_size_pred)\n",
    "#            last_hidden_states = outputs.last_hidden_state\n",
    "#\n",
    "#        if mode=='TFhub' : # Bert Tensorflow Hub\n",
    "#            text_preprocessed = {\"input_word_ids\" : input_ids, \n",
    "#                                 \"input_mask\" : attention_mask, \n",
    "#                                 \"input_type_ids\" : token_type_ids}\n",
    "#            outputs = model(text_preprocessed)\n",
    "#            last_hidden_states = outputs['sequence_output']\n",
    "#             \n",
    "#        if step ==0 :\n",
    "#            last_hidden_states_tot = last_hidden_states\n",
    "#            last_hidden_states_tot_0 = last_hidden_states\n",
    "#        else :\n",
    "#            last_hidden_states_tot = np.concatenate((last_hidden_states_tot,last_hidden_states))\n",
    "#    \n",
    "#    features_bert = np.array(last_hidden_states_tot).mean(axis=1)\n",
    "#    \n",
    "#    time2 = np.round(time.time() - time1,0)\n",
    "#    print(\"temps traitement : \", time2)\n",
    "#     \n",
    "#    return features_bert, last_hidden_states_tot"
   ]
  },
  {
   "cell_type": "code",
   "execution_count": 22,
   "id": "79ffeec7",
   "metadata": {
    "ExecuteTime": {
     "end_time": "2023-05-20T20:46:12.244323Z",
     "start_time": "2023-05-20T20:46:12.230740Z"
    }
   },
   "outputs": [],
   "source": [
    "#model_url = 'https://tfhub.dev/tensorflow/bert_en_uncased_L-12_H-768_A-12/4'\n",
    "#bert_layer = hub.KerasLayer(model_url, trainable=True)"
   ]
  },
  {
   "cell_type": "code",
   "execution_count": 23,
   "id": "6cf03956",
   "metadata": {
    "ExecuteTime": {
     "end_time": "2023-05-20T20:46:12.259457Z",
     "start_time": "2023-05-20T20:46:12.246687Z"
    }
   },
   "outputs": [],
   "source": [
    "#sentences  = top200_joined_corpus\n",
    "#sentences[0]"
   ]
  },
  {
   "cell_type": "code",
   "execution_count": 24,
   "id": "efd074d6",
   "metadata": {
    "ExecuteTime": {
     "end_time": "2023-05-20T20:46:12.274896Z",
     "start_time": "2023-05-20T20:46:12.262882Z"
    }
   },
   "outputs": [],
   "source": [
    "#max_length = 9\n",
    "#batch_size = 1\n",
    "#model_type = 'bert-base-uncased'\n",
    "#model = bert_layer\n",
    "#\n",
    "#features_bert, last_hidden_states_tot = feature_BERT_fct(model, model_type, sentences, \n",
    "#                                                         max_length, batch_size, mode='TFhub')"
   ]
  },
  {
   "cell_type": "code",
   "execution_count": 25,
   "id": "e710ef08",
   "metadata": {
    "ExecuteTime": {
     "end_time": "2023-05-20T20:46:12.290281Z",
     "start_time": "2023-05-20T20:46:12.277389Z"
    }
   },
   "outputs": [],
   "source": [
    "#features_bert.shape"
   ]
  },
  {
   "cell_type": "code",
   "execution_count": 26,
   "id": "a24977f2",
   "metadata": {
    "ExecuteTime": {
     "end_time": "2023-05-20T20:46:12.305783Z",
     "start_time": "2023-05-20T20:46:12.293051Z"
    }
   },
   "outputs": [],
   "source": [
    "#filename_model = \"model/features_bert.pkl\"\n",
    "#pickle.dump(features_bert, open(filename_model,'wb'))"
   ]
  },
  {
   "cell_type": "code",
   "execution_count": 27,
   "id": "a7e67aaf",
   "metadata": {
    "ExecuteTime": {
     "end_time": "2023-05-20T20:46:12.321246Z",
     "start_time": "2023-05-20T20:46:12.308910Z"
    }
   },
   "outputs": [],
   "source": [
    "#len(top200_joined_corpus)"
   ]
  },
  {
   "cell_type": "markdown",
   "id": "0447d4fe",
   "metadata": {},
   "source": [
    "### Use"
   ]
  },
  {
   "cell_type": "code",
   "execution_count": 28,
   "id": "76a37c34",
   "metadata": {
    "ExecuteTime": {
     "end_time": "2023-05-20T20:46:12.336202Z",
     "start_time": "2023-05-20T20:46:12.328626Z"
    }
   },
   "outputs": [],
   "source": [
    "#import tensorflow as tf\n",
    "#\n",
    "#import tensorflow.keras\n",
    "#from tensorflow.keras import backend as K\n",
    "#\n",
    "#from tensorflow.keras.preprocessing.text import Tokenizer\n",
    "#from tensorflow.keras.preprocessing.sequence import pad_sequences\n",
    "#from tensorflow.keras import metrics as kmetrics\n",
    "#from tensorflow.keras.layers import *\n",
    "#from tensorflow.keras.models import Model"
   ]
  },
  {
   "cell_type": "code",
   "execution_count": 29,
   "id": "e404fbdf",
   "metadata": {
    "ExecuteTime": {
     "end_time": "2023-05-20T20:46:12.350884Z",
     "start_time": "2023-05-20T20:46:12.338300Z"
    }
   },
   "outputs": [],
   "source": [
    "#import tensorflow_hub as hub\n",
    "## Set the module cache directory to a different location\n",
    "#os.environ[\"TFHUB_CACHE_DIR\"] = \"/tmp/tfhub\"\n",
    "#\n",
    "#Model_use = hub.load(\"https://tfhub.dev/google/universal-sentence-encoder/4\")"
   ]
  },
  {
   "cell_type": "code",
   "execution_count": 30,
   "id": "f1d66411",
   "metadata": {
    "ExecuteTime": {
     "end_time": "2023-05-20T20:46:12.366222Z",
     "start_time": "2023-05-20T20:46:12.353323Z"
    }
   },
   "outputs": [],
   "source": [
    "def feature_USE_fct(sentences, b_size):\n",
    "    batch_size = b_size\n",
    "\n",
    "    for step in range(len(sentences)//batch_size):\n",
    "        idx = step*batch_size\n",
    "        feat = Model_use(sentences[idx:idx+batch_size])\n",
    "\n",
    "        if step == 0:\n",
    "            features = feat\n",
    "        else:\n",
    "            features = np.concatenate((features, feat))\n",
    "\n",
    "    if idx+batch_size < len(sentences):\n",
    "        feat = Model_use(sentences[idx+batch_size:len(sentences)])\n",
    "        features = np.concatenate((features, feat))\n",
    "\n",
    "    return features"
   ]
  },
  {
   "cell_type": "code",
   "execution_count": null,
   "id": "80344d78",
   "metadata": {
    "ExecuteTime": {
     "end_time": "2023-05-20T15:08:29.257087Z",
     "start_time": "2023-05-20T15:08:29.247789Z"
    }
   },
   "outputs": [],
   "source": []
  },
  {
   "cell_type": "code",
   "execution_count": 31,
   "id": "69de2abb",
   "metadata": {
    "ExecuteTime": {
     "end_time": "2023-05-20T20:46:12.381719Z",
     "start_time": "2023-05-20T20:46:12.369286Z"
    },
    "scrolled": true
   },
   "outputs": [],
   "source": [
    "#pip install --force-reinstall numpy==1.21.4 --user"
   ]
  },
  {
   "cell_type": "code",
   "execution_count": null,
   "id": "20b46172",
   "metadata": {
    "ExecuteTime": {
     "end_time": "2023-05-20T15:13:19.252638Z",
     "start_time": "2023-05-20T15:10:57.995485Z"
    }
   },
   "outputs": [],
   "source": []
  },
  {
   "cell_type": "code",
   "execution_count": null,
   "id": "a2ad1810",
   "metadata": {
    "ExecuteTime": {
     "end_time": "2023-05-20T15:16:11.156857Z",
     "start_time": "2023-05-20T15:16:11.142243Z"
    }
   },
   "outputs": [],
   "source": []
  },
  {
   "cell_type": "code",
   "execution_count": 32,
   "id": "ec7085e9",
   "metadata": {
    "ExecuteTime": {
     "end_time": "2023-05-20T20:46:12.397083Z",
     "start_time": "2023-05-20T20:46:12.384720Z"
    }
   },
   "outputs": [],
   "source": [
    "#batch_size = 1\n",
    "#sentences = top200_joined_corpus"
   ]
  },
  {
   "cell_type": "code",
   "execution_count": 33,
   "id": "08b3a434",
   "metadata": {
    "ExecuteTime": {
     "end_time": "2023-05-20T20:46:12.412875Z",
     "start_time": "2023-05-20T20:46:12.400176Z"
    }
   },
   "outputs": [],
   "source": [
    "#features_USE = feature_USE_fct(sentences, batch_size)"
   ]
  },
  {
   "cell_type": "code",
   "execution_count": 34,
   "id": "2fb2e3fc",
   "metadata": {
    "ExecuteTime": {
     "end_time": "2023-05-20T20:46:12.427828Z",
     "start_time": "2023-05-20T20:46:12.414968Z"
    }
   },
   "outputs": [],
   "source": [
    "#features_USE.shape"
   ]
  },
  {
   "cell_type": "code",
   "execution_count": 35,
   "id": "66d29740",
   "metadata": {
    "ExecuteTime": {
     "end_time": "2023-05-20T20:46:12.443383Z",
     "start_time": "2023-05-20T20:46:12.430847Z"
    }
   },
   "outputs": [],
   "source": [
    "#filename_model = \"model/features_USE.pkl\"\n",
    "#pickle.dump(features_USE, open(filename_model,'wb'))"
   ]
  },
  {
   "cell_type": "markdown",
   "id": "596d4655",
   "metadata": {},
   "source": [
    "## Préparation des tags"
   ]
  },
  {
   "cell_type": "markdown",
   "id": "c382ed7b",
   "metadata": {},
   "source": [
    "### Tags uniques"
   ]
  },
  {
   "cell_type": "code",
   "execution_count": 36,
   "id": "bde52b6e",
   "metadata": {
    "ExecuteTime": {
     "end_time": "2023-05-20T20:46:12.474220Z",
     "start_time": "2023-05-20T20:46:12.446803Z"
    }
   },
   "outputs": [],
   "source": [
    "unique_tags = []\n",
    "for tags in top200_tags:\n",
    "    unique_tags.append(set(tags))"
   ]
  },
  {
   "cell_type": "markdown",
   "id": "dcf9d490",
   "metadata": {},
   "source": [
    "### Encodage des tags"
   ]
  },
  {
   "cell_type": "code",
   "execution_count": 37,
   "id": "29ef3256",
   "metadata": {
    "ExecuteTime": {
     "end_time": "2023-05-20T20:46:12.520848Z",
     "start_time": "2023-05-20T20:46:12.476204Z"
    }
   },
   "outputs": [],
   "source": [
    "from sklearn.preprocessing import MultiLabelBinarizer\n",
    "\n",
    "mlb = MultiLabelBinarizer(classes=first_200_tags)\n",
    "y_transformed = mlb.fit_transform(unique_tags)"
   ]
  },
  {
   "cell_type": "markdown",
   "id": "7288c772",
   "metadata": {},
   "source": [
    "## Partition des données"
   ]
  },
  {
   "cell_type": "code",
   "execution_count": 38,
   "id": "0d5f0817",
   "metadata": {
    "ExecuteTime": {
     "end_time": "2023-05-20T20:46:12.721928Z",
     "start_time": "2023-05-20T20:46:12.525143Z"
    }
   },
   "outputs": [],
   "source": [
    "# on fixe l'aélatoire\n",
    "seed = 0\n",
    "\n",
    "features_bert = pd.read_pickle(\"model/features_bert.pkl\")\n",
    "features_USE = pd.read_pickle(\"model/features_USE.pkl\")\n",
    "\n",
    "# on importe le modèle\n",
    "from sklearn.model_selection import train_test_split\n",
    "\n",
    "#tf-idf\n",
    "X_train_tfidf, X_test_tfidf, y_train_tfidf, y_test_tfidf = train_test_split(tfidf_data,\n",
    "                                                                            y_transformed,\n",
    "                                                                            test_size=0.2,\n",
    "                                                                            random_state=seed)\n",
    "\n",
    "# word2vec\n",
    "X_train_w2v, X_test_w2c, y_train_w2c, y_test_w2c = train_test_split(X_w2v,\n",
    "                                                                    y_transformed,\n",
    "                                                                    test_size=0.2,\n",
    "                                                                    random_state=seed)\n",
    "\n",
    "# word2vec\n",
    "X_train_bert, X_test_bert, y_train_bert, y_test_bert = train_test_split(features_bert,\n",
    "                                                                    y_transformed,\n",
    "                                                                    test_size=0.2,\n",
    "                                                                    random_state=seed)\n",
    "\n",
    "# word2vec\n",
    "X_train_use, X_test_use, y_train_use, y_test_use = train_test_split(features_USE,\n",
    "                                                                    y_transformed,\n",
    "                                                                    test_size=0.2,\n",
    "                                                                    random_state=seed)"
   ]
  },
  {
   "cell_type": "markdown",
   "id": "866ca34c",
   "metadata": {},
   "source": [
    "## Réduction de dimension"
   ]
  },
  {
   "cell_type": "markdown",
   "id": "4c7070c1",
   "metadata": {},
   "source": [
    "Nous conserverons 85% de la variance expliquée"
   ]
  },
  {
   "cell_type": "code",
   "execution_count": 39,
   "id": "cf326910",
   "metadata": {
    "ExecuteTime": {
     "end_time": "2023-05-20T20:46:13.412297Z",
     "start_time": "2023-05-20T20:46:12.725480Z"
    }
   },
   "outputs": [
    {
     "data": {
      "image/png": "[encoded data removed]",
      "text/plain": [
       "<Figure size 640x480 with 1 Axes>"
      ]
     },
     "metadata": {},
     "output_type": "display_data"
    },
    {
     "name": "stdout",
     "output_type": "stream",
     "text": [
      "CPU times: total: 1.78 s\n",
      "Wall time: 671 ms\n"
     ]
    }
   ],
   "source": [
    "%%time\n",
    "from sklearn.decomposition import PCA\n",
    "\n",
    "pca = PCA(random_state=seed)\n",
    "pca.fit(X_train_tfidf)\n",
    "\n",
    "def display_scree_plot(pca):\n",
    "    scree = pca.explained_variance_ratio_*100\n",
    "    plt.bar(np.arange(len(scree))+1, scree)\n",
    "    plt.plot(np.arange(len(scree))+1, scree.cumsum())\n",
    "    plt.xlabel(\"rang de l'axe d'inertie\")\n",
    "    plt.ylabel(\"pourcentage d'inertie\")\n",
    "    plt.title(\"Eboulis des valeurs propres\")\n",
    "    plt.show(block=False)\n",
    "\n",
    "display_scree_plot(pca)"
   ]
  },
  {
   "cell_type": "code",
   "execution_count": 40,
   "id": "5ab59e22",
   "metadata": {
    "ExecuteTime": {
     "end_time": "2023-05-20T20:46:13.679469Z",
     "start_time": "2023-05-20T20:46:13.414796Z"
    }
   },
   "outputs": [
    {
     "name": "stdout",
     "output_type": "stream",
     "text": [
      "Nombre de variables initiales: 165\n",
      "Nombre de variables après réduction: 119\n"
     ]
    }
   ],
   "source": [
    "# 85% de la variance conservée\n",
    "pca = PCA(n_components=0.85, random_state=seed)\n",
    "pca.fit(X_train_tfidf)\n",
    "X_train_transformed = pca.transform(X_train_tfidf)\n",
    "X_test_transformed = pca.transform(X_test_tfidf)\n",
    "print(f\"Nombre de variables initiales: {tfidf_data.shape[1]}\")\n",
    "print(f\"Nombre de variables après réduction: {pca.components_.shape[0]}\")"
   ]
  },
  {
   "cell_type": "markdown",
   "id": "28172854",
   "metadata": {},
   "source": [
    "## Performance comparée"
   ]
  },
  {
   "cell_type": "markdown",
   "id": "d81cc771",
   "metadata": {},
   "source": [
    "### Procédure"
   ]
  },
  {
   "cell_type": "markdown",
   "id": "12fdbcc9",
   "metadata": {},
   "source": [
    "**Nous étudierons les performances des modèles suivants**"
   ]
  },
  {
   "cell_type": "code",
   "execution_count": 41,
   "id": "10e17159",
   "metadata": {
    "ExecuteTime": {
     "end_time": "2023-05-20T20:46:13.773238Z",
     "start_time": "2023-05-20T20:46:13.681457Z"
    }
   },
   "outputs": [],
   "source": [
    "# on crée le dictionnaire des modèles\n",
    "from sklearn.dummy import DummyClassifier\n",
    "from sklearn.svm import LinearSVC\n",
    "from sklearn.multiclass import OneVsRestClassifier\n",
    "from sklearn.neighbors import KNeighborsClassifier\n",
    "from sklearn.ensemble import RandomForestClassifier\n",
    "#from sklearn.ensemble import GradientBoostingClassifier"
   ]
  },
  {
   "cell_type": "markdown",
   "id": "3f283a2d",
   "metadata": {
    "ExecuteTime": {
     "end_time": "2023-04-15T10:44:42.738870Z",
     "start_time": "2023-04-15T10:44:42.720948Z"
    }
   },
   "source": [
    "Pour comparer la performance des modèles nous utiliserons les métriques suivantes:\n",
    "* **Micro precision** : (en micro car multi-labels)  \n",
    "Combien de tags prédits correctement parmi les prédictions  \n",
    "Dans le cadre d’une API de suggestion de tags, la capacité d’un modèle à retourner tous les tags n’est pas essentielle\n",
    "* **Micro f1**: moyenne harmonique entre recall et precision (micro)  \n",
    "* **Hamming loss**: Fraction des tags prédits incorrectement (doit tendre vers zéro)\n",
    "* **Time_score**"
   ]
  },
  {
   "cell_type": "code",
   "execution_count": 42,
   "id": "2c6fe8e4",
   "metadata": {
    "ExecuteTime": {
     "end_time": "2023-05-20T20:46:13.789336Z",
     "start_time": "2023-05-20T20:46:13.777276Z"
    }
   },
   "outputs": [],
   "source": [
    "# on importe les métriques\n",
    "from sklearn.metrics import precision_score\n",
    "from sklearn.metrics import f1_score\n",
    "from sklearn.metrics import hamming_loss"
   ]
  },
  {
   "cell_type": "markdown",
   "id": "5ae55959",
   "metadata": {},
   "source": [
    "### Fonction de comparaison"
   ]
  },
  {
   "cell_type": "code",
   "execution_count": 43,
   "id": "e4c6e415",
   "metadata": {
    "ExecuteTime": {
     "end_time": "2023-05-20T20:46:13.805342Z",
     "start_time": "2023-05-20T20:46:13.791345Z"
    }
   },
   "outputs": [],
   "source": [
    "result_dict = {}\n",
    "\n",
    "def model_scores(model_name,\n",
    "                 X_train,\n",
    "                 X_test,\n",
    "                 y_train,\n",
    "                 y_test):\n",
    "    \n",
    "    \"\"\"\n",
    "    calculate model scores\n",
    "    \n",
    "    Return: scores (list)\n",
    "    \n",
    "    \"\"\"\n",
    "    \n",
    "    start = time.time()\n",
    "    \n",
    "    model = model_dict[model_name]\n",
    "    model.fit(X_train, y_train)\n",
    "    y_pred = model.predict(X_test)\n",
    "    \n",
    "    micro_precision = np.round(precision_score(y_test, y_pred, average='micro', zero_division=0), 4)\n",
    "    hamLoss = np.round(hamming_loss(y_test, y_pred), 4)\n",
    "    micro_f1 = f1_score(y_test, y_pred, average='micro')\n",
    "    \n",
    "    y_pred_inv = list(mlb.inverse_transform(y_pred))\n",
    "    y_true_inv = list(mlb.inverse_transform(y_test))\n",
    "    \n",
    "    tags_values = {}\n",
    "    for i in range(0, len(y_true_inv)):\n",
    "        if len(y_pred_inv[i]) == 0:\n",
    "            tags_values[i] = -1\n",
    "        else:\n",
    "            for tag in y_pred_inv[i]:\n",
    "                if tag in y_true_inv[i]:\n",
    "                    tags_values[i] = 1\n",
    "                else:\n",
    "                    tags_values[i] = 0\n",
    "                    break\n",
    "    tag_empty = 0\n",
    "    tag_false = 0 \n",
    "    tag_true = 0\n",
    "    for val in tags_values.values():\n",
    "        if val == -1:\n",
    "            tag_empty = tag_empty + 1\n",
    "        if val == 0:\n",
    "            tag_false = tag_false + 1\n",
    "        if val == 1:\n",
    "            tag_true = tag_true + 1\n",
    "            \n",
    "    s = tag_empty + tag_false + tag_true\n",
    "    \n",
    "    tag_true = np.round(tag_true / s *100, 2)\n",
    "    tag_false = np.round(tag_false / s *100, 2)\n",
    "    tag_empty = np.round(tag_empty / s *100, 2)\n",
    "    \n",
    "    end = time.time()\n",
    "    \n",
    "    time_score = np.round(end - start, 2)\n",
    "    \n",
    "    result_dict[model_name] = {}\n",
    "    result_dict[model_name][\"time_score\"] =  time_score\n",
    "    result_dict[model_name][\"micro_precision\"] = micro_precision\n",
    "    result_dict[model_name][\"micro_f1\"] = micro_f1\n",
    "    result_dict[model_name][\"hamLoss\"] = hamLoss\n",
    "    result_dict[model_name][\"tag_true\"] = tag_true\n",
    "    result_dict[model_name][\"tag_false\"] = tag_false\n",
    "    result_dict[model_name][\"tag_empty\"] = tag_empty\n",
    "    \n",
    "    return result_dict"
   ]
  },
  {
   "cell_type": "code",
   "execution_count": 44,
   "id": "9c579310",
   "metadata": {
    "ExecuteTime": {
     "end_time": "2023-05-20T20:46:13.820956Z",
     "start_time": "2023-05-20T20:46:13.808355Z"
    }
   },
   "outputs": [
    {
     "data": {
      "text/plain": [
       "'1.21.4'"
      ]
     },
     "execution_count": 44,
     "metadata": {},
     "output_type": "execute_result"
    }
   ],
   "source": [
    "np.__version__"
   ]
  },
  {
   "cell_type": "code",
   "execution_count": 45,
   "id": "52607f13",
   "metadata": {
    "ExecuteTime": {
     "end_time": "2023-05-20T20:46:13.836482Z",
     "start_time": "2023-05-20T20:46:13.823654Z"
    }
   },
   "outputs": [],
   "source": [
    "#pip install --force-reinstall numpy==1.21.4 --user"
   ]
  },
  {
   "cell_type": "markdown",
   "id": "8b65b53c",
   "metadata": {},
   "source": [
    "### On compare les performances"
   ]
  },
  {
   "cell_type": "code",
   "execution_count": 46,
   "id": "8c207e65",
   "metadata": {
    "ExecuteTime": {
     "end_time": "2023-05-20T20:46:13.852135Z",
     "start_time": "2023-05-20T20:46:13.839592Z"
    },
    "scrolled": true
   },
   "outputs": [],
   "source": [
    "#%%time\n",
    "#model_dict = {'Dummy': DummyClassifier(),\n",
    "#              'KNN_cls': KNeighborsClassifier(),\n",
    "#              'SVM_cls': OneVsRestClassifier(LinearSVC(random_state=seed), n_jobs=-1),\n",
    "#              'RF_cls': RandomForestClassifier(n_jobs=-1)}\n",
    "#\n",
    "#for name, value in model_dict.items():\n",
    "#    compare_dict = model_scores(name,\n",
    "#                                X_train_transformed,\n",
    "#                                X_test_transformed,\n",
    "#                                y_train_tfidf,\n",
    "#                                y_test_tfidf)\n",
    "#    \n",
    "#tfidf_df = pd.DataFrame(compare_dict)\n",
    "#\n",
    "#for name, value in model_dict.items():\n",
    "#    compare_dict = model_scores(name,\n",
    "#                                X_train_w2v,\n",
    "#                                X_test_w2c,\n",
    "#                                y_train_w2c,\n",
    "#                                y_test_w2c)\n",
    "#    \n",
    "#w2v_df = pd.DataFrame(compare_dict)\n",
    "#\n",
    "#for name, value in model_dict.items():\n",
    "#    compare_dict = model_scores(name,\n",
    "#                                X_train_bert,\n",
    "#                                X_test_bert,\n",
    "#                                y_train_bert,\n",
    "#                                y_test_bert)\n",
    "#    \n",
    "#bert_df = pd.DataFrame(compare_dict)\n",
    "#\n",
    "#for name, value in model_dict.items():\n",
    "#    compare_dict = model_scores(name,\n",
    "#                                X_train_use,\n",
    "#                                X_test_use,\n",
    "#                                y_train_use,\n",
    "#                                y_test_use)\n",
    "#    \n",
    "#use_df = pd.DataFrame(compare_dict)\n",
    "#\n",
    "#compare_df = pd.DataFrame(\n",
    "#        {\n",
    "#            \"|\":[\"|\", \"|\", \"|\", \"|\", \"|\", \"|\", \"|\"],\n",
    "#            \"Dummy_tfidf\": list(tfidf_df['Dummy']),\n",
    "#            \"Dummy_w2v\": list(w2v_df['Dummy']),\n",
    "#            \"Dummy_bert\": list(bert_df['Dummy']),\n",
    "#            \"Dummy_use\": list(use_df['Dummy']),\n",
    "#            \"| \":[\"|\", \"|\", \"|\", \"|\", \"|\", \"|\", \"|\"],\n",
    "#            \"KNN_tfidf\": list(tfidf_df['KNN_cls']),\n",
    "#            \"KNN_w2v\": list(w2v_df['KNN_cls']),\n",
    "#            \"KNN_bert\": list(bert_df['KNN_cls']),\n",
    "#            \"KNN_use\": list(use_df['KNN_cls']),\n",
    "#            \"|  \":[\"|\", \"|\", \"|\", \"|\", \"|\", \"|\", \"|\"],\n",
    "#            \"SVM_tfidf\": list(tfidf_df['SVM_cls']),\n",
    "#            \"SVM_w2v\": list(w2v_df['SVM_cls']),\n",
    "#            \"SVM_bert\": list(bert_df['SVM_cls']),\n",
    "#            \"SVM_use\": list(use_df['SVM_cls']),\n",
    "#            \"|   \":[\"|\", \"|\", \"|\", \"|\", \"|\", \"|\", \"|\"],\n",
    "#            \"RF_tfidf\": list(tfidf_df['RF_cls']),\n",
    "#            \"RF_w2v\": list(w2v_df['RF_cls']),\n",
    "#            \"RF_bert\": list(bert_df['RF_cls']),\n",
    "#            \"RF_use\": list(use_df['RF_cls']),\n",
    "#            \"|   \":[\"|\", \"|\", \"|\", \"|\", \"|\", \"|\", \"|\"]\n",
    "#        },\n",
    "#        index=w2v_df.index\n",
    "#    )\n",
    "#compare_df.round(3)"
   ]
  },
  {
   "attachments": {
    "image.png": {
     "image/png": "[encoded data removed]"
    }
   },
   "cell_type": "markdown",
   "id": "816d8cbf",
   "metadata": {},
   "source": [
    "![image.png](attachment:image.png)"
   ]
  },
  {
   "cell_type": "markdown",
   "id": "33fb28c3",
   "metadata": {},
   "source": [
    "Pour information, nous avons également testé le modèle GradientBoostingClassifier() qui s'est rélévé très peu probant au niveau performances et très long à entraîner (23 heures)  \n",
    "\n",
    "**Nous choisissons le modèle SMV-classifier avec la vectorisation USE**"
   ]
  },
  {
   "cell_type": "markdown",
   "id": "8af66d01",
   "metadata": {},
   "source": [
    "### Optimisation modèle retenu"
   ]
  },
  {
   "cell_type": "code",
   "execution_count": 47,
   "id": "7a2ca68a",
   "metadata": {
    "ExecuteTime": {
     "end_time": "2023-05-20T20:46:13.867383Z",
     "start_time": "2023-05-20T20:46:13.855332Z"
    },
    "scrolled": true
   },
   "outputs": [],
   "source": [
    "#%%time\n",
    "#from sklearn.model_selection import GridSearchCV\n",
    "#from sklearn.metrics import make_scorer\n",
    "#\n",
    "#\n",
    "#param_grid = {'estimator__C': [1, 10]}\n",
    "#model = OneVsRestClassifier(LinearSVC(multi_class='crammer_singer',\n",
    "#                                      random_state=seed),\n",
    "#                            n_jobs=-1)\n",
    "#scorer=make_scorer(precision_score, average='micro')\n",
    "#\n",
    "#grid = GridSearchCV(model, param_grid, scoring=scorer, cv=4) \n",
    "#grid.fit(X_train_use, y_train_use)"
   ]
  },
  {
   "cell_type": "code",
   "execution_count": 48,
   "id": "5b5cd8ef",
   "metadata": {
    "ExecuteTime": {
     "end_time": "2023-05-20T20:46:13.882758Z",
     "start_time": "2023-05-20T20:46:13.871071Z"
    }
   },
   "outputs": [],
   "source": [
    "#grid.best_params_"
   ]
  },
  {
   "cell_type": "code",
   "execution_count": 49,
   "id": "62ecc5c3",
   "metadata": {
    "ExecuteTime": {
     "end_time": "2023-05-20T20:46:13.898486Z",
     "start_time": "2023-05-20T20:46:13.885757Z"
    }
   },
   "outputs": [],
   "source": [
    "#supervised_model = grid.best_estimator_"
   ]
  },
  {
   "cell_type": "code",
   "execution_count": 50,
   "id": "73ef65a4",
   "metadata": {
    "ExecuteTime": {
     "end_time": "2023-05-20T20:46:13.930351Z",
     "start_time": "2023-05-20T20:46:13.901046Z"
    }
   },
   "outputs": [],
   "source": [
    "from sklearn import manifold, decomposition"
   ]
  },
  {
   "cell_type": "code",
   "execution_count": 51,
   "id": "f4b10c30",
   "metadata": {
    "ExecuteTime": {
     "end_time": "2023-05-20T20:46:13.945862Z",
     "start_time": "2023-05-20T20:46:13.933350Z"
    }
   },
   "outputs": [
    {
     "data": {
      "text/plain": [
       "'1.21.4'"
      ]
     },
     "execution_count": 51,
     "metadata": {},
     "output_type": "execute_result"
    }
   ],
   "source": [
    "#!pip install --force-reinstall numpy==1.21.4 --user\n",
    "np.__version__"
   ]
  },
  {
   "cell_type": "code",
   "execution_count": 52,
   "id": "a2d065a1",
   "metadata": {
    "ExecuteTime": {
     "end_time": "2023-05-20T20:48:36.798750Z",
     "start_time": "2023-05-20T20:46:13.948866Z"
    }
   },
   "outputs": [],
   "source": [
    "features_USE = pd.read_pickle('model/features_USE.pkl')\n",
    "tsne = manifold.TSNE(n_components=2 , random_state=0)\n",
    "data_tsne = tsne.fit_transform(features_USE)"
   ]
  },
  {
   "cell_type": "code",
   "execution_count": 53,
   "id": "9c7d086e",
   "metadata": {
    "ExecuteTime": {
     "end_time": "2023-05-20T20:48:36.813953Z",
     "start_time": "2023-05-20T20:48:36.801038Z"
    }
   },
   "outputs": [
    {
     "data": {
      "text/html": [
       "<div>\n",
       "<style scoped>\n",
       "    .dataframe tbody tr th:only-of-type {\n",
       "        vertical-align: middle;\n",
       "    }\n",
       "\n",
       "    .dataframe tbody tr th {\n",
       "        vertical-align: top;\n",
       "    }\n",
       "\n",
       "    .dataframe thead th {\n",
       "        text-align: right;\n",
       "    }\n",
       "</style>\n",
       "<table border=\"1\" class=\"dataframe\">\n",
       "  <thead>\n",
       "    <tr style=\"text-align: right;\">\n",
       "      <th></th>\n",
       "      <th>tsne1</th>\n",
       "      <th>tsne2</th>\n",
       "    </tr>\n",
       "  </thead>\n",
       "  <tbody>\n",
       "    <tr>\n",
       "      <th>0</th>\n",
       "      <td>-38.674862</td>\n",
       "      <td>2.149975</td>\n",
       "    </tr>\n",
       "    <tr>\n",
       "      <th>1</th>\n",
       "      <td>-35.173508</td>\n",
       "      <td>43.470879</td>\n",
       "    </tr>\n",
       "    <tr>\n",
       "      <th>2</th>\n",
       "      <td>-72.307770</td>\n",
       "      <td>13.037391</td>\n",
       "    </tr>\n",
       "  </tbody>\n",
       "</table>\n",
       "</div>"
      ],
      "text/plain": [
       "       tsne1      tsne2\n",
       "0 -38.674862   2.149975\n",
       "1 -35.173508  43.470879\n",
       "2 -72.307770  13.037391"
      ]
     },
     "execution_count": 53,
     "metadata": {},
     "output_type": "execute_result"
    }
   ],
   "source": [
    "data_tsne = pd.DataFrame(data_tsne , columns=['tsne1' , 'tsne2'])\n",
    "data_tsne.head(3)"
   ]
  },
  {
   "cell_type": "code",
   "execution_count": 54,
   "id": "7e9e665a",
   "metadata": {
    "ExecuteTime": {
     "end_time": "2023-05-20T20:50:13.449055Z",
     "start_time": "2023-05-20T20:48:36.816482Z"
    }
   },
   "outputs": [],
   "source": [
    "tsne1 = manifold.TSNE(n_components=1 , random_state=0)\n",
    "target = tsne1.fit_transform(y_transformed)"
   ]
  },
  {
   "cell_type": "code",
   "execution_count": 55,
   "id": "eeb23ca0",
   "metadata": {
    "ExecuteTime": {
     "end_time": "2023-05-20T20:50:13.480579Z",
     "start_time": "2023-05-20T20:50:13.451060Z"
    }
   },
   "outputs": [
    {
     "data": {
      "text/html": [
       "<div>\n",
       "<style scoped>\n",
       "    .dataframe tbody tr th:only-of-type {\n",
       "        vertical-align: middle;\n",
       "    }\n",
       "\n",
       "    .dataframe tbody tr th {\n",
       "        vertical-align: top;\n",
       "    }\n",
       "\n",
       "    .dataframe thead th {\n",
       "        text-align: right;\n",
       "    }\n",
       "</style>\n",
       "<table border=\"1\" class=\"dataframe\">\n",
       "  <thead>\n",
       "    <tr style=\"text-align: right;\">\n",
       "      <th></th>\n",
       "      <th>tsne1</th>\n",
       "      <th>tsne2</th>\n",
       "      <th>target</th>\n",
       "    </tr>\n",
       "  </thead>\n",
       "  <tbody>\n",
       "    <tr>\n",
       "      <th>0</th>\n",
       "      <td>-38.674862</td>\n",
       "      <td>2.149975</td>\n",
       "      <td>52.400349</td>\n",
       "    </tr>\n",
       "    <tr>\n",
       "      <th>1</th>\n",
       "      <td>-35.173508</td>\n",
       "      <td>43.470879</td>\n",
       "      <td>-114.802849</td>\n",
       "    </tr>\n",
       "    <tr>\n",
       "      <th>2</th>\n",
       "      <td>-72.307770</td>\n",
       "      <td>13.037391</td>\n",
       "      <td>12.862724</td>\n",
       "    </tr>\n",
       "    <tr>\n",
       "      <th>3</th>\n",
       "      <td>-79.760803</td>\n",
       "      <td>6.555140</td>\n",
       "      <td>12.854148</td>\n",
       "    </tr>\n",
       "    <tr>\n",
       "      <th>4</th>\n",
       "      <td>-76.798599</td>\n",
       "      <td>10.584758</td>\n",
       "      <td>-32.473362</td>\n",
       "    </tr>\n",
       "    <tr>\n",
       "      <th>...</th>\n",
       "      <td>...</td>\n",
       "      <td>...</td>\n",
       "      <td>...</td>\n",
       "    </tr>\n",
       "    <tr>\n",
       "      <th>37923</th>\n",
       "      <td>-18.222689</td>\n",
       "      <td>72.805954</td>\n",
       "      <td>7.035782</td>\n",
       "    </tr>\n",
       "    <tr>\n",
       "      <th>37924</th>\n",
       "      <td>5.162137</td>\n",
       "      <td>57.860058</td>\n",
       "      <td>-26.581440</td>\n",
       "    </tr>\n",
       "    <tr>\n",
       "      <th>37925</th>\n",
       "      <td>17.814814</td>\n",
       "      <td>59.769905</td>\n",
       "      <td>2.752896</td>\n",
       "    </tr>\n",
       "    <tr>\n",
       "      <th>37926</th>\n",
       "      <td>28.391685</td>\n",
       "      <td>27.736027</td>\n",
       "      <td>2.113856</td>\n",
       "    </tr>\n",
       "    <tr>\n",
       "      <th>37927</th>\n",
       "      <td>-33.369637</td>\n",
       "      <td>13.709837</td>\n",
       "      <td>-60.444580</td>\n",
       "    </tr>\n",
       "  </tbody>\n",
       "</table>\n",
       "<p>37928 rows × 3 columns</p>\n",
       "</div>"
      ],
      "text/plain": [
       "           tsne1      tsne2      target\n",
       "0     -38.674862   2.149975   52.400349\n",
       "1     -35.173508  43.470879 -114.802849\n",
       "2     -72.307770  13.037391   12.862724\n",
       "3     -79.760803   6.555140   12.854148\n",
       "4     -76.798599  10.584758  -32.473362\n",
       "...          ...        ...         ...\n",
       "37923 -18.222689  72.805954    7.035782\n",
       "37924   5.162137  57.860058  -26.581440\n",
       "37925  17.814814  59.769905    2.752896\n",
       "37926  28.391685  27.736027    2.113856\n",
       "37927 -33.369637  13.709837  -60.444580\n",
       "\n",
       "[37928 rows x 3 columns]"
      ]
     },
     "execution_count": 55,
     "metadata": {},
     "output_type": "execute_result"
    }
   ],
   "source": [
    "data_tsne['target'] = target\n",
    "data_tsne"
   ]
  },
  {
   "cell_type": "code",
   "execution_count": null,
   "id": "130287a1",
   "metadata": {
    "ExecuteTime": {
     "end_time": "2023-05-20T20:34:39.049892Z",
     "start_time": "2023-05-20T20:34:34.183900Z"
    }
   },
   "outputs": [],
   "source": [
    "#!pip install ipywidgets==7.7.1 jupyterlab-widgets==1.1.1"
   ]
  },
  {
   "cell_type": "code",
   "execution_count": null,
   "id": "89dcd61f",
   "metadata": {
    "ExecuteTime": {
     "end_time": "2023-05-20T20:23:13.444092Z",
     "start_time": "2023-05-20T20:23:13.444092Z"
    }
   },
   "outputs": [],
   "source": [
    "#!pip install --force-reinstall numpy==1.22.4 --user"
   ]
  },
  {
   "cell_type": "code",
   "execution_count": 56,
   "id": "0e6d30c1",
   "metadata": {
    "ExecuteTime": {
     "end_time": "2023-05-20T20:50:41.314253Z",
     "start_time": "2023-05-20T20:50:41.276524Z"
    }
   },
   "outputs": [],
   "source": [
    "import plotly\n",
    "import plotly.graph_objs as go\n",
    "from plotly.graph_objs import FigureWidget"
   ]
  },
  {
   "cell_type": "code",
   "execution_count": 93,
   "id": "bf5226a1",
   "metadata": {
    "ExecuteTime": {
     "end_time": "2023-05-21T09:02:34.520609Z",
     "start_time": "2023-05-21T09:02:34.447551Z"
    }
   },
   "outputs": [
    {
     "data": {
      "application/vnd.jupyter.widget-view+json": {
       "model_id": "37d3f359211046a6a66ae677389c90ee",
       "version_major": 2,
       "version_minor": 0
      },
      "text/plain": [
       "FigureWidget({\n",
       "    'data': [{'marker': {'opacity': 0.2, 'size': 4},\n",
       "              'mode': 'markers',\n",
       "         …"
      ]
     },
     "metadata": {},
     "output_type": "display_data"
    }
   ],
   "source": [
    "import plotly.express as px\n",
    "traces = go.Scatter3d(\n",
    "    x=data_tsne['tsne1'][0:50],\n",
    "    y=data_tsne['tsne2'][0:50],\n",
    "    z=data_tsne['target'][0:50],\n",
    "    mode='markers',\n",
    "    marker=dict(size=4,\n",
    "                opacity=0.2)\n",
    ")\n",
    "\n",
    "layout = go.Layout(\n",
    "    autosize=True,\n",
    "    showlegend=True,\n",
    "    width=800,\n",
    "    height=1000\n",
    ")\n",
    "\n",
    "fig = FigureWidget(data=[traces], layout=layout)\n",
    "\n",
    "\n",
    "\n",
    "\n",
    "fig.write_html(\"fig.html\")\n",
    "fig"
   ]
  },
  {
   "cell_type": "markdown",
   "id": "4b3a0f4f",
   "metadata": {},
   "source": [
    "### Sauvegarde des modèles et données"
   ]
  },
  {
   "cell_type": "code",
   "execution_count": 50,
   "id": "867ef38e",
   "metadata": {
    "ExecuteTime": {
     "end_time": "2023-05-20T04:42:29.549533Z",
     "start_time": "2023-05-20T04:42:29.537506Z"
    }
   },
   "outputs": [],
   "source": [
    "#filename_supervised_model = \"model/supervised_model.pkl\"\n",
    "#pickle.dump(grid.best_estimator_,\n",
    "#            open(filename_supervised_model,\n",
    "#                 'wb'))"
   ]
  },
  {
   "cell_type": "code",
   "execution_count": 51,
   "id": "a377015e",
   "metadata": {
    "ExecuteTime": {
     "end_time": "2023-05-20T04:42:29.565527Z",
     "start_time": "2023-05-20T04:42:29.552836Z"
    }
   },
   "outputs": [],
   "source": [
    "#filename_model = \"model/tfidf_model.pkl\"\n",
    "#pickle.dump(tfidf_data, open(filename_model,'wb'))"
   ]
  },
  {
   "cell_type": "code",
   "execution_count": 52,
   "id": "dfa343c0",
   "metadata": {
    "ExecuteTime": {
     "end_time": "2023-05-20T04:42:29.581344Z",
     "start_time": "2023-05-20T04:42:29.568116Z"
    }
   },
   "outputs": [],
   "source": [
    "import joblib"
   ]
  },
  {
   "cell_type": "code",
   "execution_count": 53,
   "id": "5782de38",
   "metadata": {
    "ExecuteTime": {
     "end_time": "2023-05-20T04:42:29.597132Z",
     "start_time": "2023-05-20T04:42:29.584089Z"
    }
   },
   "outputs": [],
   "source": [
    "#joblib.dump(mlb, \"model/joblib/mlb_model.gz\")\n",
    "#joblib.dump(pca, \"model/joblib/pca_model.gz\")\n",
    "#joblib.dump(supervised_model, \"model/joblib/supervised_model.gz\")"
   ]
  },
  {
   "cell_type": "code",
   "execution_count": 54,
   "id": "159f10ba",
   "metadata": {
    "ExecuteTime": {
     "end_time": "2023-05-20T04:42:29.615447Z",
     "start_time": "2023-05-20T04:42:29.599960Z"
    }
   },
   "outputs": [],
   "source": [
    "#joblib.dump(tfidf_data, \"model/joblib/tfidf_model.gz\")\n",
    "#joblib.dump(vocabulary, \"model/joblib/vocabulary.gz\")"
   ]
  },
  {
   "cell_type": "markdown",
   "id": "1a382bf3",
   "metadata": {},
   "source": [
    "### Fonction de prédiction"
   ]
  },
  {
   "cell_type": "code",
   "execution_count": 55,
   "id": "06925c64",
   "metadata": {
    "ExecuteTime": {
     "end_time": "2023-05-20T04:42:29.630344Z",
     "start_time": "2023-05-20T04:42:29.618431Z"
    }
   },
   "outputs": [],
   "source": [
    "supervised_model = pd.read_pickle(\"model/supervised_model.pkl\")"
   ]
  },
  {
   "cell_type": "code",
   "execution_count": null,
   "id": "931fbcb1",
   "metadata": {
    "ExecuteTime": {
     "end_time": "2023-05-20T04:42:42.995566Z",
     "start_time": "2023-05-20T04:42:29.633387Z"
    }
   },
   "outputs": [],
   "source": [
    "#pip install --force-reinstall numpy==1.22.4 --user"
   ]
  },
  {
   "cell_type": "code",
   "execution_count": 115,
   "id": "87abcddf",
   "metadata": {
    "ExecuteTime": {
     "end_time": "2023-05-20T09:33:46.453896Z",
     "start_time": "2023-05-20T09:33:46.432884Z"
    }
   },
   "outputs": [
    {
     "name": "stdout",
     "output_type": "stream",
     "text": [
      "CPU times: total: 0 ns\n",
      "Wall time: 0 ns\n"
     ]
    }
   ],
   "source": [
    "%%time\n",
    "def predict_supervised_tags(model_USE, supervised_model, mlb, text):\n",
    "    \"\"\"\n",
    "    Predict tags using a supervied model.\n",
    "    \n",
    "    Args:\n",
    "        model_USE\n",
    "        supervised_model()\n",
    "        mutilablel_model()\n",
    "        text (list of words)\n",
    "    Returns:\n",
    "        result(list): List of predicted tags\n",
    "    \"\"\"\n",
    "\n",
    "    result = model_USE(text)\n",
    "    result = supervised_model.predict(result)\n",
    "    result = mlb.inverse_transform(result)\n",
    "    result = list({tag for tag_list in result for tag in tag_list if (len(tag_list) != 0)})\n",
    "    result = [tag for tag  in result if tag in text]\n",
    "    \n",
    "    return result"
   ]
  },
  {
   "cell_type": "code",
   "execution_count": 53,
   "id": "6280a787",
   "metadata": {
    "ExecuteTime": {
     "end_time": "2023-05-16T07:07:34.879460Z",
     "start_time": "2023-05-16T07:07:34.867668Z"
    }
   },
   "outputs": [
    {
     "name": "stdout",
     "output_type": "stream",
     "text": [
      "CPU times: total: 0 ns\n",
      "Wall time: 0 ns\n"
     ]
    }
   ],
   "source": [
    "#%%time\n",
    "#def predict_supervised_tags(supervised_model, mlb, text):\n",
    "#    \"\"\"\n",
    "#    Predict tags using a supervied model.\n",
    "#    \n",
    "#    Args:\n",
    "#        supervised_model()\n",
    "#        mutilablel_model()\n",
    "#    Returns:\n",
    "#        result(list): List of predicted tags\n",
    "#    \"\"\"\n",
    "#\n",
    "#    result = tfidf_vectorizer.transform(text)\n",
    "#    result = pd.DataFrame(result.toarray(), columns=vocabulary)\n",
    "#    result = pca.transform(result)\n",
    "#    result = supervised_model.predict(result)\n",
    "#    result = mlb.inverse_transform(result)\n",
    "#    result = list({tag for tag_list in result for tag in tag_list if (len(tag_list) != 0)})\n",
    "#    result = [tag for tag  in result if tag in text]\n",
    "#    \n",
    "#    return result"
   ]
  },
  {
   "cell_type": "markdown",
   "id": "5237fe17",
   "metadata": {},
   "source": [
    "### Fonction de vérification"
   ]
  },
  {
   "cell_type": "code",
   "execution_count": 119,
   "id": "69dcfb69",
   "metadata": {
    "ExecuteTime": {
     "end_time": "2023-05-20T09:47:37.008813Z",
     "start_time": "2023-05-20T09:47:36.993975Z"
    }
   },
   "outputs": [],
   "source": [
    "def check_tag_predction(original_text, original_tags, preprocessed_text, supervised_model, Use_model):\n",
    "    \"\"\"\n",
    "    Check original tags vs predicted tags for a post.\n",
    "    \n",
    "    Args:\n",
    "        post(list) : original text\n",
    "        original_tags(list) : preprocessed_tags\n",
    "    \"\"\"\n",
    "    \n",
    "    predicted_tags = predict_supervised_tags(Use_model, supervised_model, multi_label, preprocessed_text)\n",
    "    print(\"Publication originale: \\n\")\n",
    "    print(f\"{original_text}\")\n",
    "    print(\"\\n\")\n",
    "    print(f\"Liste des tags pré-traités utilisés par l'utilisateur: {original_tags}\")\n",
    "    print(\"\\n\")\n",
    "    print(f\"Liste des tags prédits par le modèle: {predicted_tags}\")"
   ]
  },
  {
   "cell_type": "code",
   "execution_count": 54,
   "id": "2ea3e7f0",
   "metadata": {
    "ExecuteTime": {
     "end_time": "2023-05-16T07:07:34.890363Z",
     "start_time": "2023-05-16T07:07:34.882452Z"
    }
   },
   "outputs": [],
   "source": [
    "#def check_tag_predction(original_text, original_tags, preprocessed_text, model):\n",
    "#    \"\"\"\n",
    "#    Check original tags vs predicted tags for a post.\n",
    "#    \n",
    "#    Args:\n",
    "#        post(list) : original text\n",
    "#        original_tags(list) : preprocessed_tags\n",
    "#    \"\"\"\n",
    "#    \n",
    "#    predicted_tags = predict_supervised_tags(model, multi_label, preprocessed_text)\n",
    "#    print(\"Publication originale: \\n\")\n",
    "#    print(f\"{original_text}\")\n",
    "#    print(\"\\n\")\n",
    "#    print(f\"Liste des tags pré-traités utilisés par l'utilisateur: {original_tags}\")\n",
    "#    print(\"\\n\")\n",
    "#    print(f\"Liste des tags prédits par le modèle: {predicted_tags}\")"
   ]
  },
  {
   "cell_type": "markdown",
   "id": "2ab793f7",
   "metadata": {},
   "source": [
    "# Classification non supervisée"
   ]
  },
  {
   "cell_type": "code",
   "execution_count": 60,
   "id": "82c4df54",
   "metadata": {
    "ExecuteTime": {
     "end_time": "2023-05-20T21:47:18.505863Z",
     "start_time": "2023-05-20T21:47:18.284519Z"
    }
   },
   "outputs": [
    {
     "name": "stderr",
     "output_type": "stream",
     "text": [
      "[nltk_data] Downloading package wordnet to\n",
      "[nltk_data]     C:\\Users\\clsab\\AppData\\Roaming\\nltk_data...\n",
      "[nltk_data]   Package wordnet is already up-to-date!\n",
      "[nltk_data] Downloading package omw-1.4 to\n",
      "[nltk_data]     C:\\Users\\clsab\\AppData\\Roaming\\nltk_data...\n",
      "[nltk_data]   Package omw-1.4 is already up-to-date!\n"
     ]
    }
   ],
   "source": [
    "import gensim\n",
    "from gensim.utils import simple_preprocess\n",
    "from gensim.parsing.preprocessing import STOPWORDS\n",
    "from gensim.models import CoherenceModel\n",
    "\n",
    "import nltk\n",
    "from nltk.stem import WordNetLemmatizer, SnowballStemmer\n",
    "from nltk.stem.porter import *\n",
    "nltk.download('wordnet')\n",
    "nltk.download('omw-1.4')\n",
    "\n",
    "import gensim\n",
    "from gensim.models import TfidfModel\n",
    "import gensim.corpora as corpora\n",
    "from gensim import models\n",
    "from gensim.utils import simple_preprocess\n",
    "from gensim.models.ldamulticore import LdaMulticore\n",
    "from gensim.models import CoherenceModel\n",
    "import logging\n",
    "logging.basicConfig(format='%(asctime)s : %(levelname)s : %(message)s', level=logging.ERROR)\n",
    "import warnings\n",
    "warnings.filterwarnings(\"ignore\",category=DeprecationWarning)\n",
    "\n",
    "import pickle"
   ]
  },
  {
   "cell_type": "markdown",
   "id": "77374021",
   "metadata": {},
   "source": [
    "## Préparation data"
   ]
  },
  {
   "cell_type": "code",
   "execution_count": 61,
   "id": "626b8ca4",
   "metadata": {
    "ExecuteTime": {
     "end_time": "2023-05-20T21:47:26.714476Z",
     "start_time": "2023-05-20T21:47:26.672531Z"
    }
   },
   "outputs": [
    {
     "name": "stdout",
     "output_type": "stream",
     "text": [
      "The watermark extension is already loaded. To reload it, use:\n",
      "  %reload_ext watermark\n",
      "matplotlib: 3.7.1\n",
      "re        : 2.2.1\n",
      "sklearn   : 1.2.2\n",
      "plotly    : 5.9.0\n",
      "seaborn   : 0.12.2\n",
      "gensim    : 4.3.0\n",
      "numpy     : 1.21.4\n",
      "sys       : 3.9.16 (main, Mar  8 2023, 10:39:24) [MSC v.1916 64 bit (AMD64)]\n",
      "nltk      : 3.7\n",
      "logging   : 0.5.1.2\n",
      "pandas    : 1.5.3\n",
      "\n"
     ]
    }
   ],
   "source": [
    "%load_ext watermark\n",
    "%watermark --iversions"
   ]
  },
  {
   "cell_type": "code",
   "execution_count": 62,
   "id": "38f13ec9",
   "metadata": {
    "ExecuteTime": {
     "end_time": "2023-05-20T21:47:37.226891Z",
     "start_time": "2023-05-20T21:47:35.673372Z"
    }
   },
   "outputs": [],
   "source": [
    "data = pd.read_csv('data/QueryResults.csv', encoding='latin-1')"
   ]
  },
  {
   "cell_type": "code",
   "execution_count": 63,
   "id": "0083e78b",
   "metadata": {
    "ExecuteTime": {
     "end_time": "2023-05-20T21:47:43.065138Z",
     "start_time": "2023-05-20T21:47:42.992682Z"
    }
   },
   "outputs": [],
   "source": [
    "data['Post'] = data['Title'] + ' ' + data['Body']\n",
    "data.drop(columns=['Title', 'Body'], inplace=True)\n",
    "data = data[['Post', 'Tags']]"
   ]
  },
  {
   "cell_type": "markdown",
   "id": "50dcd6b9",
   "metadata": {},
   "source": [
    "On commence tout d’abord par réaliser certaines opérations sur nos données.\n",
    "\n",
    "Notamment la suppression des stopwords (the, or, and…) et des mots de moins de 3 lettres, puis la lemmatisation (les mots sous leur forme canonique) après avoir supprimé les valeurs nulles ou manquantes.\n",
    "\n",
    "L’opération la plus importante est la racinisation (stemming) qui consiste à transformer les mots en forme radicale c’est ce que fait la fonction SnowballStemmer de Nltk."
   ]
  },
  {
   "cell_type": "code",
   "execution_count": 64,
   "id": "ef6f717f",
   "metadata": {
    "ExecuteTime": {
     "end_time": "2023-05-20T21:47:48.523574Z",
     "start_time": "2023-05-20T21:47:48.514046Z"
    }
   },
   "outputs": [],
   "source": [
    "stemmer = SnowballStemmer('english')"
   ]
  },
  {
   "cell_type": "code",
   "execution_count": 65,
   "id": "e2fc4e5b",
   "metadata": {
    "ExecuteTime": {
     "end_time": "2023-05-20T21:47:51.270338Z",
     "start_time": "2023-05-20T21:47:51.265332Z"
    }
   },
   "outputs": [],
   "source": [
    "def lemmatize_stemming(text) :\n",
    "    return stemmer.stem(WordNetLemmatizer().lemmatize(text, pos='n'))"
   ]
  },
  {
   "cell_type": "code",
   "execution_count": 66,
   "id": "876e3e27",
   "metadata": {
    "ExecuteTime": {
     "end_time": "2023-05-20T21:47:54.422282Z",
     "start_time": "2023-05-20T21:47:54.402579Z"
    }
   },
   "outputs": [],
   "source": [
    "def preprocess(text) :\n",
    "    result = []\n",
    "    for token in gensim.utils.simple_preprocess(text) :\n",
    "        if token not in gensim.parsing.preprocessing.STOPWORDS and len(token) > 3 :\n",
    "            result.append(lemmatize_stemming(token))\n",
    "    return result"
   ]
  },
  {
   "cell_type": "code",
   "execution_count": 67,
   "id": "578c56af",
   "metadata": {
    "ExecuteTime": {
     "end_time": "2023-05-20T21:48:42.679335Z",
     "start_time": "2023-05-20T21:47:59.808534Z"
    }
   },
   "outputs": [
    {
     "name": "stdout",
     "output_type": "stream",
     "text": [
      "CPU times: total: 42.6 s\n",
      "Wall time: 42.9 s\n"
     ]
    }
   ],
   "source": [
    "%%time\n",
    "processed_docs = [preprocess(doc) for doc in data['Post']]"
   ]
  },
  {
   "cell_type": "code",
   "execution_count": 68,
   "id": "c1cd406b",
   "metadata": {
    "ExecuteTime": {
     "end_time": "2023-05-20T21:48:56.997017Z",
     "start_time": "2023-05-20T21:48:56.989007Z"
    }
   },
   "outputs": [
    {
     "name": "stdout",
     "output_type": "stream",
     "text": [
      "['convert', 'decim', 'doubl', 'want', 'assign', 'decim', 'variabl', 'quot', 'tran', 'quot', 'doubl', 'variabl', 'quot', 'opac', 'quot', 'class', 'lang', 'prettyprint', 'overrid', 'code', 'decim', 'tran', 'trackbar', 'valu', 'opac', 'tran', 'code', 'build', 'give', 'follow', 'error', 'blockquot', 'implicit', 'convert', 'type', 'decim', 'doubl', 'blockquot']\n"
     ]
    }
   ],
   "source": [
    "print(processed_docs[0])"
   ]
  },
  {
   "cell_type": "code",
   "execution_count": 69,
   "id": "7db42ec5",
   "metadata": {
    "ExecuteTime": {
     "end_time": "2023-05-20T21:49:00.663795Z",
     "start_time": "2023-05-20T21:49:00.654013Z"
    }
   },
   "outputs": [
    {
     "name": "stdout",
     "output_type": "stream",
     "text": [
      "['convert', 'decimal', 'assign', 'opacity', 'value', 'opacity', 'error', 'type', 'decimal', 'double']\n"
     ]
    }
   ],
   "source": [
    "print(top200_corpus[0])"
   ]
  },
  {
   "cell_type": "markdown",
   "id": "e3cd5919",
   "metadata": {},
   "source": [
    "## Conversion des données"
   ]
  },
  {
   "cell_type": "markdown",
   "id": "c90da640",
   "metadata": {},
   "source": [
    "On stocke nos données après leur nettoyage dans un dictionnaire de gensim, pour ensuite les convertir au format Bag Of Words ou Tf-idf"
   ]
  },
  {
   "cell_type": "code",
   "execution_count": 70,
   "id": "f5e98f5c",
   "metadata": {
    "ExecuteTime": {
     "end_time": "2023-05-20T21:49:13.165693Z",
     "start_time": "2023-05-20T21:49:06.859804Z"
    }
   },
   "outputs": [
    {
     "name": "stdout",
     "output_type": "stream",
     "text": [
      "CPU times: total: 6.16 s\n",
      "Wall time: 6.29 s\n"
     ]
    }
   ],
   "source": [
    "%%time\n",
    "texts = processed_docs\n",
    "id2word = gensim.corpora.Dictionary(processed_docs)\n",
    "id2word.filter_extremes(no_below=1000)\n",
    "bow_corpus = [id2word.doc2bow(text) for text in texts]\n",
    "tfidf = TfidfModel(bow_corpus)\n",
    "tfidf_corpus = [tfidf[text] for text in bow_corpus]"
   ]
  },
  {
   "cell_type": "markdown",
   "id": "c3ffad59",
   "metadata": {},
   "source": [
    "## Choix du modèle"
   ]
  },
  {
   "cell_type": "markdown",
   "id": "0f1f14b1",
   "metadata": {},
   "source": [
    "On applique le topic modeling à l’aide de la fonction LdaMulticore de gensim en prenant bien soin de préciser:\n",
    "- le nombre de topics à extraire du corpus\n",
    "- le mapping entre les identifiants des mots (entiers) et les mots (chaîne de caractères)\n",
    "- le nombre d’itérations à effectuer dans le corpus\n",
    "\n",
    "Le nombre de topic à extraire constitue une variable importante du modèle, son choix est souvent crucial tout comme celui du nombres de classes en clustering par exemple."
   ]
  },
  {
   "cell_type": "markdown",
   "id": "f5e66cd3",
   "metadata": {},
   "source": [
    "## Recherche du nombre de topics (cohérence)"
   ]
  },
  {
   "cell_type": "code",
   "execution_count": 71,
   "id": "a7ab95a5",
   "metadata": {
    "ExecuteTime": {
     "end_time": "2023-05-20T21:49:21.308122Z",
     "start_time": "2023-05-20T21:49:21.291884Z"
    }
   },
   "outputs": [],
   "source": [
    "def compute_coherence_values(dictionary, corpus, texts, limit, start=2, step=3):\n",
    "    \"\"\"\n",
    "    Compute c_v coherence for various number of topics\n",
    "\n",
    "    Args:\n",
    "  \n",
    "        dictionary : Gensim dictionary\n",
    "        corpus : Gensim corpus\n",
    "        texts : List of input texts\n",
    "        limit : Max num of topics\n",
    "\n",
    "    Returns:\n",
    "    \n",
    "        model_list : List of LDA topic models\n",
    "        coherence_values : Coherence values corresponding to the LDA model with respective number of topics\n",
    "    \"\"\"\n",
    "    coherence_values = []\n",
    "    model_list = []\n",
    "    \n",
    "    \n",
    "    for num_topics in range(start, limit, step):\n",
    "        \n",
    "        model = LdaMulticore(corpus=corpus,\n",
    "                            id2word=dictionary,\n",
    "                            num_topics=num_topics, \n",
    "                            random_state=0,\n",
    "                            passes=10,\n",
    "                            workers=7)\n",
    "\n",
    "        model_list.append(model)\n",
    "        coherencemodel = CoherenceModel(model=model, texts=texts, dictionary=dictionary, coherence='c_v')\n",
    "        coherence_values.append(coherencemodel.get_coherence())\n",
    "\n",
    "    return model_list, coherence_values"
   ]
  },
  {
   "cell_type": "code",
   "execution_count": 72,
   "id": "88af3d46",
   "metadata": {
    "ExecuteTime": {
     "end_time": "2023-05-20T22:28:14.462919Z",
     "start_time": "2023-05-20T21:49:28.475931Z"
    }
   },
   "outputs": [
    {
     "name": "stdout",
     "output_type": "stream",
     "text": [
      "CPU times: total: 25min 20s\n",
      "Wall time: 38min 45s\n"
     ]
    }
   ],
   "source": [
    "%%time\n",
    "model_list, coherence_values = compute_coherence_values(dictionary=id2word,\n",
    "                                                        corpus=tfidf_corpus,\n",
    "                                                        texts=texts,\n",
    "                                                        start=2,\n",
    "                                                        limit=51,\n",
    "                                                        step=1)"
   ]
  },
  {
   "cell_type": "code",
   "execution_count": 73,
   "id": "571fccb0",
   "metadata": {
    "ExecuteTime": {
     "end_time": "2023-05-20T22:30:52.496477Z",
     "start_time": "2023-05-20T22:30:52.342825Z"
    },
    "scrolled": false
   },
   "outputs": [
    {
     "data": {
      "image/png": "[encoded data removed]",
      "text/plain": [
       "<Figure size 640x480 with 1 Axes>"
      ]
     },
     "metadata": {},
     "output_type": "display_data"
    },
    {
     "name": "stdout",
     "output_type": "stream",
     "text": [
      "Num Topics = 2  has Coherence Value of 0.3935\n",
      "Num Topics = 3  has Coherence Value of 0.4025\n",
      "Num Topics = 4  has Coherence Value of 0.4341\n",
      "Num Topics = 5  has Coherence Value of 0.4888\n",
      "Num Topics = 6  has Coherence Value of 0.466\n",
      "Num Topics = 7  has Coherence Value of 0.5116\n",
      "Num Topics = 8  has Coherence Value of 0.5154\n",
      "Num Topics = 9  has Coherence Value of 0.5044\n",
      "Num Topics = 10  has Coherence Value of 0.4693\n",
      "Num Topics = 11  has Coherence Value of 0.4491\n",
      "Num Topics = 12  has Coherence Value of 0.4499\n",
      "Num Topics = 13  has Coherence Value of 0.4797\n",
      "Num Topics = 14  has Coherence Value of 0.4744\n",
      "Num Topics = 15  has Coherence Value of 0.448\n",
      "Num Topics = 16  has Coherence Value of 0.4748\n",
      "Num Topics = 17  has Coherence Value of 0.462\n",
      "Num Topics = 18  has Coherence Value of 0.4468\n",
      "Num Topics = 19  has Coherence Value of 0.4463\n",
      "Num Topics = 20  has Coherence Value of 0.4506\n",
      "Num Topics = 21  has Coherence Value of 0.4486\n",
      "Num Topics = 22  has Coherence Value of 0.4543\n",
      "Num Topics = 23  has Coherence Value of 0.4597\n",
      "Num Topics = 24  has Coherence Value of 0.4405\n",
      "Num Topics = 25  has Coherence Value of 0.4448\n",
      "Num Topics = 26  has Coherence Value of 0.4569\n",
      "Num Topics = 27  has Coherence Value of 0.4306\n",
      "Num Topics = 28  has Coherence Value of 0.4529\n",
      "Num Topics = 29  has Coherence Value of 0.4479\n",
      "Num Topics = 30  has Coherence Value of 0.4469\n",
      "Num Topics = 31  has Coherence Value of 0.4465\n",
      "Num Topics = 32  has Coherence Value of 0.4502\n",
      "Num Topics = 33  has Coherence Value of 0.4482\n",
      "Num Topics = 34  has Coherence Value of 0.4487\n",
      "Num Topics = 35  has Coherence Value of 0.4476\n",
      "Num Topics = 36  has Coherence Value of 0.4433\n",
      "Num Topics = 37  has Coherence Value of 0.4462\n",
      "Num Topics = 38  has Coherence Value of 0.4392\n",
      "Num Topics = 39  has Coherence Value of 0.4356\n",
      "Num Topics = 40  has Coherence Value of 0.4352\n",
      "Num Topics = 41  has Coherence Value of 0.4301\n",
      "Num Topics = 42  has Coherence Value of 0.4309\n",
      "Num Topics = 43  has Coherence Value of 0.4408\n",
      "Num Topics = 44  has Coherence Value of 0.4372\n",
      "Num Topics = 45  has Coherence Value of 0.4361\n",
      "Num Topics = 46  has Coherence Value of 0.4345\n",
      "Num Topics = 47  has Coherence Value of 0.4393\n",
      "Num Topics = 48  has Coherence Value of 0.4345\n",
      "Num Topics = 49  has Coherence Value of 0.4438\n",
      "Num Topics = 50  has Coherence Value of 0.4328\n"
     ]
    }
   ],
   "source": [
    "limit=51\n",
    "start=2\n",
    "step=1\n",
    "\n",
    "x = range(start, limit, step)\n",
    "plt.plot(x, coherence_values)\n",
    "plt.xlabel(\"Num Topics\")\n",
    "plt.ylabel(\"Coherence score\")\n",
    "plt.legend((\"coherence_values\"), loc='best')\n",
    "plt.show()\n",
    "\n",
    "for m, cv in zip(x, coherence_values):\n",
    "    print(\"Num Topics =\", m, \" has Coherence Value of\", round(cv, 4))"
   ]
  },
  {
   "cell_type": "markdown",
   "id": "2546809d",
   "metadata": {
    "ExecuteTime": {
     "end_time": "2023-04-26T22:01:14.842261Z",
     "start_time": "2023-04-26T22:01:14.834926Z"
    }
   },
   "source": [
    "Le maximum de cohérence est atteint pour 8 topics"
   ]
  },
  {
   "cell_type": "markdown",
   "id": "897c9767",
   "metadata": {},
   "source": [
    "## Les mesures de cohérence du modèle"
   ]
  },
  {
   "cell_type": "markdown",
   "id": "aa4a6de4",
   "metadata": {},
   "source": [
    "Les **mesures de cohérence** évaluent le **degré de similitude sémantique** entre les mots les mieux notés dans le topics. Ces mesures aident à faire la distinction entre les topics sémantiquement interprétables et les topics dûs à des inférences statistiques.\n",
    "\n",
    "Pour un bon modèle LDA la cohérence doit être comprise entre 0.4 et 0.7 au-delà et en dessous le modèle est très probablement erroné. La cohérence pour un modèle LDA est calculée en procédant aux étapes suivantes :\n",
    "\n",
    "- **Segmentation**: création de paires de mots à partir de sous-ensembles\n",
    "- **Calcul des probabilités**: calcul probabilité d’occurrence d’un mot\n",
    "- **Mesure de confirmation**: vérification « dans quelle mesure » un sous-ensemble de mots supporte un autre sous-ensemble de mots dans chaque paire\n",
    "- **Agrégation**: agrégation de toutes les valeurs calculées à l’étape précédente en une seule valeur qui est notre score final de cohérence de sujet"
   ]
  },
  {
   "cell_type": "code",
   "execution_count": 74,
   "id": "777436c2",
   "metadata": {
    "ExecuteTime": {
     "end_time": "2023-05-20T22:36:51.441830Z",
     "start_time": "2023-05-20T22:31:33.121662Z"
    }
   },
   "outputs": [
    {
     "name": "stdout",
     "output_type": "stream",
     "text": [
      "CPU times: total: 4min 51s\n",
      "Wall time: 5min 18s\n"
     ]
    }
   ],
   "source": [
    "%%time\n",
    "lda_model = gensim.models.LdaMulticore(tfidf_corpus,\n",
    "                                       num_topics = 8,\n",
    "                                       id2word = id2word,\n",
    "                                       passes = 100)"
   ]
  },
  {
   "cell_type": "code",
   "execution_count": 78,
   "id": "c2f00e17",
   "metadata": {
    "ExecuteTime": {
     "end_time": "2023-05-16T09:53:13.294450Z",
     "start_time": "2023-05-16T09:53:06.304672Z"
    }
   },
   "outputs": [
    {
     "name": "stdout",
     "output_type": "stream",
     "text": [
      "Coherence Score:  0.5345446477334603\n",
      "CPU times: total: 859 ms\n",
      "Wall time: 6.97 s\n"
     ]
    }
   ],
   "source": [
    "%%time\n",
    "coherence_model_lda = CoherenceModel(model=lda_model, texts=processed_docs, dictionary=id2word)\n",
    "coherence_lda = coherence_model_lda.get_coherence()\n",
    "print('Coherence Score: ', coherence_lda)"
   ]
  },
  {
   "attachments": {
    "image.png": {
     "image/png": "[encoded data removed]"
    }
   },
   "cell_type": "markdown",
   "id": "98e92989",
   "metadata": {},
   "source": [
    "Cohérence score with BagOfWord\n",
    "![image.png](attachment:image.png)"
   ]
  },
  {
   "attachments": {
    "image.png": {
     "image/png": "[encoded data removed]"
    }
   },
   "cell_type": "markdown",
   "id": "9dc7256a",
   "metadata": {},
   "source": [
    "Cohérence score with Tf-idf\n",
    "![image.png](attachment:image.png)"
   ]
  },
  {
   "cell_type": "markdown",
   "id": "980b7a92",
   "metadata": {},
   "source": [
    "**Nous choisissons la configuration Tf-idf**"
   ]
  },
  {
   "cell_type": "markdown",
   "id": "6630eacf",
   "metadata": {},
   "source": [
    "## Visualisation des topics"
   ]
  },
  {
   "cell_type": "code",
   "execution_count": 75,
   "id": "bb280a28",
   "metadata": {
    "ExecuteTime": {
     "end_time": "2023-05-20T22:48:26.700077Z",
     "start_time": "2023-05-20T22:48:26.686440Z"
    }
   },
   "outputs": [
    {
     "name": "stdout",
     "output_type": "stream",
     "text": [
      "Topic: 0 -> Words: 0.042*\"string\" + 0.028*\"array\" + 0.021*\"python\" + 0.020*\"list\" + 0.019*\"charact\" + 0.018*\"convert\" + 0.018*\"valu\" + 0.017*\"print\" + 0.017*\"number\" + 0.017*\"function\"\n",
      "Topic: 1 -> Words: 0.021*\"project\" + 0.018*\"develop\" + 0.016*\"test\" + 0.015*\"visual\" + 0.014*\"applic\" + 0.014*\"studio\" + 0.012*\"good\" + 0.011*\"build\" + 0.011*\"tool\" + 0.010*\"framework\"\n",
      "Topic: 2 -> Words: 0.059*\"http\" + 0.051*\"href\" + 0.050*\"noreferr\" + 0.034*\"nofollow\" + 0.020*\"wiki\" + 0.020*\"strong\" + 0.018*\"wikipedia\" + 0.017*\"librari\" + 0.016*\"html\" + 0.016*\"aspx\"\n",
      "Topic: 3 -> Words: 0.049*\"tabl\" + 0.030*\"databas\" + 0.029*\"queri\" + 0.029*\"column\" + 0.026*\"select\" + 0.021*\"mysql\" + 0.019*\"data\" + 0.018*\"store\" + 0.017*\"field\" + 0.017*\"date\"\n",
      "Topic: 4 -> Words: 0.040*\"class\" + 0.029*\"public\" + 0.028*\"object\" + 0.023*\"method\" + 0.017*\"return\" + 0.016*\"void\" + 0.016*\"type\" + 0.015*\"thread\" + 0.015*\"properti\" + 0.014*\"function\"\n",
      "Topic: 5 -> Words: 0.050*\"file\" + 0.043*\"imag\" + 0.021*\"memori\" + 0.020*\"size\" + 0.018*\"text\" + 0.015*\"read\" + 0.015*\"java\" + 0.014*\"word\" + 0.013*\"format\" + 0.012*\"generat\"\n",
      "Topic: 6 -> Words: 0.024*\"file\" + 0.022*\"window\" + 0.019*\"server\" + 0.018*\"servic\" + 0.016*\"instal\" + 0.015*\"connect\" + 0.015*\"applic\" + 0.014*\"directori\" + 0.014*\"error\" + 0.013*\"command\"\n",
      "Topic: 7 -> Words: 0.031*\"page\" + 0.024*\"javascript\" + 0.023*\"form\" + 0.022*\"control\" + 0.020*\"jqueri\" + 0.018*\"html\" + 0.018*\"button\" + 0.017*\"event\" + 0.015*\"click\" + 0.014*\"element\"\n",
      "CPU times: total: 0 ns\n",
      "Wall time: 1.54 ms\n"
     ]
    }
   ],
   "source": [
    "%%time\n",
    "topics = []\n",
    "for idx, topic in lda_model.print_topics(-1) :\n",
    "    print(\"Topic: {} -> Words: {}\".format(idx, topic))\n",
    "    topics.append(topic)"
   ]
  },
  {
   "cell_type": "markdown",
   "id": "ba22417c",
   "metadata": {},
   "source": [
    "vérifier les termes qui n'apportent aucune info supp et qui reviennent souvent. Peut-être faut il les ajouter dans stop word"
   ]
  },
  {
   "cell_type": "markdown",
   "id": "0b424730",
   "metadata": {},
   "source": [
    "## Stockage des résultats (df)"
   ]
  },
  {
   "cell_type": "code",
   "execution_count": 76,
   "id": "85fb20a7",
   "metadata": {
    "ExecuteTime": {
     "end_time": "2023-05-20T22:48:36.205225Z",
     "start_time": "2023-05-20T22:48:36.190471Z"
    }
   },
   "outputs": [],
   "source": [
    "all_topic_model = []\n",
    "for i in range(len(topics)):\n",
    "    str = topics[i].split(' + ')\n",
    "    topic_model = []\n",
    "    for j in range(10):\n",
    "        weight = str[j][0:5]\n",
    "        word = str[j][7:len(str[j])-1]\n",
    "        topic_model.append((weight, word))\n",
    "    all_topic_model.append(topic_model)"
   ]
  },
  {
   "cell_type": "code",
   "execution_count": 77,
   "id": "c5dabf54",
   "metadata": {
    "ExecuteTime": {
     "end_time": "2023-05-20T22:48:42.111147Z",
     "start_time": "2023-05-20T22:48:42.069810Z"
    }
   },
   "outputs": [
    {
     "data": {
      "text/html": [
       "<div>\n",
       "<style scoped>\n",
       "    .dataframe tbody tr th:only-of-type {\n",
       "        vertical-align: middle;\n",
       "    }\n",
       "\n",
       "    .dataframe tbody tr th {\n",
       "        vertical-align: top;\n",
       "    }\n",
       "\n",
       "    .dataframe thead th {\n",
       "        text-align: right;\n",
       "    }\n",
       "</style>\n",
       "<table border=\"1\" class=\"dataframe\">\n",
       "  <thead>\n",
       "    <tr style=\"text-align: right;\">\n",
       "      <th></th>\n",
       "      <th>0</th>\n",
       "      <th>1</th>\n",
       "      <th>2</th>\n",
       "      <th>3</th>\n",
       "      <th>4</th>\n",
       "      <th>5</th>\n",
       "      <th>6</th>\n",
       "      <th>7</th>\n",
       "      <th>8</th>\n",
       "      <th>9</th>\n",
       "    </tr>\n",
       "  </thead>\n",
       "  <tbody>\n",
       "    <tr>\n",
       "      <th>Topic 1</th>\n",
       "      <td>(0.042, string)</td>\n",
       "      <td>(0.028, array)</td>\n",
       "      <td>(0.021, python)</td>\n",
       "      <td>(0.020, list)</td>\n",
       "      <td>(0.019, charact)</td>\n",
       "      <td>(0.018, convert)</td>\n",
       "      <td>(0.018, valu)</td>\n",
       "      <td>(0.017, print)</td>\n",
       "      <td>(0.017, number)</td>\n",
       "      <td>(0.017, function)</td>\n",
       "    </tr>\n",
       "    <tr>\n",
       "      <th>Topic 2</th>\n",
       "      <td>(0.021, project)</td>\n",
       "      <td>(0.018, develop)</td>\n",
       "      <td>(0.016, test)</td>\n",
       "      <td>(0.015, visual)</td>\n",
       "      <td>(0.014, applic)</td>\n",
       "      <td>(0.014, studio)</td>\n",
       "      <td>(0.012, good)</td>\n",
       "      <td>(0.011, build)</td>\n",
       "      <td>(0.011, tool)</td>\n",
       "      <td>(0.010, framework)</td>\n",
       "    </tr>\n",
       "    <tr>\n",
       "      <th>Topic 3</th>\n",
       "      <td>(0.059, http)</td>\n",
       "      <td>(0.051, href)</td>\n",
       "      <td>(0.050, noreferr)</td>\n",
       "      <td>(0.034, nofollow)</td>\n",
       "      <td>(0.020, wiki)</td>\n",
       "      <td>(0.020, strong)</td>\n",
       "      <td>(0.018, wikipedia)</td>\n",
       "      <td>(0.017, librari)</td>\n",
       "      <td>(0.016, html)</td>\n",
       "      <td>(0.016, aspx)</td>\n",
       "    </tr>\n",
       "    <tr>\n",
       "      <th>Topic 4</th>\n",
       "      <td>(0.049, tabl)</td>\n",
       "      <td>(0.030, databas)</td>\n",
       "      <td>(0.029, queri)</td>\n",
       "      <td>(0.029, column)</td>\n",
       "      <td>(0.026, select)</td>\n",
       "      <td>(0.021, mysql)</td>\n",
       "      <td>(0.019, data)</td>\n",
       "      <td>(0.018, store)</td>\n",
       "      <td>(0.017, field)</td>\n",
       "      <td>(0.017, date)</td>\n",
       "    </tr>\n",
       "    <tr>\n",
       "      <th>Topic 5</th>\n",
       "      <td>(0.040, class)</td>\n",
       "      <td>(0.029, public)</td>\n",
       "      <td>(0.028, object)</td>\n",
       "      <td>(0.023, method)</td>\n",
       "      <td>(0.017, return)</td>\n",
       "      <td>(0.016, void)</td>\n",
       "      <td>(0.016, type)</td>\n",
       "      <td>(0.015, thread)</td>\n",
       "      <td>(0.015, properti)</td>\n",
       "      <td>(0.014, function)</td>\n",
       "    </tr>\n",
       "    <tr>\n",
       "      <th>Topic 6</th>\n",
       "      <td>(0.050, file)</td>\n",
       "      <td>(0.043, imag)</td>\n",
       "      <td>(0.021, memori)</td>\n",
       "      <td>(0.020, size)</td>\n",
       "      <td>(0.018, text)</td>\n",
       "      <td>(0.015, read)</td>\n",
       "      <td>(0.015, java)</td>\n",
       "      <td>(0.014, word)</td>\n",
       "      <td>(0.013, format)</td>\n",
       "      <td>(0.012, generat)</td>\n",
       "    </tr>\n",
       "    <tr>\n",
       "      <th>Topic 7</th>\n",
       "      <td>(0.024, file)</td>\n",
       "      <td>(0.022, window)</td>\n",
       "      <td>(0.019, server)</td>\n",
       "      <td>(0.018, servic)</td>\n",
       "      <td>(0.016, instal)</td>\n",
       "      <td>(0.015, connect)</td>\n",
       "      <td>(0.015, applic)</td>\n",
       "      <td>(0.014, directori)</td>\n",
       "      <td>(0.014, error)</td>\n",
       "      <td>(0.013, command)</td>\n",
       "    </tr>\n",
       "    <tr>\n",
       "      <th>Topic 8</th>\n",
       "      <td>(0.031, page)</td>\n",
       "      <td>(0.024, javascript)</td>\n",
       "      <td>(0.023, form)</td>\n",
       "      <td>(0.022, control)</td>\n",
       "      <td>(0.020, jqueri)</td>\n",
       "      <td>(0.018, html)</td>\n",
       "      <td>(0.018, button)</td>\n",
       "      <td>(0.017, event)</td>\n",
       "      <td>(0.015, click)</td>\n",
       "      <td>(0.014, element)</td>\n",
       "    </tr>\n",
       "  </tbody>\n",
       "</table>\n",
       "</div>"
      ],
      "text/plain": [
       "                        0                    1                  2  \\\n",
       "Topic 1   (0.042, string)       (0.028, array)    (0.021, python)   \n",
       "Topic 2  (0.021, project)     (0.018, develop)      (0.016, test)   \n",
       "Topic 3     (0.059, http)        (0.051, href)  (0.050, noreferr)   \n",
       "Topic 4     (0.049, tabl)     (0.030, databas)     (0.029, queri)   \n",
       "Topic 5    (0.040, class)      (0.029, public)    (0.028, object)   \n",
       "Topic 6     (0.050, file)        (0.043, imag)    (0.021, memori)   \n",
       "Topic 7     (0.024, file)      (0.022, window)    (0.019, server)   \n",
       "Topic 8     (0.031, page)  (0.024, javascript)      (0.023, form)   \n",
       "\n",
       "                         3                 4                 5  \\\n",
       "Topic 1      (0.020, list)  (0.019, charact)  (0.018, convert)   \n",
       "Topic 2    (0.015, visual)   (0.014, applic)   (0.014, studio)   \n",
       "Topic 3  (0.034, nofollow)     (0.020, wiki)   (0.020, strong)   \n",
       "Topic 4    (0.029, column)   (0.026, select)    (0.021, mysql)   \n",
       "Topic 5    (0.023, method)   (0.017, return)     (0.016, void)   \n",
       "Topic 6      (0.020, size)     (0.018, text)     (0.015, read)   \n",
       "Topic 7    (0.018, servic)   (0.016, instal)  (0.015, connect)   \n",
       "Topic 8   (0.022, control)   (0.020, jqueri)     (0.018, html)   \n",
       "\n",
       "                          6                   7                  8  \\\n",
       "Topic 1       (0.018, valu)      (0.017, print)    (0.017, number)   \n",
       "Topic 2       (0.012, good)      (0.011, build)      (0.011, tool)   \n",
       "Topic 3  (0.018, wikipedia)    (0.017, librari)      (0.016, html)   \n",
       "Topic 4       (0.019, data)      (0.018, store)     (0.017, field)   \n",
       "Topic 5       (0.016, type)     (0.015, thread)  (0.015, properti)   \n",
       "Topic 6       (0.015, java)       (0.014, word)    (0.013, format)   \n",
       "Topic 7     (0.015, applic)  (0.014, directori)     (0.014, error)   \n",
       "Topic 8     (0.018, button)      (0.017, event)     (0.015, click)   \n",
       "\n",
       "                          9  \n",
       "Topic 1   (0.017, function)  \n",
       "Topic 2  (0.010, framework)  \n",
       "Topic 3       (0.016, aspx)  \n",
       "Topic 4       (0.017, date)  \n",
       "Topic 5   (0.014, function)  \n",
       "Topic 6    (0.012, generat)  \n",
       "Topic 7    (0.013, command)  \n",
       "Topic 8    (0.014, element)  "
      ]
     },
     "execution_count": 77,
     "metadata": {},
     "output_type": "execute_result"
    }
   ],
   "source": [
    "df_topic_model = pd.DataFrame(all_topic_model)\n",
    "df_topic_model.rename(index = {0: \"Topic 1\",\n",
    "                               1: \"Topic 2\",\n",
    "                               2: \"Topic 3\",\n",
    "                               3: \"Topic 4\",\n",
    "                               4: \"Topic 5\",\n",
    "                               5: \"Topic 6\",\n",
    "                               6: \"Topic 7\",\n",
    "                               7: \"Topic 8\",\n",
    "                               })"
   ]
  },
  {
   "cell_type": "code",
   "execution_count": 68,
   "id": "a5256189",
   "metadata": {
    "ExecuteTime": {
     "end_time": "2023-05-12T08:00:19.329458Z",
     "start_time": "2023-05-12T08:00:19.317447Z"
    }
   },
   "outputs": [],
   "source": [
    "#!pip install pyLDAvis"
   ]
  },
  {
   "cell_type": "code",
   "execution_count": 78,
   "id": "cb090b0f",
   "metadata": {
    "ExecuteTime": {
     "end_time": "2023-05-20T22:48:52.482488Z",
     "start_time": "2023-05-20T22:48:52.358070Z"
    }
   },
   "outputs": [],
   "source": [
    "import pyLDAvis.gensim_models"
   ]
  },
  {
   "cell_type": "code",
   "execution_count": 86,
   "id": "ce3982df",
   "metadata": {
    "ExecuteTime": {
     "end_time": "2023-05-21T08:45:56.514535Z",
     "start_time": "2023-05-21T08:45:38.826875Z"
    }
   },
   "outputs": [
    {
     "data": {
      "text/html": [
       "<style> .jp-icon-warn0 path {fill: var(--jp-warn-color0);} .bp3-button-text path { fill: var(--jp-inverse-layout-color3);} .jp-icon-brand0 path { fill: var(--jp-brand-color0);} text.terms { fill: #616161;} </style>"
      ],
      "text/plain": [
       "<IPython.core.display.HTML object>"
      ]
     },
     "metadata": {},
     "output_type": "display_data"
    },
    {
     "data": {
      "text/html": [
       "\n",
       "<link rel=\"stylesheet\" type=\"text/css\" href=\"https://cdn.jsdelivr.net/gh/bmabey/pyLDAvis@3.4.0/pyLDAvis/js/ldavis.v1.0.0.css\">\n",
       "\n",
       "\n",
       "<div id=\"ldavis_el1451612609442894566886010848\" style=\"background-color:white;\"></div>\n",
       "<script type=\"text/javascript\">\n",
       "\n",
       "var ldavis_el1451612609442894566886010848_data = {\"mdsDat\": {\"x\": [-0.07694098915309608, 0.08326887332073978, 0.03719029896121032, 0.138966272320239, -0.01885045082929824, -0.09790329742430581, -0.07961283566009966, 0.013882128464610755], \"y\": [0.06639060137057974, -0.018719241076498132, -0.06276041312585198, 0.0748514193547755, -0.037012216361554315, -0.050052316048267834, 0.07891175249363792, -0.05160958660682104], \"topics\": [1, 2, 3, 4, 5, 6, 7, 8], \"cluster\": [1, 1, 1, 1, 1, 1, 1, 1], \"Freq\": [15.989438627231758, 15.708368927121583, 15.645623629789679, 12.175422177393205, 11.913024218067955, 10.938237675698174, 9.4512903888311, 8.178594355866545]}, \"tinfo\": {\"Term\": [\"http\", \"noreferr\", \"tabl\", \"href\", \"imag\", \"file\", \"string\", \"nofollow\", \"column\", \"public\", \"queri\", \"class\", \"array\", \"page\", \"databas\", \"jqueri\", \"wiki\", \"mysql\", \"select\", \"wikipedia\", \"javascript\", \"html\", \"button\", \"python\", \"memori\", \"void\", \"form\", \"charact\", \"valu\", \"text\", \"void\", \"public\", \"privat\", \"static\", \"except\", \"throw\", \"class\", \"thread\", \"collect\", \"properti\", \"interfac\", \"object\", \"paramet\", \"method\", \"null\", \"instanc\", \"attribut\", \"defin\", \"return\", \"pas\", \"initi\", \"pass\", \"oper\", \"type\", \"fals\", \"call\", \"true\", \"main\", \"compil\", \"block\", \"refer\", \"implement\", \"function\", \"valu\", \"string\", \"java\", \"error\", \"test\", \"strong\", \"creat\", \"like\", \"studio\", \"visual\", \"learn\", \"develop\", \"project\", \"softwar\", \"experi\", \"tool\", \"recommend\", \"framework\", \"build\", \"featur\", \"resourc\", \"practic\", \"manag\", \"good\", \"peopl\", \"interest\", \"sourc\", \"small\", \"real\", \"feel\", \"design\", \"product\", \"websit\", \"test\", \"littl\", \"start\", \"consid\", \"general\", \"common\", \"version\", \"applic\", \"best\", \"languag\", \"look\", \"time\", \"solut\", \"know\", \"work\", \"program\", \"like\", \"strong\", \"need\", \"java\", \"file\", \"directori\", \"connect\", \"instal\", \"path\", \"servic\", \"machin\", \"configur\", \"command\", \"messag\", \"linux\", \"local\", \"run\", \"send\", \"client\", \"window\", \"debug\", \"address\", \"process\", \"copi\", \"locat\", \"environ\", \"server\", \"task\", \"execut\", \"script\", \"error\", \"fail\", \"close\", \"set\", \"fine\", \"file\", \"applic\", \"version\", \"user\", \"access\", \"program\", \"work\", \"strong\", \"need\", \"wikipedia\", \"wiki\", \"nofollow\", \"noreferr\", \"href\", \"aspx\", \"http\", \"stackoverflow\", \"googl\", \"microsoft\", \"librari\", \"pattern\", \"languag\", \"html\", \"question\", \"use\", \"comment\", \"support\", \"ask\", \"blockquot\", \"answer\", \"similar\", \"featur\", \"post\", \"search\", \"relat\", \"seen\", \"interest\", \"strong\", \"recent\", \"python\", \"implement\", \"java\", \"link\", \"program\", \"exampl\", \"look\", \"good\", \"know\", \"read\", \"like\", \"jqueri\", \"button\", \"click\", \"browser\", \"javascript\", \"page\", \"form\", \"event\", \"style\", \"element\", \"content\", \"control\", \"request\", \"respons\", \"input\", \"valid\", \"html\", \"view\", \"display\", \"post\", \"link\", \"text\", \"insid\", \"show\", \"attribut\", \"fals\", \"dynam\", \"site\", \"appear\", \"user\", \"load\", \"script\", \"item\", \"chang\", \"window\", \"select\", \"function\", \"want\", \"strong\", \"work\", \"valu\", \"type\", \"column\", \"mysql\", \"tabl\", \"queri\", \"insert\", \"date\", \"select\", \"databas\", \"field\", \"statement\", \"store\", \"model\", \"index\", \"delet\", \"item\", \"order\", \"data\", \"null\", \"result\", \"sort\", \"limit\", \"updat\", \"structur\", \"search\", \"perform\", \"multipl\", \"product\", \"singl\", \"valu\", \"server\", \"user\", \"creat\", \"list\", \"number\", \"like\", \"want\", \"strong\", \"time\", \"return\", \"array\", \"charact\", \"print\", \"match\", \"express\", \"loop\", \"pars\", \"convert\", \"string\", \"replac\", \"python\", \"variabl\", \"number\", \"output\", \"list\", \"line\", \"format\", \"sort\", \"name\", \"input\", \"given\", \"long\", \"valu\", \"function\", \"element\", \"result\", \"contain\", \"case\", \"give\", \"return\", \"word\", \"point\", \"exampl\", \"like\", \"strong\", \"text\", \"want\", \"follow\", \"imag\", \"memori\", \"size\", \"word\", \"save\", \"free\", \"format\", \"file\", \"determin\", \"text\", \"larg\", \"read\", \"generat\", \"document\", \"load\", \"display\", \"content\", \"open\", \"modifi\", \"figur\", \"write\", \"limit\", \"origin\", \"tool\", \"view\", \"java\", \"prefer\", \"avail\", \"convert\", \"abl\", \"librari\", \"data\", \"differ\", \"line\", \"creat\", \"chang\", \"need\", \"possibl\", \"know\", \"want\", \"like\", \"applic\"], \"Freq\": [13259.0, 9495.0, 8038.0, 10486.0, 5584.0, 15117.0, 10351.0, 6187.0, 4549.0, 6990.0, 4991.0, 12319.0, 4496.0, 7335.0, 6939.0, 3300.0, 3412.0, 3441.0, 6010.0, 3049.0, 5306.0, 6857.0, 3118.0, 6351.0, 3750.0, 3796.0, 5380.0, 2998.0, 9165.0, 6888.0, 3473.1438376345764, 6274.434309812236, 2601.736558238806, 3008.7642381057058, 3101.1522233296514, 1482.728723088297, 8804.795344200229, 3334.1252973492483, 1991.3859076023846, 3291.396595324076, 2407.6800823256785, 6165.19826287792, 2256.610997070536, 4931.540600315814, 2269.46644136568, 1905.4525489560324, 1321.616975552171, 1707.0468957852768, 3792.0862105579886, 1140.9148434403262, 987.9671182866091, 835.6454541431904, 1551.4402007362035, 3444.7571258078624, 971.8652737862758, 1939.4199502523131, 1336.3585726810654, 1234.526929467186, 1916.4634661393459, 836.5008627286553, 1497.1776203237853, 2127.1269806803093, 3153.14660800201, 2908.9408836852604, 3061.1237108171517, 2551.5330948705364, 1875.8290455575263, 2010.085400202855, 2094.325302650103, 1738.43045653796, 1552.914563501395, 2928.795784395463, 3241.4526017380854, 1885.0840058323013, 3898.2189134799582, 4505.208442850541, 1549.3097072403593, 1483.8062871163224, 2411.9149002794093, 1278.5555813130627, 2113.343374932725, 2433.87218866028, 1452.5584790548617, 1413.7871713315053, 1379.694237619036, 1477.6430617271158, 2657.8881563340074, 1282.08712781351, 1058.9672375753182, 2078.6907917889566, 813.5606627261964, 825.2409383414175, 730.6217341122086, 1528.9047952182023, 1268.7241635989783, 1038.9320672109452, 3372.1640077292514, 810.5280230971372, 1822.8389403013284, 754.8800085125686, 736.916119544573, 832.9642201831194, 1665.7289574108656, 2966.4763193188396, 2036.175388476203, 1476.746884550102, 2008.813109419499, 1945.9079547891965, 1532.3373981727846, 1892.10381103188, 1915.7862280108168, 1668.0439571079703, 1941.5919415667445, 1982.0987510018467, 1530.2476147322961, 1513.557973012485, 1492.6049815704405, 3045.8434772881574, 3228.9625612994437, 3360.82379930675, 2427.088334363182, 3791.0730795021473, 2018.0948951548144, 1998.5320587952037, 2775.177913994453, 2339.285947328139, 1838.5656723814343, 1645.861670786108, 2562.187163076249, 1643.0567191574755, 2206.656588690672, 4690.936928101033, 1449.3747843646195, 1380.82627673629, 2575.468338327955, 1471.527494602695, 1068.7446862059874, 1020.9724905577309, 4133.207041986737, 1057.7479048873581, 1666.9527016172349, 2327.063570534304, 2882.733677400572, 1107.1680034084945, 937.511594440857, 1271.4972395008424, 835.5437794731641, 5110.12574806886, 3198.946052194029, 1649.6050170697458, 2305.081929065646, 1612.0600913069543, 1779.1996435538053, 1889.6409258196823, 1823.3290281069553, 1613.5677217626346, 3042.1905023861746, 3356.7805852752936, 5594.382591453832, 8220.424032753881, 8416.0275772053, 2639.8772363262055, 9827.810554175423, 2500.8358765834364, 2045.6874813678278, 1992.2549100774932, 2797.1207901333805, 1116.4975884408161, 1884.264151880731, 2703.79766927247, 2615.512915233812, 662.0853272840286, 732.4689275885742, 1207.6595427805817, 575.2874913739493, 1379.2304207407763, 1059.466680690933, 816.8754101301932, 745.0056261303342, 874.1265705511099, 1047.4289329174599, 709.9133223584125, 532.3905585562168, 568.2154015293943, 3287.1705364717523, 411.68679917947355, 1468.177092424008, 1305.8147706791462, 1975.9767765524628, 871.3937830227271, 1189.4786086265071, 1219.1791672120867, 1170.9986441700255, 1048.234722173403, 1094.9961655280335, 958.9786608132755, 1112.2240372291417, 3292.88941778908, 2874.8757332787486, 2482.2744993156653, 2317.473977641047, 3910.8081671548503, 5111.300276510726, 3679.3906772406795, 2711.831633917028, 1809.2260256931684, 2318.1801774133646, 1995.7045203272767, 3638.2640714769836, 1776.7654956701872, 1213.9097537446078, 1481.265973974251, 1355.7574212512268, 2989.811712932278, 1798.1929401757448, 1497.8456323820926, 1221.413277610778, 1343.1019521951716, 2186.723843188914, 735.6985900561508, 496.1481537923638, 706.1018150867432, 631.8973974618057, 623.7344588018075, 1116.7950309418095, 596.240019979788, 2310.6948834256355, 1019.6524716441296, 1152.1412523866134, 953.9920803455287, 1193.8549963928895, 1383.8442933012657, 1119.468847303407, 1417.7220639984264, 1277.2096405343252, 1459.542010284087, 1279.0657598587816, 1217.411705828927, 1200.7648767486542, 4278.419062344695, 3195.9675442387143, 7259.817433156839, 4283.196051252693, 2140.405653634888, 2484.137300660425, 3944.192637011086, 4445.8712064722595, 2515.388726031147, 1506.769537274175, 2666.511319066929, 1838.6580300602268, 1729.5302951695578, 1289.6496267927175, 1888.4438668000407, 1295.0815590767318, 2876.564925310563, 1232.3995191613606, 1337.1268402219491, 810.1208533706822, 587.8439756980681, 1332.56612847969, 655.0053976957499, 959.1288752477999, 936.7064060703542, 747.8894256105173, 692.595674820691, 646.343059652957, 1985.055862970488, 1808.8742890396613, 1599.2343458657572, 1290.5327932794012, 1199.086168133461, 971.9314555526394, 1248.221089781013, 1135.3537185024081, 1264.9551361243248, 1045.0141074042228, 996.8213179831461, 3621.790335298128, 2413.9654208849056, 2244.8380930680855, 1615.0244731001783, 1807.1530790926083, 1381.4870851297976, 1365.2119164770493, 2297.0720226207313, 5422.099801990949, 1170.148139028845, 2764.5980864238404, 1868.6469314824828, 2241.082081800983, 1334.0288853757716, 2590.1923709447005, 2010.0310979147494, 1057.816708945514, 820.5862019526769, 758.1520264889826, 859.6081392299426, 770.1343193511495, 708.0302081484808, 2266.2092138643325, 2158.0139090534376, 848.2916159881061, 990.8283068081897, 876.2148724358121, 855.4198037925805, 324.6852037635694, 1527.202294783557, 532.6718672003374, 781.9116123013777, 1073.5712162294155, 1282.7060532069236, 1345.8929552208074, 1020.0494359419318, 999.9852495959783, 878.3977374231833, 4830.52288405938, 2364.9616667045925, 2177.7711574204786, 1534.8479495731444, 1353.7681144633038, 926.5493680906292, 1429.5374622492575, 5565.379151775505, 849.7373576372919, 2038.217422087648, 736.0593440193073, 1686.8503854388925, 1380.4033212618479, 1373.249776697775, 1155.4491883227129, 1021.268297142331, 750.3356382992732, 885.9723520325706, 385.6700308176166, 442.1174808723468, 1071.148161603375, 382.4980056632616, 292.1681733668781, 748.777512456451, 741.3735585198248, 1618.058433608198, 478.135664995869, 459.2475695652727, 615.5540658222668, 650.2468251395514, 952.9967938250602, 1194.4249761366182, 984.8559078037421, 837.6726839210545, 1055.4166160071377, 883.7620816645463, 1060.8054547856227, 852.4207158078794, 1004.0596374455326, 1040.5384979572589, 1045.6640485733951, 918.4925426003448], \"Total\": [13259.0, 9495.0, 8038.0, 10486.0, 5584.0, 15117.0, 10351.0, 6187.0, 4549.0, 6990.0, 4991.0, 12319.0, 4496.0, 7335.0, 6939.0, 3300.0, 3412.0, 3441.0, 6010.0, 3049.0, 5306.0, 6857.0, 3118.0, 6351.0, 3750.0, 3796.0, 5380.0, 2998.0, 9165.0, 6888.0, 3796.6475737276155, 6990.172900730517, 2920.562600714259, 3830.080748126318, 4205.530177392792, 2072.7814359725103, 12319.514543433803, 4719.86887698232, 2976.7360469427767, 5311.306186221994, 3893.3082320353187, 10051.845370557498, 3794.51641872329, 8510.497124878591, 4129.6718152747935, 3501.716682368988, 2556.68436629495, 3363.6381022989435, 7643.858268650959, 2307.2604033676475, 2053.1319663718223, 1800.4903231123592, 3385.003249208066, 8098.935234770368, 2302.376114222272, 4660.831012687269, 3326.736088378357, 3126.25637103355, 4930.136382023269, 2329.705100553698, 4176.591537620152, 6042.382197907848, 9675.548171104983, 9165.695784506666, 10351.531422565871, 9674.444347736247, 6559.005220948454, 8509.560453657556, 13845.588120087792, 8251.58680175087, 10751.352391413839, 3587.726047234114, 4114.743794717207, 2827.4976220134135, 6106.75530971826, 7279.517757893551, 2514.0076448979853, 2495.1223086754744, 4439.213182372972, 2370.4911254180784, 3993.288577749765, 4708.968747981541, 2834.6556503555826, 2785.797400021769, 2876.6793027935482, 3181.9820610155975, 5760.800005689313, 2798.828136766955, 2393.296089632985, 4786.6705467459915, 1910.139178350898, 1939.7039872271273, 1755.4964259437668, 3677.34322617955, 3121.975060227078, 2599.1157494710665, 8509.560453657556, 2074.608438006972, 5023.140393171721, 2119.1938536607145, 2083.7575535118326, 2383.7598273392077, 5119.8344609030455, 10069.566184894411, 6803.509080911899, 4697.333730029364, 7277.077142062195, 7163.742076057939, 4992.014733138012, 8427.017155114469, 9303.969649910874, 6499.059805458969, 10751.352391413839, 13845.588120087792, 8615.074412002172, 9674.444347736247, 15117.98576519191, 3663.3926721460125, 4181.349947487942, 4365.731615511611, 3417.911417690133, 5414.594534186261, 2896.6398902158357, 3027.9831612473117, 4322.777833372673, 3864.718197572111, 3073.4475373251303, 2773.8910249964715, 4460.93634833307, 2878.5991902035876, 3990.4467496664965, 8785.494334789166, 2808.6442731610077, 2680.2342460387413, 5005.25070232404, 2951.264425729704, 2185.3202541449946, 2176.4241654810476, 8987.037268345724, 2305.1189605002064, 3667.9910824380026, 5153.417038591668, 6559.005220948454, 2519.500079870665, 2551.390328395329, 3598.469082845981, 2446.2440546519965, 15117.98576519191, 10069.566184894411, 5119.8344609030455, 9026.489986688572, 5171.355122403014, 6499.059805458969, 9303.969649910874, 13845.588120087792, 8615.074412002172, 3049.6522608850537, 3412.3728625317476, 6187.714468592413, 9495.320027663467, 10486.451898966521, 3541.8983668945484, 13259.624678608503, 3976.7071650807547, 3961.033087532039, 3866.473491049279, 6660.641679700756, 2757.697528592618, 4697.333730029364, 6857.125477368416, 7673.662383109804, 2045.0976488289336, 2304.4697010585905, 3973.3976544210905, 1927.0876902285343, 4861.935086255466, 3927.1239779501157, 3036.928237466278, 2834.6556503555826, 3391.0926818464086, 4077.9738011039854, 2828.5101537464957, 2235.1135294094483, 2393.296089632985, 13845.588120087792, 1753.7731321259398, 6351.758995170209, 6042.382197907848, 9674.444347736247, 3867.070560880259, 6499.059805458969, 7064.647726242657, 7277.077142062195, 5760.800005689313, 8427.017155114469, 5762.745521854741, 10751.352391413839, 3300.6988733651574, 3118.6617690395574, 3191.7933768746375, 3117.7232760177562, 5306.3343798042115, 7335.599253039377, 5380.148307743289, 4212.048486246965, 2872.3530218685314, 3848.796966848772, 3771.5583685441024, 7180.693045532487, 3546.125796096264, 2491.4574481040327, 3253.7246659760626, 3046.222427307432, 6857.125477368416, 4415.109667395971, 3939.0984411952936, 3391.0926818464086, 3867.070560880259, 6888.58501996809, 2463.1119193880104, 1688.9867889965783, 2556.68436629495, 2302.376114222272, 2344.548660060454, 4212.509604040601, 2251.210355818687, 9026.489986688572, 4247.930180845833, 5153.417038591668, 4480.524686244378, 6615.9102331342165, 8785.494334789166, 6010.7998277507595, 9675.548171104983, 9038.90601221326, 13845.588120087792, 9303.969649910874, 9165.695784506666, 8098.935234770368, 4549.081699061972, 3441.140225568137, 8038.980248236686, 4991.762357831549, 2967.3750908742477, 3574.6038871842334, 6010.7998277507595, 6939.8644672867695, 4320.485377725594, 2724.4283900968876, 4895.629170835388, 3470.073794565375, 3525.6221600206886, 2915.3731604513337, 4480.524686244378, 3297.1203011152, 8826.963899933588, 4129.6718152747935, 4671.531621465803, 2947.1907663619054, 2187.0429594218726, 4982.247663608128, 2543.1572485654665, 4077.9738011039854, 4130.920135458593, 3306.6422523310653, 3121.975060227078, 2932.9916635604363, 9165.695784506666, 8987.037268345724, 9026.489986688572, 8251.58680175087, 7586.472017247932, 5645.490561058196, 10751.352391413839, 9038.90601221326, 13845.588120087792, 7163.742076057939, 7643.858268650959, 4496.765303170554, 2998.670984622878, 3084.657099028882, 2449.224874629862, 2826.6758463446495, 2221.7787466564832, 2290.3031434862464, 4017.0581720495315, 10351.531422565871, 2364.522598162549, 6351.758995170209, 4458.133580105755, 5645.490561058196, 3444.1693895543676, 7586.472017247932, 5975.221273773636, 3736.7809424925526, 2947.1907663619054, 2814.3183846025017, 3253.7246659760626, 2962.337794346752, 2761.539562215709, 9165.695784506666, 9675.548171104983, 3848.796966848772, 4671.531621465803, 4256.793127483581, 4250.418658911793, 1621.0949201082308, 7643.858268650959, 2737.686384868325, 4204.36913165124, 7064.647726242657, 10751.352391413839, 13845.588120087792, 6888.58501996809, 9038.90601221326, 5337.848433637871, 5584.3462983470245, 3750.051625662704, 3517.5274442754426, 2737.686384868325, 2717.886797346656, 2309.572660657115, 3736.7809424925526, 15117.98576519191, 2498.582935032237, 6888.58501996809, 2497.3417852157822, 5762.745521854741, 4762.478010492753, 4846.576021917671, 4247.930180845833, 3939.0984411952936, 3771.5583685441024, 4535.56817837783, 2020.9118425047575, 2420.3954546323957, 6115.056384502096, 2187.0429594218726, 1732.1296024243377, 4439.213182372972, 4415.109667395971, 9674.444347736247, 2945.016410162538, 2974.512788281274, 4017.0581720495315, 4324.937914538218, 6660.641679700756, 8826.963899933588, 7263.546437904467, 5975.221273773636, 8251.58680175087, 6615.9102331342165, 8615.074412002172, 6498.469390097546, 8427.017155114469, 9038.90601221326, 10751.352391413839, 10069.566184894411], \"Category\": [\"Default\", \"Default\", \"Default\", \"Default\", \"Default\", \"Default\", \"Default\", \"Default\", \"Default\", \"Default\", \"Default\", \"Default\", \"Default\", \"Default\", \"Default\", \"Default\", \"Default\", \"Default\", \"Default\", \"Default\", \"Default\", \"Default\", \"Default\", \"Default\", \"Default\", \"Default\", \"Default\", \"Default\", \"Default\", \"Default\", \"Topic1\", \"Topic1\", \"Topic1\", \"Topic1\", \"Topic1\", \"Topic1\", \"Topic1\", \"Topic1\", \"Topic1\", \"Topic1\", \"Topic1\", \"Topic1\", \"Topic1\", \"Topic1\", \"Topic1\", \"Topic1\", \"Topic1\", \"Topic1\", \"Topic1\", \"Topic1\", \"Topic1\", \"Topic1\", \"Topic1\", \"Topic1\", \"Topic1\", \"Topic1\", \"Topic1\", \"Topic1\", \"Topic1\", \"Topic1\", \"Topic1\", \"Topic1\", \"Topic1\", \"Topic1\", \"Topic1\", \"Topic1\", \"Topic1\", \"Topic1\", \"Topic1\", \"Topic1\", \"Topic1\", \"Topic2\", \"Topic2\", \"Topic2\", \"Topic2\", \"Topic2\", \"Topic2\", \"Topic2\", \"Topic2\", \"Topic2\", \"Topic2\", \"Topic2\", \"Topic2\", \"Topic2\", \"Topic2\", \"Topic2\", \"Topic2\", \"Topic2\", \"Topic2\", \"Topic2\", \"Topic2\", \"Topic2\", \"Topic2\", \"Topic2\", \"Topic2\", \"Topic2\", \"Topic2\", \"Topic2\", \"Topic2\", \"Topic2\", \"Topic2\", \"Topic2\", \"Topic2\", \"Topic2\", \"Topic2\", \"Topic2\", \"Topic2\", \"Topic2\", \"Topic2\", \"Topic2\", \"Topic2\", \"Topic2\", \"Topic2\", \"Topic2\", \"Topic2\", \"Topic2\", \"Topic2\", \"Topic3\", \"Topic3\", \"Topic3\", \"Topic3\", \"Topic3\", \"Topic3\", \"Topic3\", \"Topic3\", \"Topic3\", \"Topic3\", \"Topic3\", \"Topic3\", \"Topic3\", \"Topic3\", \"Topic3\", \"Topic3\", \"Topic3\", \"Topic3\", \"Topic3\", \"Topic3\", \"Topic3\", \"Topic3\", \"Topic3\", \"Topic3\", \"Topic3\", \"Topic3\", \"Topic3\", \"Topic3\", \"Topic3\", \"Topic3\", \"Topic3\", \"Topic3\", \"Topic3\", \"Topic3\", \"Topic3\", \"Topic3\", \"Topic3\", \"Topic3\", \"Topic3\", \"Topic4\", \"Topic4\", \"Topic4\", \"Topic4\", \"Topic4\", \"Topic4\", \"Topic4\", \"Topic4\", \"Topic4\", \"Topic4\", \"Topic4\", \"Topic4\", \"Topic4\", \"Topic4\", \"Topic4\", \"Topic4\", \"Topic4\", \"Topic4\", \"Topic4\", \"Topic4\", \"Topic4\", \"Topic4\", \"Topic4\", \"Topic4\", \"Topic4\", \"Topic4\", \"Topic4\", \"Topic4\", \"Topic4\", \"Topic4\", \"Topic4\", \"Topic4\", \"Topic4\", \"Topic4\", \"Topic4\", \"Topic4\", \"Topic4\", \"Topic4\", \"Topic4\", \"Topic4\", \"Topic4\", \"Topic5\", \"Topic5\", \"Topic5\", \"Topic5\", \"Topic5\", \"Topic5\", \"Topic5\", \"Topic5\", \"Topic5\", \"Topic5\", \"Topic5\", \"Topic5\", \"Topic5\", \"Topic5\", \"Topic5\", \"Topic5\", \"Topic5\", \"Topic5\", \"Topic5\", \"Topic5\", \"Topic5\", \"Topic5\", \"Topic5\", \"Topic5\", \"Topic5\", \"Topic5\", \"Topic5\", \"Topic5\", \"Topic5\", \"Topic5\", \"Topic5\", \"Topic5\", \"Topic5\", \"Topic5\", \"Topic5\", \"Topic5\", \"Topic5\", \"Topic5\", \"Topic5\", \"Topic5\", \"Topic5\", \"Topic5\", \"Topic6\", \"Topic6\", \"Topic6\", \"Topic6\", \"Topic6\", \"Topic6\", \"Topic6\", \"Topic6\", \"Topic6\", \"Topic6\", \"Topic6\", \"Topic6\", \"Topic6\", \"Topic6\", \"Topic6\", \"Topic6\", \"Topic6\", \"Topic6\", \"Topic6\", \"Topic6\", \"Topic6\", \"Topic6\", \"Topic6\", \"Topic6\", \"Topic6\", \"Topic6\", \"Topic6\", \"Topic6\", \"Topic6\", \"Topic6\", \"Topic6\", \"Topic6\", \"Topic6\", \"Topic6\", \"Topic6\", \"Topic6\", \"Topic6\", \"Topic6\", \"Topic6\", \"Topic7\", \"Topic7\", \"Topic7\", \"Topic7\", \"Topic7\", \"Topic7\", \"Topic7\", \"Topic7\", \"Topic7\", \"Topic7\", \"Topic7\", \"Topic7\", \"Topic7\", \"Topic7\", \"Topic7\", \"Topic7\", \"Topic7\", \"Topic7\", \"Topic7\", \"Topic7\", \"Topic7\", \"Topic7\", \"Topic7\", \"Topic7\", \"Topic7\", \"Topic7\", \"Topic7\", \"Topic7\", \"Topic7\", \"Topic7\", \"Topic7\", \"Topic7\", \"Topic7\", \"Topic7\", \"Topic7\", \"Topic7\", \"Topic7\", \"Topic7\", \"Topic8\", \"Topic8\", \"Topic8\", \"Topic8\", \"Topic8\", \"Topic8\", \"Topic8\", \"Topic8\", \"Topic8\", \"Topic8\", \"Topic8\", \"Topic8\", \"Topic8\", \"Topic8\", \"Topic8\", \"Topic8\", \"Topic8\", \"Topic8\", \"Topic8\", \"Topic8\", \"Topic8\", \"Topic8\", \"Topic8\", \"Topic8\", \"Topic8\", \"Topic8\", \"Topic8\", \"Topic8\", \"Topic8\", \"Topic8\", \"Topic8\", \"Topic8\", \"Topic8\", \"Topic8\", \"Topic8\", \"Topic8\", \"Topic8\", \"Topic8\", \"Topic8\", \"Topic8\", \"Topic8\", \"Topic8\"], \"logprob\": [30.0, 29.0, 28.0, 27.0, 26.0, 25.0, 24.0, 23.0, 22.0, 21.0, 20.0, 19.0, 18.0, 17.0, 16.0, 15.0, 14.0, 13.0, 12.0, 11.0, 10.0, 9.0, 8.0, 7.0, 6.0, 5.0, 4.0, 3.0, 2.0, 1.0, -4.1396, -3.5481, -4.4284, -4.2831, -4.2528, -4.9907, -3.2093, -4.1804, -4.6958, -4.1933, -4.5059, -3.5657, -4.5707, -3.789, -4.5651, -4.7399, -5.1058, -4.8498, -4.0517, -5.2528, -5.3967, -5.5642, -4.9454, -4.1478, -5.4132, -4.7222, -5.0947, -5.1739, -4.7341, -5.5631, -4.981, -4.6298, -4.2362, -4.3168, -4.2658, -4.4479, -4.7556, -4.6864, -4.6454, -4.8316, -4.9445, -4.2923, -4.1909, -4.7329, -4.0064, -3.8616, -4.9291, -4.9723, -4.4865, -5.1211, -4.6186, -4.4774, -4.9936, -5.0206, -5.045, -4.9764, -4.3893, -5.1184, -5.3096, -4.6351, -5.5732, -5.559, -5.6807, -4.9423, -5.1289, -5.3287, -4.1513, -5.5769, -4.7665, -5.6481, -5.6722, -5.5496, -4.8566, -4.2795, -4.6558, -4.977, -4.6693, -4.7011, -4.9401, -4.7292, -4.7168, -4.8552, -4.7034, -4.6827, -4.9414, -4.9524, -4.9664, -4.2491, -4.1907, -4.1507, -4.4762, -4.0302, -4.6607, -4.6705, -4.3422, -4.513, -4.7539, -4.8646, -4.422, -4.8663, -4.5714, -3.8172, -4.9917, -5.0402, -4.4168, -4.9766, -5.2964, -5.3421, -3.9438, -5.3067, -4.8519, -4.5183, -4.3041, -5.2611, -5.4274, -5.1227, -5.5425, -3.7317, -4.2001, -4.8623, -4.5278, -4.8854, -4.7867, -4.7265, -4.7622, -4.8844, -3.9995, -3.9011, -3.3903, -3.0055, -2.982, -4.1414, -2.8269, -4.1955, -4.3964, -4.4228, -4.0835, -5.0019, -4.4786, -4.1174, -4.1506, -5.5245, -5.4234, -4.9234, -5.665, -4.7906, -5.0543, -5.3144, -5.4065, -5.2466, -5.0658, -5.4547, -5.7425, -5.6774, -3.9221, -5.9996, -4.7281, -4.8453, -4.431, -5.2498, -4.9386, -4.9139, -4.9542, -5.065, -5.0214, -5.154, -5.0057, -3.8986, -4.0343, -4.1811, -4.2498, -3.7266, -3.4589, -3.7876, -4.0927, -4.4974, -4.2495, -4.3993, -3.7988, -4.5155, -4.8965, -4.6974, -4.786, -3.9951, -4.5035, -4.6863, -4.8903, -4.7953, -4.3079, -5.3973, -5.7912, -5.4383, -5.5493, -5.5623, -4.9799, -5.6074, -4.2528, -5.0709, -4.9487, -5.1374, -4.9131, -4.7655, -4.9775, -4.7413, -4.8456, -4.7122, -4.8442, -4.8936, -4.9074, -3.5514, -3.8431, -3.0226, -3.5502, -4.244, -4.095, -3.6327, -3.513, -4.0825, -4.595, -4.0242, -4.3959, -4.4571, -4.7506, -4.3692, -4.7464, -3.9484, -4.796, -4.7144, -5.2155, -5.5362, -4.7178, -5.4281, -5.0467, -5.0703, -5.2954, -5.3723, -5.4414, -4.3193, -4.4122, -4.5354, -4.7499, -4.8234, -5.0334, -4.7832, -4.878, -4.7699, -4.9609, -5.0081, -3.5719, -3.9776, -4.0502, -4.3795, -4.2671, -4.5357, -4.5475, -4.0272, -3.1684, -4.7017, -3.8419, -4.2336, -4.0519, -4.5706, -3.9071, -4.1607, -4.8026, -5.0566, -5.1357, -5.0101, -5.12, -5.2041, -4.0407, -4.0896, -5.0234, -4.8681, -4.991, -5.015, -5.9837, -4.4354, -5.4887, -5.1048, -4.7878, -4.6099, -4.5618, -4.839, -4.8589, -4.9885, -3.1393, -3.8534, -3.9359, -4.2858, -4.4113, -4.7905, -4.3569, -2.9976, -4.877, -4.0021, -5.0206, -4.1913, -4.3918, -4.397, -4.5697, -4.6932, -5.0014, -4.8353, -5.667, -5.5304, -4.6455, -5.6752, -5.9446, -5.0035, -5.0135, -4.233, -5.4521, -5.4924, -5.1994, -5.1446, -4.7623, -4.5365, -4.7295, -4.8913, -4.6603, -4.8378, -4.6552, -4.8739, -4.7102, -4.6745, -4.6696, -4.7992], \"loglift\": [30.0, 29.0, 28.0, 27.0, 26.0, 25.0, 24.0, 23.0, 22.0, 21.0, 20.0, 19.0, 18.0, 17.0, 16.0, 15.0, 14.0, 13.0, 12.0, 11.0, 10.0, 9.0, 8.0, 7.0, 6.0, 5.0, 4.0, 3.0, 2.0, 1.0, 1.7442, 1.7252, 1.7176, 1.5919, 1.5286, 1.4982, 1.4974, 1.4857, 1.4312, 1.3547, 1.3526, 1.3444, 1.3135, 1.2876, 1.2346, 1.2247, 1.1734, 1.155, 1.1323, 1.129, 1.1018, 1.0656, 1.0531, 0.9784, 0.9708, 0.9564, 0.9212, 0.9041, 0.8884, 0.809, 0.8073, 0.7892, 0.712, 0.6856, 0.6149, 0.5004, 0.5815, 0.3902, -0.0555, 0.2758, -0.1017, 1.648, 1.6124, 1.4456, 1.4021, 1.3711, 1.3669, 1.3312, 1.2409, 1.2336, 1.2146, 1.191, 1.1824, 1.1727, 1.1162, 1.0839, 1.0774, 1.0703, 1.0356, 1.0169, 0.9975, 0.9964, 0.9744, 0.9733, 0.9505, 0.934, 0.9253, 0.9111, 0.8373, 0.8187, 0.8115, 0.7995, 0.7281, 0.6288, 0.6446, 0.6938, 0.5638, 0.5477, 0.6699, 0.3572, 0.2707, 0.491, 0.1395, -0.0928, 0.1229, -0.004, -0.4644, 1.6704, 1.5965, 1.5934, 1.5126, 1.4985, 1.4936, 1.4395, 1.4118, 1.3529, 1.3412, 1.333, 1.3005, 1.2942, 1.2626, 1.2275, 1.1934, 1.1918, 1.1905, 1.159, 1.1397, 1.0981, 1.0782, 1.076, 1.0663, 1.0599, 1.0329, 1.0327, 0.8538, 0.8147, 0.7808, 0.7703, 0.7083, 0.7224, 0.4899, 0.6894, 0.5595, 0.2609, -0.1723, 0.1799, 2.1033, 2.0893, 2.0049, 1.9616, 1.8858, 1.8118, 1.8062, 1.6419, 1.445, 1.4427, 1.2381, 1.2016, 1.1923, 1.1751, 1.0294, 0.9779, 0.9596, 0.9148, 0.8969, 0.8458, 0.7956, 0.7926, 0.7695, 0.7501, 0.7465, 0.7234, 0.6711, 0.6678, 0.6678, 0.6565, 0.641, 0.5738, 0.5173, 0.6156, 0.4076, 0.3488, 0.2789, 0.4018, 0.0651, 0.3125, -0.1629, 2.1252, 2.0461, 1.8761, 1.8309, 1.8224, 1.7663, 1.7476, 1.6872, 1.6653, 1.6206, 1.491, 1.4476, 1.4365, 1.4085, 1.3406, 1.318, 1.2975, 1.2293, 1.1606, 1.1064, 1.07, 0.9801, 0.9192, 0.9025, 0.8408, 0.8346, 0.8034, 0.7999, 0.799, 0.7649, 0.7006, 0.6295, 0.5807, 0.4152, 0.2793, 0.4468, 0.207, 0.1707, -0.1223, 0.1432, 0.1088, 0.2188, 2.1516, 2.139, 2.111, 2.0598, 1.8862, 1.849, 1.7916, 1.7676, 1.672, 1.6206, 1.6053, 1.5778, 1.5007, 1.3973, 1.3489, 1.2784, 1.0917, 1.0037, 0.9619, 0.9215, 0.8991, 0.8941, 0.8564, 0.7656, 0.729, 0.7265, 0.7071, 0.7005, 0.6831, 0.6098, 0.4823, 0.3576, 0.3681, 0.4536, 0.0596, 0.1383, -0.18, 0.2879, 0.1758, 2.1426, 2.1421, 2.0412, 1.9426, 1.9117, 1.8839, 1.8416, 1.8001, 1.7124, 1.6556, 1.5272, 1.4895, 1.4351, 1.4105, 1.2844, 1.2695, 1.097, 1.0804, 1.0474, 1.0279, 1.0118, 0.998, 0.9617, 0.8586, 0.8467, 0.8083, 0.7784, 0.7558, 0.751, 0.7486, 0.7221, 0.6769, 0.4749, 0.233, 0.0281, 0.449, 0.1575, 0.5545, 2.3586, 2.0426, 2.0242, 1.925, 1.8067, 1.5903, 1.5428, 1.5043, 1.4251, 1.2859, 1.282, 1.2751, 1.2653, 1.2426, 1.2017, 1.1537, 0.8889, 0.8706, 0.8473, 0.8035, 0.7616, 0.7601, 0.7239, 0.7239, 0.7194, 0.7154, 0.6857, 0.6354, 0.6279, 0.6088, 0.5593, 0.5035, 0.5055, 0.5389, 0.4472, 0.4906, 0.4092, 0.4724, 0.3763, 0.3419, 0.1733, 0.1091]}, \"token.table\": {\"Topic\": [1, 2, 3, 4, 5, 6, 7, 8, 1, 2, 3, 4, 5, 6, 7, 8, 1, 2, 3, 4, 5, 6, 7, 8, 1, 2, 3, 4, 5, 6, 7, 8, 1, 2, 3, 4, 5, 6, 7, 8, 1, 2, 3, 4, 5, 6, 7, 8, 1, 2, 3, 4, 5, 6, 7, 8, 1, 2, 3, 4, 5, 6, 7, 8, 1, 2, 3, 4, 5, 6, 7, 8, 1, 2, 3, 4, 5, 6, 7, 8, 1, 2, 3, 4, 5, 6, 7, 8, 1, 2, 3, 4, 5, 6, 7, 8, 1, 2, 3, 4, 5, 6, 7, 8, 1, 2, 3, 4, 5, 6, 7, 8, 1, 2, 3, 4, 5, 6, 7, 8, 1, 2, 3, 4, 5, 6, 7, 8, 1, 2, 3, 4, 5, 6, 7, 8, 1, 2, 3, 4, 5, 6, 7, 8, 1, 2, 3, 4, 5, 6, 7, 8, 1, 2, 3, 4, 5, 6, 7, 8, 1, 2, 3, 4, 5, 6, 7, 8, 1, 2, 3, 4, 5, 6, 7, 8, 1, 2, 3, 4, 5, 6, 7, 8, 1, 2, 3, 4, 5, 6, 7, 8, 1, 2, 3, 4, 5, 6, 7, 8, 1, 2, 3, 4, 5, 6, 7, 8, 1, 2, 3, 4, 5, 6, 7, 8, 1, 2, 3, 4, 5, 6, 7, 8, 1, 2, 3, 4, 5, 6, 7, 8, 1, 2, 3, 4, 5, 6, 7, 8, 1, 2, 3, 4, 5, 6, 7, 8, 1, 2, 3, 4, 5, 6, 7, 8, 1, 2, 3, 4, 5, 6, 7, 8, 1, 2, 3, 4, 5, 6, 7, 8, 1, 2, 3, 4, 5, 6, 7, 8, 1, 2, 3, 4, 5, 6, 7, 8, 1, 2, 3, 4, 5, 6, 7, 8, 1, 2, 3, 4, 5, 6, 7, 8, 1, 2, 3, 4, 5, 6, 7, 8, 1, 2, 3, 4, 5, 6, 7, 8, 1, 2, 3, 4, 5, 6, 7, 8, 1, 2, 3, 4, 5, 6, 7, 8, 1, 2, 3, 4, 5, 6, 7, 8, 1, 2, 3, 4, 5, 6, 7, 8, 1, 2, 3, 4, 5, 6, 7, 8, 1, 2, 3, 4, 5, 6, 7, 8, 1, 2, 3, 4, 5, 6, 7, 8, 1, 2, 3, 4, 5, 6, 7, 8, 1, 2, 3, 4, 5, 6, 7, 8, 1, 2, 3, 4, 5, 6, 7, 8, 1, 2, 3, 4, 5, 6, 7, 8, 1, 2, 3, 4, 5, 6, 7, 8, 1, 2, 3, 4, 5, 6, 7, 8, 1, 2, 3, 4, 5, 6, 7, 8, 1, 2, 3, 4, 5, 6, 7, 8, 1, 2, 3, 4, 5, 6, 7, 8, 1, 2, 3, 4, 5, 6, 7, 8, 1, 2, 3, 4, 5, 6, 7, 8, 1, 2, 3, 4, 5, 6, 7, 8, 1, 2, 3, 4, 5, 6, 7, 8, 1, 2, 3, 4, 5, 6, 7, 8, 1, 2, 3, 4, 5, 6, 7, 8, 1, 2, 3, 4, 5, 6, 7, 8, 1, 2, 3, 4, 5, 6, 7, 8, 1, 2, 3, 4, 5, 6, 7, 8, 1, 2, 3, 4, 5, 6, 7, 8, 1, 2, 3, 4, 5, 6, 7, 8, 1, 2, 3, 4, 5, 6, 7, 8, 1, 2, 3, 4, 5, 6, 7, 8, 1, 2, 3, 4, 5, 6, 7, 8, 1, 2, 3, 4, 5, 6, 7, 8, 1, 2, 3, 4, 5, 6, 7, 8, 1, 2, 3, 4, 5, 6, 7, 8, 1, 2, 3, 4, 5, 6, 7, 8, 1, 2, 3, 4, 5, 6, 7, 8, 1, 2, 3, 4, 5, 6, 7, 8, 1, 2, 3, 4, 5, 6, 7, 8, 1, 2, 3, 4, 5, 6, 7, 8, 1, 2, 3, 4, 5, 6, 7, 8, 1, 2, 3, 4, 5, 6, 7, 8, 1, 2, 3, 4, 5, 6, 7, 8, 1, 2, 3, 4, 5, 6, 7, 8, 1, 2, 3, 4, 5, 6, 7, 8, 1, 2, 3, 4, 5, 6, 7, 8, 1, 2, 3, 4, 5, 6, 7, 8, 1, 2, 3, 4, 5, 6, 7, 8, 1, 2, 3, 4, 5, 6, 7, 8, 1, 2, 3, 4, 5, 6, 7, 8, 1, 2, 3, 4, 5, 6, 7, 8, 1, 2, 3, 4, 5, 6, 7, 8, 1, 2, 3, 4, 5, 6, 7, 8, 1, 2, 3, 4, 5, 6, 7, 8, 1, 2, 3, 4, 5, 6, 7, 8, 1, 2, 3, 4, 5, 6, 7, 8, 1, 2, 3, 4, 5, 6, 7, 8, 1, 2, 3, 4, 5, 6, 7, 8, 1, 2, 3, 4, 5, 6, 7, 8, 1, 2, 3, 4, 5, 6, 7, 8, 1, 2, 3, 4, 5, 6, 7, 8, 1, 2, 3, 4, 5, 6, 7, 8, 1, 2, 3, 4, 5, 6, 7, 8, 1, 2, 3, 4, 5, 6, 7, 8, 1, 2, 3, 4, 5, 6, 7, 8, 1, 2, 3, 4, 5, 6, 7, 8, 1, 2, 3, 4, 5, 6, 7, 8, 1, 2, 3, 4, 5, 6, 7, 8, 1, 2, 3, 4, 5, 6, 7, 8, 1, 2, 3, 4, 5, 6, 7, 8, 1, 2, 3, 4, 5, 6, 7, 8, 1, 2, 3, 4, 5, 6, 7, 8, 1, 2, 3, 4, 5, 6, 7, 8, 1, 2, 3, 4, 5, 6, 7, 8, 1, 2, 3, 4, 5, 6, 7, 8, 1, 2, 3, 4, 5, 6, 7, 8, 1, 2, 3, 4, 5, 6, 7, 8, 1, 2, 3, 4, 5, 6, 7, 8, 1, 2, 3, 4, 5, 6, 7, 8, 1, 2, 3, 4, 5, 6, 7, 8, 1, 2, 3, 4, 5, 6, 7, 8, 1, 2, 3, 4, 5, 6, 7, 8, 1, 2, 3, 4, 5, 6, 7, 8, 1, 2, 3, 4, 5, 6, 7, 8, 1, 2, 3, 4, 5, 6, 7, 8, 1, 2, 3, 4, 5, 6, 7, 8, 1, 2, 3, 4, 5, 6, 7, 8, 1, 2, 3, 4, 5, 6, 7, 8, 1, 2, 3, 4, 5, 6, 7, 8, 1, 2, 3, 4, 5, 6, 7, 8, 1, 2, 3, 4, 5, 6, 7, 8, 1, 2, 3, 4, 5, 6, 7, 8, 1, 2, 3, 4, 5, 6, 7, 8, 1, 2, 3, 4, 5, 6, 7, 8, 1, 2, 3, 4, 5, 6, 7, 8, 1, 2, 3, 4, 5, 6, 7, 8, 1, 2, 3, 4, 5, 6, 7, 8, 1, 2, 3, 4, 5, 6, 7, 8, 1, 2, 3, 4, 5, 6, 7, 8, 1, 2, 3, 4, 5, 6, 7, 8, 1, 2, 3, 4, 5, 6, 7, 8, 1, 2, 3, 4, 5, 6, 7, 8, 1, 2, 3, 4, 5, 6, 7, 8, 1, 2, 3, 4, 5, 6, 7, 8, 1, 2, 3, 4, 5, 6, 7, 8, 1, 2, 3, 4, 5, 6, 7, 8, 1, 2, 3, 4, 5, 6, 7, 8, 1, 2, 3, 4, 5, 6, 7, 8, 1, 2, 3, 4, 5, 6, 7, 8, 1, 2, 3, 4, 5, 6, 7, 8, 1, 2, 3, 4, 5, 6, 7, 8, 1, 2, 3, 4, 5, 6, 7, 8, 1, 2, 3, 4, 5, 6, 7, 8, 1, 2, 3, 4, 5, 6, 7, 8, 1, 2, 3, 4, 5, 6, 7, 8, 1, 2, 3, 4, 5, 6, 7, 8, 1, 2, 3, 4, 5, 6, 7, 8, 1, 2, 3, 4, 5, 6, 7, 8, 1, 2, 3, 4, 5, 6, 7, 8, 1, 2, 3, 4, 5, 6, 7, 8, 1, 2, 3, 4, 5, 6, 7, 8, 1, 2, 3, 4, 5, 6, 7, 8, 1, 2, 3, 4, 5, 6, 7, 8, 1, 2, 3, 4, 5, 6, 7, 8, 1, 2, 3, 4, 5, 6, 7, 8, 1, 2, 3, 4, 5, 6, 7, 8, 1, 2, 3, 4, 5, 6, 7, 8, 1, 2, 3, 4, 5, 6, 7, 8, 1, 2, 3, 4, 5, 6, 7, 8, 1, 2, 3, 4, 5, 6, 7, 8, 1, 2, 3, 4, 5, 6, 7, 8, 1, 2, 3, 4, 5, 6, 7, 8, 1, 2, 3, 4, 5, 6, 7, 8, 1, 2, 3, 4, 5, 6, 7, 8, 1, 2, 3, 4, 5, 6, 7, 8, 1, 2, 3, 4, 5, 6, 7, 8, 1, 2, 3, 4, 5, 6, 7, 8, 1, 2, 3, 4, 5, 6, 7, 8, 1, 2, 3, 4, 5, 6, 7, 8, 1, 2, 3, 4, 5, 6, 7, 8, 1, 2, 3, 4, 5, 6, 7, 8, 1, 2, 3, 4, 5, 6, 7, 8, 1, 2, 3, 4, 5, 6, 7, 8, 1, 2, 3, 4, 5, 6, 7, 8, 1, 2, 3, 4, 5, 6, 7, 8, 1, 2, 3, 4, 5, 6, 7, 8, 1, 2, 3, 4, 5, 6, 7, 8, 1, 2, 3, 4, 5, 6, 7, 8, 1, 2, 3, 4, 5, 6, 7, 8, 1, 2, 3, 4, 5, 6, 7, 8, 1, 2, 3, 4, 5, 6, 7, 8, 1, 2, 3, 4, 5, 6, 7, 8, 1, 2, 3, 4, 5, 6, 7, 8, 1, 2, 3, 4, 5, 6, 7, 8, 1, 2, 3, 4, 5, 6, 7, 8, 1, 2, 3, 4, 5, 6, 7, 8, 1, 2, 3, 4, 5, 6, 7, 8, 1, 2, 3, 4, 5, 6, 7, 8, 1, 2, 3, 4, 5, 6, 7, 8, 1, 2, 3, 4, 5, 6, 7, 8, 1, 2, 3, 4, 5, 6, 7, 8, 1, 2, 3, 4, 5, 6, 7, 8, 1, 2, 3, 4, 5, 6, 7, 8, 1, 2, 3, 4, 5, 6, 7, 8, 1, 2, 3, 4, 5, 6, 7, 8, 1, 2, 3, 4, 5, 6, 7, 8, 1, 2, 3, 4, 5, 6, 7, 8, 1, 2, 3, 4, 5, 6, 7, 8, 1, 2, 3, 4, 5, 6, 7, 8, 1, 2, 3, 4, 5, 6, 7, 8, 1, 2, 3, 4, 5, 6, 7, 8, 1, 2, 3, 4, 5, 6, 7, 8, 1, 2, 3, 4, 5, 6, 7, 8, 1, 2, 3, 4, 5, 6, 7, 8, 1, 2, 3, 4, 5, 6, 7, 8, 1, 2, 3, 4, 5, 6, 7, 8, 1, 2, 3, 4, 5, 6, 7, 8, 1, 2, 3, 4, 5, 6, 7, 8, 1, 2, 3, 4, 5, 6, 7, 8, 1, 2, 3, 4, 5, 6, 7, 8, 1, 2, 3, 4, 5, 6, 7, 8, 1, 2, 3, 4, 5, 6, 7, 8, 1, 2, 3, 4, 5, 6, 7, 8, 1, 2, 3, 4, 5, 6, 7, 8, 1, 2, 3, 4, 5, 6, 7, 8, 1, 2, 3, 4, 5, 6, 7, 8, 1, 2, 3, 4, 5, 6, 7, 8, 1, 2, 3, 4, 5, 6, 7, 8, 1, 2, 3, 4, 5, 6, 7, 8, 1, 2, 3, 4, 5, 6, 7, 8, 1, 2, 3, 4, 5, 6, 7, 8, 1, 2, 3, 4, 5, 6, 7, 8, 1, 2, 3, 4, 5, 6, 7, 8, 1, 2, 3, 4, 5, 6, 7, 8, 1, 2, 3, 4, 5, 6, 7, 8, 1, 2, 3, 4, 5, 6, 7, 8, 1, 2, 3, 4, 5, 6, 7, 8, 1, 2, 3, 4, 5, 6, 7, 8, 1, 2, 3, 4, 5, 6, 7, 8, 1, 2, 3, 4, 5, 6, 7, 8, 1, 2, 3, 4, 5, 6, 7, 8], \"Freq\": [0.11121546933266377, 0.16300812033165896, 0.21202616502713653, 0.06104133867738718, 0.13526205729648297, 0.09456783151155818, 0.07237098108341739, 0.15029117477386997, 0.19453314966552404, 0.10964244121307369, 0.31171713445410015, 0.041768549033551886, 0.09339911658891463, 0.13381405523711992, 0.028232445180085993, 0.08701781048656643, 0.06044247820481672, 0.040294985469877816, 0.5152534716101969, 0.06715830911646302, 0.05895007133556199, 0.12349666843082922, 0.10931880317290926, 0.024997815060016793, 0.12655571934844403, 0.1741732636505749, 0.10134643118849242, 0.26966299152917955, 0.07359075028511132, 0.08173920706408559, 0.12248149095895691, 0.05041857631990326, 0.11727024945387318, 0.07729175532187096, 0.17190752476760954, 0.11549342749245085, 0.2647464722519258, 0.0697402619858261, 0.0741823168893819, 0.10927455062747274, 0.06325992483723662, 0.2945509216126277, 0.31768995220458396, 0.08868306574513705, 0.08272451709484789, 0.05044904523911492, 0.011420551579720897, 0.0911657943494242, 0.11741773572832914, 0.00022238207524304763, 0.003113349053402667, 0.0024462028276735237, 0.017568183944200764, 0.03847209901704724, 0.8054678765303185, 0.015344363191770285, 0.10118896041356315, 0.24856160019536794, 0.11883216376772288, 0.29837770378358364, 0.06953497792521776, 0.05448636329961093, 0.07264848439948124, 0.03632424219974062, 0.027668778109498395, 0.011575713290708512, 0.05082020469091542, 0.7453630021334262, 0.16093064818789884, 0.0014116723525254284, 0.00028233447050508565, 0.0019763412935356, 0.5170759509574474, 0.021903368573084003, 0.02346789489973286, 0.025032421226381718, 0.2761388966535233, 0.07470613209748295, 0.04028655291120808, 0.02151223699142179, 0.07765977705998564, 0.2460907221121623, 0.1845680415841217, 0.18591279962845048, 0.06085030150587619, 0.05412651128423242, 0.03597227768579422, 0.1543109855867247, 0.10200618412446959, 0.2992573355582422, 0.10626869037750937, 0.10332903089265434, 0.08774883562292268, 0.11391180503813246, 0.09054151213353497, 0.09700876300021603, 0.35927293965277896, 0.05708877057804015, 0.11246058564997383, 0.060522681590253084, 0.19186977780739808, 0.035197587875182644, 0.07683375889826456, 0.10730971913165441, 0.2001260779377001, 0.0032908707574544724, 0.23797109164842653, 0.28363192340810733, 0.05409368807565789, 0.07157643897463478, 0.14191880141522412, 0.007404459204272563, 0.00032074687567438387, 0.06607385638892307, 0.08531866892938611, 0.06318713450785363, 0.7431705109375474, 0.00416970938376699, 0.00032074687567438387, 0.036885890702554144, 0.038437290559123816, 0.5168859956956209, 0.2427283044700471, 0.05075421239574913, 0.027394533050425263, 0.04544519436272098, 0.030579943870242154, 0.04778116229725336, 0.010581461679367328, 0.01378796521856955, 0.02308682548225599, 0.0009619510617606663, 0.9218697675206385, 0.005451056016643776, 0.0003206503539202221, 0.023728126190096434, 0.41602023216929324, 0.05192207126610055, 0.15190424155536855, 0.08346151125005419, 0.1064187906941565, 0.0860361594120096, 0.06179155588692958, 0.042267140658767806, 0.2192725175544505, 0.13763350082548664, 0.08893241591800675, 0.0844622680279482, 0.08258010049529198, 0.13010483069486173, 0.2011566550526343, 0.055759213154940736, 0.11744415698214584, 0.15477839993528617, 0.2037512530398103, 0.0367296398283931, 0.18047403273704266, 0.1315011796325185, 0.041566464826370796, 0.13361729056913374, 0.009003988813196057, 0.0003334810671554095, 0.022676712566567846, 0.008670507746040647, 0.05135608434193306, 0.04435298193166946, 0.8050232961131586, 0.058359186752196666, 0.7147197212160434, 0.05479112002507999, 0.028653726472375164, 0.037176789587387606, 0.06412590343676028, 0.04034249874439223, 0.029790134887710158, 0.03043951112504444, 0.00657937326148691, 0.04981525469411517, 0.0704932849445026, 0.0463689163190506, 0.7776192588100242, 0.020364726761745194, 0.0003133034886422338, 0.02819731397780104, 0.045859526885127413, 0.1340702015494162, 0.5530709062047879, 0.07392655973285567, 0.12554985229207014, 0.04936790599109345, 0.0002505985075690023, 0.01804309254496816, 0.12346209691800315, 0.08857915524910702, 0.36764268860027605, 0.05722370206358241, 0.19910712772808126, 0.04585735028382974, 0.04037014597636293, 0.07760474663417341, 0.6688533912991157, 0.055093900639404815, 0.020492243530510327, 0.06483611477686053, 0.03896885654982291, 0.061140792172998025, 0.06483611477686053, 0.02620319664557058, 0.010551580115586334, 0.00021982458574138194, 0.00021982458574138194, 0.00021982458574138194, 0.030995266589534855, 0.9404095778016319, 0.006374912986500076, 0.010771404701327715, 0.022439274868845078, 0.062228504533188934, 0.6419483274334546, 0.02914792405643794, 0.01526796022003892, 0.04881120615800322, 0.11242770707483205, 0.06778049006774854, 0.1019757386664921, 0.1913672372422256, 0.03211150919710815, 0.31764357746328603, 0.11152240356292965, 0.12540846159411156, 0.09720240621827332, 0.022130904987196158, 0.1380172600556136, 0.34944795631102166, 0.0818035431940567, 0.18584086992290827, 0.05411619011299135, 0.06670135060438469, 0.0818035431940567, 0.042789545670737346, 0.38863022268233816, 0.21297585272257571, 0.2064851600681734, 0.09614338494333417, 0.00385384876355137, 0.005273687781701874, 0.07261462407112582, 0.013995556036054974, 0.07232536917734632, 0.11790025934389332, 0.6601754017603438, 0.041611856239021174, 0.023778203565154955, 0.026089973356211688, 0.010237837646108383, 0.04788665995760373, 0.0373085252272944, 0.047831442599095386, 0.772238640762395, 0.020567520317611016, 0.01578437605770148, 0.09183636979026315, 0.00023915721299547693, 0.01411027556673314, 0.1963010600853706, 0.3562675489530164, 0.059928448631831895, 0.13542885635697444, 0.05001902011790693, 0.10145367288066029, 0.07078163224232113, 0.030200163090057016, 0.22176318456848504, 0.06295819222918855, 0.09678647462099135, 0.0338282823918028, 0.1597446668501799, 0.13672264133353632, 0.20578871788346703, 0.08198660107457763, 0.02783995095388968, 0.02810509334392673, 0.08935298544248403, 0.053293620397445965, 0.529224210513941, 0.041362212845778956, 0.0320822291944824, 0.19885679252778346, 0.08912788723063159, 0.19830954908815526, 0.07185935907969672, 0.04372836967252862, 0.5066363339766214, 0.035094105597061186, 0.010305411961041778, 0.04498173058670938, 0.07692196298027369, 0.040079081035029336, 0.021657640062407158, 0.048294047955252745, 0.01817250258110026, 0.06970274962613798, 0.5718114853258534, 0.15334604917750355, 0.14502258634252213, 0.0708171040784746, 0.4987692689163378, 0.0128758371051772, 0.03761099785985971, 0.06268499643309952, 0.04980915932792233, 0.12265929031774069, 0.21062615491498207, 0.13355007060777344, 0.15863615465115738, 0.056231608676957236, 0.11076657398866145, 0.15645475603868922, 0.04593055967363533, 0.12785419645299545, 0.12337197844529459, 0.08949849676013105, 0.09584269399882389, 0.048374503945032864, 0.1118164763319612, 0.3259331331378444, 0.06978616962562117, 0.13526734826784365, 0.026945771186380255, 0.1305500999725161, 0.11945478242518306, 0.01311264801048451, 0.01815597416836317, 0.6406465170836718, 0.010230747348839563, 0.04092298939535825, 0.017344579135686634, 0.039444929969867995, 0.03496890954775531, 0.06014652442213914, 0.03692716848242961, 0.6949021705329936, 0.11609677969854765, 0.00027975127638204254, 0.11535814737953697, 0.2556393512916899, 0.5159072702251514, 0.04023293411693728, 0.02100657622034778, 0.006408785965529832, 0.034536235480910754, 0.010681309942549719, 0.5074862241670166, 0.05945942872489943, 0.0630269944483934, 0.05440537728328298, 0.07016212589538133, 0.09156752023634512, 0.12129723459879484, 0.03270268579869468, 0.12588439962971468, 0.030184815170067828, 0.16978958533163152, 0.013377361268552787, 0.07237495455550354, 0.4424819496521306, 0.025039676220624446, 0.12039625141697508, 0.17539836787824145, 0.4157893092803584, 0.01386870815781444, 0.1696877233426708, 0.08185257167651268, 0.1120374070788147, 0.009517740892617753, 0.02202677178005823, 0.09685489987422718, 0.04602608878320713, 0.19571093404337642, 0.02561451897500223, 0.08845013583555458, 0.10686057134883743, 0.10085716846407128, 0.3401928301367484, 0.02096039443340745, 0.6383095117298613, 0.12887367514915363, 0.13542379840959345, 0.026691752286292298, 0.021779159840962427, 0.006058864015906841, 0.021779159840962427, 0.14497050566166553, 0.18448288469765603, 0.1307901048229651, 0.12294269853358719, 0.06594574758968451, 0.10091489140550886, 0.11440692327145684, 0.13560868763223224, 0.0062783332441746185, 0.05950768031435073, 0.8314696983372125, 0.01610528962636098, 0.013102608509581812, 0.0002729710106162878, 0.004640507180476892, 0.06851572366468824, 0.043664813806432244, 0.04290321821678517, 0.07945980651984473, 0.036048857909961506, 0.380290064430439, 0.1038308653885511, 0.05458101725804031, 0.2591963656765542, 0.07758054310911769, 0.10749857170172956, 0.06912096261051709, 0.169191609972012, 0.18260314003076902, 0.04910683313821811, 0.06169303827028242, 0.2832927810872835, 0.17700634969516874, 0.1036446818697012, 0.05971298543933403, 0.10108555392230117, 0.2661493065296031, 0.17316765777406867, 0.03923996186013379, 0.08018600901853427, 0.08652054209880702, 0.01974643002855656, 0.008574107775557454, 0.005456250402627471, 0.6022661158709751, 0.013510715282696593, 0.22032858768705213, 0.043390181773275596, 0.02664921705975474, 0.34735876029611346, 0.46911811410361354, 0.08729915933367931, 0.015162485568481144, 0.015162485568481144, 0.01332460852987737, 0.02573027854045285, 0.28601898257503205, 0.025461178086370124, 0.4395483618144016, 0.01265435797107018, 0.09422160513399243, 0.07379167780720443, 0.046196029701617645, 0.0224119352017749, 0.2039387729758518, 0.01685640614817867, 0.08119564651657894, 0.010683637699549862, 0.643867232026205, 0.030863842243144046, 0.00023741417110110803, 0.012345536897257618, 0.19349867862796336, 0.11876034481994241, 0.07940947967102227, 0.17254929718177567, 0.10913495334466698, 0.10630395585193891, 0.15202456535949718, 0.0682270395747464, 0.7373624416416522, 0.006895682298486912, 0.16930088953526487, 0.010700196670065897, 0.02187595763657917, 0.016406968227434378, 0.022827086229473915, 0.014504711041644884, 0.15185424050425417, 0.04880055484786624, 0.4544722063206314, 0.03598700134032594, 0.07360977546884852, 0.15976047564720455, 0.04062169090688307, 0.03489648614819485, 0.026050827157449042, 0.5947604231023751, 0.08015639125368935, 0.16592372989513698, 0.04047897758311313, 0.028054736938791274, 0.018435969988348552, 0.04608992497087138, 0.0979949647775163, 0.11391472439841245, 0.02971688462567281, 0.03997628527025033, 0.010966945516617348, 0.06721676284378374, 0.6392667918879854, 0.00035377243601991443, 0.21591584947595058, 0.05715419544951633, 0.4393728775181568, 0.04365945485726942, 0.07580868979762236, 0.07263345671709368, 0.06747370296123456, 0.027783289454625996, 0.42217255208466903, 0.0026060034079300556, 0.09468479048812535, 0.006080674618503463, 0.2744990256352992, 0.07383676322468491, 0.11813882115949585, 0.008252344125111843, 0.04021652506035423, 0.5125843062517078, 0.05468036302065706, 0.26281851903477105, 0.04903593845078279, 0.028222122849371388, 0.011288849139748555, 0.04127485466720566, 0.1720311107085523, 0.4164064302250057, 0.04158367907855734, 0.10937077237100012, 0.04386223683628651, 0.07917988208108863, 0.11278860900759388, 0.025064135335020863, 0.167573764682229, 0.03309813307950103, 0.005323475949849816, 0.00578638690201067, 0.15345498064132299, 0.5821105223422735, 0.03494977688814445, 0.017822071658192863, 0.13468873418022187, 0.1251861547748688, 0.1652622505278796, 0.080978502758661, 0.12353353226958999, 0.09378632717457167, 0.09337317154825196, 0.18261478683330695, 0.03657894699657962, 0.09875654225297173, 0.3380079912342167, 0.039423241247669896, 0.04782383124507606, 0.019976206135564275, 0.051263442897557326, 0.36810459319342775, 0.16228961261858943, 0.08094041133118565, 0.34174840339833945, 0.03188561658501253, 0.18967853968520273, 0.06622397290733371, 0.06377123317002506, 0.06377123317002506, 0.2693969335918309, 0.06407075889318926, 0.14743768201444432, 0.06837961109945638, 0.11090610896131008, 0.12814151778637853, 0.1644857494392403, 0.04721003286866578, 0.04776819992677842, 0.07044415475583277, 0.04609538358693015, 0.049255147784421326, 0.6838101460335323, 0.04312148787164433, 0.03345632679696543, 0.02602158750875089, 0.03291603171096111, 0.026225781363204786, 0.04790219248993527, 0.07493080389487082, 0.059409423088076146, 0.09339589485467827, 0.28313139471704757, 0.3826823198916617, 0.07813109268847615, 0.5291378168293273, 0.1192000003837008, 0.14749747946638608, 0.04232100853959125, 0.04332268921508453, 0.015526050470145903, 0.02454117654958546, 0.028143734599588792, 0.3407556789211751, 0.04329805323013661, 0.15587299162849177, 0.003030863726109562, 0.011257493839835517, 0.016020279695150543, 0.4013729534433663, 0.32587300938835756, 0.08185582728689476, 0.05146995200615352, 0.07679151474010455, 0.14655500390507167, 0.057877857677602354, 0.22303645869333194, 0.036587074317627206, 0.16076726365570326, 0.3536879800425472, 0.07822407156978994, 0.15068931578474873, 0.050389739354772665, 0.07246524421495878, 0.07438485333323584, 0.05950788266658867, 0.1049873613900985, 0.12892447978704097, 0.08629961106266097, 0.10750705806346086, 0.07664077381477191, 0.12367511171753603, 0.08210011660705703, 0.2897651174366719, 0.18567697441177844, 0.10610112823530198, 0.20356611812587005, 0.06292043651163257, 0.10054932501368734, 0.07957584617647648, 0.20048178300275082, 0.06106983543776102, 0.15899604727686492, 0.08202980783073924, 0.10127136769227066, 0.07494081209228029, 0.0459096866871627, 0.16405961566147848, 0.2599298437434947, 0.11308636058970224, 0.08141230376628592, 0.4613942503428315, 0.057457297540811594, 0.18191917771229774, 0.050860991478724464, 0.04374392441173571, 0.05901958055551644, 0.0642271906045326, 0.023478723339305545, 0.1133542664446042, 0.09946899995361705, 0.516531913464722, 0.134813314657948, 0.03837382739327358, 0.022721345167069883, 0.05124925632127985, 0.027082563553072633, 0.029943397731214107, 0.03556970494822567, 0.8025593481079552, 0.0616032959693131, 0.012015503548194195, 0.024126368235659775, 0.007056724306082306, 0.01691670954292027, 0.01516670510744576, 0.017062543245876482, 0.39433433279358976, 0.4360427718390656, 0.012979199563102622, 0.04550011532233728, 0.06212515745934513, 0.032052189281469204, 0.029563431054908065, 0.06304854173954884, 0.7411974500194808, 0.08627695185411946, 0.009804199074331757, 0.0241334131060474, 0.013876712535977255, 0.00017907198919522624, 0.012714111232861062, 0.011818751286884931, 0.018265342897913078, 0.09132671448956538, 0.00017907198919522624, 0.00017907198919522624, 0.865096779802138, 0.3520134824865043, 0.18022693108970533, 0.04815981354187718, 0.21613991919481648, 0.058751662568269414, 0.04948379467017621, 0.05395223097818543, 0.04120891261830728, 0.03318563212097392, 0.00680730915302029, 0.01673463500117488, 0.1911719320473198, 0.13416071789077488, 0.4906935347802126, 0.11714244500822416, 0.00992732584815459, 0.48121602321838924, 0.09108036066987732, 0.12225224881357864, 0.027762462877983996, 0.07744265960700798, 0.04919313597677866, 0.09400272518334932, 0.057473168764949324, 0.056550574768686857, 0.052247813644982426, 0.058701955330539075, 0.022435825859315982, 0.4551706588718763, 0.03933953027386912, 0.2643124690275581, 0.051325793404188615, 0.050886724925466836, 0.018871897985603594, 0.03032983604829149, 0.008761952636173099, 0.06369265570141214, 0.7211761015927088, 0.04650574860738029, 0.05998567573995429, 0.22329476613334487, 0.06089857258182133, 0.13641280258327979, 0.037351124516850416, 0.29880899613480333, 0.054402724839760386, 0.09824969709867175, 0.09094186838885318, 0.00022905668237757946, 0.13560155596752704, 0.7698595094710445, 0.05978379410054824, 0.007329813836082543, 0.006413587106572225, 0.00022905668237757946, 0.02084415809635973, 0.5440188835354965, 0.06482534727693319, 0.1747714208523485, 0.015421007722266044, 0.05254565594253615, 0.05740041763287917, 0.05882828871827417, 0.03226988652992709, 0.08105975722784478, 0.44248599435199804, 0.04596171801578827, 0.2373295984815249, 0.024234360408324728, 0.05097572361751063, 0.06810690942339535, 0.04930438841693651, 0.61849713829135, 0.15590853942809363, 0.08450396947585305, 0.07679844034431631, 0.01875012088673943, 0.014897356320971056, 0.003339062623665926, 0.027483053902481087, 0.14574185965424316, 0.02432750796678791, 0.031692716800769564, 0.018078239865227712, 0.21292149174601527, 0.42137922056234467, 0.1285563723749526, 0.017408675425774834, 0.26378775961403406, 0.15649477588387445, 0.11266796942762428, 0.20424945650365647, 0.00651200190269755, 0.016641782640227074, 0.0725623069157727, 0.16724474727880373, 0.027514285672548773, 0.022049119340330183, 0.012249510744627878, 0.11307240687348812, 0.7370436388036867, 0.00018845401145581352, 0.0780199607427068, 0.009799608595702303, 0.00030296614091926275, 0.00030296614091926275, 0.00030296614091926275, 0.00030296614091926275, 0.9976675020471322, 0.00030296614091926275, 0.00030296614091926275, 0.00030296614091926275, 0.11985260993411145, 0.2245159782132068, 0.14892576778941571, 0.1299392157206456, 0.08627014596247429, 0.08496482050774634, 0.0863888119129041, 0.11914061423153258, 0.07046550639652568, 0.3144336947059469, 0.03299744257239118, 0.40107859229925796, 0.02426908679517803, 0.010218562861127592, 0.10069542152736147, 0.045557759422527176, 0.047250240515158096, 0.2766942050506292, 0.06406812273241776, 0.050854072418856595, 0.03603831903698499, 0.1501596626541041, 0.08008515341552219, 0.29471336456912167, 0.05163576402799443, 0.6666672273477362, 0.013793115048573853, 0.15455362246735319, 0.021927516231066126, 0.019805498531285534, 0.05198943364462452, 0.019451828914655436, 0.07161472166468956, 0.17580888693784377, 0.10659633623046036, 0.4199295104740811, 0.025372930736546197, 0.0028525780118010516, 0.054649389278714884, 0.1430793076445475, 0.14444694429700256, 0.18062843903720474, 0.12937907245146849, 0.10342884871749314, 0.10947459976662718, 0.11607842014337359, 0.11933382455444577, 0.09729008611375703, 0.05806927543552754, 0.1595761978503867, 0.1490597148974959, 0.08916148590494385, 0.043437646979331626, 0.26885617288259994, 0.05669756026775917, 0.17466506469583873, 0.07614780761292976, 0.07681723888864783, 0.23748074506098316, 0.03213270123446706, 0.06510219156358171, 0.035814573250916415, 0.3363892160483271, 0.14024585226293437, 0.042409363216446914, 0.12024606033931595, 0.12076324769561408, 0.22523509366783698, 0.34729130975419636, 0.06154529539947784, 0.020687494251925325, 0.061803889077626906, 0.0003253675190012567, 0.1841580157547113, 0.5983508674433111, 0.10379223856140089, 0.0003253675190012567, 0.0003253675190012567, 0.026354769039101795, 0.08654776005433429, 0.18691164968066323, 0.0507482264647781, 0.06472046543949622, 0.05312087081897552, 0.0935876384155648, 0.15804447670459465, 0.34139715985396174, 0.05140729434094405, 0.10025988335409489, 0.39091714134697575, 0.12146870483284573, 0.10363401404389616, 0.08097913655523048, 0.0626624270963093, 0.0814611552252021, 0.05928829640650803, 0.14595343463873686, 0.0670914981807097, 0.19586009293456302, 0.026130372975644828, 0.24011694085727678, 0.04802338817145536, 0.004943584076473346, 0.271897124206034, 0.08688156738252058, 0.11788494827420841, 0.5933902900897463, 0.017664717019682606, 0.028840354317849152, 0.029921867604768497, 0.062367266212348796, 0.06344877949926814, 0.05674225540389499, 0.05491186006828548, 0.48917315344164314, 0.029286325369752255, 0.17480275455070876, 0.07504620875999016, 0.023337540529021327, 0.09655335395340196, 0.14846790739837828, 0.17816148887805394, 0.12456819547571252, 0.06626738305830056, 0.06409468197442185, 0.09813366562185492, 0.2563787278976874, 0.06373256512710873, 0.08904674051818122, 0.2760723791682501, 0.11969091202366641, 0.1609162548561577, 0.09138284327868905, 0.07667913766843382, 0.09220735013533887, 0.09413119946752181, 0.12197434168808359, 0.01260251500836288, 0.05266050914208775, 0.018453682690817076, 0.053560688785542244, 0.08776751523681292, 0.6215740438053263, 0.0315062875209072, 0.01346387589694279, 0.15431673143419045, 0.6966692707700141, 0.06904551742021943, 0.010702055200134012, 0.014154331071144985, 0.008975917264628527, 0.032796620774604233, 0.3950411781461497, 0.18808438279347045, 0.13306650211238727, 0.04798070989629349, 0.08764476341056276, 0.029428168736393336, 0.06269479426449015, 0.05597749487900906, 0.09930917080630614, 0.4644903621889888, 0.18007643946839688, 0.06662513990802817, 0.03425537853761825, 0.07165345235391708, 0.014456398281930639, 0.06945356565884069, 0.05716094159020716, 0.03225510275447404, 0.05307801719090665, 0.032663395194404095, 0.03184681031454399, 0.12003797733943504, 0.6593922904870326, 0.013473650517691688, 0.14266470262404868, 0.06613242289862444, 0.05759920704073741, 0.037866145369373674, 0.001599977973353817, 0.02213302863139447, 0.04133276431164028, 0.6306579844969629, 0.16378943240872323, 0.03027387613241804, 0.605218771570306, 0.02044133516633355, 0.12808178363715325, 0.025875107805485506, 0.011643798512468478, 0.014490060371071882, 0.5795196129709472, 0.05734095116176444, 0.058045962856376296, 0.05651843751805061, 0.08812646182648223, 0.042653207524017404, 0.07625876496718263, 0.04147818803299764, 0.052761256600427055, 0.1303513398363492, 0.20225148363497036, 0.515198152686523, 0.036208705510097, 0.028449697186504783, 0.0051726722157281425, 0.02974286524043682, 0.1308329525184819, 0.15388721727944787, 0.014120737166091657, 0.060517444997535676, 0.09481066382947256, 0.5299599111927052, 0.00028817830951207465, 0.016137985332676182, 0.19892010702542737, 0.08758422622761355, 0.1895184104247231, 0.03265852503402539, 0.1207375773985181, 0.10440831488150541, 0.07471874666875505, 0.19100288883536062, 0.11038387952089102, 0.1865941196284651, 0.15514227450470436, 0.06290369024752145, 0.08800468202898434, 0.22621134762089445, 0.09284342743263983, 0.07802476963394488, 0.00029060135142702553, 0.035453364874097115, 0.03400035811696198, 0.00029060135142702553, 0.00029060135142702553, 0.9287619191607736, 0.00029060135142702553, 0.00029060135142702553, 0.19009931602872435, 0.07461842311407872, 0.12471936434781729, 0.0668012549783181, 0.031979324191748024, 0.20111441658365978, 0.2693369748593889, 0.04121779562491967, 0.12721886632494983, 0.17759568017990257, 0.1873460312486031, 0.07533306956650769, 0.10249476182931633, 0.11259333972189903, 0.09425339366410516, 0.12315622004632461, 0.008888580796539477, 0.010019854716099046, 0.02650413182968135, 0.9040494722880333, 0.04153391390382992, 0.0019393267192449768, 0.004686706238175361, 0.0024241583990562213, 0.015375995708901507, 0.021168322859515087, 0.0338061275517629, 0.8656896214189752, 0.04054629005429507, 0.004844491798694995, 0.012427174614043683, 0.006108272267919776, 0.5494383334790535, 0.00024214999271884242, 0.03874399883501479, 0.00024214999271884242, 0.053999448376301856, 0.29832879102961385, 0.04746139857289312, 0.011381049657785594, 0.06164211882674205, 0.1094679006750764, 0.0805952990407116, 0.049597107101976366, 0.039854818206945294, 0.17217281465400366, 0.3969539893411751, 0.08962905783428586, 0.6133202185996297, 0.05153282615322111, 0.030740624095261244, 0.05203024725508618, 0.05809878469784002, 0.08665075594489496, 0.06187918507201454, 0.04576274137158632, 0.0229298724900209, 0.24825996561311087, 0.2877258038411276, 0.0787111969128602, 0.1186179942272235, 0.025575627008100232, 0.02270939294684762, 0.1953448752515242, 0.45819749223663586, 0.08360405564343518, 0.09187583500038282, 0.06528797278162252, 0.023042813922925596, 0.07946816596496135, 0.14032482837679047, 0.05790245549863355, 0.13102342667141464, 0.09311155552806549, 0.10948948386199232, 0.041854705742257456, 0.0797665768856066, 0.39276698504509716, 0.10766971404711156, 0.0442810654954318, 0.14086705732555502, 0.1131555050647901, 0.18705297776016322, 0.07505212070623833, 0.09814508092354243, 0.09352648888008161, 0.12297001315714434, 0.16857860958631993, 0.0873940755971197, 0.027292502013718443, 0.2409869858658118, 0.023227661288271015, 0.06474710584105546, 0.04558428527823187, 0.3873212519819192, 0.12339695059393976, 0.01581329568295834, 0.04348656312813543, 0.05684607154994507, 0.07770326326970908, 0.6967392606517248, 0.040760132837970205, 0.009133541472053523, 0.059572501840110294, 0.5948057014230537, 0.00395307289381737, 0.0627220899152356, 0.00790614578763474, 0.0903936001719572, 0.1293972527242886, 0.10093512788880352, 0.009750913138082847, 0.03711299102118638, 0.024887535155383805, 0.06112727932901286, 0.07902883970393805, 0.044972212649202314, 0.04147922525897301, 0.5959909734578753, 0.11570520730134577, 0.4945258880768773, 0.028171939285711677, 0.10705336928570437, 0.006067802307691746, 0.11355458604394553, 0.058944365274719815, 0.16383066230767715, 0.027738524835162266, 0.46431796342835974, 0.024993191811335153, 0.12107812921935697, 0.03165804296102453, 0.11996732069440874, 0.05331880919751499, 0.16884289579213083, 0.016662127874223435, 0.048567671807066566, 0.03159824430821198, 0.7100827679262082, 0.03159824430821198, 0.0658296756421083, 0.006729255732304404, 0.014336240473170251, 0.09157639322657732, 0.20415581990506598, 0.1374334915524334, 0.020306795585583827, 0.40468542631270626, 0.027921843930177763, 0.04605291141730618, 0.15375145229084897, 0.0054393202461385255, 0.06752826210269627, 0.45804884664368584, 0.0689574316710073, 0.15720865251421354, 0.05180739685127492, 0.09110955997982831, 0.06109699904529663, 0.04394696422556424, 0.1086924910859247, 0.26313750069131436, 0.09562034293750614, 0.10046187928877227, 0.04115305898576214, 0.22682597805681837, 0.093925805214563, 0.06996020027579564, 0.12463225363711158, 0.1988407710698956, 0.13414616612849414, 0.1465142523672915, 0.0642189093168323, 0.06517030056597056, 0.18599698920652913, 0.08039256055218266, 0.14988144769662132, 0.13926356279819538, 0.1661929810188409, 0.08540472635690434, 0.12325979425564032, 0.12048991123865964, 0.08448143201791078, 0.1311077961370856, 0.05573424784635842, 0.09377508367799989, 0.09819843668167912, 0.257734035014377, 0.3600609344994901, 0.05927293024930181, 0.049541553641207485, 0.02536055722109431, 0.15782085947471441, 0.4797197931169733, 0.05735780135094246, 0.10984888016301708, 0.0552720631199991, 0.08064854492981001, 0.0385861572724522, 0.020857382309433622, 0.09507587089626661, 0.25806307814700935, 0.09847143771399042, 0.14838626993453038, 0.0706277898086552, 0.07130690317219995, 0.09609454094158375, 0.162308093887198, 0.06807887984246698, 0.0003241851421069856, 0.07780443410567654, 0.011346479973744496, 0.06354028785296917, 0.004538591989497799, 0.7277956440301826, 0.04635847532129894, 0.8909242347223268, 0.01848958826864168, 0.026022383489199403, 0.0003423997827526237, 0.020886386747910046, 0.013695991310104948, 0.024310384575436283, 0.005820796306794603, 0.04355426190715645, 0.15463760878962887, 0.5144597450042563, 0.04695069517514572, 0.034563703256596634, 0.03656160517894326, 0.039358667870228535, 0.1298636249525307, 0.027866974694433347, 0.40647345847397603, 0.12139751045046251, 0.16848308838243609, 0.021781083669212272, 0.22197486739358976, 0.006726511133139083, 0.025304494262761313, 0.09555228272840066, 0.25665250819802304, 0.27373190172918643, 0.18294953971669628, 0.012924946456015548, 0.012771078045824887, 0.07970383647876254, 0.08555083606600768, 0.04189837983007501, 0.61885967585078, 0.1520705130226001, 0.09629758774059863, 0.022528964892237054, 0.018545184514951234, 0.011951341131857461, 0.03763985597849361, 0.6196215929966813, 0.016380151501279635, 0.08058281428215729, 0.015250485880501728, 0.15024552756346146, 0.051964618555783666, 0.02504092126057691, 0.040667962348004606, 0.897545753030562, 0.014162739807144668, 0.01816836318694316, 0.0111585222722958, 0.02775324770288955, 0.014019681829294722, 0.014162739807144668, 0.0030042175348488688, 0.029755537032137555, 0.07509730774777573, 0.17428243118823425, 0.23111708128665573, 0.0001574367038737437, 0.0001574367038737437, 0.4353124862109013, 0.05415822613256783, 0.03185247786296272, 0.013822773412229105, 0.036660399049825015, 0.006811221681388255, 0.0234386157859537, 0.8580136018054675, 0.022837625637595914, 0.006610891631935659, 0.13539819034609887, 0.16432831378867246, 0.08522657987136542, 0.3409063194854617, 0.06763393723736796, 0.08483563225727658, 0.08757226555589841, 0.034273074168454286, 0.11921400960611721, 0.12719631592617744, 0.11261993047215439, 0.16641373393342998, 0.04719972432731278, 0.05518203064737303, 0.07930247800581595, 0.29274240786829653, 0.07011379101943108, 0.4253226293458135, 0.0634117374661031, 0.1830176162639561, 0.05052317294047239, 0.07630030199173381, 0.06083402456097696, 0.0706293336004563, 0.05017752774746047, 0.3404089098322034, 0.15908557092660763, 0.23492206172674673, 0.03820334498954377, 0.08096828341067484, 0.06329210886327401, 0.03307155237900804, 0.051887981642752094, 0.5395506383827636, 0.04851315356842675, 0.21556714324753107, 0.02446750353885871, 0.05399724918920543, 0.00801521667652268, 0.05863763779140277, 0.3584262397976796, 0.13216518661878365, 0.1273765929007118, 0.15155899117697474, 0.0560265465014409, 0.08691297598300447, 0.03902703880228576, 0.04836479655252591, 0.07777946270003648, 0.19126676963963515, 0.10288101657141188, 0.2510155387137541, 0.10606290368186792, 0.16404395769462238, 0.03287950014137905, 0.07424403257730755, 0.08331491530387025, 0.06512942617662953, 0.07020444639818509, 0.06174607936225917, 0.10107748607931467, 0.054556467381722144, 0.494814471601666, 0.0689356913427962, 0.08685535079975458, 0.044555666968705276, 0.24421017465125802, 0.06006555104009002, 0.5011102544518309, 0.03186576181939048, 0.007049947305174885, 0.024815814514215596, 0.09368951238089333, 0.5075745996420812, 0.10733013104171306, 0.10733013104171306, 0.09081780318914182, 0.0107689094690682, 0.0071792729793788, 0.0753823662834774, 0.1107785325452909, 0.09030858631409584, 0.15573213995497417, 0.06662766812506626, 0.4872649946013882, 0.038531663494014226, 0.030102862104698615, 0.020871317725924373, 0.17574535859448853, 0.061650016169564795, 0.08905002335603804, 0.04516719934645198, 0.08305627178399701, 0.28620163756495876, 0.2121359931390233, 0.046879699795606564, 0.4960845513779049, 0.006933671208604684, 0.05730090545978965, 0.012428278581461226, 0.08071839878696396, 0.13043151311280887, 0.1997682251988557, 0.016352998133501613, 0.06635378245435111, 0.14414014229103975, 0.574318887324485, 0.0372119185385888, 0.04326445950570867, 0.061422082407068264, 0.027348518444023095, 0.045954477713317496, 0.1081722757132557, 0.04672747964484175, 0.08720009980966531, 0.011037987317679155, 0.12288959213682792, 0.11111573899797016, 0.014717316423572204, 0.49818116093791914, 0.007179702268014274, 0.08091718502059331, 0.4515450588559247, 0.06908037857873194, 0.22354100034466065, 0.04986982386161266, 0.07237916070187363, 0.04560081170225282, 0.02869071889778347, 0.0821486395791236, 0.08827913507010299, 0.2567451511622162, 0.08116776030056691, 0.23516580703396878, 0.14149183593180395, 0.0860721566933504, 0.14451167502231602, 0.23130816094903217, 0.09216534072630682, 0.23801922944852053, 0.07740099002743242, 0.0787432037273301, 0.0630840438951906, 0.07471656262763708, 0.028781527410260903, 0.020629534097528046, 0.03809809119624131, 0.004325547472062333, 0.18616490850914422, 0.6561522780697631, 0.040759966563664284, 0.02495508156959038, 0.054193025736579525, 0.03612868382438635, 0.5707637261871805, 0.03890781334933915, 0.20704514960898332, 0.023969992152717865, 0.02084347143714597, 0.04793998430543573, 0.011794765820472867, 0.14365134598330634, 0.459884595622777, 0.0521862751868092, 0.08534514513493104, 0.20128991857769263, 0.004562126402258374, 0.041281680371655034, 0.08126185575336455, 0.10841070301642043, 0.7001447617295568, 0.04691025309398771, 0.027518219334662083, 0.02382449861860006, 0.00018468603580310125, 0.01181990629139848, 0.1231079077799488, 0.1314447864106451, 0.3532057579871669, 0.024732739937732378, 0.15979017375501256, 0.07669928340240603, 0.03529278620328104, 0.09531831234429444, 0.07815336440755749, 0.11486176284141025, 0.16400365106737444, 0.07282472592522403, 0.2936671874708221, 0.11486176284141025, 0.04322117880114922, 0.11841418849629923, 0.10372322800185949, 0.18044548871434601, 0.0905520244460678, 0.26902183262704504, 0.08495426293485633, 0.082320022223698, 0.09351554524612092, 0.09549122577948968, 0.11489974696719961, 0.16604206757574544, 0.1408118560755295, 0.05080137180448885, 0.07841822493310359, 0.22025292742080402, 0.14899462737289684, 0.0794410713452745, 0.010682468226739806, 0.2832041021000131, 0.18587494714527264, 0.17281859709036843, 0.26516260020596366, 0.04818980111173735, 0.0023738818281644016, 0.03157262831458654, 0.05117230863200195, 0.04235929992315717, 0.04719224018284625, 0.008244427501822537, 0.08187569381120313, 0.06567112941106917, 0.08443430924280322, 0.6191849344472237, 0.05968151498699739, 0.42614695788961293, 0.09946919164499565, 0.07643422094825982, 0.05601686055797123, 0.05235220612894508, 0.0968515813385484, 0.13349812562880994, 0.004773255174602678, 0.6161476887882957, 0.14439096903173101, 0.18575918054495422, 0.00039777126455022314, 0.001988856322751116, 0.008353196555554686, 0.03818604139682143, 0.08653820613394746, 0.3068901199009433, 0.15244346034243986, 0.10336507954888169, 0.09415036315498913, 0.09835708150872269, 0.09314876354695734, 0.06510397452206695, 0.10009531902957074, 0.13707969114558163, 0.056664129755723096, 0.04444910777245345, 0.047502863268270856, 0.2748379946235671, 0.2785703624517884, 0.06073580375014631, 0.053899677757306697, 0.43433112425364584, 0.14331464706012556, 0.1428968201007666, 0.047423359887242715, 0.026740925398973863, 0.0350974645861532, 0.1165737216611517, 0.07493637012469047, 0.07971419238096268, 0.04450918628211481, 0.6289122875229894, 0.05481922378249168, 0.04048575701367505, 0.0696556192098633, 0.007292465549047059, 0.08261763906980109, 0.3629203759620419, 0.2369035915495501, 0.07624712232225016, 0.06151530234353864, 0.05534386424434868, 0.07943238069602562, 0.044792695881217454, 0.17912014196219908, 0.02202296827404087, 0.04881757967412393, 0.04257773866314568, 0.02459231457267897, 0.5531435531496599, 0.12920141387437312, 0.0003670494712340145, 0.7856231233432892, 0.03446402535105157, 0.02402038130527837, 0.05221822022886602, 0.04986840031856705, 0.010443644045773203, 0.019842923686969088, 0.02375929020413404, 0.07619041127993594, 0.06475163639608497, 0.1009063355825425, 0.013277149418755593, 0.02757561802356931, 0.5447716538434025, 0.06638574709377797, 0.10621719535004474, 0.2957050387082976, 0.004250578798812511, 0.043954848942265735, 0.010723051060640651, 0.036709544171562594, 0.05728620972035952, 0.5237872328900326, 0.02762876219228132, 0.15123951267638333, 0.14315029327821954, 0.13166649073975492, 0.23740414430146706, 0.10544875286892057, 0.09136484409533185, 0.09721508312436102, 0.042468401840359785, 0.1580712322160804, 0.21036843093433588, 0.05780216700438762, 0.08847270459855247, 0.029884113553288835, 0.25755387338689717, 0.09201161278249458, 0.10538082147738695, 0.03344736984377935, 0.8163945522702477, 0.10731031158212542, 0.01755986916798416, 0.008919298625007828, 0.012542763691417257, 0.0002787280820314946, 0.003344736984377935, 0.09956993371725265, 0.08181445602641388, 0.017059184448060767, 0.07972557629807991, 0.6297972380926924, 0.006266639185001915, 0.0515256999655713, 0.034118368896121534, 0.06065338054746318, 0.3140888752001413, 0.09613938327440222, 0.3040219240719316, 0.06895861522823615, 0.065686856111568, 0.023909008929497936, 0.06694522500259421, 0.014802872544201377, 0.010449086501789207, 0.004975755477042479, 0.0014927266431127438, 0.04179634600715683, 0.90309961908321, 0.005722118798598851, 0.017663931943500803, 0.045550794470587845, 0.2576873515764684, 0.458978481427447, 0.05249186791372504, 0.0394773552078428, 0.06594019770980336, 0.033837733035293825, 0.04641842865097999, 0.23620491457182932, 0.3962601850428898, 0.1460709994093452, 0.0367821583387973, 0.05217660799497125, 0.028086057006302092, 0.09130906399119969, 0.013044151998742813, 0.035420917255533896, 0.024097837149256663, 0.036727426498565884, 0.0647447913769185, 0.31748174605677304, 0.07751954841989794, 0.1480710475436253, 0.2958517596999101, 0.7063755555284865, 0.032204284475203945, 0.1332664140454163, 0.10487579483701284, 0.008051071118800986, 0.005508627607600674, 0.0031780543890003892, 0.006567979070600804, 0.7154637600776292, 0.028464168472407368, 0.10903223855532314, 0.012061088335765835, 0.0390779262078813, 0.030876386139560535, 0.04872679687649397, 0.016403080136641535, 0.12926205189530762, 0.27164573756832466, 0.15606368684552258, 0.056953474269206814, 0.07314612871829503, 0.14587348189049293, 0.10064572291200517, 0.06616653628334321, 0.009010605789068702, 0.5433395290808427, 0.09844086824557557, 0.1180389358368, 0.02117492360431145, 0.027031817367206105, 0.014191704117783206, 0.16872359340031146, 0.4015948258315986, 0.03096127774001097, 0.11242250363848644, 0.018636885629909516, 0.19027659038278588, 0.0988957318103263, 0.1208391616648972, 0.026752948726805597, 0.42536455720869554, 0.05716800870468099, 0.06420597089942574, 0.05408118318067014, 0.14829109817348138, 0.10544595990021073, 0.10408775666964595, 0.041239989000784995, 0.1017613001664458, 0.13628387142606843, 0.19469124489438347, 0.10577555263849495, 0.11480762070060552, 0.26754992726207544, 0.03090974403477841, 0.04837174228819218, 0.09486099605614848, 0.2997411885691702, 0.09094920240434855, 0.3237009246864448, 0.0376510138985744, 0.044007678582749295, 0.0562320337446241, 0.052809214299299155, 0.05494937685982643, 0.11399779997734152, 0.2553595033506047, 0.04918855509226398, 0.2560242135545542, 0.1771452693525453, 0.03478650067335786, 0.05849449794755717, 0.14739567143062263, 0.02921651393613678, 0.08732126637092566, 0.04956959106018712, 0.44514149322923, 0.06302888399705912, 0.15035015036798477, 0.02790341218619805, 0.3173790695647198, 0.01265588589532743, 0.03011228023371009, 0.012764988359942322, 0.13277769943632312, 0.2165683922605599, 0.24722618481734446, 0.030548690092169657, 0.2931720139191064, 0.01390716515913129, 0.10116341107690664, 0.025795548279033846, 0.058096060906693614, 0.059217606484042916, 0.41923373681316745, 0.029608803242021458, 0.06152542673116813, 0.32540114582262253, 0.32227604478230926, 0.09433898765445779, 0.05117352953513032, 0.0345714302584659, 0.05117352953513032, 0.0597675573959919, 0.044393008275058474, 0.09920478379834495, 0.03374774608665159, 0.04982888683935135, 0.40723790244160785, 0.19048224469042946, 0.007021343145544963, 0.1678327506725425, 0.040585759000209484, 0.7876553588004727, 0.09891259828194766, 0.03523913206605015, 0.024788906694738728, 0.0036454274551086362, 0.00024302849700724244, 0.008505997395253486, 0.9147543806891055, 0.00026339026221972517, 0.011062391013228458, 0.00026339026221972517, 0.030816660679707845, 0.007901707866591756, 0.024758684648654165, 0.010272220226569281, 0.13928676748036262, 0.14448651177867639, 0.15521789894753674, 0.0683711058799556, 0.1412781589137594, 0.12556829316140714, 0.11063285741093139, 0.11516880456477957, 0.0003847462354085251, 0.39975133858945755, 0.17082732852138513, 0.145818823219831, 0.1869866704085432, 0.045784802013614484, 0.0003847462354085251, 0.049632264367699734, 0.0002930512110737126, 0.01230815086509593, 0.0002930512110737126, 0.9837729155744531, 0.002344409688589701, 0.0002930512110737126, 0.0002930512110737126, 0.0002930512110737126, 0.00032790623797540293, 0.00032790623797540293, 0.00032790623797540293, 0.9974907759211757, 0.00032790623797540293, 0.00032790623797540293, 0.00032790623797540293, 0.00032790623797540293, 0.021740381670234565, 0.13795467321635757, 0.533948326780473, 0.06544879298630825, 0.1575323991183489, 0.00523590343890466, 0.0133174065728662, 0.06476584905949459, 0.03725773724988076, 0.054425518139531705, 0.03214393017636772, 0.028491210838144113, 0.03579664951459132, 0.056617149742465865, 0.1946899407273181, 0.5606924184173232, 0.1326315590476825, 0.20593360383740655, 0.20313909773105343, 0.08834938536239467, 0.1374682042317552, 0.07985838603924482, 0.08114815808833087, 0.07158234872427598, 0.158788396859412, 0.18822393901666656, 0.14717771078627273, 0.08879721884105121, 0.05527340693973353, 0.07342532460337384, 0.11299977572590494, 0.17514147583566453], \"Term\": [\"abl\", \"abl\", \"abl\", \"abl\", \"abl\", \"abl\", \"abl\", \"abl\", \"access\", \"access\", \"access\", \"access\", \"access\", \"access\", \"access\", \"access\", \"address\", \"address\", \"address\", \"address\", \"address\", \"address\", \"address\", \"address\", \"answer\", \"answer\", \"answer\", \"answer\", \"answer\", \"answer\", \"answer\", \"answer\", \"appear\", \"appear\", \"appear\", \"appear\", \"appear\", \"appear\", \"appear\", \"appear\", \"applic\", \"applic\", \"applic\", \"applic\", \"applic\", \"applic\", \"applic\", \"applic\", \"array\", \"array\", \"array\", \"array\", \"array\", \"array\", \"array\", \"array\", \"ask\", \"ask\", \"ask\", \"ask\", \"ask\", \"ask\", \"ask\", \"ask\", \"aspx\", \"aspx\", \"aspx\", \"aspx\", \"aspx\", \"aspx\", \"aspx\", \"aspx\", \"attribut\", \"attribut\", \"attribut\", \"attribut\", \"attribut\", \"attribut\", \"attribut\", \"attribut\", \"avail\", \"avail\", \"avail\", \"avail\", \"avail\", \"avail\", \"avail\", \"avail\", \"best\", \"best\", \"best\", \"best\", \"best\", \"best\", \"best\", \"best\", \"block\", \"block\", \"block\", \"block\", \"block\", \"block\", \"block\", \"block\", \"blockquot\", \"blockquot\", \"blockquot\", \"blockquot\", \"blockquot\", \"blockquot\", \"blockquot\", \"blockquot\", \"browser\", \"browser\", \"browser\", \"browser\", \"browser\", \"browser\", \"browser\", \"browser\", \"build\", \"build\", \"build\", \"build\", \"build\", \"build\", \"build\", \"build\", \"button\", \"button\", \"button\", \"button\", \"button\", \"button\", \"button\", \"button\", \"call\", \"call\", \"call\", \"call\", \"call\", \"call\", \"call\", \"call\", \"case\", \"case\", \"case\", \"case\", \"case\", \"case\", \"case\", \"case\", \"chang\", \"chang\", \"chang\", \"chang\", \"chang\", \"chang\", \"chang\", \"chang\", \"charact\", \"charact\", \"charact\", \"charact\", \"charact\", \"charact\", \"charact\", \"charact\", \"class\", \"class\", \"class\", \"class\", \"class\", \"class\", \"class\", \"class\", \"click\", \"click\", \"click\", \"click\", \"click\", \"click\", \"click\", \"click\", \"client\", \"client\", \"client\", \"client\", \"client\", \"client\", \"client\", \"client\", \"close\", \"close\", \"close\", \"close\", \"close\", \"close\", \"close\", \"close\", \"collect\", \"collect\", \"collect\", \"collect\", \"collect\", \"collect\", \"collect\", \"collect\", \"column\", \"column\", \"column\", \"column\", \"column\", \"column\", \"column\", \"column\", \"command\", \"command\", \"command\", \"command\", \"command\", \"command\", \"command\", \"command\", \"comment\", \"comment\", \"comment\", \"comment\", \"comment\", \"comment\", \"comment\", \"comment\", \"common\", \"common\", \"common\", \"common\", \"common\", \"common\", \"common\", \"common\", \"compil\", \"compil\", \"compil\", \"compil\", \"compil\", \"compil\", \"compil\", \"compil\", \"configur\", \"configur\", \"configur\", \"configur\", \"configur\", \"configur\", \"configur\", \"configur\", \"connect\", \"connect\", \"connect\", \"connect\", \"connect\", \"connect\", \"connect\", \"connect\", \"consid\", \"consid\", \"consid\", \"consid\", \"consid\", \"consid\", \"consid\", \"consid\", \"contain\", \"contain\", \"contain\", \"contain\", \"contain\", \"contain\", \"contain\", \"contain\", \"content\", \"content\", \"content\", \"content\", \"content\", \"content\", \"content\", \"content\", \"control\", \"control\", \"control\", \"control\", \"control\", \"control\", \"control\", \"control\", \"convert\", \"convert\", \"convert\", \"convert\", \"convert\", \"convert\", \"convert\", \"convert\", \"copi\", \"copi\", \"copi\", \"copi\", \"copi\", \"copi\", \"copi\", \"copi\", \"creat\", \"creat\", \"creat\", \"creat\", \"creat\", \"creat\", \"creat\", \"creat\", \"data\", \"data\", \"data\", \"data\", \"data\", \"data\", \"data\", \"data\", \"databas\", \"databas\", \"databas\", \"databas\", \"databas\", \"databas\", \"databas\", \"databas\", \"date\", \"date\", \"date\", \"date\", \"date\", \"date\", \"date\", \"date\", \"debug\", \"debug\", \"debug\", \"debug\", \"debug\", \"debug\", \"debug\", \"debug\", \"defin\", \"defin\", \"defin\", \"defin\", \"defin\", \"defin\", \"defin\", \"defin\", \"delet\", \"delet\", \"delet\", \"delet\", \"delet\", \"delet\", \"delet\", \"delet\", \"design\", \"design\", \"design\", \"design\", \"design\", \"design\", \"design\", \"design\", \"determin\", \"determin\", \"determin\", \"determin\", \"determin\", \"determin\", \"determin\", \"determin\", \"develop\", \"develop\", \"develop\", \"develop\", \"develop\", \"develop\", \"develop\", \"develop\", \"differ\", \"differ\", \"differ\", \"differ\", \"differ\", \"differ\", \"differ\", \"differ\", \"directori\", \"directori\", \"directori\", \"directori\", \"directori\", \"directori\", \"directori\", \"directori\", \"display\", \"display\", \"display\", \"display\", \"display\", \"display\", \"display\", \"display\", \"document\", \"document\", \"document\", \"document\", \"document\", \"document\", \"document\", \"document\", \"dynam\", \"dynam\", \"dynam\", \"dynam\", \"dynam\", \"dynam\", \"dynam\", \"dynam\", \"element\", \"element\", \"element\", \"element\", \"element\", \"element\", \"element\", \"element\", \"environ\", \"environ\", \"environ\", \"environ\", \"environ\", \"environ\", \"environ\", \"environ\", \"error\", \"error\", \"error\", \"error\", \"error\", \"error\", \"error\", \"error\", \"event\", \"event\", \"event\", \"event\", \"event\", \"event\", \"event\", \"event\", \"exampl\", \"exampl\", \"exampl\", \"exampl\", \"exampl\", \"exampl\", \"exampl\", \"exampl\", \"except\", \"except\", \"except\", \"except\", \"except\", \"except\", \"except\", \"except\", \"execut\", \"execut\", \"execut\", \"execut\", \"execut\", \"execut\", \"execut\", \"execut\", \"experi\", \"experi\", \"experi\", \"experi\", \"experi\", \"experi\", \"experi\", \"experi\", \"express\", \"express\", \"express\", \"express\", \"express\", \"express\", \"express\", \"express\", \"fail\", \"fail\", \"fail\", \"fail\", \"fail\", \"fail\", \"fail\", \"fail\", \"fals\", \"fals\", \"fals\", \"fals\", \"fals\", \"fals\", \"fals\", \"fals\", \"featur\", \"featur\", \"featur\", \"featur\", \"featur\", \"featur\", \"featur\", \"featur\", \"feel\", \"feel\", \"feel\", \"feel\", \"feel\", \"feel\", \"feel\", \"feel\", \"field\", \"field\", \"field\", \"field\", \"field\", \"field\", \"field\", \"field\", \"figur\", \"figur\", \"figur\", \"figur\", \"figur\", \"figur\", \"figur\", \"figur\", \"file\", \"file\", \"file\", \"file\", \"file\", \"file\", \"file\", \"file\", \"fine\", \"fine\", \"fine\", \"fine\", \"fine\", \"fine\", \"fine\", \"fine\", \"follow\", \"follow\", \"follow\", \"follow\", \"follow\", \"follow\", \"follow\", \"follow\", \"form\", \"form\", \"form\", \"form\", \"form\", \"form\", \"form\", \"form\", \"format\", \"format\", \"format\", \"format\", \"format\", \"format\", \"format\", \"format\", \"framework\", \"framework\", \"framework\", \"framework\", \"framework\", \"framework\", \"framework\", \"framework\", \"free\", \"free\", \"free\", \"free\", \"free\", \"free\", \"free\", \"free\", \"function\", \"function\", \"function\", \"function\", \"function\", \"function\", \"function\", \"function\", \"general\", \"general\", \"general\", \"general\", \"general\", \"general\", \"general\", \"general\", \"generat\", \"generat\", \"generat\", \"generat\", \"generat\", \"generat\", \"generat\", \"generat\", \"give\", \"give\", \"give\", \"give\", \"give\", \"give\", \"give\", \"give\", \"given\", \"given\", \"given\", \"given\", \"given\", \"given\", \"given\", \"given\", \"good\", \"good\", \"good\", \"good\", \"good\", \"good\", \"good\", \"good\", \"googl\", \"googl\", \"googl\", \"googl\", \"googl\", \"googl\", \"googl\", \"googl\", \"href\", \"href\", \"href\", \"href\", \"href\", \"href\", \"href\", \"href\", \"html\", \"html\", \"html\", \"html\", \"html\", \"html\", \"html\", \"html\", \"http\", \"http\", \"http\", \"http\", \"http\", \"http\", \"http\", \"http\", \"imag\", \"imag\", \"imag\", \"imag\", \"imag\", \"imag\", \"imag\", \"imag\", \"implement\", \"implement\", \"implement\", \"implement\", \"implement\", \"implement\", \"implement\", \"implement\", \"index\", \"index\", \"index\", \"index\", \"index\", \"index\", \"index\", \"index\", \"initi\", \"initi\", \"initi\", \"initi\", \"initi\", \"initi\", \"initi\", \"initi\", \"input\", \"input\", \"input\", \"input\", \"input\", \"input\", \"input\", \"input\", \"insert\", \"insert\", \"insert\", \"insert\", \"insert\", \"insert\", \"insert\", \"insert\", \"insid\", \"insid\", \"insid\", \"insid\", \"insid\", \"insid\", \"insid\", \"insid\", \"instal\", \"instal\", \"instal\", \"instal\", \"instal\", \"instal\", \"instal\", \"instal\", \"instanc\", \"instanc\", \"instanc\", \"instanc\", \"instanc\", \"instanc\", \"instanc\", \"instanc\", \"interest\", \"interest\", \"interest\", \"interest\", \"interest\", \"interest\", \"interest\", \"interest\", \"interfac\", \"interfac\", \"interfac\", \"interfac\", \"interfac\", \"interfac\", \"interfac\", \"interfac\", \"item\", \"item\", \"item\", \"item\", \"item\", \"item\", \"item\", \"item\", \"java\", \"java\", \"java\", \"java\", \"java\", \"java\", \"java\", \"java\", \"javascript\", \"javascript\", \"javascript\", \"javascript\", \"javascript\", \"javascript\", \"javascript\", \"javascript\", \"jqueri\", \"jqueri\", \"jqueri\", \"jqueri\", \"jqueri\", \"jqueri\", \"jqueri\", \"jqueri\", \"know\", \"know\", \"know\", \"know\", \"know\", \"know\", \"know\", \"know\", \"languag\", \"languag\", \"languag\", \"languag\", \"languag\", \"languag\", \"languag\", \"languag\", \"larg\", \"larg\", \"larg\", \"larg\", \"larg\", \"larg\", \"larg\", \"larg\", \"learn\", \"learn\", \"learn\", \"learn\", \"learn\", \"learn\", \"learn\", \"learn\", \"librari\", \"librari\", \"librari\", \"librari\", \"librari\", \"librari\", \"librari\", \"librari\", \"like\", \"like\", \"like\", \"like\", \"like\", \"like\", \"like\", \"like\", \"limit\", \"limit\", \"limit\", \"limit\", \"limit\", \"limit\", \"limit\", \"limit\", \"line\", \"line\", \"line\", \"line\", \"line\", \"line\", \"line\", \"line\", \"link\", \"link\", \"link\", \"link\", \"link\", \"link\", \"link\", \"link\", \"linux\", \"linux\", \"linux\", \"linux\", \"linux\", \"linux\", \"linux\", \"linux\", \"list\", \"list\", \"list\", \"list\", \"list\", \"list\", \"list\", \"list\", \"littl\", \"littl\", \"littl\", \"littl\", \"littl\", \"littl\", \"littl\", \"littl\", \"load\", \"load\", \"load\", \"load\", \"load\", \"load\", \"load\", \"load\", \"local\", \"local\", \"local\", \"local\", \"local\", \"local\", \"local\", \"local\", \"locat\", \"locat\", \"locat\", \"locat\", \"locat\", \"locat\", \"locat\", \"locat\", \"long\", \"long\", \"long\", \"long\", \"long\", \"long\", \"long\", \"long\", \"look\", \"look\", \"look\", \"look\", \"look\", \"look\", \"look\", \"look\", \"loop\", \"loop\", \"loop\", \"loop\", \"loop\", \"loop\", \"loop\", \"loop\", \"machin\", \"machin\", \"machin\", \"machin\", \"machin\", \"machin\", \"machin\", \"machin\", \"main\", \"main\", \"main\", \"main\", \"main\", \"main\", \"main\", \"main\", \"manag\", \"manag\", \"manag\", \"manag\", \"manag\", \"manag\", \"manag\", \"manag\", \"match\", \"match\", \"match\", \"match\", \"match\", \"match\", \"match\", \"match\", \"memori\", \"memori\", \"memori\", \"memori\", \"memori\", \"memori\", \"memori\", \"memori\", \"messag\", \"messag\", \"messag\", \"messag\", \"messag\", \"messag\", \"messag\", \"messag\", \"method\", \"method\", \"method\", \"method\", \"method\", \"method\", \"method\", \"method\", \"microsoft\", \"microsoft\", \"microsoft\", \"microsoft\", \"microsoft\", \"microsoft\", \"microsoft\", \"microsoft\", \"model\", \"model\", \"model\", \"model\", \"model\", \"model\", \"model\", \"model\", \"modifi\", \"modifi\", \"modifi\", \"modifi\", \"modifi\", \"modifi\", \"modifi\", \"modifi\", \"multipl\", \"multipl\", \"multipl\", \"multipl\", \"multipl\", \"multipl\", \"multipl\", \"multipl\", \"mysql\", \"mysql\", \"mysql\", \"mysql\", \"mysql\", \"mysql\", \"mysql\", \"mysql\", \"name\", \"name\", \"name\", \"name\", \"name\", \"name\", \"name\", \"name\", \"need\", \"need\", \"need\", \"need\", \"need\", \"need\", \"need\", \"need\", \"nofollow\", \"nofollow\", \"nofollow\", \"nofollow\", \"nofollow\", \"nofollow\", \"nofollow\", \"nofollow\", \"noreferr\", \"noreferr\", \"noreferr\", \"noreferr\", \"noreferr\", \"noreferr\", \"noreferr\", \"noreferr\", \"null\", \"null\", \"null\", \"null\", \"null\", \"null\", \"null\", \"null\", \"number\", \"number\", \"number\", \"number\", \"number\", \"number\", \"number\", \"number\", \"object\", \"object\", \"object\", \"object\", \"object\", \"object\", \"object\", \"object\", \"open\", \"open\", \"open\", \"open\", \"open\", \"open\", \"open\", \"open\", \"oper\", \"oper\", \"oper\", \"oper\", \"oper\", \"oper\", \"oper\", \"oper\", \"order\", \"order\", \"order\", \"order\", \"order\", \"order\", \"order\", \"order\", \"origin\", \"origin\", \"origin\", \"origin\", \"origin\", \"origin\", \"origin\", \"origin\", \"output\", \"output\", \"output\", \"output\", \"output\", \"output\", \"output\", \"output\", \"page\", \"page\", \"page\", \"page\", \"page\", \"page\", \"page\", \"page\", \"paramet\", \"paramet\", \"paramet\", \"paramet\", \"paramet\", \"paramet\", \"paramet\", \"paramet\", \"pars\", \"pars\", \"pars\", \"pars\", \"pars\", \"pars\", \"pars\", \"pars\", \"pas\", \"pas\", \"pas\", \"pas\", \"pas\", \"pas\", \"pas\", \"pas\", \"pass\", \"pass\", \"pass\", \"pass\", \"pass\", \"pass\", \"pass\", \"pass\", \"path\", \"path\", \"path\", \"path\", \"path\", \"path\", \"path\", \"path\", \"pattern\", \"pattern\", \"pattern\", \"pattern\", \"pattern\", \"pattern\", \"pattern\", \"pattern\", \"peopl\", \"peopl\", \"peopl\", \"peopl\", \"peopl\", \"peopl\", \"peopl\", \"peopl\", \"perform\", \"perform\", \"perform\", \"perform\", \"perform\", \"perform\", \"perform\", \"perform\", \"point\", \"point\", \"point\", \"point\", \"point\", \"point\", \"point\", \"point\", \"possibl\", \"possibl\", \"possibl\", \"possibl\", \"possibl\", \"possibl\", \"possibl\", \"possibl\", \"post\", \"post\", \"post\", \"post\", \"post\", \"post\", \"post\", \"post\", \"practic\", \"practic\", \"practic\", \"practic\", \"practic\", \"practic\", \"practic\", \"practic\", \"prefer\", \"prefer\", \"prefer\", \"prefer\", \"prefer\", \"prefer\", \"prefer\", \"prefer\", \"print\", \"print\", \"print\", \"print\", \"print\", \"print\", \"print\", \"print\", \"privat\", \"privat\", \"privat\", \"privat\", \"privat\", \"privat\", \"privat\", \"privat\", \"process\", \"process\", \"process\", \"process\", \"process\", \"process\", \"process\", \"process\", \"product\", \"product\", \"product\", \"product\", \"product\", \"product\", \"product\", \"product\", \"program\", \"program\", \"program\", \"program\", \"program\", \"program\", \"program\", \"program\", \"project\", \"project\", \"project\", \"project\", \"project\", \"project\", \"project\", \"project\", \"properti\", \"properti\", \"properti\", \"properti\", \"properti\", \"properti\", \"properti\", \"properti\", \"public\", \"public\", \"public\", \"public\", \"public\", \"public\", \"public\", \"public\", \"python\", \"python\", \"python\", \"python\", \"python\", \"python\", \"python\", \"python\", \"queri\", \"queri\", \"queri\", \"queri\", \"queri\", \"queri\", \"queri\", \"queri\", \"question\", \"question\", \"question\", \"question\", \"question\", \"question\", \"question\", \"question\", \"read\", \"read\", \"read\", \"read\", \"read\", \"read\", \"read\", \"read\", \"real\", \"real\", \"real\", \"real\", \"real\", \"real\", \"real\", \"real\", \"recent\", \"recent\", \"recent\", \"recent\", \"recent\", \"recent\", \"recent\", \"recent\", \"recommend\", \"recommend\", \"recommend\", \"recommend\", \"recommend\", \"recommend\", \"recommend\", \"recommend\", \"refer\", \"refer\", \"refer\", \"refer\", \"refer\", \"refer\", \"refer\", \"refer\", \"relat\", \"relat\", \"relat\", \"relat\", \"relat\", \"relat\", \"relat\", \"relat\", \"replac\", \"replac\", \"replac\", \"replac\", \"replac\", \"replac\", \"replac\", \"replac\", \"request\", \"request\", \"request\", \"request\", \"request\", \"request\", \"request\", \"request\", \"resourc\", \"resourc\", \"resourc\", \"resourc\", \"resourc\", \"resourc\", \"resourc\", \"resourc\", \"respons\", \"respons\", \"respons\", \"respons\", \"respons\", \"respons\", \"respons\", \"respons\", \"result\", \"result\", \"result\", \"result\", \"result\", \"result\", \"result\", \"result\", \"return\", \"return\", \"return\", \"return\", \"return\", \"return\", \"return\", \"return\", \"run\", \"run\", \"run\", \"run\", \"run\", \"run\", \"run\", \"run\", \"save\", \"save\", \"save\", \"save\", \"save\", \"save\", \"save\", \"save\", \"script\", \"script\", \"script\", \"script\", \"script\", \"script\", \"script\", \"script\", \"search\", \"search\", \"search\", \"search\", \"search\", \"search\", \"search\", \"search\", \"seen\", \"seen\", \"seen\", \"seen\", \"seen\", \"seen\", \"seen\", \"seen\", \"select\", \"select\", \"select\", \"select\", \"select\", \"select\", \"select\", \"select\", \"send\", \"send\", \"send\", \"send\", \"send\", \"send\", \"send\", \"send\", \"server\", \"server\", \"server\", \"server\", \"server\", \"server\", \"server\", \"server\", \"servic\", \"servic\", \"servic\", \"servic\", \"servic\", \"servic\", \"servic\", \"servic\", \"set\", \"set\", \"set\", \"set\", \"set\", \"set\", \"set\", \"set\", \"show\", \"show\", \"show\", \"show\", \"show\", \"show\", \"show\", \"show\", \"similar\", \"similar\", \"similar\", \"similar\", \"similar\", \"similar\", \"similar\", \"similar\", \"singl\", \"singl\", \"singl\", \"singl\", \"singl\", \"singl\", \"singl\", \"singl\", \"site\", \"site\", \"site\", \"site\", \"site\", \"site\", \"site\", \"site\", \"size\", \"size\", \"size\", \"size\", \"size\", \"size\", \"size\", \"size\", \"small\", \"small\", \"small\", \"small\", \"small\", \"small\", \"small\", \"small\", \"softwar\", \"softwar\", \"softwar\", \"softwar\", \"softwar\", \"softwar\", \"softwar\", \"softwar\", \"solut\", \"solut\", \"solut\", \"solut\", \"solut\", \"solut\", \"solut\", \"solut\", \"sort\", \"sort\", \"sort\", \"sort\", \"sort\", \"sort\", \"sort\", \"sort\", \"sourc\", \"sourc\", \"sourc\", \"sourc\", \"sourc\", \"sourc\", \"sourc\", \"sourc\", \"stackoverflow\", \"stackoverflow\", \"stackoverflow\", \"stackoverflow\", \"stackoverflow\", \"stackoverflow\", \"stackoverflow\", \"stackoverflow\", \"start\", \"start\", \"start\", \"start\", \"start\", \"start\", \"start\", \"start\", \"statement\", \"statement\", \"statement\", \"statement\", \"statement\", \"statement\", \"statement\", \"statement\", \"static\", \"static\", \"static\", \"static\", \"static\", \"static\", \"static\", \"static\", \"store\", \"store\", \"store\", \"store\", \"store\", \"store\", \"store\", \"store\", \"string\", \"string\", \"string\", \"string\", \"string\", \"string\", \"string\", \"string\", \"strong\", \"strong\", \"strong\", \"strong\", \"strong\", \"strong\", \"strong\", \"strong\", \"structur\", \"structur\", \"structur\", \"structur\", \"structur\", \"structur\", \"structur\", \"structur\", \"studio\", \"studio\", \"studio\", \"studio\", \"studio\", \"studio\", \"studio\", \"studio\", \"style\", \"style\", \"style\", \"style\", \"style\", \"style\", \"style\", \"style\", \"support\", \"support\", \"support\", \"support\", \"support\", \"support\", \"support\", \"support\", \"tabl\", \"tabl\", \"tabl\", \"tabl\", \"tabl\", \"tabl\", \"tabl\", \"tabl\", \"task\", \"task\", \"task\", \"task\", \"task\", \"task\", \"task\", \"task\", \"test\", \"test\", \"test\", \"test\", \"test\", \"test\", \"test\", \"test\", \"text\", \"text\", \"text\", \"text\", \"text\", \"text\", \"text\", \"text\", \"thread\", \"thread\", \"thread\", \"thread\", \"thread\", \"thread\", \"thread\", \"thread\", \"throw\", \"throw\", \"throw\", \"throw\", \"throw\", \"throw\", \"throw\", \"throw\", \"time\", \"time\", \"time\", \"time\", \"time\", \"time\", \"time\", \"time\", \"tool\", \"tool\", \"tool\", \"tool\", \"tool\", \"tool\", \"tool\", \"tool\", \"true\", \"true\", \"true\", \"true\", \"true\", \"true\", \"true\", \"true\", \"type\", \"type\", \"type\", \"type\", \"type\", \"type\", \"type\", \"type\", \"updat\", \"updat\", \"updat\", \"updat\", \"updat\", \"updat\", \"updat\", \"updat\", \"use\", \"use\", \"use\", \"use\", \"use\", \"use\", \"use\", \"use\", \"user\", \"user\", \"user\", \"user\", \"user\", \"user\", \"user\", \"user\", \"valid\", \"valid\", \"valid\", \"valid\", \"valid\", \"valid\", \"valid\", \"valid\", \"valu\", \"valu\", \"valu\", \"valu\", \"valu\", \"valu\", \"valu\", \"valu\", \"variabl\", \"variabl\", \"variabl\", \"variabl\", \"variabl\", \"variabl\", \"variabl\", \"variabl\", \"version\", \"version\", \"version\", \"version\", \"version\", \"version\", \"version\", \"version\", \"view\", \"view\", \"view\", \"view\", \"view\", \"view\", \"view\", \"view\", \"visual\", \"visual\", \"visual\", \"visual\", \"visual\", \"visual\", \"visual\", \"visual\", \"void\", \"void\", \"void\", \"void\", \"void\", \"void\", \"void\", \"void\", \"want\", \"want\", \"want\", \"want\", \"want\", \"want\", \"want\", \"want\", \"websit\", \"websit\", \"websit\", \"websit\", \"websit\", \"websit\", \"websit\", \"websit\", \"wiki\", \"wiki\", \"wiki\", \"wiki\", \"wiki\", \"wiki\", \"wiki\", \"wiki\", \"wikipedia\", \"wikipedia\", \"wikipedia\", \"wikipedia\", \"wikipedia\", \"wikipedia\", \"wikipedia\", \"wikipedia\", \"window\", \"window\", \"window\", \"window\", \"window\", \"window\", \"window\", \"window\", \"word\", \"word\", \"word\", \"word\", \"word\", \"word\", \"word\", \"word\", \"work\", \"work\", \"work\", \"work\", \"work\", \"work\", \"work\", \"work\", \"write\", \"write\", \"write\", \"write\", \"write\", \"write\", \"write\", \"write\"]}, \"R\": 30, \"lambda.step\": 0.01, \"plot.opts\": {\"xlab\": \"PC1\", \"ylab\": \"PC2\"}, \"topic.order\": [5, 2, 7, 3, 8, 4, 1, 6]};\n",
       "\n",
       "function LDAvis_load_lib(url, callback){\n",
       "  var s = document.createElement('script');\n",
       "  s.src = url;\n",
       "  s.async = true;\n",
       "  s.onreadystatechange = s.onload = callback;\n",
       "  s.onerror = function(){console.warn(\"failed to load library \" + url);};\n",
       "  document.getElementsByTagName(\"head\")[0].appendChild(s);\n",
       "}\n",
       "\n",
       "if(typeof(LDAvis) !== \"undefined\"){\n",
       "   // already loaded: just create the visualization\n",
       "   !function(LDAvis){\n",
       "       new LDAvis(\"#\" + \"ldavis_el1451612609442894566886010848\", ldavis_el1451612609442894566886010848_data);\n",
       "   }(LDAvis);\n",
       "}else if(typeof define === \"function\" && define.amd){\n",
       "   // require.js is available: use it to load d3/LDAvis\n",
       "   require.config({paths: {d3: \"https://d3js.org/d3.v5\"}});\n",
       "   require([\"d3\"], function(d3){\n",
       "      window.d3 = d3;\n",
       "      LDAvis_load_lib(\"https://cdn.jsdelivr.net/gh/bmabey/pyLDAvis@3.4.0/pyLDAvis/js/ldavis.v3.0.0.js\", function(){\n",
       "        new LDAvis(\"#\" + \"ldavis_el1451612609442894566886010848\", ldavis_el1451612609442894566886010848_data);\n",
       "      });\n",
       "    });\n",
       "}else{\n",
       "    // require.js not available: dynamically load d3 & LDAvis\n",
       "    LDAvis_load_lib(\"https://d3js.org/d3.v5.js\", function(){\n",
       "         LDAvis_load_lib(\"https://cdn.jsdelivr.net/gh/bmabey/pyLDAvis@3.4.0/pyLDAvis/js/ldavis.v3.0.0.js\", function(){\n",
       "                 new LDAvis(\"#\" + \"ldavis_el1451612609442894566886010848\", ldavis_el1451612609442894566886010848_data);\n",
       "            })\n",
       "         });\n",
       "}\n",
       "</script>"
      ],
      "text/plain": [
       "<IPython.core.display.HTML object>"
      ]
     },
     "metadata": {},
     "output_type": "display_data"
    }
   ],
   "source": [
    "from IPython.display import HTML\n",
    "css_str = '<style> \\\n",
    ".jp-icon-warn0 path {fill: var(--jp-warn-color0);} \\\n",
    ".bp3-button-text path { fill: var(--jp-inverse-layout-color3);} \\\n",
    ".jp-icon-brand0 path { fill: var(--jp-brand-color0);} \\\n",
    "text.terms { fill: #616161;} \\\n",
    "</style>'\n",
    "display(HTML(css_str))\n",
    "\n",
    "%matplotlib inline\n",
    "pyLDAvis.enable_notebook()\n",
    "vis = pyLDAvis.gensim_models.prepare(lda_model, bow_corpus, id2word)\n",
    "pyLDAvis.save_html(vis, 'lda_tfidf.html')\n",
    "display(HTML('lda_tfidf.html'))"
   ]
  },
  {
   "cell_type": "markdown",
   "id": "e8a56e77",
   "metadata": {
    "ExecuteTime": {
     "end_time": "2023-04-27T07:00:27.930696Z",
     "start_time": "2023-04-27T07:00:27.922420Z"
    }
   },
   "source": [
    "* Chaque bulle représente un sujet  \n",
    "* Plus la bulle est grande, plus le pourcentage du nombre de mots dans le corpus concerne ce sujet  \n",
    "* Les barres bleues représentent la fréquence globale de chaque mot dans le corpus  \n",
    "* Si aucun sujet n'est sélectionné, les barres bleues des mots les plus fréquemment utilisés seront affichées  \n",
    "* Les barres rouges indiquent le nombre estimé de fois qu'un terme donné a été généré par un sujet donné  \n",
    "* Plus les bulles sont éloignées les unes des autres, plus elles sont différentes  \n",
    "Par exemple, il est difficile de faire la différence entre les sujets 1 et 7\n",
    "\n",
    "**Un bon modèle de sujet aura de 'grosses' bulles qui ne se chevauchent pas, dispersées dans le graphique** "
   ]
  },
  {
   "cell_type": "markdown",
   "id": "d8341e45",
   "metadata": {},
   "source": [
    "## Sérialisation modèle et dictionnaire"
   ]
  },
  {
   "cell_type": "code",
   "execution_count": 144,
   "id": "c2a81c2f",
   "metadata": {
    "ExecuteTime": {
     "end_time": "2023-05-20T10:44:55.542407Z",
     "start_time": "2023-05-20T10:44:55.527795Z"
    }
   },
   "outputs": [],
   "source": [
    "#filename_model = 'model/lda_model.pkl'\n",
    "#pickle.dump(lda_model, open(filename_model, 'wb'))\n",
    "##\n",
    "#filename_dictionary = 'model/dictionary.pkl'\n",
    "#pickle.dump(id2word, open(filename_dictionary, 'wb'))"
   ]
  },
  {
   "cell_type": "code",
   "execution_count": 72,
   "id": "2c58378d",
   "metadata": {
    "ExecuteTime": {
     "end_time": "2023-05-12T08:00:34.281740Z",
     "start_time": "2023-05-12T08:00:34.265743Z"
    }
   },
   "outputs": [],
   "source": [
    "#joblib.dump(lda_model, \"model/joblib/lda_model.gz\")\n",
    "#joblib.dump(id2word, \"model/joblib/dictionary.gz\")"
   ]
  },
  {
   "cell_type": "markdown",
   "id": "84380561",
   "metadata": {},
   "source": [
    "## Fonction de prédiction"
   ]
  },
  {
   "cell_type": "code",
   "execution_count": 80,
   "id": "144efc23",
   "metadata": {
    "ExecuteTime": {
     "end_time": "2023-05-20T22:49:44.822895Z",
     "start_time": "2023-05-20T22:49:44.808997Z"
    }
   },
   "outputs": [],
   "source": [
    "def predict_unsupervised_tags(text):\n",
    "    \"\"\"\n",
    "    Predict tags of a preprocessed text\n",
    "    \n",
    "    Args:\n",
    "        text(list): preprocessed text\n",
    "        \n",
    "    Returns:\n",
    "        relevant_tags(list): list of tags\n",
    "    \"\"\"\n",
    "    \n",
    "    corpus_new = id2word.doc2bow(text)\n",
    "    topics = lda_model.get_document_topics(corpus_new)\n",
    "    \n",
    "    #find most relevant topic according to probability\n",
    "    relevant_topic = topics[0][0]\n",
    "    relevant_topic_prob = topics[0][1]\n",
    "    \n",
    "    for i in range(len(topics)):\n",
    "        if topics[i][1] > relevant_topic_prob:\n",
    "            relevant_topic = topics[i][0]\n",
    "            relevant_topic_prob = topics[i][1]\n",
    "            \n",
    "    #retrieve associated to topic tags present in submited text\n",
    "    potential_tags = lda_model.get_topic_terms(topicid=relevant_topic, topn=20)\n",
    "    \n",
    "    relevant_tags = [id2word[tag[0]] for tag in potential_tags if id2word[tag[0]] in text]\n",
    "    \n",
    "    return relevant_tags"
   ]
  },
  {
   "cell_type": "code",
   "execution_count": 81,
   "id": "0b82e90e",
   "metadata": {
    "ExecuteTime": {
     "end_time": "2023-05-20T22:49:50.292892Z",
     "start_time": "2023-05-20T22:49:49.978077Z"
    }
   },
   "outputs": [
    {
     "data": {
      "text/html": [
       "<div>\n",
       "<style scoped>\n",
       "    .dataframe tbody tr th:only-of-type {\n",
       "        vertical-align: middle;\n",
       "    }\n",
       "\n",
       "    .dataframe tbody tr th {\n",
       "        vertical-align: top;\n",
       "    }\n",
       "\n",
       "    .dataframe thead th {\n",
       "        text-align: right;\n",
       "    }\n",
       "</style>\n",
       "<table border=\"1\" class=\"dataframe\">\n",
       "  <thead>\n",
       "    <tr style=\"text-align: right;\">\n",
       "      <th></th>\n",
       "      <th>Post</th>\n",
       "      <th>splitted_text</th>\n",
       "      <th>splitted_tags</th>\n",
       "    </tr>\n",
       "  </thead>\n",
       "  <tbody>\n",
       "    <tr>\n",
       "      <th>0</th>\n",
       "      <td>How to convert Decimal to Double in C#? &lt;p&gt;I w...</td>\n",
       "      <td>[convert, decimal, assign, opacity, value, opa...</td>\n",
       "      <td>[floating, point, type, conversion, double, de...</td>\n",
       "    </tr>\n",
       "    <tr>\n",
       "      <th>1</th>\n",
       "      <td>Why did the width collapse in the percentage w...</td>\n",
       "      <td>[width, collapse, percentage, width, child, el...</td>\n",
       "      <td>[html, internet, explorer]</td>\n",
       "    </tr>\n",
       "    <tr>\n",
       "      <th>2</th>\n",
       "      <td>How do I calculate someone's age based on a Da...</td>\n",
       "      <td>[calculate, someone, birthday, person, calculate]</td>\n",
       "      <td>[datetime]</td>\n",
       "    </tr>\n",
       "  </tbody>\n",
       "</table>\n",
       "</div>"
      ],
      "text/plain": [
       "                                                Post  \\\n",
       "0  How to convert Decimal to Double in C#? <p>I w...   \n",
       "1  Why did the width collapse in the percentage w...   \n",
       "2  How do I calculate someone's age based on a Da...   \n",
       "\n",
       "                                       splitted_text  \\\n",
       "0  [convert, decimal, assign, opacity, value, opa...   \n",
       "1  [width, collapse, percentage, width, child, el...   \n",
       "2  [calculate, someone, birthday, person, calculate]   \n",
       "\n",
       "                                       splitted_tags  \n",
       "0  [floating, point, type, conversion, double, de...  \n",
       "1                         [html, internet, explorer]  \n",
       "2                                         [datetime]  "
      ]
     },
     "execution_count": 81,
     "metadata": {},
     "output_type": "execute_result"
    }
   ],
   "source": [
    "data = pd.read_pickle(\"./data/cleaned_corpus.pkl\")\n",
    "data.reset_index(drop=True, inplace=True)\n",
    "data.head(3)"
   ]
  },
  {
   "cell_type": "code",
   "execution_count": 82,
   "id": "8829e385",
   "metadata": {
    "ExecuteTime": {
     "end_time": "2023-05-20T22:50:08.618035Z",
     "start_time": "2023-05-20T22:49:56.040873Z"
    }
   },
   "outputs": [
    {
     "name": "stdout",
     "output_type": "stream",
     "text": [
      "tag_true = 8.75%\n",
      "tag_false = 76.75%\n",
      "tag_empty = 14.51%\n"
     ]
    }
   ],
   "source": [
    "pred_list = []\n",
    "true_list = []\n",
    "for i in range(0, len(data.splitted_text)):\n",
    "    pred = predict_unsupervised_tags(data.loc[i,'splitted_text'])\n",
    "    pred_list.append(pred)\n",
    "    true_list.append(data.loc[i, ('splitted_tags')])\n",
    "    \n",
    "tags_values = {}\n",
    "for i in range(0, len(pred_list)):\n",
    "    if len(pred_list[i]) == 0:\n",
    "        tags_values[i] = -1\n",
    "    else:\n",
    "        for tag in pred_list[i]:\n",
    "            if tag in true_list[i]:\n",
    "                tags_values[i] = 1\n",
    "            else:\n",
    "                tags_values[i] = 0\n",
    "                break\n",
    "tag_empty = 0\n",
    "tag_false = 0 \n",
    "tag_true = 0\n",
    "for val in tags_values.values():\n",
    "    if val == -1:\n",
    "        tag_empty = tag_empty + 1\n",
    "    if val == 0:\n",
    "        tag_false = tag_false + 1\n",
    "    if val == 1:\n",
    "        tag_true = tag_true + 1\n",
    "        \n",
    "s = tag_empty + tag_false + tag_true\n",
    "\n",
    "print(f\"tag_true = {np.round(tag_true / s *100, 2)}%\")\n",
    "print(f\"tag_false = {np.round(tag_false / s *100, 2)}%\")\n",
    "print(f\"tag_empty = {np.round(tag_empty / s *100, 2)}%\")"
   ]
  },
  {
   "cell_type": "markdown",
   "id": "81ef6ff1",
   "metadata": {},
   "source": [
    "## Fonction de vérification"
   ]
  },
  {
   "cell_type": "code",
   "execution_count": 83,
   "id": "f18d63a3",
   "metadata": {
    "ExecuteTime": {
     "end_time": "2023-05-20T22:50:20.025907Z",
     "start_time": "2023-05-20T22:50:20.017903Z"
    }
   },
   "outputs": [],
   "source": [
    "def check_tag_predction(original_text, original_tags, preprocessed_text, supervised_model, mlb, model_USE):\n",
    "    \"\"\"\n",
    "    Check original tags vs predicted tags for a post.\n",
    "    \n",
    "    Args:\n",
    "        post(list) : original text\n",
    "        original_tags(list) : preprocessed_tags\n",
    "    \"\"\"\n",
    "    \n",
    "    predicted_supervised_tags = predict_supervised_tags(model_USE, supervised_model, mlb, preprocessed_text)\n",
    "    \n",
    "    predicted_unsupervised_tags = predict_unsupervised_tags(preprocessed_text)\n",
    "        \n",
    "    #print(\"Publication originale: \\n\")\n",
    "    #print(f\"{original_text}\")\n",
    "    #print(\"\\n\")\n",
    "    print(f\"Liste des tags pré-traités utilisés par l'utilisateur: {original_tags}\")\n",
    "    print(\"\\n\")\n",
    "    print(f\"Liste des tags prédits par le modèle supervisé: {predicted_supervised_tags}\")\n",
    "    print(\"\\n\")\n",
    "    print(f\"Liste des tags prédits par le modèle non supervisé: {predicted_unsupervised_tags}\")\n",
    "\n",
    "    print(\"Test des 10 premiers documents du corpus\\n\")\n"
   ]
  },
  {
   "cell_type": "code",
   "execution_count": 84,
   "id": "9ba43edd",
   "metadata": {
    "ExecuteTime": {
     "end_time": "2023-05-20T22:50:30.062102Z",
     "start_time": "2023-05-20T22:50:30.043944Z"
    }
   },
   "outputs": [
    {
     "data": {
      "text/plain": [
       "Index(['Post', 'splitted_text', 'splitted_tags'], dtype='object')"
      ]
     },
     "execution_count": 84,
     "metadata": {},
     "output_type": "execute_result"
    }
   ],
   "source": [
    "data.columns"
   ]
  },
  {
   "cell_type": "code",
   "execution_count": null,
   "id": "0f2d451f",
   "metadata": {
    "ExecuteTime": {
     "end_time": "2023-05-20T22:50:35.803615Z",
     "start_time": "2023-05-20T22:50:34.785948Z"
    },
    "scrolled": false
   },
   "outputs": [],
   "source": [
    "supervised_model = pd.read_pickle('model/supervised_model.pkl')\n",
    "print(\"Test des 10 premiers documents du corpus\\n\")\n",
    "for i in range(10):\n",
    "    print(f\"Document {i}:\")\n",
    "    print(\"\\n\")\n",
    "    check_tag_predction(data.loc[i,'Post'],\n",
    "                        data.loc[i,'splitted_tags'],\n",
    "                        data.loc[i,'splitted_text'],\n",
    "                        supervised_model,\n",
    "                        mlb,\n",
    "                        Model_use,\n",
    "                       )\n",
    "    print(\"-\"*100 + \"\\n\")"
   ]
  },
  {
   "cell_type": "markdown",
   "id": "a6056167",
   "metadata": {
    "ExecuteTime": {
     "end_time": "2023-04-27T07:15:24.322868Z",
     "start_time": "2023-04-27T07:15:23.095487Z"
    }
   },
   "source": [
    "# Conclusion"
   ]
  },
  {
   "attachments": {
    "image.png": {
     "image/png": "[encoded data removed]"
    }
   },
   "cell_type": "markdown",
   "id": "33740961",
   "metadata": {},
   "source": [
    "![image.png](attachment:image.png)"
   ]
  },
  {
   "cell_type": "markdown",
   "id": "5bed3318",
   "metadata": {},
   "source": [
    "Les seuls indicateurs de performance communs aux modèles supervisés et non supervisés sont:\n",
    "- **time_score**\n",
    "- **tag_true**: parmi les tags choisis par l'utilisateur, au moins 1 tag prédit est juste\n",
    "- **tag_false**: tous les tags prédits sont différents des tags utilisateurs\n",
    "- **tag_empty**: aucun tag n'est prédit\n",
    "\n",
    "\n",
    "Nous constatons:\n",
    "* Une différence nette dans le temps de traitement (time_score), avantage au modèle supervisé (56 secondes vs 291)\n",
    "* Des performances moyennes dans les prévisions justes (tag_true) avec un avantage pour le modèle supervisé (44% vs 9)\n",
    "* Les erreurs de prédiction (somme des 'tag_false' et 'tag_empty') sont plus nombreuses avec la modèle non supervisé (91% vs 58)\n",
    "* Le modèle supervisé prédit peu de tag faux (tag_false) mais beaucoup de tags vides (tag_empty) alors que le modèle non supervisé fait le contraire\n",
    "\n",
    "Au-delà des prédictions, il s’avère que l’approche non supervisée est soumise à moins de contraintes que l’approche supervisée  \n",
    "\n",
    "En effet le modèle supervisé nécessite un travail plus important sur le dimensionnement des données et leur pré-traitement avant entrainement  \n",
    "\n",
    "De plus l'approche supervisée nécessite de maintenir plus de ressources (modèle de PCA,  modèle de vectorisation des tags, SVM)  \n",
    "que l’approche non supervisée (modèle LDA et vocabulary)\n",
    "\n",
    "\n",
    "**Pour ces raisons, et afin de maximaliser les prévisions justes, nous choisissons une utilisation complémentaire de ces modèles pour l'API**"
   ]
  },
  {
   "cell_type": "markdown",
   "id": "3b4eaa97",
   "metadata": {},
   "source": [
    "**Liens GitHub**\n",
    "* Le projet https://github.com/YCS127/OPC_ML_P5\n",
    "* API (développée avec VS-code et déplyée dans StreamlitCloud) https://github.com/YCS127/OPC_API2\n",
    "\n",
    "**Lien API**\n",
    "https://ycs127-opc-api2-app-p5-18s8dz.streamlit.app/\n"
   ]
  }
 ],
 "metadata": {
  "hide_input": false,
  "kernelspec": {
   "display_name": "Python 3 (ipykernel)",
   "language": "python",
   "name": "python3"
  },
  "language_info": {
   "codemirror_mode": {
    "name": "ipython",
    "version": 3
   },
   "file_extension": ".py",
   "mimetype": "text/x-python",
   "name": "python",
   "nbconvert_exporter": "python",
   "pygments_lexer": "ipython3",
   "version": "3.9.16"
  },
  "toc": {
   "base_numbering": 1,
   "nav_menu": {},
   "number_sections": true,
   "sideBar": true,
   "skip_h1_title": false,
   "title_cell": "Table of Contents",
   "title_sidebar": "Contents",
   "toc_cell": true,
   "toc_position": {
    "height": "calc(100% - 180px)",
    "left": "10px",
    "top": "150px",
    "width": "277.987px"
   },
   "toc_section_display": true,
   "toc_window_display": true
  }
 },
 "nbformat": 4,
 "nbformat_minor": 5
}

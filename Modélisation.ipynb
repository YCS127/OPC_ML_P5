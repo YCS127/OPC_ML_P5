{
 "cells": [
  {
   "cell_type": "markdown",
   "id": "36ef7913",
   "metadata": {
    "toc": true
   },
   "source": [
    "<h1>Table of Contents<span class=\"tocSkip\"></span></h1>\n",
    "<div class=\"toc\"><ul class=\"toc-item\"><li><span><a href=\"#Librairies\" data-toc-modified-id=\"Librairies-1\"><span class=\"toc-item-num\">1&nbsp;&nbsp;</span>Librairies</a></span></li><li><span><a href=\"#Les-données\" data-toc-modified-id=\"Les-données-2\"><span class=\"toc-item-num\">2&nbsp;&nbsp;</span>Les données</a></span></li><li><span><a href=\"#Classification-supervisée\" data-toc-modified-id=\"Classification-supervisée-3\"><span class=\"toc-item-num\">3&nbsp;&nbsp;</span>Classification supervisée</a></span><ul class=\"toc-item\"><li><span><a href=\"#Fréquence-de-distribution-des-tokens\" data-toc-modified-id=\"Fréquence-de-distribution-des-tokens-3.1\"><span class=\"toc-item-num\">3.1&nbsp;&nbsp;</span>Fréquence de distribution des tokens</a></span></li><li><span><a href=\"#Fréquence-de-distribution-des-tags\" data-toc-modified-id=\"Fréquence-de-distribution-des-tags-3.2\"><span class=\"toc-item-num\">3.2&nbsp;&nbsp;</span>Fréquence de distribution des tags</a></span></li><li><span><a href=\"#Nombre-de-tags-par-observation\" data-toc-modified-id=\"Nombre-de-tags-par-observation-3.3\"><span class=\"toc-item-num\">3.3&nbsp;&nbsp;</span>Nombre de tags par observation</a></span></li><li><span><a href=\"#Nombre-de-tags-uniques\" data-toc-modified-id=\"Nombre-de-tags-uniques-3.4\"><span class=\"toc-item-num\">3.4&nbsp;&nbsp;</span>Nombre de tags uniques</a></span></li><li><span><a href=\"#WordCloud\" data-toc-modified-id=\"WordCloud-3.5\"><span class=\"toc-item-num\">3.5&nbsp;&nbsp;</span>WordCloud</a></span></li><li><span><a href=\"#Top-200-tags\" data-toc-modified-id=\"Top-200-tags-3.6\"><span class=\"toc-item-num\">3.6&nbsp;&nbsp;</span>Top 200 tags</a></span></li><li><span><a href=\"#Word-embedding\" data-toc-modified-id=\"Word-embedding-3.7\"><span class=\"toc-item-num\">3.7&nbsp;&nbsp;</span>Word embedding</a></span><ul class=\"toc-item\"><li><span><a href=\"#Tf-idf\" data-toc-modified-id=\"Tf-idf-3.7.1\"><span class=\"toc-item-num\">3.7.1&nbsp;&nbsp;</span>Tf-idf</a></span></li><li><span><a href=\"#Word2vec\" data-toc-modified-id=\"Word2vec-3.7.2\"><span class=\"toc-item-num\">3.7.2&nbsp;&nbsp;</span>Word2vec</a></span></li></ul></li><li><span><a href=\"#Préparation-des-tags\" data-toc-modified-id=\"Préparation-des-tags-3.8\"><span class=\"toc-item-num\">3.8&nbsp;&nbsp;</span>Préparation des tags</a></span><ul class=\"toc-item\"><li><span><a href=\"#Tags-uniques\" data-toc-modified-id=\"Tags-uniques-3.8.1\"><span class=\"toc-item-num\">3.8.1&nbsp;&nbsp;</span>Tags uniques</a></span></li><li><span><a href=\"#Encodage-des-tags\" data-toc-modified-id=\"Encodage-des-tags-3.8.2\"><span class=\"toc-item-num\">3.8.2&nbsp;&nbsp;</span>Encodage des tags</a></span></li></ul></li><li><span><a href=\"#Partition-des-données\" data-toc-modified-id=\"Partition-des-données-3.9\"><span class=\"toc-item-num\">3.9&nbsp;&nbsp;</span>Partition des données</a></span></li><li><span><a href=\"#Réduction-de-dimension\" data-toc-modified-id=\"Réduction-de-dimension-3.10\"><span class=\"toc-item-num\">3.10&nbsp;&nbsp;</span>Réduction de dimension</a></span></li><li><span><a href=\"#Performance-comparée\" data-toc-modified-id=\"Performance-comparée-3.11\"><span class=\"toc-item-num\">3.11&nbsp;&nbsp;</span>Performance comparée</a></span><ul class=\"toc-item\"><li><span><a href=\"#Procédure\" data-toc-modified-id=\"Procédure-3.11.1\"><span class=\"toc-item-num\">3.11.1&nbsp;&nbsp;</span>Procédure</a></span></li><li><span><a href=\"#Fonction-de-comparaison\" data-toc-modified-id=\"Fonction-de-comparaison-3.11.2\"><span class=\"toc-item-num\">3.11.2&nbsp;&nbsp;</span>Fonction de comparaison</a></span></li><li><span><a href=\"#On-compare-les-performances\" data-toc-modified-id=\"On-compare-les-performances-3.11.3\"><span class=\"toc-item-num\">3.11.3&nbsp;&nbsp;</span>On compare les performances</a></span></li><li><span><a href=\"#Optimisation-modèle-retenu\" data-toc-modified-id=\"Optimisation-modèle-retenu-3.11.4\"><span class=\"toc-item-num\">3.11.4&nbsp;&nbsp;</span>Optimisation modèle retenu</a></span></li><li><span><a href=\"#Sauvegarde-des-modèles-et-données\" data-toc-modified-id=\"Sauvegarde-des-modèles-et-données-3.11.5\"><span class=\"toc-item-num\">3.11.5&nbsp;&nbsp;</span>Sauvegarde des modèles et données</a></span></li><li><span><a href=\"#Fonction-de-prédiction\" data-toc-modified-id=\"Fonction-de-prédiction-3.11.6\"><span class=\"toc-item-num\">3.11.6&nbsp;&nbsp;</span>Fonction de prédiction</a></span></li><li><span><a href=\"#Fonction-de-vérification\" data-toc-modified-id=\"Fonction-de-vérification-3.11.7\"><span class=\"toc-item-num\">3.11.7&nbsp;&nbsp;</span>Fonction de vérification</a></span></li></ul></li></ul></li><li><span><a href=\"#Classification-non-supervisée\" data-toc-modified-id=\"Classification-non-supervisée-4\"><span class=\"toc-item-num\">4&nbsp;&nbsp;</span>Classification non supervisée</a></span><ul class=\"toc-item\"><li><span><a href=\"#Préparation-data\" data-toc-modified-id=\"Préparation-data-4.1\"><span class=\"toc-item-num\">4.1&nbsp;&nbsp;</span>Préparation data</a></span></li><li><span><a href=\"#Conversion-des-données\" data-toc-modified-id=\"Conversion-des-données-4.2\"><span class=\"toc-item-num\">4.2&nbsp;&nbsp;</span>Conversion des données</a></span></li><li><span><a href=\"#Choix-du-modèle\" data-toc-modified-id=\"Choix-du-modèle-4.3\"><span class=\"toc-item-num\">4.3&nbsp;&nbsp;</span>Choix du modèle</a></span></li><li><span><a href=\"#Recherche-du-nombre-de-topics-(cohérence)\" data-toc-modified-id=\"Recherche-du-nombre-de-topics-(cohérence)-4.4\"><span class=\"toc-item-num\">4.4&nbsp;&nbsp;</span>Recherche du nombre de topics (cohérence)</a></span></li><li><span><a href=\"#Les-mesures-de-cohérence-du-modèle\" data-toc-modified-id=\"Les-mesures-de-cohérence-du-modèle-4.5\"><span class=\"toc-item-num\">4.5&nbsp;&nbsp;</span>Les mesures de cohérence du modèle</a></span></li><li><span><a href=\"#Visualisation-des-topics\" data-toc-modified-id=\"Visualisation-des-topics-4.6\"><span class=\"toc-item-num\">4.6&nbsp;&nbsp;</span>Visualisation des topics</a></span></li><li><span><a href=\"#Stockage-des-résultats-(df)\" data-toc-modified-id=\"Stockage-des-résultats-(df)-4.7\"><span class=\"toc-item-num\">4.7&nbsp;&nbsp;</span>Stockage des résultats (df)</a></span></li><li><span><a href=\"#Sérialisation-modèle-et-dictionnaire\" data-toc-modified-id=\"Sérialisation-modèle-et-dictionnaire-4.8\"><span class=\"toc-item-num\">4.8&nbsp;&nbsp;</span>Sérialisation modèle et dictionnaire</a></span></li><li><span><a href=\"#Fonction-de-prédiction\" data-toc-modified-id=\"Fonction-de-prédiction-4.9\"><span class=\"toc-item-num\">4.9&nbsp;&nbsp;</span>Fonction de prédiction</a></span></li><li><span><a href=\"#Fonction-de-vérification\" data-toc-modified-id=\"Fonction-de-vérification-4.10\"><span class=\"toc-item-num\">4.10&nbsp;&nbsp;</span>Fonction de vérification</a></span></li></ul></li><li><span><a href=\"#Conclusion\" data-toc-modified-id=\"Conclusion-5\"><span class=\"toc-item-num\">5&nbsp;&nbsp;</span>Conclusion</a></span></li></ul></div>"
   ]
  },
  {
   "cell_type": "markdown",
   "id": "d13e1008",
   "metadata": {},
   "source": [
    "# Librairies"
   ]
  },
  {
   "cell_type": "code",
   "execution_count": 17,
   "id": "d162bbac",
   "metadata": {
    "ExecuteTime": {
     "end_time": "2023-05-16T07:07:23.421079Z",
     "start_time": "2023-05-16T07:07:23.364554Z"
    }
   },
   "outputs": [
    {
     "name": "stdout",
     "output_type": "stream",
     "text": [
      "Python 3.9.16\n",
      "Version des librairies utilisées :\n",
      "NumPy                 : 1.21.4\n",
      "Pandas                : 1.5.3\n",
      "Python                : 3.9.16 (main, Mar  8 2023, 10:39:24) [MSC v.1916 64 bit (AMD64)]\n",
      "Matplotlib            : 3.7.1\n",
      "Seaborn               : 0.12.2\n"
     ]
    }
   ],
   "source": [
    "import pandas as pd\n",
    "import seaborn as sns\n",
    "import matplotlib.pyplot as plt\n",
    "import numpy as np\n",
    "import os, shutil\n",
    "\n",
    "\n",
    "from bs4 import BeautifulSoup \n",
    "import nltk\n",
    "#from nltk.corpus import stopwords \n",
    "#from nltk.stem.porter import PorterStemmer\n",
    "import re\n",
    "import pickle\n",
    "from collections import Counter\n",
    "import logging\n",
    "import time\n",
    "\n",
    "# Import des librairies\n",
    "\n",
    "#import nltk\n",
    "#import pickle\n",
    "#import time\n",
    "#from sklearn import cluster, metrics\n",
    "#from sklearn import manifold, decomposition\n",
    "\n",
    "#\n",
    "#import re\n",
    "\n",
    "from wordcloud import WordCloud\n",
    "\n",
    "logging.disable(logging.WARNING) # disable WARNING, INFO and DEBUG logging everywhere\n",
    "\n",
    "# mes fonctions\n",
    "path2 = os.getcwd()\n",
    "path1 = 'C:\\\\Users\\\\clsab\\\\noteBooks\\\\utils_ycs'\n",
    "shutil.copy(path1+'\\\\YCS_functions.py', path2)\n",
    "from YCS_functions import *\n",
    "\n",
    "# Versions\n",
    "!python --version\n",
    "import sys\n",
    "import matplotlib as mpl\n",
    "\n",
    "print('Version des librairies utilisées :')\n",
    "\n",
    "print('NumPy                 : ' + np.version.full_version)\n",
    "print('Pandas                : ' + pd.__version__)\n",
    "print('Python                : ' + sys.version)\n",
    "print('Matplotlib            : ' + mpl.__version__)\n",
    "print('Seaborn               : ' + sns.__version__)\n",
    "#%pycodestyle_on"
   ]
  },
  {
   "cell_type": "code",
   "execution_count": 18,
   "id": "36da5d2c",
   "metadata": {
    "ExecuteTime": {
     "end_time": "2023-05-16T07:07:23.436356Z",
     "start_time": "2023-05-16T07:07:23.425068Z"
    }
   },
   "outputs": [
    {
     "data": {
      "text/plain": [
       "'1.21.4'"
      ]
     },
     "execution_count": 18,
     "metadata": {},
     "output_type": "execute_result"
    }
   ],
   "source": [
    "np.__version__"
   ]
  },
  {
   "cell_type": "markdown",
   "id": "3dbc904d",
   "metadata": {},
   "source": [
    "# Les données"
   ]
  },
  {
   "cell_type": "code",
   "execution_count": 19,
   "id": "707a58a6",
   "metadata": {
    "ExecuteTime": {
     "end_time": "2023-05-16T07:07:23.832302Z",
     "start_time": "2023-05-16T07:07:23.438473Z"
    }
   },
   "outputs": [],
   "source": [
    "data = pickle.load(open('data/cleaned_corpus.pkl', 'rb'))\n",
    "open('data/cleaned_corpus.pkl', 'rb').close()"
   ]
  },
  {
   "cell_type": "code",
   "execution_count": 20,
   "id": "42e05515",
   "metadata": {
    "ExecuteTime": {
     "end_time": "2023-05-16T07:07:23.847857Z",
     "start_time": "2023-05-16T07:07:23.835300Z"
    }
   },
   "outputs": [
    {
     "data": {
      "text/html": [
       "<div>\n",
       "<style scoped>\n",
       "    .dataframe tbody tr th:only-of-type {\n",
       "        vertical-align: middle;\n",
       "    }\n",
       "\n",
       "    .dataframe tbody tr th {\n",
       "        vertical-align: top;\n",
       "    }\n",
       "\n",
       "    .dataframe thead th {\n",
       "        text-align: right;\n",
       "    }\n",
       "</style>\n",
       "<table border=\"1\" class=\"dataframe\">\n",
       "  <thead>\n",
       "    <tr style=\"text-align: right;\">\n",
       "      <th></th>\n",
       "      <th>Post</th>\n",
       "      <th>splitted_text</th>\n",
       "      <th>splitted_tags</th>\n",
       "    </tr>\n",
       "  </thead>\n",
       "  <tbody>\n",
       "    <tr>\n",
       "      <th>0</th>\n",
       "      <td>How to convert Decimal to Double in C#? &lt;p&gt;I w...</td>\n",
       "      <td>[convert, decimal, assign, opacity, value, opa...</td>\n",
       "      <td>[floating, point, type, conversion, double, de...</td>\n",
       "    </tr>\n",
       "    <tr>\n",
       "      <th>1</th>\n",
       "      <td>Why did the width collapse in the percentage w...</td>\n",
       "      <td>[width, collapse, percentage, width, child, el...</td>\n",
       "      <td>[html, internet, explorer]</td>\n",
       "    </tr>\n",
       "    <tr>\n",
       "      <th>2</th>\n",
       "      <td>How do I calculate someone's age based on a Da...</td>\n",
       "      <td>[calculate, someone, birthday, person, calculate]</td>\n",
       "      <td>[datetime]</td>\n",
       "    </tr>\n",
       "  </tbody>\n",
       "</table>\n",
       "</div>"
      ],
      "text/plain": [
       "                                                Post  \\\n",
       "0  How to convert Decimal to Double in C#? <p>I w...   \n",
       "1  Why did the width collapse in the percentage w...   \n",
       "2  How do I calculate someone's age based on a Da...   \n",
       "\n",
       "                                       splitted_text  \\\n",
       "0  [convert, decimal, assign, opacity, value, opa...   \n",
       "1  [width, collapse, percentage, width, child, el...   \n",
       "2  [calculate, someone, birthday, person, calculate]   \n",
       "\n",
       "                                       splitted_tags  \n",
       "0  [floating, point, type, conversion, double, de...  \n",
       "1                         [html, internet, explorer]  \n",
       "2                                         [datetime]  "
      ]
     },
     "execution_count": 20,
     "metadata": {},
     "output_type": "execute_result"
    }
   ],
   "source": [
    "data.head(3)"
   ]
  },
  {
   "cell_type": "code",
   "execution_count": 21,
   "id": "4e9e37a4",
   "metadata": {
    "ExecuteTime": {
     "end_time": "2023-05-16T07:07:23.863416Z",
     "start_time": "2023-05-16T07:07:23.851376Z"
    }
   },
   "outputs": [
    {
     "data": {
      "text/plain": [
       "(43798, 3)"
      ]
     },
     "execution_count": 21,
     "metadata": {},
     "output_type": "execute_result"
    }
   ],
   "source": [
    "data.shape"
   ]
  },
  {
   "cell_type": "markdown",
   "id": "f9bd992d",
   "metadata": {},
   "source": [
    "# Classification supervisée"
   ]
  },
  {
   "cell_type": "markdown",
   "id": "6b839b0c",
   "metadata": {},
   "source": [
    "## Fréquence de distribution des tokens"
   ]
  },
  {
   "cell_type": "code",
   "execution_count": 22,
   "id": "19e3b760",
   "metadata": {
    "ExecuteTime": {
     "end_time": "2023-05-16T07:07:23.879419Z",
     "start_time": "2023-05-16T07:07:23.866416Z"
    }
   },
   "outputs": [],
   "source": [
    "def words_freq(listOfList):\n",
    "    \"\"\"\n",
    "    Build distribution of words (frequency)\n",
    "    Args: List of lists\n",
    "    Return: word_dist_df(DataFrame)with frequency\n",
    "    \n",
    "    \"\"\"\n",
    "    \n",
    "    from nltk import FreqDist\n",
    "    \n",
    "    word_list = [token for token_list in listOfList for token in token_list]\n",
    "    word_dist = FreqDist(word_list)\n",
    "    word_dist_df = pd.DataFrame(word_dist.items(), columns=['Word', 'Frequency']).set_index('Word')\n",
    "    word_dist_df.sort_values(\"Frequency\", ascending=False, inplace=True)\n",
    "\n",
    "    return word_dist_df"
   ]
  },
  {
   "cell_type": "code",
   "execution_count": 23,
   "id": "1e0b0bb0",
   "metadata": {
    "ExecuteTime": {
     "end_time": "2023-05-16T07:07:24.410216Z",
     "start_time": "2023-05-16T07:07:23.882418Z"
    }
   },
   "outputs": [
    {
     "name": "stdout",
     "output_type": "stream",
     "text": [
      "Nombre de tokens du corpus 43923\n",
      "\n",
      "___Affichage des 10 tokens les plus utilisés___\n"
     ]
    },
    {
     "data": {
      "text/html": [
       "<div>\n",
       "<style scoped>\n",
       "    .dataframe tbody tr th:only-of-type {\n",
       "        vertical-align: middle;\n",
       "    }\n",
       "\n",
       "    .dataframe tbody tr th {\n",
       "        vertical-align: top;\n",
       "    }\n",
       "\n",
       "    .dataframe thead th {\n",
       "        text-align: right;\n",
       "    }\n",
       "</style>\n",
       "<table border=\"1\" class=\"dataframe\">\n",
       "  <thead>\n",
       "    <tr style=\"text-align: right;\">\n",
       "      <th></th>\n",
       "      <th>Frequency</th>\n",
       "    </tr>\n",
       "    <tr>\n",
       "      <th>Word</th>\n",
       "      <th></th>\n",
       "    </tr>\n",
       "  </thead>\n",
       "  <tbody>\n",
       "    <tr>\n",
       "      <th>code</th>\n",
       "      <td>14837</td>\n",
       "    </tr>\n",
       "    <tr>\n",
       "      <th>class</th>\n",
       "      <td>12590</td>\n",
       "    </tr>\n",
       "    <tr>\n",
       "      <th>file</th>\n",
       "      <td>11469</td>\n",
       "    </tr>\n",
       "    <tr>\n",
       "      <th>application</th>\n",
       "      <td>10489</td>\n",
       "    </tr>\n",
       "    <tr>\n",
       "      <th>system</th>\n",
       "      <td>8388</td>\n",
       "    </tr>\n",
       "    <tr>\n",
       "      <th>name</th>\n",
       "      <td>8344</td>\n",
       "    </tr>\n",
       "    <tr>\n",
       "      <th>value</th>\n",
       "      <td>8258</td>\n",
       "    </tr>\n",
       "    <tr>\n",
       "      <th>something</th>\n",
       "      <td>7989</td>\n",
       "    </tr>\n",
       "    <tr>\n",
       "      <th>time</th>\n",
       "      <td>7912</td>\n",
       "    </tr>\n",
       "    <tr>\n",
       "      <th>example</th>\n",
       "      <td>7214</td>\n",
       "    </tr>\n",
       "  </tbody>\n",
       "</table>\n",
       "</div>"
      ],
      "text/plain": [
       "             Frequency\n",
       "Word                  \n",
       "code             14837\n",
       "class            12590\n",
       "file             11469\n",
       "application      10489\n",
       "system            8388\n",
       "name              8344\n",
       "value             8258\n",
       "something         7989\n",
       "time              7912\n",
       "example           7214"
      ]
     },
     "metadata": {},
     "output_type": "display_data"
    },
    {
     "name": "stdout",
     "output_type": "stream",
     "text": [
      "CPU times: total: 453 ms\n",
      "Wall time: 510 ms\n"
     ]
    }
   ],
   "source": [
    "%%time\n",
    "corpus = data['splitted_text'].to_list()\n",
    "corpus_dist_df = words_freq(corpus)\n",
    "\n",
    "print(f\"Nombre de tokens du corpus {corpus_dist_df.shape[0]}\")\n",
    "print(\"\")\n",
    "print(\"___Affichage des 10 tokens les plus utilisés___\")\n",
    "display(corpus_dist_df.head(10))"
   ]
  },
  {
   "cell_type": "code",
   "execution_count": 24,
   "id": "cb72c8f1",
   "metadata": {
    "ExecuteTime": {
     "end_time": "2023-05-16T07:07:24.560204Z",
     "start_time": "2023-05-16T07:07:24.413223Z"
    }
   },
   "outputs": [
    {
     "data": {
      "image/png": "[encoded data removed]",
      "text/plain": [
       "<Figure size 1000x300 with 1 Axes>"
      ]
     },
     "metadata": {},
     "output_type": "display_data"
    }
   ],
   "source": [
    "# on visualise\n",
    "plt.figure(figsize=(10, 3))\n",
    "\n",
    "x = corpus_dist_df.head(10).index\n",
    "y = corpus_dist_df.head(10).Frequency\n",
    "\n",
    "plt.bar(x, y, color=\"darkred\")\n",
    "plt.title(\"Fréquence des 20 tokens les plus utilisés\",\n",
    "          fontsize=\"12\")\n",
    "plt.xlabel(\"Tokens\",\n",
    "           c=\"gray\")\n",
    "plt.ylabel(\"Nombre d'observations\",\n",
    "           c=\"gray\")\n",
    "plt.xticks(rotation = 45)\n",
    "plt.show()"
   ]
  },
  {
   "cell_type": "markdown",
   "id": "4d32e7a1",
   "metadata": {},
   "source": [
    "## Fréquence de distribution des tags"
   ]
  },
  {
   "cell_type": "code",
   "execution_count": 25,
   "id": "ef6a7864",
   "metadata": {
    "ExecuteTime": {
     "end_time": "2023-05-16T07:07:24.659270Z",
     "start_time": "2023-05-16T07:07:24.563124Z"
    }
   },
   "outputs": [
    {
     "name": "stdout",
     "output_type": "stream",
     "text": [
      "___Affichage des 10 tags les plus utilisés___\n"
     ]
    },
    {
     "data": {
      "text/html": [
       "<div>\n",
       "<style scoped>\n",
       "    .dataframe tbody tr th:only-of-type {\n",
       "        vertical-align: middle;\n",
       "    }\n",
       "\n",
       "    .dataframe tbody tr th {\n",
       "        vertical-align: top;\n",
       "    }\n",
       "\n",
       "    .dataframe thead th {\n",
       "        text-align: right;\n",
       "    }\n",
       "</style>\n",
       "<table border=\"1\" class=\"dataframe\">\n",
       "  <thead>\n",
       "    <tr style=\"text-align: right;\">\n",
       "      <th></th>\n",
       "      <th>Frequency</th>\n",
       "    </tr>\n",
       "    <tr>\n",
       "      <th>Word</th>\n",
       "      <th></th>\n",
       "    </tr>\n",
       "  </thead>\n",
       "  <tbody>\n",
       "    <tr>\n",
       "      <th>java</th>\n",
       "      <td>3982</td>\n",
       "    </tr>\n",
       "    <tr>\n",
       "      <th>python</th>\n",
       "      <td>2302</td>\n",
       "    </tr>\n",
       "    <tr>\n",
       "      <th>server</th>\n",
       "      <td>2256</td>\n",
       "    </tr>\n",
       "    <tr>\n",
       "      <th>javascript</th>\n",
       "      <td>2204</td>\n",
       "    </tr>\n",
       "    <tr>\n",
       "      <th>visual</th>\n",
       "      <td>2007</td>\n",
       "    </tr>\n",
       "    <tr>\n",
       "      <th>window</th>\n",
       "      <td>1956</td>\n",
       "    </tr>\n",
       "    <tr>\n",
       "      <th>studio</th>\n",
       "      <td>1753</td>\n",
       "    </tr>\n",
       "    <tr>\n",
       "      <th>ruby</th>\n",
       "      <td>1500</td>\n",
       "    </tr>\n",
       "    <tr>\n",
       "      <th>database</th>\n",
       "      <td>1365</td>\n",
       "    </tr>\n",
       "    <tr>\n",
       "      <th>html</th>\n",
       "      <td>1322</td>\n",
       "    </tr>\n",
       "  </tbody>\n",
       "</table>\n",
       "</div>"
      ],
      "text/plain": [
       "            Frequency\n",
       "Word                 \n",
       "java             3982\n",
       "python           2302\n",
       "server           2256\n",
       "javascript       2204\n",
       "visual           2007\n",
       "window           1956\n",
       "studio           1753\n",
       "ruby             1500\n",
       "database         1365\n",
       "html             1322"
      ]
     },
     "metadata": {},
     "output_type": "display_data"
    },
    {
     "name": "stdout",
     "output_type": "stream",
     "text": [
      "Nombre de tags: 5742\n",
      "CPU times: total: 31.2 ms\n",
      "Wall time: 76.4 ms\n"
     ]
    }
   ],
   "source": [
    "%%time\n",
    "tags = data['splitted_tags'].to_list()\n",
    "\n",
    "tag_dist_df = words_freq(tags)\n",
    "\n",
    "print(\"___Affichage des 10 tags les plus utilisés___\")\n",
    "display(tag_dist_df.head(10))\n",
    "print(f\"Nombre de tags: {len(tag_dist_df)}\")"
   ]
  },
  {
   "cell_type": "code",
   "execution_count": 26,
   "id": "9a500ac5",
   "metadata": {
    "ExecuteTime": {
     "end_time": "2023-05-16T07:07:24.837162Z",
     "start_time": "2023-05-16T07:07:24.666152Z"
    }
   },
   "outputs": [
    {
     "data": {
      "image/png": "[encoded data removed]",
      "text/plain": [
       "<Figure size 1000x300 with 1 Axes>"
      ]
     },
     "metadata": {},
     "output_type": "display_data"
    }
   ],
   "source": [
    "# on visualise\n",
    "plt.figure(figsize=(10, 3))\n",
    "\n",
    "x = tag_dist_df.head(10).index\n",
    "y = tag_dist_df.head(10).Frequency\n",
    "\n",
    "plt.bar(x, y, color=\"darkred\")\n",
    "plt.title(\"Fréquence des 10 tags les plus utilisés\",\n",
    "          fontsize=\"12\")\n",
    "plt.xlabel(\"Tags\",\n",
    "           c=\"gray\")\n",
    "plt.ylabel(\"Nombre d'observations\",\n",
    "           c=\"gray\")\n",
    "plt.xticks(rotation = 45)\n",
    "plt.show()"
   ]
  },
  {
   "cell_type": "markdown",
   "id": "debbc857",
   "metadata": {},
   "source": [
    "## Nombre de tags par observation"
   ]
  },
  {
   "cell_type": "code",
   "execution_count": 27,
   "id": "37cd76d7",
   "metadata": {
    "ExecuteTime": {
     "end_time": "2023-05-16T07:07:25.194672Z",
     "start_time": "2023-05-16T07:07:24.840165Z"
    }
   },
   "outputs": [
    {
     "data": {
      "text/plain": [
       "Text(0, 0.5, \"Nombre d'observations\")"
      ]
     },
     "execution_count": 27,
     "metadata": {},
     "output_type": "execute_result"
    },
    {
     "data": {
      "image/png": "[encoded data removed]",
      "text/plain": [
       "<Figure size 1000x300 with 1 Axes>"
      ]
     },
     "metadata": {},
     "output_type": "display_data"
    }
   ],
   "source": [
    "# nbre de tags par observation\n",
    "tag_num = [len(data[\"splitted_tags\"][idx]) for idx in data.index]\n",
    "\n",
    "# on visualise\n",
    "fig = plt.figure(figsize=(10, 3))\n",
    "plt.title(\"Nombre de tags par observation\",\n",
    "          fontsize='12')\n",
    "x = Counter(tag_num).keys()\n",
    "y = Counter(tag_num).values()\n",
    "plt.bar(x,\n",
    "        y,\n",
    "        color=\"darkred\")\n",
    "plt.xlabel(\"Nombre de tags\",\n",
    "           c='gray')\n",
    "plt.ylabel(\"Nombre d'observations\",\n",
    "           c='gray')"
   ]
  },
  {
   "cell_type": "markdown",
   "id": "14fa4552",
   "metadata": {},
   "source": [
    "## Nombre de tags uniques"
   ]
  },
  {
   "cell_type": "code",
   "execution_count": 28,
   "id": "7172992e",
   "metadata": {
    "ExecuteTime": {
     "end_time": "2023-05-16T07:07:25.278843Z",
     "start_time": "2023-05-16T07:07:25.197717Z"
    }
   },
   "outputs": [
    {
     "name": "stdout",
     "output_type": "stream",
     "text": [
      "Nombre total de tags: 123917\n",
      "Nombre de tags uniques: 5742\n"
     ]
    }
   ],
   "source": [
    "tag_list = []\n",
    "for item in data['splitted_tags']:\n",
    "    tag_list += item\n",
    "unique_tag_list = list(np.unique(tag_list))\n",
    "\n",
    "print('Nombre total de tags:', len(tag_list))\n",
    "print(\"Nombre de tags uniques:\", len(unique_tag_list))"
   ]
  },
  {
   "cell_type": "markdown",
   "id": "227bf279",
   "metadata": {},
   "source": [
    "## WordCloud"
   ]
  },
  {
   "cell_type": "code",
   "execution_count": 29,
   "id": "6d12b8d8",
   "metadata": {
    "ExecuteTime": {
     "end_time": "2023-05-16T07:07:26.222846Z",
     "start_time": "2023-05-16T07:07:25.282704Z"
    }
   },
   "outputs": [
    {
     "data": {
      "image/png": "[encoded data removed]",
      "text/plain": [
       "<Figure size 640x480 with 1 Axes>"
      ]
     },
     "metadata": {},
     "output_type": "display_data"
    }
   ],
   "source": [
    "text = text = \" \".join(tag_list) \n",
    "wordcloud = WordCloud().generate(text)\n",
    "\n",
    "plt.imshow(wordcloud, interpolation='bilinear')\n",
    "plt.axis(\"off\")\n",
    "plt.show()"
   ]
  },
  {
   "cell_type": "markdown",
   "id": "325f8933",
   "metadata": {},
   "source": [
    "## Top 200 tags"
   ]
  },
  {
   "cell_type": "markdown",
   "id": "00121873",
   "metadata": {},
   "source": [
    "Pour les analyses futures, nous décidons de ne retenir que les top 200 tags (les plus représentés)  \n",
    "Nous devons filtrer les documents qui ne sont pas liés aux top 200 tags"
   ]
  },
  {
   "cell_type": "code",
   "execution_count": 30,
   "id": "92be828d",
   "metadata": {
    "ExecuteTime": {
     "end_time": "2023-05-16T07:07:26.452553Z",
     "start_time": "2023-05-16T07:07:26.225988Z"
    }
   },
   "outputs": [
    {
     "name": "stdout",
     "output_type": "stream",
     "text": [
      "Nobre d'observations dans le corpus initial: 43798\n",
      "Observations restantes dans le coprus traité: 37928\n",
      "CPU times: total: 156 ms\n",
      "Wall time: 216 ms\n"
     ]
    }
   ],
   "source": [
    "%%time\n",
    "first_200_tags = tag_dist_df[0:200].index.to_list()\n",
    "\n",
    "print(f\"Nobre d'observations dans le corpus initial: {data.shape[0]}\")\n",
    "\n",
    "filtered_corpus_tag_df = data.copy()\n",
    "\n",
    "filtered_corpus_tag_df['tags_in_top200'] = \\\n",
    "    filtered_corpus_tag_df['splitted_tags'].apply(\n",
    "        lambda tags: [tag for tag in tags if tag in first_200_tags])\n",
    "filtered_corpus_tag_df['len_tags_in_top200'] = \\\n",
    "    filtered_corpus_tag_df['tags_in_top200'].apply(\n",
    "        lambda x: len(x))\n",
    "\n",
    "missing_idx = \\\n",
    "    filtered_corpus_tag_df[filtered_corpus_tag_df['len_tags_in_top200'] == 0].index\n",
    "\n",
    "filtered_corpus_tag_df.drop(index=missing_idx, inplace=True)\n",
    "\n",
    "data.drop(index=missing_idx, inplace=True)\n",
    "\n",
    "print(f\"Observations restantes dans le coprus traité: {filtered_corpus_tag_df.shape[0]}\")\n",
    "\n",
    "top200_corpus = filtered_corpus_tag_df['splitted_text'].to_list()\n",
    "top200_tags = filtered_corpus_tag_df['tags_in_top200'].to_list()\n",
    "top200_joined_corpus = [\" \".join(text) for text in filtered_corpus_tag_df['splitted_text']]"
   ]
  },
  {
   "cell_type": "markdown",
   "id": "dc186856",
   "metadata": {},
   "source": [
    "## Word embedding"
   ]
  },
  {
   "cell_type": "markdown",
   "id": "4c2b453b",
   "metadata": {},
   "source": [
    "Pour entraîner les modèles nous avons besoin de transformer les 'words' en vecteurs  \n",
    "Trois méthodes peuvent être envisagées:\n",
    "* **TF**: Chaque liste de token (appelée document) est transformée en un vecteur indiquant la **fréquence** brute de chaque terme du corpus dans la liste. \n",
    "* **TF-IDF**: Dans cette méthode, la **fréquence brute** d’un token  est remplacée par un indicateur composé de sa fréquence d’apparition du token dans le document et la **fréquence inverse** du nombre de documents où le token apparaît.  \n",
    "Cette méthode permet de minorer les tokens présents dans un nombre élevé de documents et de normaliser la taille des documents.\n",
    "* **Word2vec**: autre méthode de plongement lexical (word embedding) qui utilise cette fois-ci des **réseaux neuronaux** à 3 couches entraînés pour construire le **contexte** linguistique des mots\n",
    "\n",
    "\n",
    "Les documents contenant des termes génériques et de longueurs très variables, nous avons décidé d’utiliser une vectorisation par TF-IDF et Word2vec en comparant les performances  \n",
    "\n",
    "Afin de de ne garder que les tokens les plus représentatifs, nous avons entraîné les modèles de vectorisation sur des dictionnaires de correspondance (vocabulary) ne comportant que des termes dont la fréquence est supérieure à 1000 occurrences dans le corpus."
   ]
  },
  {
   "cell_type": "markdown",
   "id": "fec012f4",
   "metadata": {},
   "source": [
    "### Tf-idf"
   ]
  },
  {
   "cell_type": "code",
   "execution_count": 31,
   "id": "097a9292",
   "metadata": {
    "ExecuteTime": {
     "end_time": "2023-05-16T07:07:27.449007Z",
     "start_time": "2023-05-16T07:07:26.456541Z"
    }
   },
   "outputs": [
    {
     "name": "stdout",
     "output_type": "stream",
     "text": [
      "10 premiers posts vectorisés via le modèle de TF-IDF\n"
     ]
    },
    {
     "data": {
      "text/html": [
       "<div>\n",
       "<style scoped>\n",
       "    .dataframe tbody tr th:only-of-type {\n",
       "        vertical-align: middle;\n",
       "    }\n",
       "\n",
       "    .dataframe tbody tr th {\n",
       "        vertical-align: top;\n",
       "    }\n",
       "\n",
       "    .dataframe thead th {\n",
       "        text-align: right;\n",
       "    }\n",
       "</style>\n",
       "<table border=\"1\" class=\"dataframe\">\n",
       "  <thead>\n",
       "    <tr style=\"text-align: right;\">\n",
       "      <th>Word</th>\n",
       "      <th>code</th>\n",
       "      <th>class</th>\n",
       "      <th>file</th>\n",
       "      <th>application</th>\n",
       "      <th>name</th>\n",
       "      <th>system</th>\n",
       "      <th>value</th>\n",
       "      <th>time</th>\n",
       "      <th>something</th>\n",
       "      <th>java</th>\n",
       "      <th>...</th>\n",
       "      <th>module</th>\n",
       "      <th>color</th>\n",
       "      <th>count</th>\n",
       "      <th>documentation</th>\n",
       "      <th>parameter</th>\n",
       "      <th>google</th>\n",
       "      <th>length</th>\n",
       "      <th>product</th>\n",
       "      <th>stuff</th>\n",
       "      <th>thread</th>\n",
       "    </tr>\n",
       "  </thead>\n",
       "  <tbody>\n",
       "    <tr>\n",
       "      <th>0</th>\n",
       "      <td>0.0</td>\n",
       "      <td>0.0</td>\n",
       "      <td>0.0</td>\n",
       "      <td>0.0</td>\n",
       "      <td>0.0</td>\n",
       "      <td>0.0</td>\n",
       "      <td>0.562999</td>\n",
       "      <td>0.000000</td>\n",
       "      <td>0.000000</td>\n",
       "      <td>0.0</td>\n",
       "      <td>...</td>\n",
       "      <td>0.0</td>\n",
       "      <td>0.0</td>\n",
       "      <td>0.0</td>\n",
       "      <td>0.0</td>\n",
       "      <td>0.0</td>\n",
       "      <td>0.0</td>\n",
       "      <td>0.0</td>\n",
       "      <td>0.0</td>\n",
       "      <td>0.0</td>\n",
       "      <td>0.0</td>\n",
       "    </tr>\n",
       "    <tr>\n",
       "      <th>1</th>\n",
       "      <td>0.0</td>\n",
       "      <td>0.0</td>\n",
       "      <td>0.0</td>\n",
       "      <td>0.0</td>\n",
       "      <td>0.0</td>\n",
       "      <td>0.0</td>\n",
       "      <td>0.000000</td>\n",
       "      <td>0.000000</td>\n",
       "      <td>0.502155</td>\n",
       "      <td>0.0</td>\n",
       "      <td>...</td>\n",
       "      <td>0.0</td>\n",
       "      <td>0.0</td>\n",
       "      <td>0.0</td>\n",
       "      <td>0.0</td>\n",
       "      <td>0.0</td>\n",
       "      <td>0.0</td>\n",
       "      <td>0.0</td>\n",
       "      <td>0.0</td>\n",
       "      <td>0.0</td>\n",
       "      <td>0.0</td>\n",
       "    </tr>\n",
       "    <tr>\n",
       "      <th>2</th>\n",
       "      <td>0.0</td>\n",
       "      <td>0.0</td>\n",
       "      <td>0.0</td>\n",
       "      <td>0.0</td>\n",
       "      <td>0.0</td>\n",
       "      <td>0.0</td>\n",
       "      <td>0.000000</td>\n",
       "      <td>0.000000</td>\n",
       "      <td>0.000000</td>\n",
       "      <td>0.0</td>\n",
       "      <td>...</td>\n",
       "      <td>0.0</td>\n",
       "      <td>0.0</td>\n",
       "      <td>0.0</td>\n",
       "      <td>0.0</td>\n",
       "      <td>0.0</td>\n",
       "      <td>0.0</td>\n",
       "      <td>0.0</td>\n",
       "      <td>0.0</td>\n",
       "      <td>0.0</td>\n",
       "      <td>0.0</td>\n",
       "    </tr>\n",
       "    <tr>\n",
       "      <th>3</th>\n",
       "      <td>0.0</td>\n",
       "      <td>0.0</td>\n",
       "      <td>0.0</td>\n",
       "      <td>0.0</td>\n",
       "      <td>0.0</td>\n",
       "      <td>0.0</td>\n",
       "      <td>0.491629</td>\n",
       "      <td>0.870804</td>\n",
       "      <td>0.000000</td>\n",
       "      <td>0.0</td>\n",
       "      <td>...</td>\n",
       "      <td>0.0</td>\n",
       "      <td>0.0</td>\n",
       "      <td>0.0</td>\n",
       "      <td>0.0</td>\n",
       "      <td>0.0</td>\n",
       "      <td>0.0</td>\n",
       "      <td>0.0</td>\n",
       "      <td>0.0</td>\n",
       "      <td>0.0</td>\n",
       "      <td>0.0</td>\n",
       "    </tr>\n",
       "    <tr>\n",
       "      <th>4</th>\n",
       "      <td>0.0</td>\n",
       "      <td>0.0</td>\n",
       "      <td>0.0</td>\n",
       "      <td>0.0</td>\n",
       "      <td>0.0</td>\n",
       "      <td>0.0</td>\n",
       "      <td>0.000000</td>\n",
       "      <td>0.000000</td>\n",
       "      <td>0.000000</td>\n",
       "      <td>0.0</td>\n",
       "      <td>...</td>\n",
       "      <td>0.0</td>\n",
       "      <td>0.0</td>\n",
       "      <td>0.0</td>\n",
       "      <td>0.0</td>\n",
       "      <td>0.0</td>\n",
       "      <td>0.0</td>\n",
       "      <td>0.0</td>\n",
       "      <td>0.0</td>\n",
       "      <td>0.0</td>\n",
       "      <td>0.0</td>\n",
       "    </tr>\n",
       "    <tr>\n",
       "      <th>5</th>\n",
       "      <td>0.0</td>\n",
       "      <td>0.0</td>\n",
       "      <td>0.0</td>\n",
       "      <td>0.0</td>\n",
       "      <td>0.0</td>\n",
       "      <td>0.0</td>\n",
       "      <td>0.000000</td>\n",
       "      <td>0.000000</td>\n",
       "      <td>0.000000</td>\n",
       "      <td>0.0</td>\n",
       "      <td>...</td>\n",
       "      <td>0.0</td>\n",
       "      <td>0.0</td>\n",
       "      <td>0.0</td>\n",
       "      <td>0.0</td>\n",
       "      <td>0.0</td>\n",
       "      <td>0.0</td>\n",
       "      <td>0.0</td>\n",
       "      <td>0.0</td>\n",
       "      <td>0.0</td>\n",
       "      <td>0.0</td>\n",
       "    </tr>\n",
       "    <tr>\n",
       "      <th>6</th>\n",
       "      <td>0.0</td>\n",
       "      <td>0.0</td>\n",
       "      <td>0.0</td>\n",
       "      <td>0.0</td>\n",
       "      <td>0.0</td>\n",
       "      <td>0.0</td>\n",
       "      <td>0.000000</td>\n",
       "      <td>0.000000</td>\n",
       "      <td>0.000000</td>\n",
       "      <td>0.0</td>\n",
       "      <td>...</td>\n",
       "      <td>0.0</td>\n",
       "      <td>0.0</td>\n",
       "      <td>0.0</td>\n",
       "      <td>0.0</td>\n",
       "      <td>0.0</td>\n",
       "      <td>0.0</td>\n",
       "      <td>0.0</td>\n",
       "      <td>0.0</td>\n",
       "      <td>0.0</td>\n",
       "      <td>0.0</td>\n",
       "    </tr>\n",
       "    <tr>\n",
       "      <th>7</th>\n",
       "      <td>0.0</td>\n",
       "      <td>0.0</td>\n",
       "      <td>0.0</td>\n",
       "      <td>0.0</td>\n",
       "      <td>0.0</td>\n",
       "      <td>0.0</td>\n",
       "      <td>0.000000</td>\n",
       "      <td>0.000000</td>\n",
       "      <td>0.000000</td>\n",
       "      <td>0.0</td>\n",
       "      <td>...</td>\n",
       "      <td>0.0</td>\n",
       "      <td>0.0</td>\n",
       "      <td>0.0</td>\n",
       "      <td>0.0</td>\n",
       "      <td>0.0</td>\n",
       "      <td>0.0</td>\n",
       "      <td>0.0</td>\n",
       "      <td>0.0</td>\n",
       "      <td>0.0</td>\n",
       "      <td>0.0</td>\n",
       "    </tr>\n",
       "    <tr>\n",
       "      <th>8</th>\n",
       "      <td>0.0</td>\n",
       "      <td>0.0</td>\n",
       "      <td>0.0</td>\n",
       "      <td>0.0</td>\n",
       "      <td>0.0</td>\n",
       "      <td>0.0</td>\n",
       "      <td>0.151796</td>\n",
       "      <td>0.873832</td>\n",
       "      <td>0.000000</td>\n",
       "      <td>0.0</td>\n",
       "      <td>...</td>\n",
       "      <td>0.0</td>\n",
       "      <td>0.0</td>\n",
       "      <td>0.0</td>\n",
       "      <td>0.0</td>\n",
       "      <td>0.0</td>\n",
       "      <td>0.0</td>\n",
       "      <td>0.0</td>\n",
       "      <td>0.0</td>\n",
       "      <td>0.0</td>\n",
       "      <td>0.0</td>\n",
       "    </tr>\n",
       "    <tr>\n",
       "      <th>9</th>\n",
       "      <td>0.0</td>\n",
       "      <td>0.0</td>\n",
       "      <td>0.0</td>\n",
       "      <td>0.0</td>\n",
       "      <td>0.0</td>\n",
       "      <td>0.0</td>\n",
       "      <td>0.000000</td>\n",
       "      <td>0.000000</td>\n",
       "      <td>0.000000</td>\n",
       "      <td>0.0</td>\n",
       "      <td>...</td>\n",
       "      <td>0.0</td>\n",
       "      <td>0.0</td>\n",
       "      <td>0.0</td>\n",
       "      <td>0.0</td>\n",
       "      <td>0.0</td>\n",
       "      <td>0.0</td>\n",
       "      <td>0.0</td>\n",
       "      <td>0.0</td>\n",
       "      <td>0.0</td>\n",
       "      <td>0.0</td>\n",
       "    </tr>\n",
       "  </tbody>\n",
       "</table>\n",
       "<p>10 rows × 165 columns</p>\n",
       "</div>"
      ],
      "text/plain": [
       "Word  code  class  file  application  name  system     value      time  \\\n",
       "0      0.0    0.0   0.0          0.0   0.0     0.0  0.562999  0.000000   \n",
       "1      0.0    0.0   0.0          0.0   0.0     0.0  0.000000  0.000000   \n",
       "2      0.0    0.0   0.0          0.0   0.0     0.0  0.000000  0.000000   \n",
       "3      0.0    0.0   0.0          0.0   0.0     0.0  0.491629  0.870804   \n",
       "4      0.0    0.0   0.0          0.0   0.0     0.0  0.000000  0.000000   \n",
       "5      0.0    0.0   0.0          0.0   0.0     0.0  0.000000  0.000000   \n",
       "6      0.0    0.0   0.0          0.0   0.0     0.0  0.000000  0.000000   \n",
       "7      0.0    0.0   0.0          0.0   0.0     0.0  0.000000  0.000000   \n",
       "8      0.0    0.0   0.0          0.0   0.0     0.0  0.151796  0.873832   \n",
       "9      0.0    0.0   0.0          0.0   0.0     0.0  0.000000  0.000000   \n",
       "\n",
       "Word  something  java  ...  module  color  count  documentation  parameter  \\\n",
       "0      0.000000   0.0  ...     0.0    0.0    0.0            0.0        0.0   \n",
       "1      0.502155   0.0  ...     0.0    0.0    0.0            0.0        0.0   \n",
       "2      0.000000   0.0  ...     0.0    0.0    0.0            0.0        0.0   \n",
       "3      0.000000   0.0  ...     0.0    0.0    0.0            0.0        0.0   \n",
       "4      0.000000   0.0  ...     0.0    0.0    0.0            0.0        0.0   \n",
       "5      0.000000   0.0  ...     0.0    0.0    0.0            0.0        0.0   \n",
       "6      0.000000   0.0  ...     0.0    0.0    0.0            0.0        0.0   \n",
       "7      0.000000   0.0  ...     0.0    0.0    0.0            0.0        0.0   \n",
       "8      0.000000   0.0  ...     0.0    0.0    0.0            0.0        0.0   \n",
       "9      0.000000   0.0  ...     0.0    0.0    0.0            0.0        0.0   \n",
       "\n",
       "Word  google  length  product  stuff  thread  \n",
       "0        0.0     0.0      0.0    0.0     0.0  \n",
       "1        0.0     0.0      0.0    0.0     0.0  \n",
       "2        0.0     0.0      0.0    0.0     0.0  \n",
       "3        0.0     0.0      0.0    0.0     0.0  \n",
       "4        0.0     0.0      0.0    0.0     0.0  \n",
       "5        0.0     0.0      0.0    0.0     0.0  \n",
       "6        0.0     0.0      0.0    0.0     0.0  \n",
       "7        0.0     0.0      0.0    0.0     0.0  \n",
       "8        0.0     0.0      0.0    0.0     0.0  \n",
       "9        0.0     0.0      0.0    0.0     0.0  \n",
       "\n",
       "[10 rows x 165 columns]"
      ]
     },
     "metadata": {},
     "output_type": "display_data"
    },
    {
     "name": "stdout",
     "output_type": "stream",
     "text": [
      " Nombre d'observations: 37928\n",
      " nombre de variables: 165\n"
     ]
    }
   ],
   "source": [
    "from sklearn.feature_extraction.text import TfidfVectorizer\n",
    "\n",
    "# corpus top 200 with frequency\n",
    "corpus = data['splitted_text'].to_list()\n",
    "corpus_dist_df = words_freq(corpus)\n",
    "\n",
    "# vocabulary\n",
    "vocabulary = corpus_dist_df[corpus_dist_df['Frequency'] >= 1000].index\n",
    "\n",
    "tfidf_vectorizer = TfidfVectorizer(vocabulary=vocabulary)\n",
    "X = tfidf_vectorizer.fit_transform(top200_joined_corpus)\n",
    "tfidf_data = pd.DataFrame(X.toarray(), columns=vocabulary)\n",
    "\n",
    "print(\"10 premiers posts vectorisés via le modèle de TF-IDF\")\n",
    "\n",
    "display(tfidf_data.head(10))\n",
    "\n",
    "print(f\" Nombre d'observations: {tfidf_data.shape[0]}\")\n",
    "print(f\" nombre de variables: {tfidf_data.shape[1]}\")\n",
    "\n",
    "# on serialise\n",
    "filename_tfidf_model = 'model/tfidf_model.pkl'\n",
    "pickle.dump(tfidf_vectorizer,\n",
    "            open(filename_tfidf_model, 'wb'))\n",
    "\n",
    "filename_vocabulary = \"model/vocabulary.pkl\"\n",
    "pickle.dump(vocabulary,\n",
    "            open(filename_vocabulary, 'wb'))"
   ]
  },
  {
   "cell_type": "code",
   "execution_count": 32,
   "id": "34bf39a7",
   "metadata": {
    "ExecuteTime": {
     "end_time": "2023-05-16T07:07:27.463217Z",
     "start_time": "2023-05-16T07:07:27.451989Z"
    }
   },
   "outputs": [
    {
     "data": {
      "text/plain": [
       "(37928, 165)"
      ]
     },
     "execution_count": 32,
     "metadata": {},
     "output_type": "execute_result"
    }
   ],
   "source": [
    "tfidf_data.shape"
   ]
  },
  {
   "cell_type": "markdown",
   "id": "7ec0ccd7",
   "metadata": {},
   "source": [
    "### Word2vec"
   ]
  },
  {
   "cell_type": "code",
   "execution_count": 33,
   "id": "48c6dc9f",
   "metadata": {
    "ExecuteTime": {
     "end_time": "2023-05-16T07:07:27.478503Z",
     "start_time": "2023-05-16T07:07:27.466118Z"
    }
   },
   "outputs": [],
   "source": [
    "def get_mean_vector(w2v_vectors, words):\n",
    "    \n",
    "    words = [word for word in words if word in w2v_vectors]\n",
    "    if words:\n",
    "        avg_vector = np.mean(w2v_vectors[words], axis=0)\n",
    "    else:\n",
    "        avg_vector = np.zeros_like(w2v_vectors['hi'])\n",
    "    return avg_vector"
   ]
  },
  {
   "cell_type": "code",
   "execution_count": 34,
   "id": "ec0ae41a",
   "metadata": {
    "ExecuteTime": {
     "end_time": "2023-05-16T07:07:33.601304Z",
     "start_time": "2023-05-16T07:07:27.482034Z"
    }
   },
   "outputs": [],
   "source": [
    "w2v_word = [text.split() for text in top200_joined_corpus]\n",
    "from gensim.models import Word2Vec\n",
    "w2v_model = Word2Vec(w2v_word,\n",
    "                     vector_size=100,\n",
    "                     window=5,\n",
    "                     min_count=1,\n",
    "                     workers=4)\n",
    "\n",
    "X_w2v = np.array([get_mean_vector(w2v_model.wv, words) for words in w2v_word])"
   ]
  },
  {
   "cell_type": "markdown",
   "id": "596d4655",
   "metadata": {},
   "source": [
    "## Préparation des tags"
   ]
  },
  {
   "cell_type": "markdown",
   "id": "c382ed7b",
   "metadata": {},
   "source": [
    "### Tags uniques"
   ]
  },
  {
   "cell_type": "code",
   "execution_count": 35,
   "id": "bde52b6e",
   "metadata": {
    "ExecuteTime": {
     "end_time": "2023-05-16T07:07:33.631479Z",
     "start_time": "2023-05-16T07:07:33.603297Z"
    }
   },
   "outputs": [],
   "source": [
    "unique_tags = []\n",
    "for tags in top200_tags:\n",
    "    unique_tags.append(set(tags))"
   ]
  },
  {
   "cell_type": "markdown",
   "id": "dcf9d490",
   "metadata": {},
   "source": [
    "### Encodage des tags"
   ]
  },
  {
   "cell_type": "code",
   "execution_count": 36,
   "id": "29ef3256",
   "metadata": {
    "ExecuteTime": {
     "end_time": "2023-05-16T07:07:33.677650Z",
     "start_time": "2023-05-16T07:07:33.633448Z"
    }
   },
   "outputs": [],
   "source": [
    "from sklearn.preprocessing import MultiLabelBinarizer\n",
    "\n",
    "mlb = MultiLabelBinarizer(classes=first_200_tags)\n",
    "y_transformed = mlb.fit_transform(unique_tags)"
   ]
  },
  {
   "cell_type": "markdown",
   "id": "7288c772",
   "metadata": {},
   "source": [
    "## Partition des données"
   ]
  },
  {
   "cell_type": "code",
   "execution_count": 37,
   "id": "0d5f0817",
   "metadata": {
    "ExecuteTime": {
     "end_time": "2023-05-16T07:07:33.739305Z",
     "start_time": "2023-05-16T07:07:33.679859Z"
    }
   },
   "outputs": [],
   "source": [
    "# on fixe l'aélatoire\n",
    "seed = 0\n",
    "\n",
    "# on importe le modèle\n",
    "from sklearn.model_selection import train_test_split\n",
    "\n",
    "#tf-idf\n",
    "X_train_tfidf, X_test_tfidf, y_train_tfidf, y_test_tfidf = train_test_split(tfidf_data,\n",
    "                                                                            y_transformed,\n",
    "                                                                            test_size=0.2,\n",
    "                                                                            random_state=seed)\n",
    "\n",
    "# word2vec\n",
    "X_train_w2v, X_test_w2c, y_train_w2c, y_test_w2c = train_test_split(X_w2v,\n",
    "                                                                    y_transformed,\n",
    "                                                                    test_size=0.2,\n",
    "                                                                    random_state=seed)"
   ]
  },
  {
   "cell_type": "markdown",
   "id": "866ca34c",
   "metadata": {},
   "source": [
    "## Réduction de dimension"
   ]
  },
  {
   "cell_type": "markdown",
   "id": "4c7070c1",
   "metadata": {},
   "source": [
    "Nous conserverons 85% de la variance expliquée"
   ]
  },
  {
   "cell_type": "code",
   "execution_count": 38,
   "id": "cf326910",
   "metadata": {
    "ExecuteTime": {
     "end_time": "2023-05-16T07:07:34.270471Z",
     "start_time": "2023-05-16T07:07:33.740376Z"
    }
   },
   "outputs": [
    {
     "data": {
      "image/png": "[encoded data removed]",
      "text/plain": [
       "<Figure size 640x480 with 1 Axes>"
      ]
     },
     "metadata": {},
     "output_type": "display_data"
    },
    {
     "name": "stdout",
     "output_type": "stream",
     "text": [
      "CPU times: total: 2.14 s\n",
      "Wall time: 509 ms\n"
     ]
    }
   ],
   "source": [
    "%%time\n",
    "from sklearn.decomposition import PCA\n",
    "\n",
    "pca = PCA(random_state=seed)\n",
    "pca.fit(X_train_tfidf)\n",
    "\n",
    "def display_scree_plot(pca):\n",
    "    scree = pca.explained_variance_ratio_*100\n",
    "    plt.bar(np.arange(len(scree))+1, scree)\n",
    "    plt.plot(np.arange(len(scree))+1, scree.cumsum())\n",
    "    plt.xlabel(\"rang de l'axe d'inertie\")\n",
    "    plt.ylabel(\"pourcentage d'inertie\")\n",
    "    plt.title(\"Eboulis des valeurs propres\")\n",
    "    plt.show(block=False)\n",
    "\n",
    "display_scree_plot(pca)"
   ]
  },
  {
   "cell_type": "code",
   "execution_count": 39,
   "id": "5ab59e22",
   "metadata": {
    "ExecuteTime": {
     "end_time": "2023-05-16T07:07:34.546800Z",
     "start_time": "2023-05-16T07:07:34.273468Z"
    }
   },
   "outputs": [
    {
     "name": "stdout",
     "output_type": "stream",
     "text": [
      "Nombre de variables initiales: 165\n",
      "Nombre de variables après réduction: 119\n"
     ]
    }
   ],
   "source": [
    "# 85% de la variance conservée\n",
    "pca = PCA(n_components=0.85, random_state=seed)\n",
    "pca.fit(X_train_tfidf)\n",
    "X_train_transformed = pca.transform(X_train_tfidf)\n",
    "X_test_transformed = pca.transform(X_test_tfidf)\n",
    "print(f\"Nombre de variables initiales: {tfidf_data.shape[1]}\")\n",
    "print(f\"Nombre de variables après réduction: {pca.components_.shape[0]}\")"
   ]
  },
  {
   "cell_type": "markdown",
   "id": "28172854",
   "metadata": {},
   "source": [
    "## Performance comparée"
   ]
  },
  {
   "cell_type": "markdown",
   "id": "d81cc771",
   "metadata": {},
   "source": [
    "### Procédure"
   ]
  },
  {
   "cell_type": "markdown",
   "id": "12fdbcc9",
   "metadata": {},
   "source": [
    "**Nous étudierons les performances des modèles suivants**"
   ]
  },
  {
   "cell_type": "code",
   "execution_count": 40,
   "id": "10e17159",
   "metadata": {
    "ExecuteTime": {
     "end_time": "2023-05-16T07:07:34.675376Z",
     "start_time": "2023-05-16T07:07:34.548230Z"
    }
   },
   "outputs": [],
   "source": [
    "# on crée le dictionnaire des modèles\n",
    "from sklearn.dummy import DummyClassifier\n",
    "from sklearn.svm import LinearSVC\n",
    "from sklearn.multiclass import OneVsRestClassifier\n",
    "from sklearn.neighbors import KNeighborsClassifier\n",
    "from sklearn.ensemble import RandomForestClassifier\n",
    "#from sklearn.ensemble import GradientBoostingClassifier"
   ]
  },
  {
   "cell_type": "markdown",
   "id": "3f283a2d",
   "metadata": {
    "ExecuteTime": {
     "end_time": "2023-04-15T10:44:42.738870Z",
     "start_time": "2023-04-15T10:44:42.720948Z"
    }
   },
   "source": [
    "Pour comparer la performance des modèles nous utiliserons les métriques suivantes:\n",
    "* **Micro precision** : (en micro car multi-labels)  \n",
    "Combien de tags prédits correctement parmi les prédictions  \n",
    "Dans le cadre d’une API de suggestion de tags, la capacité d’un modèle à retourner tous les tags n’est pas essentielle\n",
    "* **Micro f1**: moyenne harmonique entre recall et precision (micro)  \n",
    "* **Hamming loss**: Fraction des tags prédits incorrectement (doit tendre vers zéro)\n",
    "* **Time_score**"
   ]
  },
  {
   "cell_type": "code",
   "execution_count": 41,
   "id": "2c6fe8e4",
   "metadata": {
    "ExecuteTime": {
     "end_time": "2023-05-16T07:07:34.691424Z",
     "start_time": "2023-05-16T07:07:34.677431Z"
    }
   },
   "outputs": [],
   "source": [
    "# on importe les métriques\n",
    "from sklearn.metrics import precision_score\n",
    "from sklearn.metrics import f1_score\n",
    "from sklearn.metrics import hamming_loss"
   ]
  },
  {
   "cell_type": "markdown",
   "id": "5ae55959",
   "metadata": {},
   "source": [
    "### Fonction de comparaison"
   ]
  },
  {
   "cell_type": "code",
   "execution_count": 42,
   "id": "e4c6e415",
   "metadata": {
    "ExecuteTime": {
     "end_time": "2023-05-16T07:07:34.714020Z",
     "start_time": "2023-05-16T07:07:34.694427Z"
    }
   },
   "outputs": [],
   "source": [
    "result_dict = {}\n",
    "\n",
    "def model_scores(model_name,\n",
    "                 X_train,\n",
    "                 X_test,\n",
    "                 y_train,\n",
    "                 y_test):\n",
    "    \n",
    "    \"\"\"\n",
    "    calculate model scores\n",
    "    \n",
    "    Return: scores (list)\n",
    "    \n",
    "    \"\"\"\n",
    "    \n",
    "    start = time.time()\n",
    "    \n",
    "    model = model_dict[model_name]\n",
    "    model.fit(X_train, y_train)\n",
    "    y_pred = model.predict(X_test)\n",
    "    \n",
    "    micro_precision = np.round(precision_score(y_test, y_pred, average='micro', zero_division=0), 4)\n",
    "    hamLoss = np.round(hamming_loss(y_test, y_pred), 4)\n",
    "    micro_f1 = f1_score(y_test, y_pred, average='micro')\n",
    "    \n",
    "    y_pred_inv = list(mlb.inverse_transform(y_pred))\n",
    "    y_true_inv = list(mlb.inverse_transform(y_test))\n",
    "    \n",
    "    tags_values = {}\n",
    "    for i in range(0, len(y_true_inv)):\n",
    "        if len(y_pred_inv[i]) == 0:\n",
    "            tags_values[i] = -1\n",
    "        else:\n",
    "            for tag in y_pred_inv[i]:\n",
    "                if tag in y_true_inv[i]:\n",
    "                    tags_values[i] = 1\n",
    "                else:\n",
    "                    tags_values[i] = 0\n",
    "                    break\n",
    "    tag_empty = 0\n",
    "    tag_false = 0 \n",
    "    tag_true = 0\n",
    "    for val in tags_values.values():\n",
    "        if val == -1:\n",
    "            tag_empty = tag_empty + 1\n",
    "        if val == 0:\n",
    "            tag_false = tag_false + 1\n",
    "        if val == 1:\n",
    "            tag_true = tag_true + 1\n",
    "            \n",
    "    s = tag_empty + tag_false + tag_true\n",
    "    \n",
    "    tag_true = np.round(tag_true / s *100, 2)\n",
    "    tag_false = np.round(tag_false / s *100, 2)\n",
    "    tag_empty = np.round(tag_empty / s *100, 2)\n",
    "    \n",
    "    end = time.time()\n",
    "    \n",
    "    time_score = np.round(end - start, 2)\n",
    "    \n",
    "    result_dict[model_name] = {}\n",
    "    result_dict[model_name][\"time_score\"] =  time_score\n",
    "    result_dict[model_name][\"micro_precision\"] = micro_precision\n",
    "    result_dict[model_name][\"micro_f1\"] = micro_f1\n",
    "    result_dict[model_name][\"hamLoss\"] = hamLoss\n",
    "    result_dict[model_name][\"tag_true\"] = tag_true\n",
    "    result_dict[model_name][\"tag_false\"] = tag_false\n",
    "    result_dict[model_name][\"tag_empty\"] = tag_empty\n",
    "    \n",
    "    return result_dict"
   ]
  },
  {
   "cell_type": "markdown",
   "id": "8b65b53c",
   "metadata": {},
   "source": [
    "### On compare les performances"
   ]
  },
  {
   "cell_type": "code",
   "execution_count": 43,
   "id": "8c207e65",
   "metadata": {
    "ExecuteTime": {
     "end_time": "2023-05-16T07:07:34.729648Z",
     "start_time": "2023-05-16T07:07:34.716399Z"
    },
    "scrolled": true
   },
   "outputs": [],
   "source": [
    "#%%time\n",
    "#model_dict = {'Dummy': DummyClassifier(),\n",
    "#              'KNN_cls': KNeighborsClassifier(),\n",
    "#              'SVM_cls': OneVsRestClassifier(LinearSVC(random_state=seed), n_jobs=-1),\n",
    "#              'RF_cls': RandomForestClassifier(n_jobs=-1)}\n",
    "#\n",
    "#for name, value in model_dict.items():\n",
    "#    compare_dict = model_scores(name,\n",
    "#                                X_train_transformed,\n",
    "#                                X_test_transformed,\n",
    "#                                y_train_tfidf,\n",
    "#                                y_test_tfidf)\n",
    "#    \n",
    "#tfidf_df = pd.DataFrame(compare_dict)\n",
    "#\n",
    "#for name, value in model_dict.items():\n",
    "#    compare_dict = model_scores(name,\n",
    "#                                X_train_w2v,\n",
    "#                                X_test_w2c,\n",
    "#                                y_train_w2c,\n",
    "#                                y_test_w2c)\n",
    "#    \n",
    "#w2v_df = pd.DataFrame(compare_dict)\n",
    "#\n",
    "#compare_df = pd.DataFrame(\n",
    "#        {\n",
    "#            \"|\":[\"|\", \"|\", \"|\", \"|\", \"|\", \"|\", \"|\"],\n",
    "#            \"Dummy_tfidf\": list(tfidf_df['Dummy']),\n",
    "#            \"Dummy_w2v\": list(w2v_df['Dummy']),\n",
    "#            \"| \":[\"|\", \"|\", \"|\", \"|\", \"|\", \"|\", \"|\"],\n",
    "#            \"KNN_tfidf\": list(tfidf_df['KNN_cls']),\n",
    "#            \"KNN_w2v\": list(w2v_df['KNN_cls']),\n",
    "#            \"|  \":[\"|\", \"|\", \"|\", \"|\", \"|\", \"|\", \"|\"],\n",
    "#            \"SVM_tfidf\": list(tfidf_df['SVM_cls']),\n",
    "#            \"SVM_w2v\": list(w2v_df['SVM_cls']),\n",
    "#            \"|   \":[\"|\", \"|\", \"|\", \"|\", \"|\", \"|\", \"|\"],\n",
    "#            \"RF_tfidf\": list(tfidf_df['RF_cls']),\n",
    "#            \"RF_w2v\": list(w2v_df['RF_cls']),\n",
    "#            \"|   \":[\"|\", \"|\", \"|\", \"|\", \"|\", \"|\", \"|\"]\n",
    "#        },\n",
    "#        index=w2v_df.index\n",
    "#    )\n",
    "#compare_df.round(3)"
   ]
  },
  {
   "attachments": {
    "image.png": {
     "image/png": "[encoded data removed]"
    }
   },
   "cell_type": "markdown",
   "id": "9a8ed763",
   "metadata": {},
   "source": [
    "![image.png](attachment:image.png)"
   ]
  },
  {
   "attachments": {
    "image.png": {
     "image/png": "[encoded data removed]"
    }
   },
   "cell_type": "markdown",
   "id": "12c8c0bd",
   "metadata": {},
   "source": [
    "![image.png](attachment:image.png)"
   ]
  },
  {
   "cell_type": "markdown",
   "id": "33fb28c3",
   "metadata": {},
   "source": [
    "Pour information, nous avons également testé le modèle GradientBoostingClassifier() qui s'est rélévé très peu probant au niveau performances et très long à entraîner (23 heures)  \n",
    "\n",
    "**Nous choisissons le modèle SMV-classifier avec la vectorisation tf-idf**"
   ]
  },
  {
   "cell_type": "markdown",
   "id": "8af66d01",
   "metadata": {},
   "source": [
    "### Optimisation modèle retenu"
   ]
  },
  {
   "cell_type": "code",
   "execution_count": 44,
   "id": "7a2ca68a",
   "metadata": {
    "ExecuteTime": {
     "end_time": "2023-05-16T07:07:34.749313Z",
     "start_time": "2023-05-16T07:07:34.734558Z"
    },
    "scrolled": true
   },
   "outputs": [],
   "source": [
    "#%%time\n",
    "#from sklearn.model_selection import GridSearchCV\n",
    "#from sklearn.metrics import make_scorer\n",
    "#\n",
    "#\n",
    "#param_grid = {'estimator__C': [1, 10]}\n",
    "#model = OneVsRestClassifier(LinearSVC(multi_class='crammer_singer',\n",
    "#                                      random_state=seed),\n",
    "#                            n_jobs=-1)\n",
    "#scorer=make_scorer(precision_score, average='micro')\n",
    "#\n",
    "#grid = GridSearchCV(model, param_grid, scoring=scorer, cv=4) \n",
    "#grid.fit(X_train_transformed, y_train_tfidf)"
   ]
  },
  {
   "cell_type": "code",
   "execution_count": 45,
   "id": "5b5cd8ef",
   "metadata": {
    "ExecuteTime": {
     "end_time": "2023-05-16T07:07:34.764508Z",
     "start_time": "2023-05-16T07:07:34.751284Z"
    }
   },
   "outputs": [],
   "source": [
    "#grid.best_params_"
   ]
  },
  {
   "cell_type": "code",
   "execution_count": 46,
   "id": "62ecc5c3",
   "metadata": {
    "ExecuteTime": {
     "end_time": "2023-05-16T07:07:34.779652Z",
     "start_time": "2023-05-16T07:07:34.767245Z"
    }
   },
   "outputs": [],
   "source": [
    "#supervised_model = grid.best_estimator_"
   ]
  },
  {
   "cell_type": "markdown",
   "id": "4b3a0f4f",
   "metadata": {},
   "source": [
    "### Sauvegarde des modèles et données"
   ]
  },
  {
   "cell_type": "code",
   "execution_count": 47,
   "id": "867ef38e",
   "metadata": {
    "ExecuteTime": {
     "end_time": "2023-05-16T07:07:34.796444Z",
     "start_time": "2023-05-16T07:07:34.782548Z"
    }
   },
   "outputs": [],
   "source": [
    "#filename_supervised_model = \"model/supervised_model.pkl\"\n",
    "#pickle.dump(grid.best_estimator_,\n",
    "#            open(filename_supervised_model,\n",
    "#                 'wb'))"
   ]
  },
  {
   "cell_type": "code",
   "execution_count": 48,
   "id": "a377015e",
   "metadata": {
    "ExecuteTime": {
     "end_time": "2023-05-16T07:07:34.805140Z",
     "start_time": "2023-05-16T07:07:34.799455Z"
    }
   },
   "outputs": [],
   "source": [
    "#filename_model = \"model/tfidf_model.pkl\"\n",
    "#pickle.dump(tfidf_data, open(filename_model,'wb'))"
   ]
  },
  {
   "cell_type": "code",
   "execution_count": 49,
   "id": "dfa343c0",
   "metadata": {
    "ExecuteTime": {
     "end_time": "2023-05-16T07:07:34.820987Z",
     "start_time": "2023-05-16T07:07:34.808017Z"
    }
   },
   "outputs": [],
   "source": [
    "import joblib"
   ]
  },
  {
   "cell_type": "code",
   "execution_count": 50,
   "id": "5782de38",
   "metadata": {
    "ExecuteTime": {
     "end_time": "2023-05-16T07:07:34.828600Z",
     "start_time": "2023-05-16T07:07:34.822980Z"
    }
   },
   "outputs": [],
   "source": [
    "#joblib.dump(mlb, \"model/joblib/mlb_model.gz\")\n",
    "#joblib.dump(pca, \"model/joblib/pca_model.gz\")\n",
    "#joblib.dump(supervised_model, \"model/joblib/supervised_model.gz\")"
   ]
  },
  {
   "cell_type": "code",
   "execution_count": 51,
   "id": "159f10ba",
   "metadata": {
    "ExecuteTime": {
     "end_time": "2023-05-16T07:07:34.844409Z",
     "start_time": "2023-05-16T07:07:34.828600Z"
    }
   },
   "outputs": [],
   "source": [
    "#joblib.dump(tfidf_data, \"model/joblib/tfidf_model.gz\")\n",
    "#joblib.dump(vocabulary, \"model/joblib/vocabulary.gz\")"
   ]
  },
  {
   "cell_type": "markdown",
   "id": "1a382bf3",
   "metadata": {},
   "source": [
    "### Fonction de prédiction"
   ]
  },
  {
   "cell_type": "code",
   "execution_count": 52,
   "id": "06925c64",
   "metadata": {
    "ExecuteTime": {
     "end_time": "2023-05-16T07:07:34.864671Z",
     "start_time": "2023-05-16T07:07:34.846415Z"
    }
   },
   "outputs": [],
   "source": [
    "supervised_model = pd.read_pickle(\"model/supervised_model.pkl\")"
   ]
  },
  {
   "cell_type": "code",
   "execution_count": 53,
   "id": "6280a787",
   "metadata": {
    "ExecuteTime": {
     "end_time": "2023-05-16T07:07:34.879460Z",
     "start_time": "2023-05-16T07:07:34.867668Z"
    }
   },
   "outputs": [
    {
     "name": "stdout",
     "output_type": "stream",
     "text": [
      "CPU times: total: 0 ns\n",
      "Wall time: 0 ns\n"
     ]
    }
   ],
   "source": [
    "%%time\n",
    "def predict_supervised_tags(supervised_model, mlb, text):\n",
    "    \"\"\"\n",
    "    Predict tags using a supervied model.\n",
    "    \n",
    "    Args:\n",
    "        supervised_model()\n",
    "        mutilablel_model()\n",
    "    Returns:\n",
    "        result(list): List of predicted tags\n",
    "    \"\"\"\n",
    "\n",
    "    result = tfidf_vectorizer.transform(text)\n",
    "    result = pd.DataFrame(result.toarray(), columns=vocabulary)\n",
    "    result = pca.transform(result)\n",
    "    result = supervised_model.predict(result)\n",
    "    result = mlb.inverse_transform(result)\n",
    "    result = list({tag for tag_list in result for tag in tag_list if (len(tag_list) != 0)})\n",
    "    result = [tag for tag  in result if tag in text]\n",
    "    \n",
    "    return result"
   ]
  },
  {
   "cell_type": "markdown",
   "id": "5237fe17",
   "metadata": {},
   "source": [
    "### Fonction de vérification"
   ]
  },
  {
   "cell_type": "code",
   "execution_count": 54,
   "id": "2ea3e7f0",
   "metadata": {
    "ExecuteTime": {
     "end_time": "2023-05-16T07:07:34.890363Z",
     "start_time": "2023-05-16T07:07:34.882452Z"
    }
   },
   "outputs": [],
   "source": [
    "def check_tag_predction(original_text, original_tags, preprocessed_text, model):\n",
    "    \"\"\"\n",
    "    Check original tags vs predicted tags for a post.\n",
    "    \n",
    "    Args:\n",
    "        post(list) : original text\n",
    "        original_tags(list) : preprocessed_tags\n",
    "    \"\"\"\n",
    "    \n",
    "    predicted_tags = predict_supervised_tags(model, multi_label, preprocessed_text)\n",
    "    print(\"Publication originale: \\n\")\n",
    "    print(f\"{original_text}\")\n",
    "    print(\"\\n\")\n",
    "    print(f\"Liste des tags pré-traités utilisés par l'utilisateur: {original_tags}\")\n",
    "    print(\"\\n\")\n",
    "    print(f\"Liste des tags prédits par le modèle: {predicted_tags}\")"
   ]
  },
  {
   "cell_type": "markdown",
   "id": "2ab793f7",
   "metadata": {},
   "source": [
    "# Classification non supervisée"
   ]
  },
  {
   "cell_type": "code",
   "execution_count": 55,
   "id": "82c4df54",
   "metadata": {
    "ExecuteTime": {
     "end_time": "2023-05-16T07:07:46.013431Z",
     "start_time": "2023-05-16T07:07:45.833018Z"
    }
   },
   "outputs": [
    {
     "name": "stderr",
     "output_type": "stream",
     "text": [
      "[nltk_data] Downloading package wordnet to\n",
      "[nltk_data]     C:\\Users\\clsab\\AppData\\Roaming\\nltk_data...\n",
      "[nltk_data]   Package wordnet is already up-to-date!\n",
      "[nltk_data] Downloading package omw-1.4 to\n",
      "[nltk_data]     C:\\Users\\clsab\\AppData\\Roaming\\nltk_data...\n",
      "[nltk_data]   Package omw-1.4 is already up-to-date!\n"
     ]
    }
   ],
   "source": [
    "import gensim\n",
    "from gensim.utils import simple_preprocess\n",
    "from gensim.parsing.preprocessing import STOPWORDS\n",
    "from gensim.models import CoherenceModel\n",
    "\n",
    "import nltk\n",
    "from nltk.stem import WordNetLemmatizer, SnowballStemmer\n",
    "from nltk.stem.porter import *\n",
    "nltk.download('wordnet')\n",
    "nltk.download('omw-1.4')\n",
    "\n",
    "import gensim\n",
    "from gensim.models import TfidfModel\n",
    "import gensim.corpora as corpora\n",
    "from gensim import models\n",
    "from gensim.utils import simple_preprocess\n",
    "from gensim.models.ldamulticore import LdaMulticore\n",
    "from gensim.models import CoherenceModel\n",
    "import logging\n",
    "logging.basicConfig(format='%(asctime)s : %(levelname)s : %(message)s', level=logging.ERROR)\n",
    "import warnings\n",
    "warnings.filterwarnings(\"ignore\",category=DeprecationWarning)\n",
    "\n",
    "import pickle"
   ]
  },
  {
   "cell_type": "markdown",
   "id": "77374021",
   "metadata": {},
   "source": [
    "## Préparation data"
   ]
  },
  {
   "cell_type": "code",
   "execution_count": 56,
   "id": "626b8ca4",
   "metadata": {
    "ExecuteTime": {
     "end_time": "2023-05-16T07:07:49.487365Z",
     "start_time": "2023-05-16T07:07:49.417949Z"
    }
   },
   "outputs": [
    {
     "name": "stdout",
     "output_type": "stream",
     "text": [
      "re        : 2.2.1\n",
      "pandas    : 1.5.3\n",
      "logging   : 0.5.1.2\n",
      "matplotlib: 3.7.1\n",
      "joblib    : 1.2.0\n",
      "numpy     : 1.21.4\n",
      "sys       : 3.9.16 (main, Mar  8 2023, 10:39:24) [MSC v.1916 64 bit (AMD64)]\n",
      "gensim    : 4.3.0\n",
      "seaborn   : 0.12.2\n",
      "nltk      : 3.7\n",
      "\n"
     ]
    }
   ],
   "source": [
    "%load_ext watermark\n",
    "%watermark --iversions"
   ]
  },
  {
   "cell_type": "code",
   "execution_count": 57,
   "id": "38f13ec9",
   "metadata": {
    "ExecuteTime": {
     "end_time": "2023-05-16T07:08:00.767621Z",
     "start_time": "2023-05-16T07:07:59.449099Z"
    }
   },
   "outputs": [],
   "source": [
    "data = pd.read_csv('data/QueryResults.csv', encoding='latin-1')"
   ]
  },
  {
   "cell_type": "code",
   "execution_count": 58,
   "id": "0083e78b",
   "metadata": {
    "ExecuteTime": {
     "end_time": "2023-05-16T07:08:03.656753Z",
     "start_time": "2023-05-16T07:08:03.602568Z"
    }
   },
   "outputs": [],
   "source": [
    "data['Post'] = data['Title'] + ' ' + data['Body']\n",
    "data.drop(columns=['Title', 'Body'], inplace=True)\n",
    "data = data[['Post', 'Tags']]"
   ]
  },
  {
   "cell_type": "markdown",
   "id": "50dcd6b9",
   "metadata": {},
   "source": [
    "On commence tout d’abord par réaliser certaines opérations sur nos données.\n",
    "\n",
    "Notamment la suppression des stopwords (the, or, and…) et des mots de moins de 3 lettres, puis la lemmatisation (les mots sous leur forme canonique) après avoir supprimé les valeurs nulles ou manquantes.\n",
    "\n",
    "L’opération la plus importante est la racinisation (stemming) qui consiste à transformer les mots en forme radicale c’est ce que fait la fonction SnowballStemmer de Nltk."
   ]
  },
  {
   "cell_type": "code",
   "execution_count": 59,
   "id": "ef6f717f",
   "metadata": {
    "ExecuteTime": {
     "end_time": "2023-05-16T07:11:16.750905Z",
     "start_time": "2023-05-16T07:11:16.737129Z"
    }
   },
   "outputs": [],
   "source": [
    "stemmer = SnowballStemmer('english')"
   ]
  },
  {
   "cell_type": "code",
   "execution_count": 60,
   "id": "e2fc4e5b",
   "metadata": {
    "ExecuteTime": {
     "end_time": "2023-05-16T07:11:19.881871Z",
     "start_time": "2023-05-16T07:11:19.871172Z"
    }
   },
   "outputs": [],
   "source": [
    "def lemmatize_stemming(text) :\n",
    "    return stemmer.stem(WordNetLemmatizer().lemmatize(text, pos='n'))"
   ]
  },
  {
   "cell_type": "code",
   "execution_count": 61,
   "id": "876e3e27",
   "metadata": {
    "ExecuteTime": {
     "end_time": "2023-05-16T07:11:25.394042Z",
     "start_time": "2023-05-16T07:11:25.384330Z"
    }
   },
   "outputs": [],
   "source": [
    "def preprocess(text) :\n",
    "    result = []\n",
    "    for token in gensim.utils.simple_preprocess(text) :\n",
    "        if token not in gensim.parsing.preprocessing.STOPWORDS and len(token) > 3 :\n",
    "            result.append(lemmatize_stemming(token))\n",
    "    return result"
   ]
  },
  {
   "cell_type": "code",
   "execution_count": 62,
   "id": "578c56af",
   "metadata": {
    "ExecuteTime": {
     "end_time": "2023-05-16T07:12:12.151109Z",
     "start_time": "2023-05-16T07:11:29.231588Z"
    }
   },
   "outputs": [
    {
     "name": "stdout",
     "output_type": "stream",
     "text": [
      "CPU times: total: 42.8 s\n",
      "Wall time: 42.9 s\n"
     ]
    }
   ],
   "source": [
    "%%time\n",
    "processed_docs = [preprocess(doc) for doc in data['Post']]"
   ]
  },
  {
   "cell_type": "code",
   "execution_count": 63,
   "id": "c1cd406b",
   "metadata": {
    "ExecuteTime": {
     "end_time": "2023-05-16T07:12:19.910330Z",
     "start_time": "2023-05-16T07:12:19.890141Z"
    }
   },
   "outputs": [
    {
     "name": "stdout",
     "output_type": "stream",
     "text": [
      "['convert', 'decim', 'doubl', 'want', 'assign', 'decim', 'variabl', 'quot', 'tran', 'quot', 'doubl', 'variabl', 'quot', 'opac', 'quot', 'class', 'lang', 'prettyprint', 'overrid', 'code', 'decim', 'tran', 'trackbar', 'valu', 'opac', 'tran', 'code', 'build', 'give', 'follow', 'error', 'blockquot', 'implicit', 'convert', 'type', 'decim', 'doubl', 'blockquot']\n"
     ]
    }
   ],
   "source": [
    "print(processed_docs[0])"
   ]
  },
  {
   "cell_type": "code",
   "execution_count": 46,
   "id": "7db42ec5",
   "metadata": {
    "ExecuteTime": {
     "end_time": "2023-05-14T15:59:50.095106Z",
     "start_time": "2023-05-14T15:59:50.070505Z"
    }
   },
   "outputs": [
    {
     "name": "stdout",
     "output_type": "stream",
     "text": [
      "['convert', 'decimal', 'assign', 'opacity', 'value', 'opacity', 'error', 'type', 'decimal', 'double']\n"
     ]
    }
   ],
   "source": [
    "print(top200_corpus[0])"
   ]
  },
  {
   "cell_type": "markdown",
   "id": "e3cd5919",
   "metadata": {},
   "source": [
    "## Conversion des données"
   ]
  },
  {
   "cell_type": "markdown",
   "id": "c90da640",
   "metadata": {},
   "source": [
    "On stocke nos données après leur nettoyage dans un dictionnaire de gensim, pour ensuite les convertir au format Bag Of Words ou Tf-idf"
   ]
  },
  {
   "cell_type": "code",
   "execution_count": 69,
   "id": "f5e98f5c",
   "metadata": {
    "ExecuteTime": {
     "end_time": "2023-05-16T07:54:51.370082Z",
     "start_time": "2023-05-16T07:54:45.535355Z"
    }
   },
   "outputs": [
    {
     "name": "stdout",
     "output_type": "stream",
     "text": [
      "CPU times: total: 5.73 s\n",
      "Wall time: 5.82 s\n"
     ]
    }
   ],
   "source": [
    "%%time\n",
    "texts = processed_docs\n",
    "id2word = gensim.corpora.Dictionary(processed_docs)\n",
    "id2word.filter_extremes(no_below=1000)\n",
    "bow_corpus = [id2word.doc2bow(text) for text in texts]\n",
    "tfidf = TfidfModel(bow_corpus)\n",
    "tfidf_corpus = [tfidf[text] for text in bow_corpus]"
   ]
  },
  {
   "cell_type": "markdown",
   "id": "c3ffad59",
   "metadata": {},
   "source": [
    "## Choix du modèle"
   ]
  },
  {
   "cell_type": "markdown",
   "id": "0f1f14b1",
   "metadata": {},
   "source": [
    "On applique le topic modeling à l’aide de la fonction LdaMulticore de gensim en prenant bien soin de préciser:\n",
    "- le nombre de topics à extraire du corpus\n",
    "- le mapping entre les identifiants des mots (entiers) et les mots (chaîne de caractères)\n",
    "- le nombre d’itérations à effectuer dans le corpus\n",
    "\n",
    "Le nombre de topic à extraire constitue une variable importante du modèle, son choix est souvent crucial tout comme celui du nombres de classes en clustering par exemple."
   ]
  },
  {
   "cell_type": "markdown",
   "id": "f5e66cd3",
   "metadata": {},
   "source": [
    "## Recherche du nombre de topics (cohérence)"
   ]
  },
  {
   "cell_type": "code",
   "execution_count": 70,
   "id": "a7ab95a5",
   "metadata": {
    "ExecuteTime": {
     "end_time": "2023-05-16T07:54:56.201778Z",
     "start_time": "2023-05-16T07:54:56.190190Z"
    }
   },
   "outputs": [],
   "source": [
    "def compute_coherence_values(dictionary, corpus, texts, limit, start=2, step=3):\n",
    "    \"\"\"\n",
    "    Compute c_v coherence for various number of topics\n",
    "\n",
    "    Args:\n",
    "  \n",
    "        dictionary : Gensim dictionary\n",
    "        corpus : Gensim corpus\n",
    "        texts : List of input texts\n",
    "        limit : Max num of topics\n",
    "\n",
    "    Returns:\n",
    "    \n",
    "        model_list : List of LDA topic models\n",
    "        coherence_values : Coherence values corresponding to the LDA model with respective number of topics\n",
    "    \"\"\"\n",
    "    coherence_values = []\n",
    "    model_list = []\n",
    "    \n",
    "    \n",
    "    for num_topics in range(start, limit, step):\n",
    "        \n",
    "        model = LdaMulticore(corpus=corpus,\n",
    "                            id2word=dictionary,\n",
    "                            num_topics=num_topics, \n",
    "                            random_state=0,\n",
    "                            passes=10,\n",
    "                            workers=7)\n",
    "\n",
    "        model_list.append(model)\n",
    "        coherencemodel = CoherenceModel(model=model, texts=texts, dictionary=dictionary, coherence='c_v')\n",
    "        coherence_values.append(coherencemodel.get_coherence())\n",
    "\n",
    "    return model_list, coherence_values"
   ]
  },
  {
   "cell_type": "code",
   "execution_count": 75,
   "id": "88af3d46",
   "metadata": {
    "ExecuteTime": {
     "end_time": "2023-05-16T09:31:40.696796Z",
     "start_time": "2023-05-16T08:54:37.985451Z"
    }
   },
   "outputs": [
    {
     "name": "stdout",
     "output_type": "stream",
     "text": [
      "CPU times: total: 24min 13s\n",
      "Wall time: 37min 2s\n"
     ]
    }
   ],
   "source": [
    "%%time\n",
    "model_list, coherence_values = compute_coherence_values(dictionary=id2word,\n",
    "                                                        corpus=tfidf_corpus,\n",
    "                                                        texts=texts,\n",
    "                                                        start=2,\n",
    "                                                        limit=51,\n",
    "                                                        step=1)"
   ]
  },
  {
   "cell_type": "code",
   "execution_count": 76,
   "id": "571fccb0",
   "metadata": {
    "ExecuteTime": {
     "end_time": "2023-05-16T09:46:12.790508Z",
     "start_time": "2023-05-16T09:46:12.653471Z"
    },
    "scrolled": false
   },
   "outputs": [
    {
     "data": {
      "image/png": "[encoded data removed]",
      "text/plain": [
       "<Figure size 640x480 with 1 Axes>"
      ]
     },
     "metadata": {},
     "output_type": "display_data"
    },
    {
     "name": "stdout",
     "output_type": "stream",
     "text": [
      "Num Topics = 2  has Coherence Value of 0.3935\n",
      "Num Topics = 3  has Coherence Value of 0.401\n",
      "Num Topics = 4  has Coherence Value of 0.4329\n",
      "Num Topics = 5  has Coherence Value of 0.4874\n",
      "Num Topics = 6  has Coherence Value of 0.4729\n",
      "Num Topics = 7  has Coherence Value of 0.4753\n",
      "Num Topics = 8  has Coherence Value of 0.5201\n",
      "Num Topics = 9  has Coherence Value of 0.5121\n",
      "Num Topics = 10  has Coherence Value of 0.4703\n",
      "Num Topics = 11  has Coherence Value of 0.4654\n",
      "Num Topics = 12  has Coherence Value of 0.4666\n",
      "Num Topics = 13  has Coherence Value of 0.4594\n",
      "Num Topics = 14  has Coherence Value of 0.4752\n",
      "Num Topics = 15  has Coherence Value of 0.443\n",
      "Num Topics = 16  has Coherence Value of 0.4636\n",
      "Num Topics = 17  has Coherence Value of 0.4623\n",
      "Num Topics = 18  has Coherence Value of 0.444\n",
      "Num Topics = 19  has Coherence Value of 0.4463\n",
      "Num Topics = 20  has Coherence Value of 0.4534\n",
      "Num Topics = 21  has Coherence Value of 0.4504\n",
      "Num Topics = 22  has Coherence Value of 0.4513\n",
      "Num Topics = 23  has Coherence Value of 0.4553\n",
      "Num Topics = 24  has Coherence Value of 0.4432\n",
      "Num Topics = 25  has Coherence Value of 0.4408\n",
      "Num Topics = 26  has Coherence Value of 0.4545\n",
      "Num Topics = 27  has Coherence Value of 0.4444\n",
      "Num Topics = 28  has Coherence Value of 0.4524\n",
      "Num Topics = 29  has Coherence Value of 0.4514\n",
      "Num Topics = 30  has Coherence Value of 0.4452\n",
      "Num Topics = 31  has Coherence Value of 0.4531\n",
      "Num Topics = 32  has Coherence Value of 0.4519\n",
      "Num Topics = 33  has Coherence Value of 0.4435\n",
      "Num Topics = 34  has Coherence Value of 0.4551\n",
      "Num Topics = 35  has Coherence Value of 0.4432\n",
      "Num Topics = 36  has Coherence Value of 0.4458\n",
      "Num Topics = 37  has Coherence Value of 0.4436\n",
      "Num Topics = 38  has Coherence Value of 0.4395\n",
      "Num Topics = 39  has Coherence Value of 0.4359\n",
      "Num Topics = 40  has Coherence Value of 0.4365\n",
      "Num Topics = 41  has Coherence Value of 0.4341\n",
      "Num Topics = 42  has Coherence Value of 0.4423\n",
      "Num Topics = 43  has Coherence Value of 0.4461\n",
      "Num Topics = 44  has Coherence Value of 0.4368\n",
      "Num Topics = 45  has Coherence Value of 0.4408\n",
      "Num Topics = 46  has Coherence Value of 0.431\n",
      "Num Topics = 47  has Coherence Value of 0.4396\n",
      "Num Topics = 48  has Coherence Value of 0.4311\n",
      "Num Topics = 49  has Coherence Value of 0.4402\n",
      "Num Topics = 50  has Coherence Value of 0.4336\n"
     ]
    }
   ],
   "source": [
    "limit=51\n",
    "start=2\n",
    "step=1\n",
    "\n",
    "x = range(start, limit, step)\n",
    "plt.plot(x, coherence_values)\n",
    "plt.xlabel(\"Num Topics\")\n",
    "plt.ylabel(\"Coherence score\")\n",
    "plt.legend((\"coherence_values\"), loc='best')\n",
    "plt.show()\n",
    "\n",
    "for m, cv in zip(x, coherence_values):\n",
    "    print(\"Num Topics =\", m, \" has Coherence Value of\", round(cv, 4))"
   ]
  },
  {
   "cell_type": "markdown",
   "id": "2546809d",
   "metadata": {
    "ExecuteTime": {
     "end_time": "2023-04-26T22:01:14.842261Z",
     "start_time": "2023-04-26T22:01:14.834926Z"
    }
   },
   "source": [
    "Le maximum de cohérence est atteint pour 8 topics"
   ]
  },
  {
   "cell_type": "markdown",
   "id": "897c9767",
   "metadata": {},
   "source": [
    "## Les mesures de cohérence du modèle"
   ]
  },
  {
   "cell_type": "markdown",
   "id": "aa4a6de4",
   "metadata": {},
   "source": [
    "Les **mesures de cohérence** évaluent le **degré de similitude sémantique** entre les mots les mieux notés dans le topics. Ces mesures aident à faire la distinction entre les topics sémantiquement interprétables et les topics dûs à des inférences statistiques.\n",
    "\n",
    "Pour un bon modèle LDA la cohérence doit être comprise entre 0.4 et 0.7 au-delà et en dessous le modèle est très probablement erroné. La cohérence pour un modèle LDA est calculée en procédant aux étapes suivantes :\n",
    "\n",
    "- **Segmentation**: création de paires de mots à partir de sous-ensembles\n",
    "- **Calcul des probabilités**: calcul probabilité d’occurrence d’un mot\n",
    "- **Mesure de confirmation**: vérification « dans quelle mesure » un sous-ensemble de mots supporte un autre sous-ensemble de mots dans chaque paire\n",
    "- **Agrégation**: agrégation de toutes les valeurs calculées à l’étape précédente en une seule valeur qui est notre score final de cohérence de sujet"
   ]
  },
  {
   "cell_type": "code",
   "execution_count": 77,
   "id": "777436c2",
   "metadata": {
    "ExecuteTime": {
     "end_time": "2023-05-16T09:51:56.307431Z",
     "start_time": "2023-05-16T09:46:46.654871Z"
    }
   },
   "outputs": [
    {
     "name": "stdout",
     "output_type": "stream",
     "text": [
      "CPU times: total: 4min 42s\n",
      "Wall time: 5min 9s\n"
     ]
    }
   ],
   "source": [
    "%%time\n",
    "lda_model = gensim.models.LdaMulticore(tfidf_corpus,\n",
    "                                       num_topics = 8,\n",
    "                                       id2word = id2word,\n",
    "                                       passes = 100)"
   ]
  },
  {
   "cell_type": "code",
   "execution_count": 78,
   "id": "c2f00e17",
   "metadata": {
    "ExecuteTime": {
     "end_time": "2023-05-16T09:53:13.294450Z",
     "start_time": "2023-05-16T09:53:06.304672Z"
    }
   },
   "outputs": [
    {
     "name": "stdout",
     "output_type": "stream",
     "text": [
      "Coherence Score:  0.5345446477334603\n",
      "CPU times: total: 859 ms\n",
      "Wall time: 6.97 s\n"
     ]
    }
   ],
   "source": [
    "%%time\n",
    "coherence_model_lda = CoherenceModel(model=lda_model, texts=processed_docs, dictionary=id2word)\n",
    "coherence_lda = coherence_model_lda.get_coherence()\n",
    "print('Coherence Score: ', coherence_lda)"
   ]
  },
  {
   "attachments": {
    "image.png": {
     "image/png": "[encoded data removed]"
    }
   },
   "cell_type": "markdown",
   "id": "98e92989",
   "metadata": {},
   "source": [
    "Cohérence score with BagOfWord\n",
    "![image.png](attachment:image.png)"
   ]
  },
  {
   "attachments": {
    "image.png": {
     "image/png": "[encoded data removed]"
    }
   },
   "cell_type": "markdown",
   "id": "9dc7256a",
   "metadata": {},
   "source": [
    "Cohérence score with Tf-idf\n",
    "![image.png](attachment:image.png)"
   ]
  },
  {
   "cell_type": "markdown",
   "id": "980b7a92",
   "metadata": {},
   "source": [
    "**Nous choisissons la configuration Tf-idf**"
   ]
  },
  {
   "cell_type": "markdown",
   "id": "6630eacf",
   "metadata": {},
   "source": [
    "## Visualisation des topics"
   ]
  },
  {
   "cell_type": "code",
   "execution_count": 79,
   "id": "bb280a28",
   "metadata": {
    "ExecuteTime": {
     "end_time": "2023-05-16T09:55:59.173438Z",
     "start_time": "2023-05-16T09:55:59.160012Z"
    }
   },
   "outputs": [
    {
     "name": "stdout",
     "output_type": "stream",
     "text": [
      "Topic: 0 -> Words: 0.033*\"string\" + 0.033*\"class\" + 0.024*\"public\" + 0.023*\"object\" + 0.020*\"valu\" + 0.019*\"method\" + 0.019*\"return\" + 0.018*\"function\" + 0.018*\"array\" + 0.015*\"type\"\n",
      "Topic: 1 -> Words: 0.046*\"tabl\" + 0.027*\"column\" + 0.027*\"queri\" + 0.025*\"databas\" + 0.025*\"select\" + 0.019*\"mysql\" + 0.018*\"data\" + 0.018*\"date\" + 0.016*\"store\" + 0.016*\"field\"\n",
      "Topic: 2 -> Words: 0.036*\"server\" + 0.032*\"servic\" + 0.024*\"connect\" + 0.020*\"applic\" + 0.019*\"user\" + 0.019*\"client\" + 0.019*\"window\" + 0.015*\"request\" + 0.014*\"access\" + 0.013*\"send\"\n",
      "Topic: 3 -> Words: 0.047*\"file\" + 0.026*\"visual\" + 0.025*\"project\" + 0.025*\"studio\" + 0.022*\"directori\" + 0.020*\"instal\" + 0.017*\"version\" + 0.017*\"build\" + 0.017*\"path\" + 0.014*\"compil\"\n",
      "Topic: 4 -> Words: 0.017*\"develop\" + 0.015*\"test\" + 0.014*\"good\" + 0.013*\"java\" + 0.013*\"languag\" + 0.012*\"applic\" + 0.012*\"strong\" + 0.012*\"project\" + 0.011*\"best\" + 0.010*\"program\"\n",
      "Topic: 5 -> Words: 0.029*\"page\" + 0.023*\"control\" + 0.022*\"javascript\" + 0.022*\"form\" + 0.020*\"text\" + 0.019*\"jqueri\" + 0.018*\"html\" + 0.017*\"button\" + 0.017*\"event\" + 0.015*\"element\"\n",
      "Topic: 6 -> Words: 0.062*\"http\" + 0.053*\"noreferr\" + 0.053*\"href\" + 0.036*\"nofollow\" + 0.023*\"imag\" + 0.022*\"wiki\" + 0.020*\"html\" + 0.020*\"librari\" + 0.019*\"wikipedia\" + 0.017*\"aspx\"\n",
      "Topic: 7 -> Words: 0.024*\"thread\" + 0.022*\"line\" + 0.022*\"file\" + 0.021*\"python\" + 0.018*\"command\" + 0.018*\"process\" + 0.017*\"except\" + 0.016*\"print\" + 0.014*\"memori\" + 0.013*\"script\"\n",
      "CPU times: total: 0 ns\n",
      "Wall time: 1.01 ms\n"
     ]
    }
   ],
   "source": [
    "%%time\n",
    "topics = []\n",
    "for idx, topic in lda_model.print_topics(-1) :\n",
    "    print(\"Topic: {} -> Words: {}\".format(idx, topic))\n",
    "    topics.append(topic)"
   ]
  },
  {
   "cell_type": "markdown",
   "id": "ba22417c",
   "metadata": {},
   "source": [
    "vérifier les termes qui n'apportent aucune info supp et qui reviennent souvent. Peut-être faut il les ajouter dans stop word"
   ]
  },
  {
   "cell_type": "markdown",
   "id": "0b424730",
   "metadata": {},
   "source": [
    "## Stockage des résultats (df)"
   ]
  },
  {
   "cell_type": "code",
   "execution_count": 80,
   "id": "85fb20a7",
   "metadata": {
    "ExecuteTime": {
     "end_time": "2023-05-16T09:56:06.741389Z",
     "start_time": "2023-05-16T09:56:06.726917Z"
    }
   },
   "outputs": [],
   "source": [
    "all_topic_model = []\n",
    "for i in range(len(topics)):\n",
    "    str = topics[i].split(' + ')\n",
    "    topic_model = []\n",
    "    for j in range(10):\n",
    "        weight = str[j][0:5]\n",
    "        word = str[j][7:len(str[j])-1]\n",
    "        topic_model.append((weight, word))\n",
    "    all_topic_model.append(topic_model)"
   ]
  },
  {
   "cell_type": "code",
   "execution_count": 81,
   "id": "c5dabf54",
   "metadata": {
    "ExecuteTime": {
     "end_time": "2023-05-16T09:56:12.318241Z",
     "start_time": "2023-05-16T09:56:12.278023Z"
    }
   },
   "outputs": [
    {
     "data": {
      "text/html": [
       "<div>\n",
       "<style scoped>\n",
       "    .dataframe tbody tr th:only-of-type {\n",
       "        vertical-align: middle;\n",
       "    }\n",
       "\n",
       "    .dataframe tbody tr th {\n",
       "        vertical-align: top;\n",
       "    }\n",
       "\n",
       "    .dataframe thead th {\n",
       "        text-align: right;\n",
       "    }\n",
       "</style>\n",
       "<table border=\"1\" class=\"dataframe\">\n",
       "  <thead>\n",
       "    <tr style=\"text-align: right;\">\n",
       "      <th></th>\n",
       "      <th>0</th>\n",
       "      <th>1</th>\n",
       "      <th>2</th>\n",
       "      <th>3</th>\n",
       "      <th>4</th>\n",
       "      <th>5</th>\n",
       "      <th>6</th>\n",
       "      <th>7</th>\n",
       "      <th>8</th>\n",
       "      <th>9</th>\n",
       "    </tr>\n",
       "  </thead>\n",
       "  <tbody>\n",
       "    <tr>\n",
       "      <th>Topic 1</th>\n",
       "      <td>(0.033, string)</td>\n",
       "      <td>(0.033, class)</td>\n",
       "      <td>(0.024, public)</td>\n",
       "      <td>(0.023, object)</td>\n",
       "      <td>(0.020, valu)</td>\n",
       "      <td>(0.019, method)</td>\n",
       "      <td>(0.019, return)</td>\n",
       "      <td>(0.018, function)</td>\n",
       "      <td>(0.018, array)</td>\n",
       "      <td>(0.015, type)</td>\n",
       "    </tr>\n",
       "    <tr>\n",
       "      <th>Topic 2</th>\n",
       "      <td>(0.046, tabl)</td>\n",
       "      <td>(0.027, column)</td>\n",
       "      <td>(0.027, queri)</td>\n",
       "      <td>(0.025, databas)</td>\n",
       "      <td>(0.025, select)</td>\n",
       "      <td>(0.019, mysql)</td>\n",
       "      <td>(0.018, data)</td>\n",
       "      <td>(0.018, date)</td>\n",
       "      <td>(0.016, store)</td>\n",
       "      <td>(0.016, field)</td>\n",
       "    </tr>\n",
       "    <tr>\n",
       "      <th>Topic 3</th>\n",
       "      <td>(0.036, server)</td>\n",
       "      <td>(0.032, servic)</td>\n",
       "      <td>(0.024, connect)</td>\n",
       "      <td>(0.020, applic)</td>\n",
       "      <td>(0.019, user)</td>\n",
       "      <td>(0.019, client)</td>\n",
       "      <td>(0.019, window)</td>\n",
       "      <td>(0.015, request)</td>\n",
       "      <td>(0.014, access)</td>\n",
       "      <td>(0.013, send)</td>\n",
       "    </tr>\n",
       "    <tr>\n",
       "      <th>Topic 4</th>\n",
       "      <td>(0.047, file)</td>\n",
       "      <td>(0.026, visual)</td>\n",
       "      <td>(0.025, project)</td>\n",
       "      <td>(0.025, studio)</td>\n",
       "      <td>(0.022, directori)</td>\n",
       "      <td>(0.020, instal)</td>\n",
       "      <td>(0.017, version)</td>\n",
       "      <td>(0.017, build)</td>\n",
       "      <td>(0.017, path)</td>\n",
       "      <td>(0.014, compil)</td>\n",
       "    </tr>\n",
       "    <tr>\n",
       "      <th>Topic 5</th>\n",
       "      <td>(0.017, develop)</td>\n",
       "      <td>(0.015, test)</td>\n",
       "      <td>(0.014, good)</td>\n",
       "      <td>(0.013, java)</td>\n",
       "      <td>(0.013, languag)</td>\n",
       "      <td>(0.012, applic)</td>\n",
       "      <td>(0.012, strong)</td>\n",
       "      <td>(0.012, project)</td>\n",
       "      <td>(0.011, best)</td>\n",
       "      <td>(0.010, program)</td>\n",
       "    </tr>\n",
       "    <tr>\n",
       "      <th>Topic 6</th>\n",
       "      <td>(0.029, page)</td>\n",
       "      <td>(0.023, control)</td>\n",
       "      <td>(0.022, javascript)</td>\n",
       "      <td>(0.022, form)</td>\n",
       "      <td>(0.020, text)</td>\n",
       "      <td>(0.019, jqueri)</td>\n",
       "      <td>(0.018, html)</td>\n",
       "      <td>(0.017, button)</td>\n",
       "      <td>(0.017, event)</td>\n",
       "      <td>(0.015, element)</td>\n",
       "    </tr>\n",
       "    <tr>\n",
       "      <th>Topic 7</th>\n",
       "      <td>(0.062, http)</td>\n",
       "      <td>(0.053, noreferr)</td>\n",
       "      <td>(0.053, href)</td>\n",
       "      <td>(0.036, nofollow)</td>\n",
       "      <td>(0.023, imag)</td>\n",
       "      <td>(0.022, wiki)</td>\n",
       "      <td>(0.020, html)</td>\n",
       "      <td>(0.020, librari)</td>\n",
       "      <td>(0.019, wikipedia)</td>\n",
       "      <td>(0.017, aspx)</td>\n",
       "    </tr>\n",
       "    <tr>\n",
       "      <th>Topic 8</th>\n",
       "      <td>(0.024, thread)</td>\n",
       "      <td>(0.022, line)</td>\n",
       "      <td>(0.022, file)</td>\n",
       "      <td>(0.021, python)</td>\n",
       "      <td>(0.018, command)</td>\n",
       "      <td>(0.018, process)</td>\n",
       "      <td>(0.017, except)</td>\n",
       "      <td>(0.016, print)</td>\n",
       "      <td>(0.014, memori)</td>\n",
       "      <td>(0.013, script)</td>\n",
       "    </tr>\n",
       "  </tbody>\n",
       "</table>\n",
       "</div>"
      ],
      "text/plain": [
       "                        0                  1                    2  \\\n",
       "Topic 1   (0.033, string)     (0.033, class)      (0.024, public)   \n",
       "Topic 2     (0.046, tabl)    (0.027, column)       (0.027, queri)   \n",
       "Topic 3   (0.036, server)    (0.032, servic)     (0.024, connect)   \n",
       "Topic 4     (0.047, file)    (0.026, visual)     (0.025, project)   \n",
       "Topic 5  (0.017, develop)      (0.015, test)        (0.014, good)   \n",
       "Topic 6     (0.029, page)   (0.023, control)  (0.022, javascript)   \n",
       "Topic 7     (0.062, http)  (0.053, noreferr)        (0.053, href)   \n",
       "Topic 8   (0.024, thread)      (0.022, line)        (0.022, file)   \n",
       "\n",
       "                         3                   4                 5  \\\n",
       "Topic 1    (0.023, object)       (0.020, valu)   (0.019, method)   \n",
       "Topic 2   (0.025, databas)     (0.025, select)    (0.019, mysql)   \n",
       "Topic 3    (0.020, applic)       (0.019, user)   (0.019, client)   \n",
       "Topic 4    (0.025, studio)  (0.022, directori)   (0.020, instal)   \n",
       "Topic 5      (0.013, java)    (0.013, languag)   (0.012, applic)   \n",
       "Topic 6      (0.022, form)       (0.020, text)   (0.019, jqueri)   \n",
       "Topic 7  (0.036, nofollow)       (0.023, imag)     (0.022, wiki)   \n",
       "Topic 8    (0.021, python)    (0.018, command)  (0.018, process)   \n",
       "\n",
       "                        6                  7                   8  \\\n",
       "Topic 1   (0.019, return)  (0.018, function)      (0.018, array)   \n",
       "Topic 2     (0.018, data)      (0.018, date)      (0.016, store)   \n",
       "Topic 3   (0.019, window)   (0.015, request)     (0.014, access)   \n",
       "Topic 4  (0.017, version)     (0.017, build)       (0.017, path)   \n",
       "Topic 5   (0.012, strong)   (0.012, project)       (0.011, best)   \n",
       "Topic 6     (0.018, html)    (0.017, button)      (0.017, event)   \n",
       "Topic 7     (0.020, html)   (0.020, librari)  (0.019, wikipedia)   \n",
       "Topic 8   (0.017, except)     (0.016, print)     (0.014, memori)   \n",
       "\n",
       "                        9  \n",
       "Topic 1     (0.015, type)  \n",
       "Topic 2    (0.016, field)  \n",
       "Topic 3     (0.013, send)  \n",
       "Topic 4   (0.014, compil)  \n",
       "Topic 5  (0.010, program)  \n",
       "Topic 6  (0.015, element)  \n",
       "Topic 7     (0.017, aspx)  \n",
       "Topic 8   (0.013, script)  "
      ]
     },
     "execution_count": 81,
     "metadata": {},
     "output_type": "execute_result"
    }
   ],
   "source": [
    "df_topic_model = pd.DataFrame(all_topic_model)\n",
    "df_topic_model.rename(index = {0: \"Topic 1\",\n",
    "                               1: \"Topic 2\",\n",
    "                               2: \"Topic 3\",\n",
    "                               3: \"Topic 4\",\n",
    "                               4: \"Topic 5\",\n",
    "                               5: \"Topic 6\",\n",
    "                               6: \"Topic 7\",\n",
    "                               7: \"Topic 8\",\n",
    "                               })"
   ]
  },
  {
   "cell_type": "code",
   "execution_count": 68,
   "id": "a5256189",
   "metadata": {
    "ExecuteTime": {
     "end_time": "2023-05-12T08:00:19.329458Z",
     "start_time": "2023-05-12T08:00:19.317447Z"
    }
   },
   "outputs": [],
   "source": [
    "#!pip install pyLDAvis"
   ]
  },
  {
   "cell_type": "code",
   "execution_count": 82,
   "id": "cb090b0f",
   "metadata": {
    "ExecuteTime": {
     "end_time": "2023-05-16T09:56:20.245689Z",
     "start_time": "2023-05-16T09:56:20.103051Z"
    }
   },
   "outputs": [],
   "source": [
    "import pyLDAvis.gensim_models"
   ]
  },
  {
   "cell_type": "code",
   "execution_count": 83,
   "id": "ce3982df",
   "metadata": {
    "ExecuteTime": {
     "end_time": "2023-05-16T09:56:58.963444Z",
     "start_time": "2023-05-16T09:56:41.336062Z"
    }
   },
   "outputs": [
    {
     "data": {
      "text/html": [
       "<style> .jp-icon-warn0 path {fill: var(--jp-warn-color0);} .bp3-button-text path { fill: var(--jp-inverse-layout-color3);} .jp-icon-brand0 path { fill: var(--jp-brand-color0);} text.terms { fill: #616161;} </style>"
      ],
      "text/plain": [
       "<IPython.core.display.HTML object>"
      ]
     },
     "metadata": {},
     "output_type": "display_data"
    },
    {
     "name": "stderr",
     "output_type": "stream",
     "text": [
      "C:\\Users\\clsab\\anaconda3\\lib\\site-packages\\pyLDAvis\\_prepare.py:243: FutureWarning: In a future version of pandas all arguments of DataFrame.drop except for the argument 'labels' will be keyword-only.\n",
      "  default_term_info = default_term_info.sort_values(\n"
     ]
    },
    {
     "data": {
      "text/html": [
       "\n",
       "<link rel=\"stylesheet\" type=\"text/css\" href=\"https://cdn.jsdelivr.net/gh/bmabey/pyLDAvis@3.4.0/pyLDAvis/js/ldavis.v1.0.0.css\">\n",
       "\n",
       "\n",
       "<div id=\"ldavis_el751621698846771685474586067\" style=\"background-color:white;\"></div>\n",
       "<script type=\"text/javascript\">\n",
       "\n",
       "var ldavis_el751621698846771685474586067_data = {\"mdsDat\": {\"x\": [-0.11269271006385431, 0.05666533770341364, -0.029095488548815388, -0.11486715919349864, 0.12473619567958259, 0.05640140876190651, 0.031193081237919047, -0.01234066557665349], \"y\": [0.029898012079151628, -0.007952875737497488, 0.05943077838779979, 0.019043311487363584, 0.11083042041661124, -0.08286705817396545, -0.06887791601916826, -0.05950467244029527], \"topics\": [1, 2, 3, 4, 5, 6, 7, 8], \"cluster\": [1, 1, 1, 1, 1, 1, 1, 1], \"Freq\": [18.35074281711204, 14.481199401712159, 12.2619028589068, 11.40032352514011, 11.391082481066205, 11.283128324522334, 10.772385064126542, 10.059235527413806]}, \"tinfo\": {\"Term\": [\"http\", \"noreferr\", \"tabl\", \"href\", \"nofollow\", \"file\", \"column\", \"servic\", \"server\", \"queri\", \"visual\", \"studio\", \"wiki\", \"imag\", \"string\", \"public\", \"html\", \"jqueri\", \"page\", \"connect\", \"databas\", \"directori\", \"wikipedia\", \"thread\", \"select\", \"javascript\", \"project\", \"mysql\", \"array\", \"instal\", \"array\", \"public\", \"privat\", \"void\", \"static\", \"string\", \"class\", \"collect\", \"paramet\", \"express\", \"variabl\", \"return\", \"object\", \"match\", \"method\", \"properti\", \"pas\", \"charact\", \"pass\", \"defin\", \"null\", \"valu\", \"instanc\", \"interfac\", \"convert\", \"attribut\", \"fals\", \"initi\", \"type\", \"oper\", \"function\", \"list\", \"true\", \"java\", \"follow\", \"strong\", \"implement\", \"test\", \"like\", \"learn\", \"languag\", \"experi\", \"softwar\", \"design\", \"free\", \"develop\", \"interest\", \"practic\", \"recommend\", \"peopl\", \"framework\", \"good\", \"real\", \"feel\", \"featur\", \"pattern\", \"tool\", \"resourc\", \"general\", \"use\", \"small\", \"littl\", \"common\", \"consid\", \"ask\", \"written\", \"understand\", \"wonder\", \"quick\", \"test\", \"program\", \"thing\", \"start\", \"best\", \"project\", \"java\", \"support\", \"look\", \"think\", \"differ\", \"applic\", \"know\", \"implement\", \"strong\", \"time\", \"like\", \"question\", \"work\", \"need\", \"jqueri\", \"button\", \"click\", \"javascript\", \"browser\", \"event\", \"form\", \"page\", \"style\", \"element\", \"content\", \"view\", \"control\", \"display\", \"text\", \"input\", \"valid\", \"html\", \"imag\", \"load\", \"show\", \"insid\", \"post\", \"size\", \"link\", \"dynam\", \"appear\", \"attribut\", \"fals\", \"right\", \"user\", \"document\", \"chang\", \"script\", \"window\", \"select\", \"want\", \"function\", \"strong\", \"work\", \"type\", \"like\", \"valu\", \"column\", \"tabl\", \"mysql\", \"queri\", \"date\", \"insert\", \"select\", \"field\", \"databas\", \"store\", \"item\", \"model\", \"index\", \"statement\", \"sort\", \"order\", \"delet\", \"data\", \"result\", \"null\", \"list\", \"number\", \"structur\", \"limit\", \"search\", \"updat\", \"valu\", \"multipl\", \"name\", \"perform\", \"creat\", \"server\", \"user\", \"like\", \"want\", \"strong\", \"wikipedia\", \"wiki\", \"nofollow\", \"noreferr\", \"href\", \"aspx\", \"http\", \"imag\", \"googl\", \"microsoft\", \"stackoverflow\", \"html\", \"librari\", \"word\", \"search\", \"format\", \"document\", \"blockquot\", \"support\", \"question\", \"similar\", \"link\", \"avail\", \"index\", \"recommend\", \"convert\", \"python\", \"featur\", \"product\", \"seen\", \"post\", \"strong\", \"sourc\", \"exampl\", \"look\", \"java\", \"like\", \"know\", \"file\", \"studio\", \"visual\", \"directori\", \"path\", \"instal\", \"copi\", \"build\", \"version\", \"project\", \"file\", \"compil\", \"locat\", \"depend\", \"debug\", \"sourc\", \"configur\", \"includ\", \"automat\", \"manual\", \"remov\", \"delet\", \"chang\", \"open\", \"modifi\", \"share\", \"specifi\", \"set\", \"built\", \"tool\", \"solut\", \"command\", \"generat\", \"check\", \"window\", \"error\", \"applic\", \"work\", \"librari\", \"creat\", \"strong\", \"test\", \"want\", \"need\", \"servic\", \"connect\", \"client\", \"address\", \"send\", \"request\", \"server\", \"machin\", \"respons\", \"local\", \"configur\", \"access\", \"websit\", \"run\", \"site\", \"user\", \"messag\", \"window\", \"determin\", \"share\", \"applic\", \"environ\", \"provid\", \"state\", \"inform\", \"set\", \"databas\", \"allow\", \"instal\", \"manag\", \"data\", \"need\", \"current\", \"file\", \"work\", \"strong\", \"possibl\", \"error\", \"want\", \"like\", \"thread\", \"print\", \"except\", \"memori\", \"command\", \"block\", \"line\", \"process\", \"output\", \"python\", \"debug\", \"linux\", \"execut\", \"throw\", \"close\", \"loop\", \"messag\", \"script\", \"pars\", \"import\", \"caus\", \"task\", \"read\", \"program\", \"error\", \"run\", \"second\", \"fail\", \"handl\", \"happen\", \"write\", \"file\", \"window\", \"time\", \"java\", \"open\", \"applic\", \"like\", \"strong\", \"work\"], \"Freq\": [13342.0, 9587.0, 7912.0, 10495.0, 6264.0, 15370.0, 4471.0, 5688.0, 9359.0, 4940.0, 4681.0, 4121.0, 3460.0, 6099.0, 11138.0, 6765.0, 6937.0, 3240.0, 7301.0, 4408.0, 6962.0, 3962.0, 3078.0, 4034.0, 5960.0, 5320.0, 7687.0, 3409.0, 5077.0, 4725.0, 4538.176885147222, 5987.161258027048, 2508.376940364095, 3208.6897136409675, 2837.772244380871, 8364.281156944644, 8175.5084931832125, 1936.700453496166, 2525.4489012871945, 2016.8921552779589, 2925.181625784142, 4735.795704094993, 5763.57957950841, 1605.672712253881, 4836.334727999675, 3033.753033170456, 1317.9891505943363, 1880.8680708785691, 986.6612552983103, 1821.301823100985, 2140.162255820837, 4891.209786973818, 1793.6239140281727, 1915.32531347419, 2293.595741414923, 1283.151122498861, 1146.6890415590942, 1010.6223110480319, 3870.7568480686173, 1584.3607257633985, 4564.690182509187, 2916.3604057559937, 1446.2128416988166, 2520.653194554326, 1814.0816965714603, 2522.579260745451, 1849.0979993960593, 2052.613051100606, 2033.8452663816424, 2005.3626292501588, 2589.0085921561836, 1448.7940387880783, 1399.1821495104514, 1868.2926319467254, 1184.332001950448, 3317.664573165895, 1222.126177297514, 1468.4419858494064, 1230.6690188357525, 1417.2385431621121, 2044.6721318946607, 2834.182112418267, 932.7982447653708, 831.7965312208438, 1361.7070388309887, 1116.1030111413204, 2007.8147377676355, 1216.0850050421238, 876.0857414167555, 828.4494784930549, 790.7261042393764, 816.4857488010663, 854.8449536531532, 765.0345942363879, 650.2335177169621, 786.0092802282196, 1100.549298216699, 1230.4482481536443, 606.7134648537599, 2922.748027681908, 2050.217604546867, 1516.1770025059618, 1657.1177967293074, 2113.7164386714076, 2286.395340171976, 2620.2083352752456, 1317.7956490152449, 2013.1759436780903, 1452.4156526390557, 1933.291897554249, 2388.487574453614, 1977.4169779427625, 1602.6018743156706, 2365.928874908813, 1708.4176944126582, 1917.7548274840474, 1690.9377320005378, 1682.798364745136, 1378.7284492265853, 3206.7104131985056, 2860.8258447090125, 2412.3666329541393, 3739.457009243023, 2167.287620968927, 2776.1052591721736, 3601.918883289822, 4911.8839516118005, 1823.9784354511612, 2469.7189277633097, 2117.603081664552, 2380.5912747577104, 3831.89549075971, 2044.86996255933, 3337.986585537519, 1527.3056532155465, 1419.2614938438767, 2940.8793174561647, 2020.388953472739, 1360.0069752979248, 546.3353265757783, 778.850295595208, 1016.921319755122, 1010.80192392016, 1151.9755457462027, 664.4221014527004, 647.9370188372824, 713.457228175687, 612.2189765004342, 850.1973887114738, 2086.168273837503, 1098.3989688526838, 1378.1027038875893, 1135.3430781629668, 1487.5665238525985, 1134.8334983349857, 1397.7632201598763, 1388.70118573079, 1502.3160764534214, 1327.2646222254803, 1245.63195808781, 1289.8227674850548, 1233.3512788781682, 4205.825595807813, 7109.6697998913905, 2956.984239407926, 4189.1559778570045, 2737.740152013076, 2216.7346031751713, 3909.6602453604905, 2491.5882882000874, 3953.363593487556, 2543.4247745151342, 2329.871625370691, 1687.7393876139913, 1798.722455771262, 1321.710962125136, 1332.691234344319, 1454.8653662975764, 1154.2116464410024, 2845.336222272454, 1487.600313709098, 1212.5547301710951, 2347.1989535779708, 1716.719899612559, 731.3971862663731, 598.3281266231401, 1093.8358572616528, 1284.7278984786126, 2151.361128125584, 749.8837233716404, 636.4667798067858, 848.5746457704353, 1378.5831375995078, 1452.6765216205838, 1367.1200426408732, 1352.949376206009, 1245.8812983096839, 1375.0200939891192, 3014.185461899071, 3379.4584790095732, 5648.416948830786, 8209.413184577397, 8164.6551263973815, 2705.9536250474634, 9657.38485575454, 3571.3394429960094, 2093.718277827732, 2073.865250689643, 1954.7712455936705, 3151.3001228855687, 3059.4888772752124, 1047.4862996894096, 1356.170262248309, 1185.5909214111014, 1301.409600874537, 1297.562011828772, 1015.4402718340305, 1788.5547623254631, 691.5391076182677, 880.131582177778, 663.2672553399444, 746.5177672134085, 482.9808818901434, 922.8533749542785, 1229.430551782577, 540.1732649631624, 611.8410120163795, 409.82396251450996, 618.9387563625525, 2327.0738735651003, 839.6513232030164, 1059.0168433033434, 1072.8557522905307, 1251.1100192279005, 1073.8841194807835, 970.6890125368307, 1089.3795690333357, 3785.204972364946, 4067.1691996605305, 3424.3001036839055, 2601.7272435267428, 3118.1030352789408, 1670.3391518069645, 2667.111581785707, 2688.6446251621915, 3817.6303426737804, 7158.980944927066, 2193.9914443695698, 909.7857694873417, 1024.1657338094112, 1119.8479295474654, 1890.6943444560648, 1124.1349080195243, 1393.5580145969375, 751.7701559460974, 604.353276005566, 826.49646494009, 774.7173620295565, 1721.849951392222, 1174.6515882612496, 511.2828644796873, 551.7805827254513, 557.7077578140303, 906.2023260364334, 504.93009368915864, 1058.7474174651493, 1201.8170671054354, 991.7132107742007, 1039.9623876127262, 985.6170296657751, 1635.1724307802776, 1256.8988442461145, 1463.8701070132129, 1353.9820920079592, 1162.425482154891, 1204.4026657727807, 1306.258488786049, 1146.3028523489043, 1073.3966357390598, 1058.0034757482827, 4701.184180423326, 3596.9711343515837, 2825.850855933621, 1857.9198967204313, 1896.1967152171885, 2249.2115517730253, 5278.489017308919, 1625.8834511521047, 1241.1789968752616, 1383.6776929058628, 1419.5650231996372, 2037.0798014878292, 1059.5728318430363, 1574.666159358675, 1462.116709553211, 2845.7093127663816, 1197.774224792381, 2797.670298835201, 763.9672722258531, 637.4382835918132, 2912.608689643052, 604.8458532873301, 884.7418309913191, 571.4314592874429, 833.0614706934468, 882.0209444273281, 1624.2209189410294, 751.4991014436822, 990.9555186949364, 676.6118270654156, 1408.7859922575265, 1402.9737643259903, 944.6431278446483, 1430.5478863637918, 1143.9527369620766, 1178.3944316810514, 975.2614635986564, 965.6822383635512, 1004.4335481771944, 996.8475695134274, 3240.228778568319, 2193.094823116808, 2321.638254098701, 1985.023112231592, 2489.3839441255577, 1231.379412115135, 3026.9687550707263, 2489.2168552939193, 1673.8040675921927, 2909.2373000308817, 1285.1645150082095, 1318.331520344649, 1532.425582819127, 793.5157835411571, 1019.5765616316847, 889.6379133568614, 1454.4212859138497, 1726.5214881803495, 785.9440918184669, 1014.1060630643476, 589.5404316499348, 641.0963421450709, 1487.9363929828692, 1653.1705130411938, 1726.2720046266877, 1178.9485207696118, 680.5970106018902, 596.4510494401113, 780.7610167000489, 499.6868475754607, 1226.922304756809, 2992.295523118196, 1564.021978686918, 1123.7619411396083, 1206.3199196820483, 881.6138171255726, 1134.7965744467524, 1067.2937722868135, 1015.3329779599667, 963.4434646484518], \"Total\": [13342.0, 9587.0, 7912.0, 10495.0, 6264.0, 15370.0, 4471.0, 5688.0, 9359.0, 4940.0, 4681.0, 4121.0, 3460.0, 6099.0, 11138.0, 6765.0, 6937.0, 3240.0, 7301.0, 4408.0, 6962.0, 3962.0, 3078.0, 4034.0, 5960.0, 5320.0, 7687.0, 3409.0, 5077.0, 4725.0, 5077.932961709133, 6765.354006800893, 2835.900093014805, 3645.915702893631, 3718.1435085420608, 11138.019268652195, 11911.496447040925, 2869.8591063054555, 3767.9170147436557, 3142.046068101277, 4645.75491428651, 7667.279463025745, 9664.913177501952, 2708.3453625876605, 8290.65464980939, 5206.252530537576, 2296.7789015451863, 3309.2747264447476, 1789.4394491279559, 3330.6597470181496, 4015.7278098154543, 9339.980636602804, 3471.927821123435, 3715.499313434718, 4485.720144726178, 2514.8032182013694, 2285.9730625839406, 2026.4795021219782, 8021.477216809192, 3311.3082023911156, 9695.335708316212, 7860.427753711683, 3282.481170604227, 9177.695687785219, 5342.252385677478, 13592.904078088972, 5745.894315923714, 8518.632159053, 10733.591581345068, 2716.6454896822943, 4198.848507790235, 2466.1212343562, 2529.150956088449, 3409.512379528195, 2188.4440999013464, 6140.153529679647, 2293.1071850386106, 2776.588264801911, 2345.8401678878595, 2725.958951757646, 3955.7699712029375, 5609.417939925447, 1861.6668758165706, 1693.7626843065582, 2788.1976038810394, 2434.666955428303, 4485.0705772403835, 2750.7329319915275, 1999.9681704205059, 1926.3618956405132, 1900.9448817828827, 2050.3202923503086, 2316.000861893529, 2082.2665445251055, 1832.2641105506593, 2217.318347670958, 3106.6038248569203, 3478.9539040434165, 1731.4536251132306, 8518.632159053, 6243.1203660670635, 4538.308460253416, 5015.518523004885, 6773.193425805774, 7687.364642384907, 9177.695687785219, 3909.6905077429756, 7245.864274566601, 4530.595525046304, 7097.874242399741, 10157.474606656417, 8360.595765052676, 5745.894315923714, 13592.904078088972, 7122.7765926344155, 10733.591581345068, 7390.743121923076, 9330.237133023284, 8686.479392351803, 3240.33665126077, 3063.099328894167, 3165.438285442342, 5320.566675255231, 3133.914555173507, 4073.454713353596, 5336.093654389155, 7301.074558433504, 2811.929522518398, 3895.3882286671387, 3738.81159824025, 4271.149492500555, 7164.760616361662, 3918.922619804935, 6816.208811616408, 3260.9152884801847, 3071.0959280592097, 6937.011035849887, 6099.749782878562, 4167.656891463972, 1690.8991780841639, 2442.737067401078, 3318.205696159777, 3412.7011017306513, 3904.6038478130754, 2277.8699061049247, 2236.769212524595, 2514.8032182013694, 2285.9730625839406, 3668.903122767127, 9103.145487496851, 4860.897672320451, 6689.245614150416, 5168.281487216518, 9054.34008606204, 5960.926829326018, 9064.074400742704, 9695.335708316212, 13592.904078088972, 9330.237133023284, 8021.477216809192, 10733.591581345068, 9339.980636602804, 4471.140811621328, 7912.3334329403515, 3409.990338890905, 4940.569748123202, 3582.892935858486, 2936.870149987361, 5960.926829326018, 4249.118100649991, 6962.615949634081, 4914.169528472254, 4502.601800666164, 3316.4163525862396, 3567.4320056427955, 2662.1451521420677, 2980.4644599862154, 3295.8600984935842, 2899.6934592788975, 8704.185823965092, 4714.68782460651, 4015.7278098154543, 7860.427753711683, 5854.1452681671435, 2500.0884315616527, 2137.2048609147705, 4195.651665012218, 4996.389418744072, 9339.980636602804, 3331.824664415134, 2879.9999843302367, 4020.789533681561, 8247.76797399264, 9359.639035597675, 9103.145487496851, 10733.591581345068, 9064.074400742704, 13592.904078088972, 3078.6727045229018, 3460.382170584232, 6264.1763459925805, 9587.037187661364, 10495.027243759032, 3599.6764805055873, 13342.153724527634, 6099.749782878562, 3975.2001390730593, 3991.6150079931294, 3823.287598899244, 6937.011035849887, 6742.128177588376, 2936.3230316011486, 4195.651665012218, 4001.421963399601, 4860.897672320451, 4918.209428742423, 3909.6905077429756, 7390.743121923076, 2982.3496737157325, 3904.6038478130754, 3012.7267090090045, 3567.4320056427955, 2345.8401678878595, 4485.720144726178, 6296.909335061784, 2788.1976038810394, 3200.924134304922, 2162.039453486305, 3318.205696159777, 13592.904078088972, 4998.894505442758, 6995.349557446195, 7245.864274566601, 9177.695687785219, 10733.591581345068, 8360.595765052676, 15370.809446332067, 4121.886621383635, 4681.2230961520045, 3962.138311082115, 3628.7602895430523, 4725.314533805455, 3072.781933318188, 5028.180500934099, 5399.366071240439, 7687.364642384907, 15370.809446332067, 4967.480270175026, 2268.852164971449, 2623.145270468148, 2870.456712799341, 4998.894505442758, 3200.751721668701, 4000.132129306218, 2250.7820237622977, 1877.6088851291534, 2920.1307903419183, 2899.6934592788975, 6689.245614150416, 4619.7327531034825, 2034.2249162949472, 2206.458235793253, 2265.4434064599695, 3683.251116298411, 2105.1043552981046, 4485.0705772403835, 5128.820684672804, 4333.776537828366, 4809.45239127644, 4539.182976406336, 9054.34008606204, 6561.287219610169, 10157.474606656417, 9330.237133023284, 6742.128177588376, 8247.76797399264, 13592.904078088972, 8518.632159053, 9064.074400742704, 8686.479392351803, 5688.903746931232, 4408.689747247374, 4169.029183705841, 2770.7166763803552, 2973.0473820264438, 3646.4776440219093, 9359.639035597675, 3056.1548226631758, 2496.6919839661823, 2937.875667152988, 3200.751721668701, 5219.936842561877, 2722.6240941022143, 4562.365657891196, 4340.564764305841, 9103.145487496851, 3875.1047795997883, 9054.34008606204, 2498.9931503055864, 2206.458235793253, 10157.474606656417, 2252.113178778035, 3371.1519486526227, 2221.985901357074, 3301.735611143284, 3683.251116298411, 6962.615949634081, 3490.961168746977, 4725.314533805455, 3232.274500031842, 8704.185823965092, 8686.479392351803, 5130.249931795987, 15370.809446332067, 9330.237133023284, 13592.904078088972, 6506.774873939143, 6561.287219610169, 9064.074400742704, 10733.591581345068, 4034.033272906356, 3079.1413474105952, 3746.6200234649514, 3419.10292118915, 4333.776537828366, 2149.216766378085, 5937.648578318231, 4953.6075686650975, 3491.2831891550063, 6296.909335061784, 2870.456712799341, 3080.096879012759, 3601.6627930510067, 1904.3519509061887, 2487.3787123415464, 2291.1208004094487, 3875.1047795997883, 5168.281487216518, 2418.9621259762143, 3174.9291168978752, 2097.45989169529, 2306.254320042354, 5520.746116847322, 6243.1203660670635, 6561.287219610169, 4562.365657891196, 2745.445750418884, 2538.554896817775, 3328.011046920389, 2385.4692391213925, 5962.497115980399, 15370.809446332067, 9054.34008606204, 7122.7765926344155, 9177.695687785219, 4619.7327531034825, 10157.474606656417, 10733.591581345068, 13592.904078088972, 9330.237133023284], \"Category\": [\"Default\", \"Default\", \"Default\", \"Default\", \"Default\", \"Default\", \"Default\", \"Default\", \"Default\", \"Default\", \"Default\", \"Default\", \"Default\", \"Default\", \"Default\", \"Default\", \"Default\", \"Default\", \"Default\", \"Default\", \"Default\", \"Default\", \"Default\", \"Default\", \"Default\", \"Default\", \"Default\", \"Default\", \"Default\", \"Default\", \"Topic1\", \"Topic1\", \"Topic1\", \"Topic1\", \"Topic1\", \"Topic1\", \"Topic1\", \"Topic1\", \"Topic1\", \"Topic1\", \"Topic1\", \"Topic1\", \"Topic1\", \"Topic1\", \"Topic1\", \"Topic1\", \"Topic1\", \"Topic1\", \"Topic1\", \"Topic1\", \"Topic1\", \"Topic1\", \"Topic1\", \"Topic1\", \"Topic1\", \"Topic1\", \"Topic1\", \"Topic1\", \"Topic1\", \"Topic1\", \"Topic1\", \"Topic1\", \"Topic1\", \"Topic1\", \"Topic1\", \"Topic1\", \"Topic1\", \"Topic1\", \"Topic1\", \"Topic2\", \"Topic2\", \"Topic2\", \"Topic2\", \"Topic2\", \"Topic2\", \"Topic2\", \"Topic2\", \"Topic2\", \"Topic2\", \"Topic2\", \"Topic2\", \"Topic2\", \"Topic2\", \"Topic2\", \"Topic2\", \"Topic2\", \"Topic2\", \"Topic2\", \"Topic2\", \"Topic2\", \"Topic2\", \"Topic2\", \"Topic2\", \"Topic2\", \"Topic2\", \"Topic2\", \"Topic2\", \"Topic2\", \"Topic2\", \"Topic2\", \"Topic2\", \"Topic2\", \"Topic2\", \"Topic2\", \"Topic2\", \"Topic2\", \"Topic2\", \"Topic2\", \"Topic2\", \"Topic2\", \"Topic2\", \"Topic2\", \"Topic2\", \"Topic2\", \"Topic2\", \"Topic2\", \"Topic2\", \"Topic2\", \"Topic2\", \"Topic3\", \"Topic3\", \"Topic3\", \"Topic3\", \"Topic3\", \"Topic3\", \"Topic3\", \"Topic3\", \"Topic3\", \"Topic3\", \"Topic3\", \"Topic3\", \"Topic3\", \"Topic3\", \"Topic3\", \"Topic3\", \"Topic3\", \"Topic3\", \"Topic3\", \"Topic3\", \"Topic3\", \"Topic3\", \"Topic3\", \"Topic3\", \"Topic3\", \"Topic3\", \"Topic3\", \"Topic3\", \"Topic3\", \"Topic3\", \"Topic3\", \"Topic3\", \"Topic3\", \"Topic3\", \"Topic3\", \"Topic3\", \"Topic3\", \"Topic3\", \"Topic3\", \"Topic3\", \"Topic3\", \"Topic3\", \"Topic3\", \"Topic4\", \"Topic4\", \"Topic4\", \"Topic4\", \"Topic4\", \"Topic4\", \"Topic4\", \"Topic4\", \"Topic4\", \"Topic4\", \"Topic4\", \"Topic4\", \"Topic4\", \"Topic4\", \"Topic4\", \"Topic4\", \"Topic4\", \"Topic4\", \"Topic4\", \"Topic4\", \"Topic4\", \"Topic4\", \"Topic4\", \"Topic4\", \"Topic4\", \"Topic4\", \"Topic4\", \"Topic4\", \"Topic4\", \"Topic4\", \"Topic4\", \"Topic4\", \"Topic4\", \"Topic4\", \"Topic4\", \"Topic4\", \"Topic5\", \"Topic5\", \"Topic5\", \"Topic5\", \"Topic5\", \"Topic5\", \"Topic5\", \"Topic5\", \"Topic5\", \"Topic5\", \"Topic5\", \"Topic5\", \"Topic5\", \"Topic5\", \"Topic5\", \"Topic5\", \"Topic5\", \"Topic5\", \"Topic5\", \"Topic5\", \"Topic5\", \"Topic5\", \"Topic5\", \"Topic5\", \"Topic5\", \"Topic5\", \"Topic5\", \"Topic5\", \"Topic5\", \"Topic5\", \"Topic5\", \"Topic5\", \"Topic5\", \"Topic5\", \"Topic5\", \"Topic5\", \"Topic5\", \"Topic5\", \"Topic5\", \"Topic6\", \"Topic6\", \"Topic6\", \"Topic6\", \"Topic6\", \"Topic6\", \"Topic6\", \"Topic6\", \"Topic6\", \"Topic6\", \"Topic6\", \"Topic6\", \"Topic6\", \"Topic6\", \"Topic6\", \"Topic6\", \"Topic6\", \"Topic6\", \"Topic6\", \"Topic6\", \"Topic6\", \"Topic6\", \"Topic6\", \"Topic6\", \"Topic6\", \"Topic6\", \"Topic6\", \"Topic6\", \"Topic6\", \"Topic6\", \"Topic6\", \"Topic6\", \"Topic6\", \"Topic6\", \"Topic6\", \"Topic6\", \"Topic6\", \"Topic6\", \"Topic6\", \"Topic6\", \"Topic6\", \"Topic6\", \"Topic6\", \"Topic7\", \"Topic7\", \"Topic7\", \"Topic7\", \"Topic7\", \"Topic7\", \"Topic7\", \"Topic7\", \"Topic7\", \"Topic7\", \"Topic7\", \"Topic7\", \"Topic7\", \"Topic7\", \"Topic7\", \"Topic7\", \"Topic7\", \"Topic7\", \"Topic7\", \"Topic7\", \"Topic7\", \"Topic7\", \"Topic7\", \"Topic7\", \"Topic7\", \"Topic7\", \"Topic7\", \"Topic7\", \"Topic7\", \"Topic7\", \"Topic7\", \"Topic7\", \"Topic7\", \"Topic7\", \"Topic7\", \"Topic7\", \"Topic7\", \"Topic7\", \"Topic7\", \"Topic7\", \"Topic8\", \"Topic8\", \"Topic8\", \"Topic8\", \"Topic8\", \"Topic8\", \"Topic8\", \"Topic8\", \"Topic8\", \"Topic8\", \"Topic8\", \"Topic8\", \"Topic8\", \"Topic8\", \"Topic8\", \"Topic8\", \"Topic8\", \"Topic8\", \"Topic8\", \"Topic8\", \"Topic8\", \"Topic8\", \"Topic8\", \"Topic8\", \"Topic8\", \"Topic8\", \"Topic8\", \"Topic8\", \"Topic8\", \"Topic8\", \"Topic8\", \"Topic8\", \"Topic8\", \"Topic8\", \"Topic8\", \"Topic8\", \"Topic8\", \"Topic8\", \"Topic8\", \"Topic8\"], \"logprob\": [30.0, 29.0, 28.0, 27.0, 26.0, 25.0, 24.0, 23.0, 22.0, 21.0, 20.0, 19.0, 18.0, 17.0, 16.0, 15.0, 14.0, 13.0, 12.0, 11.0, 10.0, 9.0, 8.0, 7.0, 6.0, 5.0, 4.0, 3.0, 2.0, 1.0, -4.0098, -3.7327, -4.6027, -4.3565, -4.4793, -3.3984, -3.4212, -4.8614, -4.5959, -4.8208, -4.449, -3.9672, -3.7708, -5.0488, -3.9462, -4.4126, -5.2462, -4.8906, -5.5358, -4.9228, -4.7615, -3.9349, -4.9381, -4.8725, -4.6922, -5.273, -5.3855, -5.5118, -4.1689, -5.0622, -4.004, -4.452, -5.1534, -4.5978, -4.9268, -4.5971, -4.9077, -4.8032, -4.8124, -4.5897, -4.3343, -4.9148, -4.9496, -4.6605, -5.1164, -4.0863, -5.0849, -4.9013, -5.078, -4.9368, -4.5703, -4.2438, -5.3551, -5.4697, -4.9768, -5.1757, -4.5885, -5.0899, -5.4178, -5.4737, -5.5203, -5.4883, -5.4424, -5.5534, -5.716, -5.5263, -5.1897, -5.0782, -5.7852, -4.213, -4.5676, -4.8693, -4.7805, -4.5371, -4.4586, -4.3223, -5.0096, -4.5858, -4.9123, -4.6263, -4.4149, -4.6037, -4.8139, -4.4244, -4.75, -4.6344, -4.7603, -4.7651, -4.9644, -3.9539, -4.0681, -4.2386, -3.8002, -4.3457, -4.0981, -3.8377, -3.5275, -4.5182, -4.2151, -4.3689, -4.2518, -3.7758, -4.4038, -3.9138, -4.6957, -4.769, -4.0405, -4.4159, -4.8117, -5.7237, -5.3691, -5.1024, -5.1084, -4.9777, -5.528, -5.5531, -5.4568, -5.6098, -5.2815, -4.3839, -5.0253, -4.7985, -4.9922, -4.722, -4.9927, -4.7843, -4.7908, -4.7122, -4.8361, -4.8995, -4.8647, -4.9094, -3.6099, -3.0849, -3.9622, -3.6138, -4.0392, -4.2503, -3.6829, -4.1334, -3.6718, -4.1128, -4.2005, -4.5229, -4.4592, -4.7674, -4.7591, -4.6714, -4.9029, -4.0006, -4.6492, -4.8536, -4.1931, -4.5059, -5.3591, -5.5599, -4.9566, -4.7958, -4.2802, -5.3342, -5.4981, -5.2105, -4.7253, -4.6729, -4.7336, -4.744, -4.8265, -4.7279, -3.9422, -3.8278, -3.3141, -2.9402, -2.9457, -4.0501, -2.7778, -3.7726, -4.3066, -4.3161, -4.3752, -3.8977, -3.9273, -4.9991, -4.7409, -4.8753, -4.7821, -4.785, -5.0302, -4.4641, -5.4144, -5.1732, -5.4561, -5.3379, -5.7733, -5.1258, -4.839, -5.6614, -5.5368, -5.9375, -5.5253, -4.2009, -5.2203, -4.9882, -4.9752, -4.8215, -4.9742, -5.0753, -4.9599, -3.7049, -3.633, -3.8051, -4.0798, -3.8988, -4.523, -4.055, -4.047, -3.6964, -3.0676, -4.2503, -5.1305, -5.0121, -4.9228, -4.399, -4.919, -4.7041, -5.3213, -5.5396, -5.2266, -5.2913, -4.4926, -4.875, -5.7068, -5.6306, -5.6199, -5.1345, -5.7193, -4.9789, -4.8522, -5.0443, -4.9968, -5.0505, -4.5442, -4.8073, -4.6549, -4.7329, -4.8855, -4.85, -4.7688, -4.8995, -4.9652, -4.9796, -3.4419, -3.7096, -3.9509, -4.3702, -4.3498, -4.1791, -3.326, -4.5036, -4.7736, -4.6649, -4.6393, -4.2782, -4.9318, -4.5356, -4.6098, -3.9439, -4.8092, -3.9609, -5.2589, -5.44, -3.9206, -5.4925, -5.1121, -5.5493, -5.1723, -5.1152, -4.5046, -5.2754, -4.9988, -5.3803, -4.6469, -4.6511, -5.0466, -4.6316, -4.8552, -4.8255, -5.0147, -5.0246, -4.9852, -4.9928, -3.7455, -4.1359, -4.0789, -4.2355, -4.0091, -4.713, -3.8136, -4.0092, -4.4061, -3.8533, -4.6703, -4.6448, -4.4943, -5.1525, -4.9018, -5.0381, -4.5466, -4.3751, -5.162, -4.9072, -5.4496, -5.3658, -4.5238, -4.4185, -4.3752, -4.7566, -5.306, -5.4379, -5.1687, -5.6149, -4.7167, -3.8251, -4.4739, -4.8045, -4.7336, -5.0472, -4.7947, -4.856, -4.906, -4.9584], \"loglift\": [30.0, 29.0, 28.0, 27.0, 26.0, 25.0, 24.0, 23.0, 22.0, 21.0, 20.0, 19.0, 18.0, 17.0, 16.0, 15.0, 14.0, 13.0, 12.0, 11.0, 10.0, 9.0, 8.0, 7.0, 6.0, 5.0, 4.0, 3.0, 2.0, 1.0, 1.5831, 1.5733, 1.5728, 1.5678, 1.4253, 1.4091, 1.3191, 1.3022, 1.2954, 1.2522, 1.2329, 1.2137, 1.1786, 1.1727, 1.1565, 1.1554, 1.1401, 1.1305, 1.1002, 1.0919, 1.0662, 1.0486, 1.035, 1.0329, 1.0247, 1.0226, 1.0056, 0.9998, 0.9668, 0.9583, 0.9422, 0.704, 0.8758, 0.4032, 0.6154, 0.0112, 0.5617, 0.2724, 0.0321, 1.6287, 1.4488, 1.4004, 1.3403, 1.3308, 1.3183, 1.3167, 1.303, 1.2953, 1.2872, 1.2782, 1.2724, 1.2496, 1.2413, 1.2212, 1.2157, 1.1524, 1.1286, 1.1161, 1.1069, 1.0885, 1.0552, 1.0116, 0.9356, 0.931, 0.8963, 0.8952, 0.8946, 0.893, 0.8837, 0.8626, 0.8188, 0.836, 0.8249, 0.7678, 0.7197, 0.6788, 0.8448, 0.6516, 0.7947, 0.6317, 0.4848, 0.4906, 0.6555, 0.1839, 0.5046, 0.2101, 0.4574, 0.2195, 0.0917, 2.0882, 2.0304, 1.827, 1.746, 1.7299, 1.7152, 1.7056, 1.7023, 1.6658, 1.643, 1.5302, 1.5141, 1.4729, 1.4482, 1.3847, 1.3402, 1.3268, 1.2405, 0.9937, 0.9788, 0.9689, 0.9556, 0.916, 0.8819, 0.878, 0.8666, 0.8597, 0.8388, 0.7812, 0.6365, 0.6254, 0.6113, 0.5189, 0.5831, 0.2926, 0.4399, 0.2292, 0.1554, -0.1039, 0.1485, 0.2362, -0.0202, 0.0741, 2.1104, 2.0646, 2.029, 2.0065, 1.9025, 1.8902, 1.7498, 1.6377, 1.6055, 1.5129, 1.5127, 1.496, 1.4868, 1.4713, 1.3666, 1.3538, 1.2503, 1.0534, 1.018, 0.974, 0.9629, 0.9448, 0.9424, 0.8984, 0.8272, 0.8134, 0.7033, 0.6802, 0.6619, 0.6159, 0.3826, 0.3085, 0.2756, 0.1004, 0.1871, -0.1196, 2.1512, 2.1487, 2.0689, 2.0172, 1.9213, 1.8869, 1.8491, 1.637, 1.5312, 1.5176, 1.5015, 1.3833, 1.3822, 1.1416, 1.043, 0.9559, 0.8546, 0.8399, 0.8242, 0.7535, 0.7108, 0.6825, 0.6589, 0.6082, 0.5919, 0.5912, 0.5388, 0.5311, 0.5176, 0.5093, 0.4932, 0.4074, 0.3884, 0.2844, 0.2622, 0.1796, -0.1298, 0.0191, -0.4745, 2.0967, 2.0412, 2.036, 1.8491, 1.7662, 1.5723, 1.5478, 1.4846, 1.4819, 1.4178, 1.3647, 1.268, 1.2414, 1.2406, 1.2096, 1.1355, 1.1274, 1.0853, 1.0483, 0.9197, 0.862, 0.8248, 0.8125, 0.8009, 0.7959, 0.7802, 0.7796, 0.7542, 0.7382, 0.7308, 0.7071, 0.6505, 0.6546, 0.4704, 0.5293, 0.2447, 0.2517, 0.424, 0.2579, -0.1605, 0.1761, 0.0484, 0.0765, 2.0375, 2.0247, 1.8393, 1.8285, 1.7784, 1.745, 1.6554, 1.5971, 1.5293, 1.4752, 1.4151, 1.2872, 1.2845, 1.1644, 1.1401, 1.0654, 1.0541, 1.0537, 1.0431, 0.9865, 0.979, 0.9135, 0.8905, 0.8702, 0.8511, 0.7988, 0.7727, 0.6923, 0.6662, 0.6643, 0.4071, 0.405, 0.5361, -0.1462, 0.1294, -0.2172, 0.3303, 0.3121, 0.0283, -0.1484, 2.0776, 1.9573, 1.8181, 1.7529, 1.7423, 1.7397, 1.6229, 1.6085, 1.5615, 1.5245, 1.4931, 1.4481, 1.4421, 1.4213, 1.4048, 1.3507, 1.3167, 1.2002, 1.1725, 1.1554, 1.0275, 1.0165, 0.9856, 0.9679, 0.9615, 0.9435, 0.902, 0.8483, 0.8468, 0.7335, 0.7157, 0.6602, 0.5407, 0.4501, 0.2675, 0.6403, 0.1049, -0.0116, -0.2977, 0.0262]}, \"token.table\": {\"Topic\": [1, 2, 3, 4, 5, 6, 7, 8, 1, 2, 3, 4, 5, 6, 7, 8, 1, 2, 3, 4, 5, 6, 7, 8, 1, 2, 3, 4, 5, 6, 7, 8, 1, 2, 3, 4, 5, 6, 7, 8, 1, 2, 3, 4, 5, 6, 7, 8, 1, 2, 3, 4, 5, 6, 7, 8, 1, 2, 3, 4, 5, 6, 7, 8, 1, 2, 3, 4, 5, 6, 7, 8, 1, 2, 3, 4, 5, 6, 7, 8, 1, 2, 3, 4, 5, 6, 7, 8, 1, 2, 3, 4, 5, 6, 7, 8, 1, 2, 3, 4, 5, 6, 7, 8, 1, 2, 3, 4, 5, 6, 7, 8, 1, 2, 3, 4, 5, 6, 7, 8, 1, 2, 3, 4, 5, 6, 7, 8, 1, 2, 3, 4, 5, 6, 7, 8, 1, 2, 3, 4, 5, 6, 7, 8, 1, 2, 3, 4, 5, 6, 7, 8, 1, 2, 3, 4, 5, 6, 7, 8, 1, 2, 3, 4, 5, 6, 7, 8, 1, 2, 3, 4, 5, 6, 7, 8, 1, 2, 3, 4, 5, 6, 7, 8, 1, 2, 3, 4, 5, 6, 7, 8, 1, 2, 3, 4, 5, 6, 7, 8, 1, 2, 3, 4, 5, 6, 7, 8, 1, 2, 3, 4, 5, 6, 7, 8, 1, 2, 3, 4, 5, 6, 7, 8, 1, 2, 3, 4, 5, 6, 7, 8, 1, 2, 3, 4, 5, 6, 7, 8, 1, 2, 3, 4, 5, 6, 7, 8, 1, 2, 3, 4, 5, 6, 7, 8, 1, 2, 3, 4, 5, 6, 7, 8, 1, 2, 3, 4, 5, 6, 7, 8, 1, 2, 3, 4, 5, 6, 7, 8, 1, 2, 3, 4, 5, 6, 7, 8, 1, 2, 3, 4, 5, 6, 7, 8, 1, 2, 3, 4, 5, 6, 7, 8, 1, 2, 3, 4, 5, 6, 7, 8, 1, 2, 3, 4, 5, 6, 7, 8, 1, 2, 3, 4, 5, 6, 7, 8, 1, 2, 3, 4, 5, 6, 7, 8, 1, 2, 3, 4, 5, 6, 7, 8, 1, 2, 3, 4, 5, 6, 7, 8, 1, 2, 3, 4, 5, 6, 7, 8, 1, 2, 3, 4, 5, 6, 7, 8, 1, 2, 3, 4, 5, 6, 7, 8, 1, 2, 3, 4, 5, 6, 7, 8, 1, 2, 3, 4, 5, 6, 7, 8, 1, 2, 3, 4, 5, 6, 7, 8, 1, 2, 3, 4, 5, 6, 7, 8, 1, 2, 3, 4, 5, 6, 7, 8, 1, 2, 3, 4, 5, 6, 7, 8, 1, 2, 3, 4, 5, 6, 7, 8, 1, 2, 3, 4, 5, 6, 7, 8, 1, 2, 3, 4, 5, 6, 7, 8, 1, 2, 3, 4, 5, 6, 7, 8, 1, 2, 3, 4, 5, 6, 7, 8, 1, 2, 3, 4, 5, 6, 7, 8, 1, 2, 3, 4, 5, 6, 7, 8, 1, 2, 3, 4, 5, 6, 7, 8, 1, 2, 3, 4, 5, 6, 7, 8, 1, 2, 3, 4, 5, 6, 7, 8, 1, 2, 3, 4, 5, 6, 7, 8, 1, 2, 3, 4, 5, 6, 7, 8, 1, 2, 3, 4, 5, 6, 7, 8, 1, 2, 3, 4, 5, 6, 7, 8, 1, 2, 3, 4, 5, 6, 7, 8, 1, 2, 3, 4, 5, 6, 7, 8, 1, 2, 3, 4, 5, 6, 7, 8, 1, 2, 3, 4, 5, 6, 7, 8, 1, 2, 3, 4, 5, 6, 7, 8, 1, 2, 3, 4, 5, 6, 7, 8, 1, 2, 3, 4, 5, 6, 7, 8, 1, 2, 3, 4, 5, 6, 7, 8, 1, 2, 3, 4, 5, 6, 7, 8, 1, 2, 3, 4, 5, 6, 7, 8, 1, 2, 3, 4, 5, 6, 7, 8, 1, 2, 3, 4, 5, 6, 7, 8, 1, 2, 3, 4, 5, 6, 7, 8, 1, 2, 3, 4, 5, 6, 7, 8, 1, 2, 3, 4, 5, 6, 7, 8, 1, 2, 3, 4, 5, 6, 7, 8, 1, 2, 3, 4, 5, 6, 7, 8, 1, 2, 3, 4, 5, 6, 7, 8, 1, 2, 3, 4, 5, 6, 7, 8, 1, 2, 3, 4, 5, 6, 7, 8, 1, 2, 3, 4, 5, 6, 7, 8, 1, 2, 3, 4, 5, 6, 7, 8, 1, 2, 3, 4, 5, 6, 7, 8, 1, 2, 3, 4, 5, 6, 7, 8, 1, 2, 3, 4, 5, 6, 7, 8, 1, 2, 3, 4, 5, 6, 7, 8, 1, 2, 3, 4, 5, 6, 7, 8, 1, 2, 3, 4, 5, 6, 7, 8, 1, 2, 3, 4, 5, 6, 7, 8, 1, 2, 3, 4, 5, 6, 7, 8, 1, 2, 3, 4, 5, 6, 7, 8, 1, 2, 3, 4, 5, 6, 7, 8, 1, 2, 3, 4, 5, 6, 7, 8, 1, 2, 3, 4, 5, 6, 7, 8, 1, 2, 3, 4, 5, 6, 7, 8, 1, 2, 3, 4, 5, 6, 7, 8, 1, 2, 3, 4, 5, 6, 7, 8, 1, 2, 3, 4, 5, 6, 7, 8, 1, 2, 3, 4, 5, 6, 7, 8, 1, 2, 3, 4, 5, 6, 7, 8, 1, 2, 3, 4, 5, 6, 7, 8, 1, 2, 3, 4, 5, 6, 7, 8, 1, 2, 3, 4, 5, 6, 7, 8, 1, 2, 3, 4, 5, 6, 7, 8, 1, 2, 3, 4, 5, 6, 7, 8, 1, 2, 3, 4, 5, 6, 7, 8, 1, 2, 3, 4, 5, 6, 7, 8, 1, 2, 3, 4, 5, 6, 7, 8, 1, 2, 3, 4, 5, 6, 7, 8, 1, 2, 3, 4, 5, 6, 7, 8, 1, 2, 3, 4, 5, 6, 7, 8, 1, 2, 3, 4, 5, 6, 7, 8, 1, 2, 3, 4, 5, 6, 7, 8, 1, 2, 3, 4, 5, 6, 7, 8, 1, 2, 3, 4, 5, 6, 7, 8, 1, 2, 3, 4, 5, 6, 7, 8, 1, 2, 3, 4, 5, 6, 7, 8, 1, 2, 3, 4, 5, 6, 7, 8, 1, 2, 3, 4, 5, 6, 7, 8, 1, 2, 3, 4, 5, 6, 7, 8, 1, 2, 3, 4, 5, 6, 7, 8, 1, 2, 3, 4, 5, 6, 7, 8, 1, 2, 3, 4, 5, 6, 7, 8, 1, 2, 3, 4, 5, 6, 7, 8, 1, 2, 3, 4, 5, 6, 7, 8, 1, 2, 3, 4, 5, 6, 7, 8, 1, 2, 3, 4, 5, 6, 7, 8, 1, 2, 3, 4, 5, 6, 7, 8, 1, 2, 3, 4, 5, 6, 7, 8, 1, 2, 3, 4, 5, 6, 7, 8, 1, 2, 3, 4, 5, 6, 7, 8, 1, 2, 3, 4, 5, 6, 7, 8, 1, 2, 3, 4, 5, 6, 7, 8, 1, 2, 3, 4, 5, 6, 7, 8, 1, 2, 3, 4, 5, 6, 7, 8, 1, 2, 3, 4, 5, 6, 7, 8, 1, 2, 3, 4, 5, 6, 7, 8, 1, 2, 3, 4, 5, 6, 7, 8, 1, 2, 3, 4, 5, 6, 7, 8, 1, 2, 3, 4, 5, 6, 7, 8, 1, 2, 3, 4, 5, 6, 7, 8, 1, 2, 3, 4, 5, 6, 7, 8, 1, 2, 3, 4, 5, 6, 7, 8, 1, 2, 3, 4, 5, 6, 7, 8, 1, 2, 3, 4, 5, 6, 7, 8, 1, 2, 3, 4, 5, 6, 7, 8, 1, 2, 3, 4, 5, 6, 7, 8, 1, 2, 3, 4, 5, 6, 7, 8, 1, 2, 3, 4, 5, 6, 7, 8, 1, 2, 3, 4, 5, 6, 7, 8, 1, 2, 3, 4, 5, 6, 7, 8, 1, 2, 3, 4, 5, 6, 7, 8, 1, 2, 3, 4, 5, 6, 7, 8, 1, 2, 3, 4, 5, 6, 7, 8, 1, 2, 3, 4, 5, 6, 7, 8, 1, 2, 3, 4, 5, 6, 7, 8, 1, 2, 3, 4, 5, 6, 7, 8, 1, 2, 3, 4, 5, 6, 7, 8, 1, 2, 3, 4, 5, 6, 7, 8, 1, 2, 3, 4, 5, 6, 7, 8, 1, 2, 3, 4, 5, 6, 7, 8, 1, 2, 3, 4, 5, 6, 7, 8, 1, 2, 3, 4, 5, 6, 7, 8, 1, 2, 3, 4, 5, 6, 7, 8, 1, 2, 3, 4, 5, 6, 7, 8, 1, 2, 3, 4, 5, 6, 7, 8, 1, 2, 3, 4, 5, 6, 7, 8, 1, 2, 3, 4, 5, 6, 7, 8, 1, 2, 3, 4, 5, 6, 7, 8, 1, 2, 3, 4, 5, 6, 7, 8, 1, 2, 3, 4, 5, 6, 7, 8, 1, 2, 3, 4, 5, 6, 7, 8, 1, 2, 3, 4, 5, 6, 7, 8, 1, 2, 3, 4, 5, 6, 7, 8, 1, 2, 3, 4, 5, 6, 7, 8, 1, 2, 3, 4, 5, 6, 7, 8, 1, 2, 3, 4, 5, 6, 7, 8, 1, 2, 3, 4, 5, 6, 7, 8, 1, 2, 3, 4, 5, 6, 7, 8, 1, 2, 3, 4, 5, 6, 7, 8, 1, 2, 3, 4, 5, 6, 7, 8, 1, 2, 3, 4, 5, 6, 7, 8, 1, 2, 3, 4, 5, 6, 7, 8, 1, 2, 3, 4, 5, 6, 7, 8, 1, 2, 3, 4, 5, 6, 7, 8, 1, 2, 3, 4, 5, 6, 7, 8, 1, 2, 3, 4, 5, 6, 7, 8, 1, 2, 3, 4, 5, 6, 7, 8, 1, 2, 3, 4, 5, 6, 7, 8, 1, 2, 3, 4, 5, 6, 7, 8, 1, 2, 3, 4, 5, 6, 7, 8, 1, 2, 3, 4, 5, 6, 7, 8, 1, 2, 3, 4, 5, 6, 7, 8, 1, 2, 3, 4, 5, 6, 7, 8, 1, 2, 3, 4, 5, 6, 7, 8, 1, 2, 3, 4, 5, 6, 7, 8, 1, 2, 3, 4, 5, 6, 7, 8, 1, 2, 3, 4, 5, 6, 7, 8, 1, 2, 3, 4, 5, 6, 7, 8, 1, 2, 3, 4, 5, 6, 7, 8, 1, 2, 3, 4, 5, 6, 7, 8, 1, 2, 3, 4, 5, 6, 7, 8, 1, 2, 3, 4, 5, 6, 7, 8, 1, 2, 3, 4, 5, 6, 7, 8, 1, 2, 3, 4, 5, 6, 7, 8, 1, 2, 3, 4, 5, 6, 7, 8, 1, 2, 3, 4, 5, 6, 7, 8, 1, 2, 3, 4, 5, 6, 7, 8, 1, 2, 3, 4, 5, 6, 7, 8, 1, 2, 3, 4, 5, 6, 7, 8, 1, 2, 3, 4, 5, 6, 7, 8, 1, 2, 3, 4, 5, 6, 7, 8, 1, 2, 3, 4, 5, 6, 7, 8, 1, 2, 3, 4, 5, 6, 7, 8, 1, 2, 3, 4, 5, 6, 7, 8, 1, 2, 3, 4, 5, 6, 7, 8, 1, 2, 3, 4, 5, 6, 7, 8, 1, 2, 3, 4, 5, 6, 7, 8, 1, 2, 3, 4, 5, 6, 7, 8, 1, 2, 3, 4, 5, 6, 7, 8, 1, 2, 3, 4, 5, 6, 7, 8, 1, 2, 3, 4, 5, 6, 7, 8, 1, 2, 3, 4, 5, 6, 7, 8, 1, 2, 3, 4, 5, 6, 7, 8, 1, 2, 3, 4, 5, 6, 7, 8, 1, 2, 3, 4, 5, 6, 7, 8, 1, 2, 3, 4, 5, 6, 7, 8, 1, 2, 3, 4, 5, 6, 7, 8, 1, 2, 3, 4, 5, 6, 7, 8, 1, 2, 3, 4, 5, 6, 7, 8, 1, 2, 3, 4, 5, 6, 7, 8, 1, 2, 3, 4, 5, 6, 7, 8, 1, 2, 3, 4, 5, 6, 7, 8, 1, 2, 3, 4, 5, 6, 7, 8, 1, 2, 3, 4, 5, 6, 7, 8, 1, 2, 3, 4, 5, 6, 7, 8], \"Freq\": [0.16053834084105903, 0.07720399923502003, 0.07586298684135963, 0.1086220038864922, 0.03371688304060428, 0.07222309605856712, 0.39023460655517567, 0.08141860961509556, 0.09022936272452016, 0.03320440548262342, 0.029956148424540693, 0.05810770959459098, 0.03428715783531766, 0.0054137617634712094, 0.6705846237686338, 0.07795816939398541, 0.17330470628441702, 0.1392166731474821, 0.13348759194799725, 0.11143062932998053, 0.07505096371325166, 0.08507685581235018, 0.2151269990406565, 0.06674379597399863, 0.11445078847050927, 0.07019052261667952, 0.2897035583159766, 0.08270857760564146, 0.11355664168558341, 0.11758030221774976, 0.08941467849258537, 0.12249810953484196, 0.03130699433810128, 0.23509780653894927, 0.08220547255444834, 0.038592269750112276, 0.0701946130914032, 0.14413031355654177, 0.28678388209713535, 0.11174037287341182, 0.8936707188179572, 0.008664943064784072, 0.02107156608936127, 0.05159579734030516, 0.004529402056591674, 0.00019693052419963802, 0.00019693052419963802, 0.020086913468363075, 0.10860879654527182, 0.35475235052475723, 0.06494696878837863, 0.053485739002194166, 0.15663680707785435, 0.0714962429519126, 0.11734116209665046, 0.07313356149279611, 0.015001348119044161, 0.0013890137147263113, 0.1361233440431785, 0.00027780274294526223, 0.7517342224098796, 0.047782071786585105, 0.0397257922411725, 0.007778476802467343, 0.5101790830845301, 0.023063434777009152, 0.28352118958633665, 0.09106080282646717, 0.0306186978936156, 0.04334335156368961, 0.000397645427189813, 0.017496398796351773, 0.09863238539150744, 0.07686217420149002, 0.10973963599865917, 0.10574102578008455, 0.06486634354576615, 0.33410609826312426, 0.12573407687295768, 0.08441510461435321, 0.07070007357888212, 0.2200664262103232, 0.058750765368366833, 0.06007846628064631, 0.2200664262103232, 0.10057334410517034, 0.18720582863140617, 0.0826493817893974, 0.13036686603925737, 0.31211274610078155, 0.0866651759513523, 0.11796503506836539, 0.09463778157549714, 0.06378084499315875, 0.1291857392801248, 0.06525725344207448, 0.08421672621930351, 0.033500576175634546, 0.1721557386803442, 0.02512543213172591, 0.0400145770986746, 0.02279900323064018, 0.04978557848323467, 0.5727667954473074, 0.24419456255385477, 0.013419518008788022, 0.04615500890901335, 0.08255036835708995, 0.26391718750616444, 0.12341890047476256, 0.0841769766005794, 0.14212489527489133, 0.0003190897461927247, 0.04275802598982511, 0.6914674799996344, 0.004467256446698146, 0.07211428263955579, 0.0070199744162399436, 0.17869025786792583, 0.0031908974619272467, 0.0393780613013429, 0.203453316723605, 0.032815051084452415, 0.04574219242075186, 0.04971977437038245, 0.53041055298324, 0.058271575562088236, 0.03977581949630596, 0.2023652646615108, 0.17101289971395278, 0.07600573320620124, 0.06317976572765478, 0.0821811990292051, 0.23989309543207266, 0.10640802648868174, 0.05890444323480596, 0.00032646672295835006, 0.00032646672295835006, 0.9340212943838396, 0.005549934290291951, 0.008814601519875452, 0.017629203039750903, 0.013385135641292354, 0.019914470100459356, 0.13158773671563304, 0.05578175795554009, 0.181171521565002, 0.0867716234863957, 0.03480400282696091, 0.12968066806758038, 0.0996443368607511, 0.28129262558776624, 0.11839900127521179, 0.08730431407162081, 0.20600230272379022, 0.12303330561805467, 0.03722392843122189, 0.2574281315604984, 0.11032634209735644, 0.06039545014543632, 0.568402491630187, 0.02145485215616336, 0.08068233134782558, 0.1136200621227806, 0.0534860398822664, 0.016922136911903495, 0.006647982358247801, 0.13900326749063585, 0.23704706454725638, 0.07314091582684862, 0.14473970391036006, 0.11257532526361338, 0.025775563710064123, 0.21721970784720704, 0.10244134295025484, 0.08724036948021703, 0.6863957048848465, 0.07110777422180345, 0.07068801168212338, 0.04390716165053506, 0.026864802539524325, 0.04961593219018399, 0.018553504253858984, 0.03299333561885331, 0.00031591201907139974, 0.017691073067998386, 0.7619797900002161, 0.018638809125212583, 0.05149365910863816, 0.08403259707299232, 0.03538214613599677, 0.030327553830854375, 0.02014857567519654, 0.07291865482452081, 0.085391582623452, 0.02926340752826164, 0.05636803909132365, 0.03621946341612711, 0.6778556530726836, 0.021827623648129586, 0.05548009208058663, 0.07115924853814372, 0.17528492860243314, 0.04542935076163978, 0.03980093562302954, 0.04583138041439765, 0.1571935942283288, 0.41007024581303164, 0.6749460263551468, 0.09164212954641383, 0.041117001089265526, 0.07352277313419514, 0.03379956869202336, 0.009408127367882789, 0.03414801785379679, 0.041117001089265526, 0.01386670709158845, 0.00022365656599336207, 0.04048183844479854, 0.9406995165680809, 0.00022365656599336207, 0.00022365656599336207, 0.00022365656599336207, 0.004025818187880517, 0.020305615490755408, 0.037842283414589624, 0.017075176662680682, 0.05099478435746528, 0.017075176662680682, 0.22889966553215185, 0.05353298629380971, 0.5743258745055706, 0.15975814434606614, 0.36917084706996367, 0.06044902759040341, 0.07340239064548985, 0.09024176261710223, 0.13773742715241918, 0.057858354979386115, 0.05138167345184289, 0.3271276203665212, 0.100855961725309, 0.004428804706500595, 0.0028183302677731057, 0.04448935636984688, 0.44167261482101383, 0.010266774546887743, 0.06824385434107734, 0.04498943139673642, 0.044364578182892855, 0.020307729449915744, 0.01968287623607218, 0.03249236711986519, 0.35116750618008147, 0.44364578182892855, 0.04342729836212751, 0.00929981521734409, 0.020641053287275907, 0.013836310445316817, 0.04604542656392318, 0.013382660922519544, 0.016785032343499092, 0.815888666750895, 0.06396458271441545, 0.20074279207868254, 0.3673881242588329, 0.04850483732044721, 0.09028623184400075, 0.10997631432061794, 0.04274188635168121, 0.0936479532424476, 0.046583853664191884, 0.04386420542751874, 0.02219956738100034, 0.5664901652163701, 0.05991208546197682, 0.07649489483091683, 0.07943700617056748, 0.08639108751883265, 0.06526137880679618, 0.05345607767067189, 0.12449822789096429, 0.5348399207154431, 0.03238070501199968, 0.04424432538277543, 0.12449822789096429, 0.06294697396729249, 0.02316895272410322, 0.5114006059198847, 0.03812096931660867, 0.025636909189532143, 0.0989807624361067, 0.20576406245163625, 0.049936240508306085, 0.015605075158845651, 0.05484069270108615, 0.15458304894648492, 0.022129783849181, 0.04881569966731103, 0.06769110353867129, 0.019851717864706485, 0.5434814562960628, 0.07257267350540239, 0.07094548351649203, 0.20563139086210105, 0.10996914593863541, 0.12451853680151992, 0.16719674999931447, 0.07044330076113249, 0.14597888832427458, 0.1079079822330601, 0.0683821370555572, 0.10623264114721356, 0.1413186510673942, 0.12416549066197255, 0.10974124213923163, 0.07952828915240942, 0.14950538671543634, 0.1842015520809483, 0.10525802976054188, 0.1352222969274605, 0.10718980716509825, 0.10914289046821365, 0.3268542351390188, 0.047563322793516265, 0.024585872168629178, 0.1618761396523295, 0.08742919962769535, 0.02283624447336582, 0.09838256266827414, 0.01809664656379933, 0.5677463798944345, 0.016085908056710518, 0.024128862085065775, 0.2332456668223025, 0.019532888354577057, 0.03572532093240746, 0.034329800583485295, 0.037958153490682926, 0.7641869430697784, 0.05917006279429986, 0.0401909860489584, 0.012280579070515066, 0.01618803604749713, 0.05121136275789435, 0.035186038357464824, 0.02473473983544557, 0.004877272643608986, 0.008361038817615404, 0.39018181148871883, 0.03797305129666996, 0.44766395335982473, 0.5467385257921625, 0.0660529795026226, 0.07475996316433194, 0.09187368967182961, 0.0483387713632829, 0.0813652611145942, 0.035128175462758385, 0.05554455094538718, 0.12242673406184192, 0.02276102661431427, 0.059661478852672256, 0.3979731017108889, 0.005172960594162334, 0.2672696306983873, 0.044832325149406896, 0.08000845718971077, 0.1387647127659985, 0.15973190837624554, 0.08043778679567495, 0.07738801288872994, 0.06404525204584546, 0.39037106008896283, 0.05870814770869168, 0.030116517331082095, 0.11350596710651999, 0.5478789316666133, 0.10646683736347999, 0.10558694614559998, 0.039008510659346664, 0.041354887240359996, 0.03050289555317333, 0.01554474484921333, 0.15646301389509093, 0.054822079037410376, 0.09923996789253849, 0.11484625316596188, 0.043617566533414094, 0.09643883976653941, 0.30572312689475567, 0.12885189379595724, 0.014169026813331015, 0.5403773674325553, 0.024755081329038097, 0.016449100093637155, 0.11025782934051837, 0.13159280074909724, 0.1381072958356862, 0.024429356574708648, 0.1818854428679652, 0.2723350589184948, 0.07354314576071096, 0.10327035602030868, 0.08664566023532037, 0.09904373844785402, 0.09932551295268434, 0.08396880243943243, 0.0002523889681495965, 0.006057335235590316, 0.01009555872598386, 0.0002523889681495965, 0.011862281503031036, 0.8641798269442185, 0.08051208083972129, 0.02675323062385723, 0.053841328464531546, 0.027303422491492303, 0.5218270934121659, 0.10921368996596921, 0.1178895438417705, 0.04184823634210035, 0.042613752860553404, 0.08573785006674219, 0.09771857628371938, 0.13906896330061957, 0.2258842037042608, 0.06295133545856449, 0.2676460373581451, 0.08866675027006958, 0.03641302737309122, 0.08146643412284815, 0.19052887912379698, 0.14531119582943963, 0.2915004049267309, 0.1808707331774294, 0.05750986904427974, 0.07111907469597953, 0.03994960368724776, 0.023706358231993175, 0.24926912107352164, 0.018740108999348176, 0.6340831401149315, 0.05339647495704686, 0.010011839054446286, 0.015146115492623869, 0.0015402829314532748, 0.01796996753362154, 0.02353345315831643, 0.2282300928938612, 0.01509693221476903, 0.013320822542443262, 0.07148841431111216, 0.21446524293333652, 0.2686365879392724, 0.16517819952629645, 0.20986735588779984, 0.009601774452383, 0.09220751656653516, 0.07010819441422507, 0.01630777565722192, 0.1915782616927846, 0.14722720826987265, 0.2630581381716358, 0.0974602709337985, 0.015465987578915128, 0.6814854209375936, 0.029213532093506352, 0.004173361727643764, 0.01644795504424307, 0.05769058858801675, 0.09819674653279446, 0.25502656948729924, 0.16696806791545152, 0.10649932414127687, 0.12050863120952537, 0.1513862876048486, 0.051462760658872043, 0.06790225364712284, 0.0803390874730169, 0.20818764516147542, 0.009074846071141236, 0.02802525992558323, 0.01841659937966898, 0.004003608560797604, 0.02855907440035624, 0.08407577977674968, 0.6197586052114691, 0.07968541656751804, 0.03609443956019981, 0.06941238376961502, 0.14104596381985773, 0.014993074894236845, 0.1682556182575468, 0.06496999120835965, 0.42535908774020087, 0.017436287965472013, 0.5875623549295104, 0.03892752662058868, 0.01946376331029434, 0.15003317551685222, 0.05109237868952264, 0.0867759447583956, 0.04865940827573585, 0.6419383918259554, 0.06237973465438139, 0.020687156900687703, 0.07765640436565846, 0.059833623035835205, 0.07288244508088437, 0.04041952194442059, 0.024188060376188703, 0.1784479825777499, 0.03860464082255958, 0.06933078351806618, 0.07366395748794533, 0.03584716647809104, 0.18396293126668697, 0.18553863089209757, 0.23477924418617868, 0.5017556937891005, 0.0017498018963874472, 0.2677196901472794, 0.07524148154466023, 0.0004374504740968618, 0.025809577971714848, 0.03630838935003953, 0.09055224813805039, 0.03299622662035874, 0.48848761583618044, 0.053798195576671856, 0.025105824602446866, 0.1936735040760187, 0.13772338067627996, 0.04949433993053811, 0.018650041133246243, 0.1723972329214157, 0.4912140335295132, 0.041918505265138746, 0.07970420015202438, 0.052545731952075334, 0.057859345295543624, 0.0342432859912401, 0.07084817791291056, 0.18403818897864402, 0.03600747175669122, 0.16615212457662748, 0.5864746380240166, 0.008943032201008278, 0.003294801337213576, 0.01482660601746109, 0.00023534295265811256, 0.03740856992649871, 0.04391440817458544, 0.061740404974343084, 0.032594249622914524, 0.07084857852166451, 0.46575296018052914, 0.09309854533012113, 0.19465468038275502, 0.3395571509993266, 0.06532825010957276, 0.11568154317397124, 0.14076459622463813, 0.056343275882468194, 0.09602691205218, 0.06888480240780165, 0.11755341280461802, 0.05153582710712007, 0.059031947413610265, 0.6750256335994418, 0.04235307973166959, 0.05078621507647105, 0.032045914310245574, 0.0605311714749083, 0.028672660172324983, 0.20842590649735804, 0.04448418627881263, 0.07572308113752936, 0.1956804373950016, 0.29639463441950437, 0.05847921117551772, 0.034737651082893006, 0.08621934981005817, 0.06471559313701732, 0.5169663592390641, 0.0396888598535614, 0.036908111710955184, 0.10819638227595083, 0.13499268255924704, 0.07305783756483596, 0.025279528569147388, 0.03290008641447397, 0.5410236432602387, 0.007768075958973021, 0.012337532405427738, 0.18369214914747967, 0.07722381394508473, 0.04340983624131982, 0.10098498746664927, 0.47084496476840443, 0.1020078138348197, 0.14326476584081352, 0.0674551165297999, 0.06312313656917054, 0.041050667245963846, 0.02681701880389598, 0.08560817541243716, 0.13550215648833078, 0.43800697078884787, 0.054500867369845225, 0.07400117771318435, 0.0945015039715665, 0.0665010583503616, 0.05100081166719461, 0.08650137665122223, 0.15095273659779757, 0.12912072923861195, 0.08836764883479885, 0.1617647783375847, 0.15864592014341533, 0.21624083479574305, 0.05717906689310513, 0.037842146089255034, 0.07202173279414609, 0.5052217592539853, 0.057581731912151456, 0.044567903956773576, 0.1410128481192316, 0.05223358343733863, 0.06738667078264164, 0.05972099130207659, 0.02163413085914551, 0.1290501061714145, 0.11873616006414746, 0.03370899459448254, 0.5267659304540779, 0.04377138104059673, 0.08100221089121924, 0.04553229866866672, 0.11147799534599166, 0.11658615146696703, 0.16917011153583103, 0.08503577542564864, 0.06550459025721343, 0.052884439840686075, 0.16436243518667773, 0.23467470179304445, 0.16307064187642809, 0.08174492330566446, 0.14420642880589013, 0.08342174224526784, 0.03437478826186916, 0.13917597198708, 0.14420642880589013, 0.2096023674504217, 0.033825543445930945, 0.05469256883933623, 0.053168037303744975, 0.014292483146168003, 0.7779874992564116, 0.02277268981289435, 0.02153400794022646, 0.021724574382175364, 0.032578872778499426, 0.02594777477933583, 0.4239578090334815, 0.015568664867601497, 0.4542302129427066, 0.015136201954612566, 0.009658338390086113, 0.02277638008408367, 0.036350952778215796, 0.04676906089403434, 0.06498201249219195, 0.011917116477806827, 0.723796187586041, 0.02503343964520428, 0.06798002921616851, 0.02315967919271893, 0.0001639411509644065, 0.015246527039689803, 0.3311611249481011, 0.0036067053212169428, 0.5854338500938956, 0.03196852443805927, 0.021312349625372845, 0.01114799826557964, 0.32179498931538447, 0.27898181063956806, 0.05986883522146688, 0.05569193974089942, 0.14897593880690596, 0.015489320740437651, 0.07100722316964676, 0.048208335338216064, 0.12882177363368075, 0.16441311940533337, 0.04756011691610218, 0.10015971641934102, 0.03622128109504471, 0.14047557711643427, 0.0629935323392082, 0.3193772089597855, 0.17049436817435476, 0.09374690332167601, 0.104746539978086, 0.06624781168065105, 0.09199696112633805, 0.3484884886144436, 0.04599848056316903, 0.07824741530582557, 0.12866397993682163, 0.01037160622584401, 0.12417896102834855, 0.5042843135214425, 0.20939432028933716, 0.015977879861435368, 0.00028031368177956783, 0.0070078420444891956, 0.0599684600219819, 0.1496182790447427, 0.10176465943124201, 0.10055317539039389, 0.11509098388057132, 0.10418762751293824, 0.2522915515066208, 0.11660533893163147, 0.4988947576036946, 0.09425212532374448, 0.09375865869901283, 0.05280092884628618, 0.023192931362387384, 0.04589239610004312, 0.10658879094203565, 0.08438279282911156, 0.15946443068821836, 0.0576525249411251, 0.4682734339632874, 0.07083900670957392, 0.027906275370438213, 0.010119858101367703, 0.026679625903605765, 0.17909082215753755, 0.06844020666043578, 0.008852962055578758, 0.06878070520103496, 0.7548852645083887, 0.022472903679546075, 0.017705924111157515, 0.01940841681415343, 0.03949783070950522, 0.22597601983716326, 0.04462207638088912, 0.3189045642267213, 0.053628367026573164, 0.04339394583829584, 0.12240367741179677, 0.06181590397719502, 0.12895370697229425, 0.00021162612411213745, 0.0412670942018668, 0.005502279226915574, 0.003809270234018474, 0.05946694087551062, 0.6598502549816445, 0.2097214889951282, 0.020104481790653057, 0.5167158110503298, 0.05184439575755817, 0.05731685975418931, 0.051268346915807526, 0.015841343148142773, 0.047236005023553, 0.18347155609758087, 0.07632647153196064, 0.0985562303735901, 0.5329013872412703, 0.030526266044917285, 0.057563815970415454, 0.14303736089618385, 0.054947278880851116, 0.031834534589699454, 0.050586383731577214, 0.5154085194083153, 0.22957883397143236, 0.02449199752801916, 0.005921142259521116, 0.054366851655602975, 0.030951425447496742, 0.1149239884007053, 0.02422285469804093, 0.19721930548435784, 0.013325628748943098, 0.18278320767300282, 0.517478583083957, 0.021987287435756113, 0.03198150899746344, 0.011993065874048789, 0.023097756498168035, 0.2746876869490508, 0.2854747083722781, 0.009915342924380652, 0.014709574668037233, 0.13630872525714502, 0.06842676215946208, 0.07899586395797772, 0.13140553370113262, 0.11427354210739853, 0.0343948325750887, 0.7027446939795445, 0.004510797714765731, 0.11709279067912712, 0.00018794990478190548, 0.026500936574248672, 0.00018794990478190548, 0.0003086099092854793, 0.0003086099092854793, 0.9897119790785321, 0.0003086099092854793, 0.00833246755070794, 0.0003086099092854793, 0.0003086099092854793, 0.0003086099092854793, 0.1484343980828956, 0.23646640210304964, 0.0942516564780997, 0.08851043882461139, 0.11614004878202387, 0.10645174399176235, 0.11135570073745028, 0.09831835231598725, 0.10050374506654675, 0.6165976207992643, 0.026435819199968458, 0.018338361066644784, 0.15099377813315318, 0.01952916373331003, 0.018338361066644784, 0.04929923039994118, 0.07214780167099454, 0.7380425630119594, 0.022086061736018736, 0.023926566880686964, 0.0912890551755441, 0.016564546302014052, 0.00846632366547385, 0.027975678198957066, 0.06985924734650688, 0.1630049104751827, 0.029664223926329884, 0.005932844785265977, 0.4537143049532156, 0.17234914101197663, 0.03025750840485648, 0.07519880765324626, 0.18949854618421316, 0.1786913527931764, 0.12018344374514994, 0.1260528677420061, 0.10005970432735739, 0.09325862572782564, 0.09288596388675542, 0.09940754610548448, 0.06316661657891656, 0.1759307246938713, 0.06269871571536903, 0.27980471640142296, 0.06924932780503446, 0.04304687944637277, 0.17499492296677624, 0.1305443409297609, 0.12496529395651144, 0.05759855866998237, 0.08740833903427149, 0.03974637381905216, 0.03351495080504822, 0.12260745822148293, 0.024588858379583117, 0.5097977692808089, 0.04430667149418893, 0.08989388262693823, 0.2950363327243101, 0.06428308985573077, 0.22537497638662576, 0.18081219696472478, 0.08528393992812089, 0.01511036773501241, 0.00032466511258584914, 0.16492987719361138, 0.0016233255629292457, 0.00032466511258584914, 0.08408826415973493, 0.17142317944532834, 0.14934595178949062, 0.4279086183881492, 0.3709721775157934, 0.0473256687365827, 0.08218382259094738, 0.2985842594751602, 0.060047622698029664, 0.06793523415412678, 0.028624396413255666, 0.0443996193254499, 0.11168986662932275, 0.3979865989935693, 0.08925434756841076, 0.06194154175512659, 0.08437706081603859, 0.08388933214080137, 0.08827889021793632, 0.08291387479032693, 0.11157348412063248, 0.05758631438484257, 0.32632244818077455, 0.05614665652522151, 0.028313271239214264, 0.18523597793791027, 0.14228618512588184, 0.09261798896895514, 0.11436835253331468, 0.04527080621110373, 0.03403820015872461, 0.029613234138090406, 0.023826740111107223, 0.22941746906980384, 0.47108869019674854, 0.05275921024602314, 0.05906070129592875, 0.030852605154589645, 0.16219655281269985, 0.07536850687764042, 0.03790462918992442, 0.40108386700966536, 0.18908239444741368, 0.0449566532252592, 0.12227664864078544, 0.2778136497899561, 0.10212722346973051, 0.08418595448180488, 0.14808447403110925, 0.09053440350830164, 0.08998236446251931, 0.08501401305047837, 0.36357751186717596, 0.016149301247401573, 0.04757496853964247, 0.13574142399842942, 0.033171537697365396, 0.006547014019216854, 0.009165819626903595, 0.3884561651402, 0.01079788227850425, 0.08016609570404669, 0.008180213847351703, 0.009816256616822044, 0.05169895151526276, 0.20712301461494514, 0.5320411086317548, 0.09979860893769078, 0.07951057374535121, 0.3279424442415264, 0.02908168845160706, 0.057853997238835324, 0.0637322108620325, 0.15499921185377805, 0.2094500327844466, 0.07703553643032084, 0.11024660228200896, 0.09693179524311898, 0.06604144291289425, 0.0894755033013406, 0.10225771805867497, 0.32168573805958167, 0.11770289422378734, 0.09533401839845218, 0.5929819816131441, 0.0354459964102502, 0.03950751683225804, 0.15507623429484463, 0.06276895197648473, 0.05353822374464875, 0.02178451862713294, 0.0391382877029846, 0.1579361640895531, 0.1316134700746276, 0.008774231338308507, 0.03480445097529041, 0.026615168392869138, 0.006726910692703188, 0.052937862407794654, 0.5805616402180795, 0.08567510270891002, 0.01496733722023127, 0.10941639623065617, 0.021934890753787205, 0.023225178445186453, 0.06038546395748477, 0.30915293085925966, 0.3752156606589011, 0.5833073749020753, 0.07417990809858899, 0.09263442182067698, 0.04450794485915339, 0.04113064823027454, 0.031239993817129344, 0.059585161952362534, 0.07333558394136927, 0.03306932149911067, 0.05812183778631572, 0.03732824926793553, 0.023048314984228647, 0.5195891877966328, 0.1756181391733074, 0.1270162575761296, 0.025804091775821204, 0.06030605893136249, 0.21981558480481628, 0.13176873876502704, 0.5089831373806994, 0.03256527182293575, 0.0018091817679408747, 0.037992817126758366, 0.0069351967771066865, 0.21679018699821015, 0.0408017812264205, 0.13371186136851057, 0.121913755953642, 0.04129336895204003, 0.25120132779157683, 0.08062038700160196, 0.11355676461811008, 0.12545678182419465, 0.12365596677408658, 0.09664374102246573, 0.22510188126350714, 0.05252377229481833, 0.11435175568186162, 0.16807607134341865, 0.09394251844730364, 0.0002932559628087535, 0.023167221061891525, 0.0002932559628087535, 0.867157882025484, 0.004692095404940056, 0.0002932559628087535, 0.10381261083429874, 0.0002932559628087535, 0.3802083354020051, 0.0878472227001893, 0.040625000221036156, 0.22083333453486323, 0.0534722225131587, 0.10729166725042884, 0.061805555891832786, 0.047916666927375985, 0.16013392044937513, 0.15875246319172415, 0.10913512335442677, 0.11961117422494663, 0.08058500669630668, 0.12179848154956066, 0.1615153777070261, 0.08852838592779977, 0.007183705808152754, 0.019156548821740678, 0.03128902974217644, 0.0023945686027175847, 0.9016348978765946, 0.012451756734131441, 0.016921618125870935, 0.008939722783478984, 0.015750434367182688, 0.0356731692289833, 0.03223102132092351, 0.005215375618272413, 0.8562603690079647, 0.01898396725051158, 0.02023565739889696, 0.01554181934245179, 0.5329046442762626, 0.0002490208618113377, 0.06026304855834372, 0.3020623053771526, 0.0002490208618113377, 0.0064745424070947796, 0.011953001366944209, 0.08566317646310016, 0.23948841987635675, 0.09753772307375158, 0.05056246239900257, 0.29329644574016017, 0.05927423801504693, 0.08079744836056829, 0.06918174753917582, 0.10966588128432314, 0.5963840434094614, 0.09198220239261125, 0.06425303451722338, 0.09663821938661293, 0.035903064375968616, 0.015106188469427718, 0.035075328021479425, 0.06477036973877912, 0.019048720933236372, 0.15888364960222154, 0.11126184726913062, 0.022512124739279347, 0.10953014536610914, 0.2543437170062811, 0.13355750927053228, 0.1909201348081191, 0.47836078769598794, 0.10781237449966395, 0.01902571314699952, 0.09120262492688659, 0.04529931701666553, 0.036239453613332424, 0.0697609482056649, 0.15250770062277394, 0.14563724965734748, 0.0873823497944085, 0.06705381702973708, 0.44146291302383456, 0.039746832718984416, 0.0725152138918876, 0.08798917166798077, 0.058254899862939, 0.18188155059220182, 0.011457105549115075, 0.06530550162995592, 0.07046119912705771, 0.060149804132854146, 0.11457105549115075, 0.01661280304621686, 0.47947986723046593, 0.016025038378063513, 0.034515467275829104, 0.6727776795987006, 0.03917231603526636, 0.09779382394818245, 0.02780412641664011, 0.08519293906970517, 0.026708397296772518, 0.6701315315915428, 0.006634965659322207, 0.07165762912067983, 0.11624459835132506, 0.008492756043932424, 0.016454714835119073, 0.04272917884603501, 0.06741125109871361, 0.2823524984808778, 0.04547404807159086, 0.05539565855993796, 0.07813268259573339, 0.17156118136100187, 0.028524630153997903, 0.013642214421477259, 0.3249327434933674, 0.5738471383176236, 0.03787913583735451, 0.09273857394662657, 0.05311786864548564, 0.0008707847318932072, 0.03221903508004867, 0.10449416782718486, 0.10492956019313147, 0.5515693758070399, 0.03353005324054954, 0.1022666623836761, 0.051971582522851785, 0.021235700385681375, 0.024029871489060505, 0.08103096199799473, 0.134679047182874, 0.03885624531505091, 0.024801858711734622, 0.06255579919515288, 0.004133643118622437, 0.05483966537372433, 0.7170492929770387, 0.04050970256249988, 0.05704427503698963, 0.3322836407650187, 0.4583789160615091, 0.03450163884333939, 0.03778750920937172, 0.08009309017203788, 0.012732747668375252, 0.015607884238653535, 0.028340631907028787, 0.08364029100768006, 0.5198170717450993, 0.05429282047866951, 0.07630342337542742, 0.09978139979863586, 0.04475489255674108, 0.09537927921928428, 0.026045880094496862, 0.12410497884058606, 0.31635577772590273, 0.03929576484331182, 0.21115255918969453, 0.049741474485204835, 0.0442699122918323, 0.09998036371526171, 0.11540022080567522, 0.1728967148542109, 0.119413997725975, 0.1292498997265701, 0.12632986632014342, 0.0863715144427258, 0.11680133625706692, 0.14984381954031611, 0.09882007791222898, 0.06750636353232697, 0.1386291393967429, 0.3064909451445381, 0.07293098203046039, 0.18654660279692142, 0.045506521845452556, 0.13350588859295023, 0.04882156648320076, 0.11668996952384476, 0.5287064051265559, 0.05330282558496612, 0.07491207920049293, 0.054383288265742465, 0.036375576919470125, 0.08679716868903267, 0.048620820634935315, 0.15361425366125836, 0.0006495317279545808, 0.08346482704216363, 0.013640166287046196, 0.026630800846137812, 0.00941821005534142, 0.0003247658639772904, 0.7122115397021979, 0.8843753015762206, 0.014104869243639882, 0.028209738487279763, 0.010931273663820908, 0.000352621731090997, 0.01657322136127686, 0.025036142907460788, 0.02009943867218683, 0.03028096148529225, 0.12495943439597268, 0.034116549940095935, 0.035731534552644856, 0.03855775762460546, 0.09508221906381767, 0.13888867667920712, 0.5024620875792827, 0.02593001162085442, 0.2842928984937051, 0.015308079149661043, 0.19400647248856137, 0.19119478448148078, 0.0790396739768213, 0.19338165293143236, 0.01718253782104811, 0.07976780372628338, 0.3283614410419296, 0.014576044456007606, 0.014095515517897466, 0.09898896125068903, 0.1260587580975603, 0.07336075121814817, 0.26477144489868765, 0.027837888529456987, 0.29737108961840497, 0.020162956645167443, 0.019902789462649152, 0.08299333122333438, 0.49665915142741485, 0.038114492238929425, 0.016910866863688822, 0.5827608211864287, 0.010564220555456024, 0.16883545214992446, 0.05992794206004145, 0.017478983100845422, 0.11198073788783386, 0.031692661666368076, 0.01690275288872964, 0.1296292800372465, 0.250062890323567, 0.06347978473219851, 0.07000574391027499, 0.11242447856777212, 0.06822593686170868, 0.2625215396635312, 0.04360527268987468, 0.8849499958141953, 0.013894320963175942, 0.031188316204575784, 0.012859637487194753, 0.01064245861009221, 0.009903398984391363, 0.020989293369904082, 0.015520252139717807, 0.1467386539703027, 0.13339877633663882, 0.00015880806706742716, 0.017627695444484417, 0.195175114425868, 0.032238037614687715, 0.012545837298326746, 0.46197266709914564, 0.04189800175954081, 0.010322696085683968, 0.017406899281741592, 0.8478779196652968, 0.007286609001659271, 0.0002024058056016464, 0.05080385720601325, 0.024086290866595923, 0.16250057405425006, 0.228799725833253, 0.0707641966947317, 0.0914657685767469, 0.2420595561890536, 0.06075167173218841, 0.06629915177900293, 0.077394111872632, 0.12013027492226226, 0.3505724849894865, 0.049669248285166126, 0.10453644115831476, 0.07970181701573169, 0.09240790378635558, 0.08952015679303196, 0.11319968213828559, 0.12625105108039797, 0.18185947673560912, 0.051080052230519694, 0.06231041832375452, 0.14907405314084293, 0.06466517250459408, 0.09527697685550837, 0.2695287862376358, 0.08272156635566286, 0.5011637753885289, 0.060698292196038325, 0.08111010727081228, 0.0945389329779004, 0.064458363394023, 0.07036704670514178, 0.0451208543758161, 0.028561195650565255, 0.5247586842663556, 0.025150903632587315, 0.04731780174944393, 0.20589638058541818, 0.06522183484382812, 0.07417385139102022, 0.028987482152812497, 0.263344368869847, 0.031847888562933385, 0.16266394696121889, 0.12807645508104393, 0.037669545612071746, 0.28286404250519326, 0.029793186075002198, 0.06335332671121156, 0.05237931468279486, 0.018099658476777282, 0.18209353376636536, 0.027423724964814062, 0.05512168717927626, 0.006307456741907234, 0.6167595744586682, 0.04168406194651737, 0.043988276212767824, 0.44206399896467496, 0.10433582870301128, 0.00945202629365259, 0.0767068287677191, 0.17886142063373364, 0.0857953155885389, 0.059256934071745086, 0.08010599676868631, 0.0889176564132418, 0.19105280229331684, 0.033644518642848245, 0.022029149111388733, 0.012015899515302946, 0.4970577099496985, 0.07529963696256513, 0.2865513158578543, 0.060025183114561634, 0.08144759828972321, 0.31560944337267743, 0.05154105829271547, 0.05896466751183086, 0.03372439616683852, 0.11220255076891557, 0.6176897585171662, 0.006912490963135517, 0.07447230830095057, 0.1405974577030205, 0.015259649862016141, 0.013042435779500976, 0.04590937394384343, 0.08608007614470643, 0.15672259003838965, 0.19324576754298828, 0.23167687223066294, 0.0929433099184189, 0.062416474989202136, 0.11120489867071821, 0.08394879605534611, 0.06759513448612284, 0.03309686494304247, 0.08241338555353621, 0.036384632983742046, 0.05589205669189291, 0.026082959789550022, 0.16241574121055938, 0.3452156442734562, 0.2584185679989872, 0.012963690187100122, 0.07062308833270962, 0.21960878152774088, 0.05185476074840049, 0.0576593981456095, 0.1725912186103479, 0.08068445982120524, 0.33415362616599864, 0.07436270332015074, 0.08913990718505249, 0.0765077813005397, 0.2607461456161696, 0.32319174904527054, 0.08723317120248451, 0.04075648162739031, 0.048145083559841186, 0.20652384040496538, 0.07357639464162788, 0.1333116853407713, 0.16317933069034302, 0.01056294774558024, 0.053178978305335, 0.11182155027217702, 0.24804715223241872, 0.12580713990274228, 0.31729300725471027, 0.08741746118242018, 0.08279219868599583, 0.18963576235339827, 0.06937893744636522, 0.0730791474435047, 0.054115571208164875, 0.05334740873441575, 0.014427286638867151, 0.1904066318036537, 0.6559382646275647, 0.009897789670850721, 0.033216311098787164, 0.019124542753847156, 0.023821798868827158, 0.02489028612438771, 0.02791748308546189, 0.11604255017451028, 0.021863089163313528, 0.04002627092975861, 0.007399814793736886, 0.6377294931329608, 0.12411507540404142, 0.00534208635715909, 0.056091906750170444, 0.06260925210590454, 0.15524102953904315, 0.03942459731583409, 0.08002445363024317, 0.5639106358617135, 0.03728776277297045, 0.021445256490024205, 0.047812375125299865, 0.01089840903591394, 0.012656216944932316, 0.024609310726257282, 0.029003830498803226, 0.8263454980295392, 0.026894461007981173, 0.09611074260822121, 0.054299854580915935, 0.17538853029635845, 0.0920382535146525, 0.023620436742698432, 0.2459783412515492, 0.23946235870183927, 0.07303330441133193, 0.10061373308531618, 0.18083279054523044, 0.026286470806073596, 0.02084789063929975, 0.06345010194569489, 0.250174687671597, 0.28869796385291174, 0.06934189712636656, 0.07569936851292788, 0.06564554613230465, 0.322905118812958, 0.10763503960431935, 0.08161338167800038, 0.15080733570934854, 0.09048440142560912, 0.10526943433829035, 0.1364695775237233, 0.23136120022449402, 0.09656815313718012, 0.08818550095513322, 0.23203181239905776, 0.08617366443144198, 0.06035509571073757, 0.06907305398006633, 0.0048380800979382224, 0.17670511595802935, 0.17670511595802935, 0.03547925405154696, 0.16334279949705713, 0.09192352186082622, 0.3368225287231277, 0.01428385552724618, 0.17171149260708102, 0.06475808850881383, 0.2962462782009538, 0.11867432509533757, 0.06798134178300819, 0.0512790293621829, 0.05977669708505892, 0.16995335445752047, 0.08469472289433203, 0.4161088559591095, 0.08153839781752462, 0.07680391020231352, 0.07943418109965301, 0.06680888079242339, 0.10152845663730485, 0.09311158976581843, 0.0003953896059832611, 0.5531500587705822, 0.0003953896059832611, 0.0023723376358995665, 0.1684359721488692, 0.11822149218899507, 0.13403707642832552, 0.023327986753012404, 0.11035675349139414, 0.17157940472160219, 0.09924308750374491, 0.1041175024106086, 0.10119285346649039, 0.23436186872200665, 0.10801703433609956, 0.07136143423648456, 0.1644039063637304, 0.14595040666984227, 0.05099876279038167, 0.44724572894459713, 0.036235963035271185, 0.045630471970341493, 0.053011871847896734, 0.05603153543416933, 0.05321176506333175, 0.21984860828797592, 0.05081123430859498, 0.026605882531665875, 0.16803715283157397, 0.3782836381006028, 0.05421198621113874, 0.049210880472103806, 0.22556290682118585, 0.04016873683117009, 0.1094708432321998, 0.13374865120708282, 0.03972732214071767, 0.24630939727244952, 0.13154157775482073, 0.07327483861510148, 0.10906843631644601, 0.1537943418562836, 0.05728054569137093, 0.05021856060613342, 0.5113400311718272, 0.035309925426187556, 0.03426370541355978, 0.049172340593505635, 0.08015123424549826, 0.33037461478803637, 0.06519764576686053, 0.057023017398538565, 0.06061187863341162, 0.10208316401416695, 0.13318662804973344, 0.17126843337533088, 0.1687679475243157, 0.16246727748340792, 0.10126076851458943, 0.1278135922584151, 0.04320459456622482, 0.05040536032726229, 0.2569773280970247, 0.08910947629283869, 0.22613342458641178, 0.04470079323219768, 0.018030572060046123, 0.49659200548710364, 0.02028439356755189, 0.018030572060046123, 0.015025476716705103, 0.16152387470457985, 0.7632841479840626, 0.02904675404590513, 0.053252382417492736, 0.012640717038495751, 0.048411256743175216, 0.045990693906016455, 0.024205628371587608, 0.023129822666183714, 0.12229940308690214, 0.052704734441776466, 0.0272680865451662, 0.5174831648086392, 0.021773770599498386, 0.054943159456678166, 0.1682888624839735, 0.0352043206889086, 0.7509414194982016, 0.008349779054678711, 0.033129768507273595, 0.07065888296808759, 0.03241150794343027, 0.013736733283503687, 0.028640639983252784, 0.06203975620196763, 0.18561155037259036, 0.17406140633434355, 0.11049883022577515, 0.10115572008018697, 0.17119226227388734, 0.09607954212707213, 0.086662864185062, 0.07467131336828348, 0.19839298231950103, 0.24319139768196898, 0.038798627590708866, 0.29238965741039363, 0.054398075797282536, 0.13239531683015088, 0.010799617989166387, 0.029198967155894304, 0.010189508799711098, 0.014799048494818499, 0.004124324990359254, 0.004366932342733327, 0.015769477904314794, 0.9182688287358692, 0.018923373485177752, 0.013100797028199983, 0.11024458384090662, 0.10170951928548158, 0.6486649062123021, 0.007823809175806275, 0.06792488875359085, 0.02702770442551259, 0.00035562768980937614, 0.03591839667074699, 0.058316636457145576, 0.33711108267770995, 0.07136114724361235, 0.055758889244112875, 0.2596113421228191, 0.0708495978010058, 0.11126200376692248, 0.035552686261154536, 0.01630366074601352, 0.011248262065079095, 0.04789990250185367, 0.898597115536094, 0.0031596241755840154, 0.0037915490107008182, 0.015166196042803273, 0.0037915490107008182, 0.026016211429318044, 0.24672040505469944, 0.03338747133429149, 0.07111097790680265, 0.03035224666753772, 0.2059616738154345, 0.10883448447931382, 0.2779398587698811, 0.24100113277202803, 0.3431302051108806, 0.048129792711413294, 0.030051773010053177, 0.021717101589296243, 0.13452864011531618, 0.07618594017001763, 0.10529859527350664, 0.08714521758601139, 0.02919511498251897, 0.4897150442796398, 0.09653460129898232, 0.1261698436430468, 0.0375575348518837, 0.022006368077275604, 0.1116456407120449, 0.1524797192743834, 0.33404516534677053, 0.09474895850864863, 0.08108748077019232, 0.08373163775182903, 0.08064678793991953, 0.07690089888260086, 0.09629138341460337, 0.17194207597952332, 0.32048766921985605, 0.0816669680518917, 0.09866252626809618, 0.08718500643377627, 0.0648921313709626, 0.10263551390305307, 0.07239666357032562, 0.0518091909166193, 0.036687848113204094, 0.006445162506373692, 0.0002478908656297574, 0.05924591688551202, 0.002478908656297574, 0.03966253850076119, 0.803166404640414, 0.3791315988919145, 0.03623279823205277, 0.03623279823205277, 0.03623279823205277, 0.006826469232125884, 0.035707685214196934, 0.05303641480343956, 0.41693973617753477, 0.11863351166647641, 0.2397941277234813, 0.07132050168824854, 0.15345139438042452, 0.0442243268342486, 0.1023477278164039, 0.11245614537851788, 0.15780362971966802, 0.00802662954350886, 0.4477075589823831, 0.023411002835234177, 0.02541766022111139, 0.13199346360436792, 0.23611668573821898, 0.052619015896335865, 0.07469224714098523, 0.44052042489974913, 0.04143207315792938, 0.19588840470991611, 0.10175229731432657, 0.012185903869979229, 0.0347298260294408, 0.060015576559647704, 0.11302425839405736, 0.4825794420868303, 0.06682060990920718, 0.15533298497550777, 0.10534219286059715, 0.0476221510920096, 0.05796937240257713, 0.03503095407553586, 0.049492130846931444, 0.22210749709347927, 0.3544063105795952, 0.06051624558489, 0.06759793389801542, 0.1078347993135008, 0.06019435066156612, 0.0531126623484407, 0.07467962221114086, 0.08165896726731876, 0.09086561553765372, 0.11448266979633906, 0.2571857179865309, 0.08766330309579809, 0.16852169225265295, 0.12308888448382609, 0.07625506502168737, 0.10278442511144315, 0.4298257777387623, 0.03945260761853373, 0.042567287167365346, 0.17130737518573858, 0.08305812130217628, 0.053987778846414584, 0.07682876220451307, 0.05481621717299535, 0.08876052800757563, 0.22915156116807273, 0.1501678734979652, 0.04141425626096041, 0.061846754044882525, 0.312639186521733, 0.0611876412131431, 0.21360452925173248, 0.033538516025805556, 0.4620500411710494, 0.07717114852539726, 0.06089031550316155, 0.030282349421358417, 0.09475444818941182, 0.02735179947735599, 0.5236627558768671, 0.016809456690383997, 0.1320131216512323, 0.23030026331857312, 0.02055678779970527, 0.016488256881013602, 0.017451856309124786, 0.042612508043139055, 0.6296070399678452, 0.022386028087745608, 0.056826071299661926, 0.06005482535077908, 0.009040511343128034, 0.06866483615375817, 0.029704537270277824, 0.12376890529282428, 0.07537921945464547, 0.12371822750787022, 0.04963545654507368, 0.03315204000585145, 0.07982418571241327, 0.4980214277973997, 0.09890049923533338, 0.04130114481175907, 0.01966683679592352, 0.09763179695119177, 0.5574611715606418, 0.16506095168007243, 0.042377350715025686, 0.05689334930249305, 0.042377350715025686, 0.018496191748547122, 0.015166976352475586, 0.03631529549184295, 0.019012125286906018, 0.00021361938524613503, 0.03161566901642798, 0.8687900397960311, 0.011962685573783561, 0.016662312049198533, 0.880162971802429, 0.0002742795175451633, 0.0463532384651326, 0.006034149385993592, 0.0002742795175451633, 0.006308428903538756, 0.003017074692996796, 0.057872978202029454, 0.18115473543172325, 0.13327339853929457, 0.15423527413736243, 0.13746577365890814, 0.0680709328631993, 0.11837943429856215, 0.11076696368663225, 0.0965349534121546, 0.00036729271667220375, 0.20641850676977852, 0.11606449846841639, 0.035994686233875965, 0.16124150261909745, 0.08998671558468992, 0.389330279672536, 0.00036729271667220375, 0.00028898542146608204, 0.02138492118849007, 0.00028898542146608204, 0.00028898542146608204, 0.9764817391338911, 0.00028898542146608204, 0.00028898542146608204, 0.00028898542146608204, 0.0003248153006101923, 0.018839287435391153, 0.0003248153006101923, 0.0003248153006101923, 0.9789933160391195, 0.0003248153006101923, 0.0003248153006101923, 0.0003248153006101923, 0.010823538664165933, 0.08581519940874419, 0.16434107685998886, 0.004859547971666337, 0.07189922112624512, 0.18057638485623775, 0.30902307328914574, 0.17273484153832164, 0.15809350027913913, 0.3535545551697111, 0.0678364837561397, 0.0873825892451969, 0.10347938200089106, 0.07789697922844854, 0.08623281833407588, 0.06582438466167792, 0.17062155444348695, 0.08309712431978206, 0.08105375241027922, 0.16006413291105562, 0.35656839820824515, 0.05040317376773666, 0.01770922321569126, 0.08037262844044495, 0.15047849052310858, 0.180381267486034, 0.1422257527949894, 0.08231302045708504, 0.07352439066869836, 0.1451195699204338, 0.12261210338919959, 0.10321281080751679, 0.18951791137498886, 0.22876321337653524, 0.06255768225032818, 0.07781974413981844, 0.06691827136161112, 0.07127886047289404, 0.09727468017477305, 0.20578626305939057, 0.11455278862721642, 0.35448225142122874, 0.037432604157712455, 0.037432604157712455, 0.07937516062358303, 0.09425800324050485, 0.12041572662782199, 0.16280927832450837], \"Term\": [\"access\", \"access\", \"access\", \"access\", \"access\", \"access\", \"access\", \"access\", \"address\", \"address\", \"address\", \"address\", \"address\", \"address\", \"address\", \"address\", \"allow\", \"allow\", \"allow\", \"allow\", \"allow\", \"allow\", \"allow\", \"allow\", \"appear\", \"appear\", \"appear\", \"appear\", \"appear\", \"appear\", \"appear\", \"appear\", \"applic\", \"applic\", \"applic\", \"applic\", \"applic\", \"applic\", \"applic\", \"applic\", \"array\", \"array\", \"array\", \"array\", \"array\", \"array\", \"array\", \"array\", \"ask\", \"ask\", \"ask\", \"ask\", \"ask\", \"ask\", \"ask\", \"ask\", \"aspx\", \"aspx\", \"aspx\", \"aspx\", \"aspx\", \"aspx\", \"aspx\", \"aspx\", \"attribut\", \"attribut\", \"attribut\", \"attribut\", \"attribut\", \"attribut\", \"attribut\", \"attribut\", \"automat\", \"automat\", \"automat\", \"automat\", \"automat\", \"automat\", \"automat\", \"automat\", \"avail\", \"avail\", \"avail\", \"avail\", \"avail\", \"avail\", \"avail\", \"avail\", \"best\", \"best\", \"best\", \"best\", \"best\", \"best\", \"best\", \"best\", \"block\", \"block\", \"block\", \"block\", \"block\", \"block\", \"block\", \"block\", \"blockquot\", \"blockquot\", \"blockquot\", \"blockquot\", \"blockquot\", \"blockquot\", \"blockquot\", \"blockquot\", \"browser\", \"browser\", \"browser\", \"browser\", \"browser\", \"browser\", \"browser\", \"browser\", \"build\", \"build\", \"build\", \"build\", \"build\", \"build\", \"build\", \"build\", \"built\", \"built\", \"built\", \"built\", \"built\", \"built\", \"built\", \"built\", \"button\", \"button\", \"button\", \"button\", \"button\", \"button\", \"button\", \"button\", \"caus\", \"caus\", \"caus\", \"caus\", \"caus\", \"caus\", \"caus\", \"caus\", \"chang\", \"chang\", \"chang\", \"chang\", \"chang\", \"chang\", \"chang\", \"chang\", \"charact\", \"charact\", \"charact\", \"charact\", \"charact\", \"charact\", \"charact\", \"charact\", \"check\", \"check\", \"check\", \"check\", \"check\", \"check\", \"check\", \"check\", \"class\", \"class\", \"class\", \"class\", \"class\", \"class\", \"class\", \"class\", \"click\", \"click\", \"click\", \"click\", \"click\", \"click\", \"click\", \"click\", \"client\", \"client\", \"client\", \"client\", \"client\", \"client\", \"client\", \"client\", \"close\", \"close\", \"close\", \"close\", \"close\", \"close\", \"close\", \"close\", \"collect\", \"collect\", \"collect\", \"collect\", \"collect\", \"collect\", \"collect\", \"collect\", \"column\", \"column\", \"column\", \"column\", \"column\", \"column\", \"column\", \"column\", \"command\", \"command\", \"command\", \"command\", \"command\", \"command\", \"command\", \"command\", \"common\", \"common\", \"common\", \"common\", \"common\", \"common\", \"common\", \"common\", \"compil\", \"compil\", \"compil\", \"compil\", \"compil\", \"compil\", \"compil\", \"compil\", \"configur\", \"configur\", \"configur\", \"configur\", \"configur\", \"configur\", \"configur\", \"configur\", \"connect\", \"connect\", \"connect\", \"connect\", \"connect\", \"connect\", \"connect\", \"connect\", \"consid\", \"consid\", \"consid\", \"consid\", \"consid\", \"consid\", \"consid\", \"consid\", \"content\", \"content\", \"content\", \"content\", \"content\", \"content\", \"content\", \"content\", \"control\", \"control\", \"control\", \"control\", \"control\", \"control\", \"control\", \"control\", \"convert\", \"convert\", \"convert\", \"convert\", \"convert\", \"convert\", \"convert\", \"convert\", \"copi\", \"copi\", \"copi\", \"copi\", \"copi\", \"copi\", \"copi\", \"copi\", \"creat\", \"creat\", \"creat\", \"creat\", \"creat\", \"creat\", \"creat\", \"creat\", \"current\", \"current\", \"current\", \"current\", \"current\", \"current\", \"current\", \"current\", \"data\", \"data\", \"data\", \"data\", \"data\", \"data\", \"data\", \"data\", \"databas\", \"databas\", \"databas\", \"databas\", \"databas\", \"databas\", \"databas\", \"databas\", \"date\", \"date\", \"date\", \"date\", \"date\", \"date\", \"date\", \"date\", \"debug\", \"debug\", \"debug\", \"debug\", \"debug\", \"debug\", \"debug\", \"debug\", \"defin\", \"defin\", \"defin\", \"defin\", \"defin\", \"defin\", \"defin\", \"defin\", \"delet\", \"delet\", \"delet\", \"delet\", \"delet\", \"delet\", \"delet\", \"delet\", \"depend\", \"depend\", \"depend\", \"depend\", \"depend\", \"depend\", \"depend\", \"depend\", \"design\", \"design\", \"design\", \"design\", \"design\", \"design\", \"design\", \"design\", \"determin\", \"determin\", \"determin\", \"determin\", \"determin\", \"determin\", \"determin\", \"determin\", \"develop\", \"develop\", \"develop\", \"develop\", \"develop\", \"develop\", \"develop\", \"develop\", \"differ\", \"differ\", \"differ\", \"differ\", \"differ\", \"differ\", \"differ\", \"differ\", \"directori\", \"directori\", \"directori\", \"directori\", \"directori\", \"directori\", \"directori\", \"directori\", \"display\", \"display\", \"display\", \"display\", \"display\", \"display\", \"display\", \"display\", \"document\", \"document\", \"document\", \"document\", \"document\", \"document\", \"document\", \"document\", \"dynam\", \"dynam\", \"dynam\", \"dynam\", \"dynam\", \"dynam\", \"dynam\", \"dynam\", \"element\", \"element\", \"element\", \"element\", \"element\", \"element\", \"element\", \"element\", \"environ\", \"environ\", \"environ\", \"environ\", \"environ\", \"environ\", \"environ\", \"environ\", \"error\", \"error\", \"error\", \"error\", \"error\", \"error\", \"error\", \"error\", \"event\", \"event\", \"event\", \"event\", \"event\", \"event\", \"event\", \"event\", \"exampl\", \"exampl\", \"exampl\", \"exampl\", \"exampl\", \"exampl\", \"exampl\", \"exampl\", \"except\", \"except\", \"except\", \"except\", \"except\", \"except\", \"except\", \"except\", \"execut\", \"execut\", \"execut\", \"execut\", \"execut\", \"execut\", \"execut\", \"execut\", \"experi\", \"experi\", \"experi\", \"experi\", \"experi\", \"experi\", \"experi\", \"experi\", \"express\", \"express\", \"express\", \"express\", \"express\", \"express\", \"express\", \"express\", \"fail\", \"fail\", \"fail\", \"fail\", \"fail\", \"fail\", \"fail\", \"fail\", \"fals\", \"fals\", \"fals\", \"fals\", \"fals\", \"fals\", \"fals\", \"fals\", \"featur\", \"featur\", \"featur\", \"featur\", \"featur\", \"featur\", \"featur\", \"featur\", \"feel\", \"feel\", \"feel\", \"feel\", \"feel\", \"feel\", \"feel\", \"feel\", \"field\", \"field\", \"field\", \"field\", \"field\", \"field\", \"field\", \"field\", \"file\", \"file\", \"file\", \"file\", \"file\", \"file\", \"file\", \"file\", \"follow\", \"follow\", \"follow\", \"follow\", \"follow\", \"follow\", \"follow\", \"follow\", \"form\", \"form\", \"form\", \"form\", \"form\", \"form\", \"form\", \"form\", \"format\", \"format\", \"format\", \"format\", \"format\", \"format\", \"format\", \"format\", \"framework\", \"framework\", \"framework\", \"framework\", \"framework\", \"framework\", \"framework\", \"framework\", \"free\", \"free\", \"free\", \"free\", \"free\", \"free\", \"free\", \"free\", \"function\", \"function\", \"function\", \"function\", \"function\", \"function\", \"function\", \"function\", \"general\", \"general\", \"general\", \"general\", \"general\", \"general\", \"general\", \"general\", \"generat\", \"generat\", \"generat\", \"generat\", \"generat\", \"generat\", \"generat\", \"generat\", \"good\", \"good\", \"good\", \"good\", \"good\", \"good\", \"good\", \"good\", \"googl\", \"googl\", \"googl\", \"googl\", \"googl\", \"googl\", \"googl\", \"googl\", \"handl\", \"handl\", \"handl\", \"handl\", \"handl\", \"handl\", \"handl\", \"handl\", \"happen\", \"happen\", \"happen\", \"happen\", \"happen\", \"happen\", \"happen\", \"happen\", \"href\", \"href\", \"href\", \"href\", \"href\", \"href\", \"href\", \"href\", \"html\", \"html\", \"html\", \"html\", \"html\", \"html\", \"html\", \"html\", \"http\", \"http\", \"http\", \"http\", \"http\", \"http\", \"http\", \"http\", \"imag\", \"imag\", \"imag\", \"imag\", \"imag\", \"imag\", \"imag\", \"imag\", \"implement\", \"implement\", \"implement\", \"implement\", \"implement\", \"implement\", \"implement\", \"implement\", \"import\", \"import\", \"import\", \"import\", \"import\", \"import\", \"import\", \"import\", \"includ\", \"includ\", \"includ\", \"includ\", \"includ\", \"includ\", \"includ\", \"includ\", \"index\", \"index\", \"index\", \"index\", \"index\", \"index\", \"index\", \"index\", \"inform\", \"inform\", \"inform\", \"inform\", \"inform\", \"inform\", \"inform\", \"inform\", \"initi\", \"initi\", \"initi\", \"initi\", \"initi\", \"initi\", \"initi\", \"initi\", \"input\", \"input\", \"input\", \"input\", \"input\", \"input\", \"input\", \"input\", \"insert\", \"insert\", \"insert\", \"insert\", \"insert\", \"insert\", \"insert\", \"insert\", \"insid\", \"insid\", \"insid\", \"insid\", \"insid\", \"insid\", \"insid\", \"insid\", \"instal\", \"instal\", \"instal\", \"instal\", \"instal\", \"instal\", \"instal\", \"instal\", \"instanc\", \"instanc\", \"instanc\", \"instanc\", \"instanc\", \"instanc\", \"instanc\", \"instanc\", \"interest\", \"interest\", \"interest\", \"interest\", \"interest\", \"interest\", \"interest\", \"interest\", \"interfac\", \"interfac\", \"interfac\", \"interfac\", \"interfac\", \"interfac\", \"interfac\", \"interfac\", \"item\", \"item\", \"item\", \"item\", \"item\", \"item\", \"item\", \"item\", \"java\", \"java\", \"java\", \"java\", \"java\", \"java\", \"java\", \"java\", \"javascript\", \"javascript\", \"javascript\", \"javascript\", \"javascript\", \"javascript\", \"javascript\", \"javascript\", \"jqueri\", \"jqueri\", \"jqueri\", \"jqueri\", \"jqueri\", \"jqueri\", \"jqueri\", \"jqueri\", \"know\", \"know\", \"know\", \"know\", \"know\", \"know\", \"know\", \"know\", \"languag\", \"languag\", \"languag\", \"languag\", \"languag\", \"languag\", \"languag\", \"languag\", \"learn\", \"learn\", \"learn\", \"learn\", \"learn\", \"learn\", \"learn\", \"learn\", \"librari\", \"librari\", \"librari\", \"librari\", \"librari\", \"librari\", \"librari\", \"librari\", \"like\", \"like\", \"like\", \"like\", \"like\", \"like\", \"like\", \"like\", \"limit\", \"limit\", \"limit\", \"limit\", \"limit\", \"limit\", \"limit\", \"limit\", \"line\", \"line\", \"line\", \"line\", \"line\", \"line\", \"line\", \"line\", \"link\", \"link\", \"link\", \"link\", \"link\", \"link\", \"link\", \"link\", \"linux\", \"linux\", \"linux\", \"linux\", \"linux\", \"linux\", \"linux\", \"linux\", \"list\", \"list\", \"list\", \"list\", \"list\", \"list\", \"list\", \"list\", \"littl\", \"littl\", \"littl\", \"littl\", \"littl\", \"littl\", \"littl\", \"littl\", \"load\", \"load\", \"load\", \"load\", \"load\", \"load\", \"load\", \"load\", \"local\", \"local\", \"local\", \"local\", \"local\", \"local\", \"local\", \"local\", \"locat\", \"locat\", \"locat\", \"locat\", \"locat\", \"locat\", \"locat\", \"locat\", \"look\", \"look\", \"look\", \"look\", \"look\", \"look\", \"look\", \"look\", \"loop\", \"loop\", \"loop\", \"loop\", \"loop\", \"loop\", \"loop\", \"loop\", \"machin\", \"machin\", \"machin\", \"machin\", \"machin\", \"machin\", \"machin\", \"machin\", \"manag\", \"manag\", \"manag\", \"manag\", \"manag\", \"manag\", \"manag\", \"manag\", \"manual\", \"manual\", \"manual\", \"manual\", \"manual\", \"manual\", \"manual\", \"manual\", \"match\", \"match\", \"match\", \"match\", \"match\", \"match\", \"match\", \"match\", \"memori\", \"memori\", \"memori\", \"memori\", \"memori\", \"memori\", \"memori\", \"memori\", \"messag\", \"messag\", \"messag\", \"messag\", \"messag\", \"messag\", \"messag\", \"messag\", \"method\", \"method\", \"method\", \"method\", \"method\", \"method\", \"method\", \"method\", \"microsoft\", \"microsoft\", \"microsoft\", \"microsoft\", \"microsoft\", \"microsoft\", \"microsoft\", \"microsoft\", \"model\", \"model\", \"model\", \"model\", \"model\", \"model\", \"model\", \"model\", \"modifi\", \"modifi\", \"modifi\", \"modifi\", \"modifi\", \"modifi\", \"modifi\", \"modifi\", \"multipl\", \"multipl\", \"multipl\", \"multipl\", \"multipl\", \"multipl\", \"multipl\", \"multipl\", \"mysql\", \"mysql\", \"mysql\", \"mysql\", \"mysql\", \"mysql\", \"mysql\", \"mysql\", \"name\", \"name\", \"name\", \"name\", \"name\", \"name\", \"name\", \"name\", \"need\", \"need\", \"need\", \"need\", \"need\", \"need\", \"need\", \"need\", \"nofollow\", \"nofollow\", \"nofollow\", \"nofollow\", \"nofollow\", \"nofollow\", \"nofollow\", \"nofollow\", \"noreferr\", \"noreferr\", \"noreferr\", \"noreferr\", \"noreferr\", \"noreferr\", \"noreferr\", \"noreferr\", \"null\", \"null\", \"null\", \"null\", \"null\", \"null\", \"null\", \"null\", \"number\", \"number\", \"number\", \"number\", \"number\", \"number\", \"number\", \"number\", \"object\", \"object\", \"object\", \"object\", \"object\", \"object\", \"object\", \"object\", \"open\", \"open\", \"open\", \"open\", \"open\", \"open\", \"open\", \"open\", \"oper\", \"oper\", \"oper\", \"oper\", \"oper\", \"oper\", \"oper\", \"oper\", \"order\", \"order\", \"order\", \"order\", \"order\", \"order\", \"order\", \"order\", \"output\", \"output\", \"output\", \"output\", \"output\", \"output\", \"output\", \"output\", \"page\", \"page\", \"page\", \"page\", \"page\", \"page\", \"page\", \"page\", \"paramet\", \"paramet\", \"paramet\", \"paramet\", \"paramet\", \"paramet\", \"paramet\", \"paramet\", \"pars\", \"pars\", \"pars\", \"pars\", \"pars\", \"pars\", \"pars\", \"pars\", \"pas\", \"pas\", \"pas\", \"pas\", \"pas\", \"pas\", \"pas\", \"pas\", \"pass\", \"pass\", \"pass\", \"pass\", \"pass\", \"pass\", \"pass\", \"pass\", \"path\", \"path\", \"path\", \"path\", \"path\", \"path\", \"path\", \"path\", \"pattern\", \"pattern\", \"pattern\", \"pattern\", \"pattern\", \"pattern\", \"pattern\", \"pattern\", \"peopl\", \"peopl\", \"peopl\", \"peopl\", \"peopl\", \"peopl\", \"peopl\", \"peopl\", \"perform\", \"perform\", \"perform\", \"perform\", \"perform\", \"perform\", \"perform\", \"perform\", \"possibl\", \"possibl\", \"possibl\", \"possibl\", \"possibl\", \"possibl\", \"possibl\", \"possibl\", \"post\", \"post\", \"post\", \"post\", \"post\", \"post\", \"post\", \"post\", \"practic\", \"practic\", \"practic\", \"practic\", \"practic\", \"practic\", \"practic\", \"practic\", \"print\", \"print\", \"print\", \"print\", \"print\", \"print\", \"print\", \"print\", \"privat\", \"privat\", \"privat\", \"privat\", \"privat\", \"privat\", \"privat\", \"privat\", \"process\", \"process\", \"process\", \"process\", \"process\", \"process\", \"process\", \"process\", \"product\", \"product\", \"product\", \"product\", \"product\", \"product\", \"product\", \"product\", \"program\", \"program\", \"program\", \"program\", \"program\", \"program\", \"program\", \"program\", \"project\", \"project\", \"project\", \"project\", \"project\", \"project\", \"project\", \"project\", \"properti\", \"properti\", \"properti\", \"properti\", \"properti\", \"properti\", \"properti\", \"properti\", \"provid\", \"provid\", \"provid\", \"provid\", \"provid\", \"provid\", \"provid\", \"provid\", \"public\", \"public\", \"public\", \"public\", \"public\", \"public\", \"public\", \"public\", \"python\", \"python\", \"python\", \"python\", \"python\", \"python\", \"python\", \"python\", \"queri\", \"queri\", \"queri\", \"queri\", \"queri\", \"queri\", \"queri\", \"queri\", \"question\", \"question\", \"question\", \"question\", \"question\", \"question\", \"question\", \"question\", \"quick\", \"quick\", \"quick\", \"quick\", \"quick\", \"quick\", \"quick\", \"quick\", \"read\", \"read\", \"read\", \"read\", \"read\", \"read\", \"read\", \"read\", \"real\", \"real\", \"real\", \"real\", \"real\", \"real\", \"real\", \"real\", \"recommend\", \"recommend\", \"recommend\", \"recommend\", \"recommend\", \"recommend\", \"recommend\", \"recommend\", \"remov\", \"remov\", \"remov\", \"remov\", \"remov\", \"remov\", \"remov\", \"remov\", \"request\", \"request\", \"request\", \"request\", \"request\", \"request\", \"request\", \"request\", \"resourc\", \"resourc\", \"resourc\", \"resourc\", \"resourc\", \"resourc\", \"resourc\", \"resourc\", \"respons\", \"respons\", \"respons\", \"respons\", \"respons\", \"respons\", \"respons\", \"respons\", \"result\", \"result\", \"result\", \"result\", \"result\", \"result\", \"result\", \"result\", \"return\", \"return\", \"return\", \"return\", \"return\", \"return\", \"return\", \"return\", \"right\", \"right\", \"right\", \"right\", \"right\", \"right\", \"right\", \"right\", \"run\", \"run\", \"run\", \"run\", \"run\", \"run\", \"run\", \"run\", \"script\", \"script\", \"script\", \"script\", \"script\", \"script\", \"script\", \"script\", \"search\", \"search\", \"search\", \"search\", \"search\", \"search\", \"search\", \"search\", \"second\", \"second\", \"second\", \"second\", \"second\", \"second\", \"second\", \"second\", \"seen\", \"seen\", \"seen\", \"seen\", \"seen\", \"seen\", \"seen\", \"seen\", \"select\", \"select\", \"select\", \"select\", \"select\", \"select\", \"select\", \"select\", \"send\", \"send\", \"send\", \"send\", \"send\", \"send\", \"send\", \"send\", \"server\", \"server\", \"server\", \"server\", \"server\", \"server\", \"server\", \"server\", \"servic\", \"servic\", \"servic\", \"servic\", \"servic\", \"servic\", \"servic\", \"servic\", \"set\", \"set\", \"set\", \"set\", \"set\", \"set\", \"set\", \"set\", \"share\", \"share\", \"share\", \"share\", \"share\", \"share\", \"share\", \"share\", \"show\", \"show\", \"show\", \"show\", \"show\", \"show\", \"show\", \"show\", \"similar\", \"similar\", \"similar\", \"similar\", \"similar\", \"similar\", \"similar\", \"similar\", \"site\", \"site\", \"site\", \"site\", \"site\", \"site\", \"site\", \"site\", \"size\", \"size\", \"size\", \"size\", \"size\", \"size\", \"size\", \"size\", \"small\", \"small\", \"small\", \"small\", \"small\", \"small\", \"small\", \"small\", \"softwar\", \"softwar\", \"softwar\", \"softwar\", \"softwar\", \"softwar\", \"softwar\", \"softwar\", \"solut\", \"solut\", \"solut\", \"solut\", \"solut\", \"solut\", \"solut\", \"solut\", \"sort\", \"sort\", \"sort\", \"sort\", \"sort\", \"sort\", \"sort\", \"sort\", \"sourc\", \"sourc\", \"sourc\", \"sourc\", \"sourc\", \"sourc\", \"sourc\", \"sourc\", \"specifi\", \"specifi\", \"specifi\", \"specifi\", \"specifi\", \"specifi\", \"specifi\", \"specifi\", \"stackoverflow\", \"stackoverflow\", \"stackoverflow\", \"stackoverflow\", \"stackoverflow\", \"stackoverflow\", \"stackoverflow\", \"stackoverflow\", \"start\", \"start\", \"start\", \"start\", \"start\", \"start\", \"start\", \"start\", \"state\", \"state\", \"state\", \"state\", \"state\", \"state\", \"state\", \"state\", \"statement\", \"statement\", \"statement\", \"statement\", \"statement\", \"statement\", \"statement\", \"statement\", \"static\", \"static\", \"static\", \"static\", \"static\", \"static\", \"static\", \"static\", \"store\", \"store\", \"store\", \"store\", \"store\", \"store\", \"store\", \"store\", \"string\", \"string\", \"string\", \"string\", \"string\", \"string\", \"string\", \"string\", \"strong\", \"strong\", \"strong\", \"strong\", \"strong\", \"strong\", \"strong\", \"strong\", \"structur\", \"structur\", \"structur\", \"structur\", \"structur\", \"structur\", \"structur\", \"structur\", \"studio\", \"studio\", \"studio\", \"studio\", \"studio\", \"studio\", \"studio\", \"studio\", \"style\", \"style\", \"style\", \"style\", \"style\", \"style\", \"style\", \"style\", \"support\", \"support\", \"support\", \"support\", \"support\", \"support\", \"support\", \"support\", \"tabl\", \"tabl\", \"tabl\", \"tabl\", \"tabl\", \"tabl\", \"tabl\", \"tabl\", \"task\", \"task\", \"task\", \"task\", \"task\", \"task\", \"task\", \"task\", \"test\", \"test\", \"test\", \"test\", \"test\", \"test\", \"test\", \"test\", \"text\", \"text\", \"text\", \"text\", \"text\", \"text\", \"text\", \"text\", \"thing\", \"thing\", \"thing\", \"thing\", \"thing\", \"thing\", \"thing\", \"thing\", \"think\", \"think\", \"think\", \"think\", \"think\", \"think\", \"think\", \"think\", \"thread\", \"thread\", \"thread\", \"thread\", \"thread\", \"thread\", \"thread\", \"thread\", \"throw\", \"throw\", \"throw\", \"throw\", \"throw\", \"throw\", \"throw\", \"throw\", \"time\", \"time\", \"time\", \"time\", \"time\", \"time\", \"time\", \"time\", \"tool\", \"tool\", \"tool\", \"tool\", \"tool\", \"tool\", \"tool\", \"tool\", \"true\", \"true\", \"true\", \"true\", \"true\", \"true\", \"true\", \"true\", \"type\", \"type\", \"type\", \"type\", \"type\", \"type\", \"type\", \"type\", \"understand\", \"understand\", \"understand\", \"understand\", \"understand\", \"understand\", \"understand\", \"understand\", \"updat\", \"updat\", \"updat\", \"updat\", \"updat\", \"updat\", \"updat\", \"updat\", \"use\", \"use\", \"use\", \"use\", \"use\", \"use\", \"use\", \"use\", \"user\", \"user\", \"user\", \"user\", \"user\", \"user\", \"user\", \"user\", \"valid\", \"valid\", \"valid\", \"valid\", \"valid\", \"valid\", \"valid\", \"valid\", \"valu\", \"valu\", \"valu\", \"valu\", \"valu\", \"valu\", \"valu\", \"valu\", \"variabl\", \"variabl\", \"variabl\", \"variabl\", \"variabl\", \"variabl\", \"variabl\", \"variabl\", \"version\", \"version\", \"version\", \"version\", \"version\", \"version\", \"version\", \"version\", \"view\", \"view\", \"view\", \"view\", \"view\", \"view\", \"view\", \"view\", \"visual\", \"visual\", \"visual\", \"visual\", \"visual\", \"visual\", \"visual\", \"visual\", \"void\", \"void\", \"void\", \"void\", \"void\", \"void\", \"void\", \"void\", \"want\", \"want\", \"want\", \"want\", \"want\", \"want\", \"want\", \"want\", \"websit\", \"websit\", \"websit\", \"websit\", \"websit\", \"websit\", \"websit\", \"websit\", \"wiki\", \"wiki\", \"wiki\", \"wiki\", \"wiki\", \"wiki\", \"wiki\", \"wiki\", \"wikipedia\", \"wikipedia\", \"wikipedia\", \"wikipedia\", \"wikipedia\", \"wikipedia\", \"wikipedia\", \"wikipedia\", \"window\", \"window\", \"window\", \"window\", \"window\", \"window\", \"window\", \"window\", \"wonder\", \"wonder\", \"wonder\", \"wonder\", \"wonder\", \"wonder\", \"wonder\", \"wonder\", \"word\", \"word\", \"word\", \"word\", \"word\", \"word\", \"word\", \"word\", \"work\", \"work\", \"work\", \"work\", \"work\", \"work\", \"work\", \"work\", \"write\", \"write\", \"write\", \"write\", \"write\", \"write\", \"write\", \"write\", \"written\", \"written\", \"written\", \"written\", \"written\", \"written\", \"written\", \"written\"]}, \"R\": 30, \"lambda.step\": 0.01, \"plot.opts\": {\"xlab\": \"PC1\", \"ylab\": \"PC2\"}, \"topic.order\": [1, 5, 6, 2, 7, 4, 3, 8]};\n",
       "\n",
       "function LDAvis_load_lib(url, callback){\n",
       "  var s = document.createElement('script');\n",
       "  s.src = url;\n",
       "  s.async = true;\n",
       "  s.onreadystatechange = s.onload = callback;\n",
       "  s.onerror = function(){console.warn(\"failed to load library \" + url);};\n",
       "  document.getElementsByTagName(\"head\")[0].appendChild(s);\n",
       "}\n",
       "\n",
       "if(typeof(LDAvis) !== \"undefined\"){\n",
       "   // already loaded: just create the visualization\n",
       "   !function(LDAvis){\n",
       "       new LDAvis(\"#\" + \"ldavis_el751621698846771685474586067\", ldavis_el751621698846771685474586067_data);\n",
       "   }(LDAvis);\n",
       "}else if(typeof define === \"function\" && define.amd){\n",
       "   // require.js is available: use it to load d3/LDAvis\n",
       "   require.config({paths: {d3: \"https://d3js.org/d3.v5\"}});\n",
       "   require([\"d3\"], function(d3){\n",
       "      window.d3 = d3;\n",
       "      LDAvis_load_lib(\"https://cdn.jsdelivr.net/gh/bmabey/pyLDAvis@3.4.0/pyLDAvis/js/ldavis.v3.0.0.js\", function(){\n",
       "        new LDAvis(\"#\" + \"ldavis_el751621698846771685474586067\", ldavis_el751621698846771685474586067_data);\n",
       "      });\n",
       "    });\n",
       "}else{\n",
       "    // require.js not available: dynamically load d3 & LDAvis\n",
       "    LDAvis_load_lib(\"https://d3js.org/d3.v5.js\", function(){\n",
       "         LDAvis_load_lib(\"https://cdn.jsdelivr.net/gh/bmabey/pyLDAvis@3.4.0/pyLDAvis/js/ldavis.v3.0.0.js\", function(){\n",
       "                 new LDAvis(\"#\" + \"ldavis_el751621698846771685474586067\", ldavis_el751621698846771685474586067_data);\n",
       "            })\n",
       "         });\n",
       "}\n",
       "</script>"
      ],
      "text/plain": [
       "<IPython.core.display.HTML object>"
      ]
     },
     "metadata": {},
     "output_type": "display_data"
    }
   ],
   "source": [
    "from IPython.display import HTML\n",
    "css_str = '<style> \\\n",
    ".jp-icon-warn0 path {fill: var(--jp-warn-color0);} \\\n",
    ".bp3-button-text path { fill: var(--jp-inverse-layout-color3);} \\\n",
    ".jp-icon-brand0 path { fill: var(--jp-brand-color0);} \\\n",
    "text.terms { fill: #616161;} \\\n",
    "</style>'\n",
    "display(HTML(css_str))\n",
    "\n",
    "%matplotlib inline\n",
    "pyLDAvis.enable_notebook()\n",
    "vis = pyLDAvis.gensim_models.prepare(lda_model, bow_corpus, id2word)\n",
    "pyLDAvis.save_html(vis, 'lda_tfidf.html')\n",
    "display(HTML('lda_tfidf.html'))"
   ]
  },
  {
   "cell_type": "markdown",
   "id": "e8a56e77",
   "metadata": {
    "ExecuteTime": {
     "end_time": "2023-04-27T07:00:27.930696Z",
     "start_time": "2023-04-27T07:00:27.922420Z"
    }
   },
   "source": [
    "* Chaque bulle représente un sujet  \n",
    "* Plus la bulle est grande, plus le pourcentage du nombre de mots dans le corpus concerne ce sujet  \n",
    "* Les barres bleues représentent la fréquence globale de chaque mot dans le corpus  \n",
    "* Si aucun sujet n'est sélectionné, les barres bleues des mots les plus fréquemment utilisés seront affichées  \n",
    "* Les barres rouges indiquent le nombre estimé de fois qu'un terme donné a été généré par un sujet donné  \n",
    "* Plus les bulles sont éloignées les unes des autres, plus elles sont différentes  \n",
    "Par exemple, il est difficile de faire la différence entre les sujets 1 et 4\n",
    "\n",
    "**Un bon modèle de sujet aura de 'grosses' bulles qui ne se chevauchent pas, dispersées dans le graphique** "
   ]
  },
  {
   "cell_type": "markdown",
   "id": "d8341e45",
   "metadata": {},
   "source": [
    "## Sérialisation modèle et dictionnaire"
   ]
  },
  {
   "cell_type": "code",
   "execution_count": 99,
   "id": "c2a81c2f",
   "metadata": {
    "ExecuteTime": {
     "end_time": "2023-05-16T10:05:10.939313Z",
     "start_time": "2023-05-16T10:05:10.919321Z"
    }
   },
   "outputs": [],
   "source": [
    "#filename_model = 'model/lda_model.pkl'\n",
    "#pickle.dump(lda_model, open(filename_model, 'wb'))\n",
    "#\n",
    "#filename_dictionary = 'model/dictionary.pkl'\n",
    "#pickle.dump(id2word, open(filename_dictionary, 'wb'))"
   ]
  },
  {
   "cell_type": "code",
   "execution_count": 72,
   "id": "2c58378d",
   "metadata": {
    "ExecuteTime": {
     "end_time": "2023-05-12T08:00:34.281740Z",
     "start_time": "2023-05-12T08:00:34.265743Z"
    }
   },
   "outputs": [],
   "source": [
    "#joblib.dump(lda_model, \"model/joblib/lda_model.gz\")\n",
    "#joblib.dump(id2word, \"model/joblib/dictionary.gz\")"
   ]
  },
  {
   "cell_type": "markdown",
   "id": "84380561",
   "metadata": {},
   "source": [
    "## Fonction de prédiction"
   ]
  },
  {
   "cell_type": "code",
   "execution_count": 88,
   "id": "144efc23",
   "metadata": {
    "ExecuteTime": {
     "end_time": "2023-05-16T10:01:37.187862Z",
     "start_time": "2023-05-16T10:01:37.176091Z"
    }
   },
   "outputs": [],
   "source": [
    "def predict_unsupervised_tags(text):\n",
    "    \"\"\"\n",
    "    Predict tags of a preprocessed text\n",
    "    \n",
    "    Args:\n",
    "        text(list): preprocessed text\n",
    "        \n",
    "    Returns:\n",
    "        relevant_tags(list): list of tags\n",
    "    \"\"\"\n",
    "    \n",
    "    corpus_new = id2word.doc2bow(text)\n",
    "    topics = lda_model.get_document_topics(corpus_new)\n",
    "    \n",
    "    #find most relevant topic according to probability\n",
    "    relevant_topic = topics[0][0]\n",
    "    relevant_topic_prob = topics[0][1]\n",
    "    \n",
    "    for i in range(len(topics)):\n",
    "        if topics[i][1] > relevant_topic_prob:\n",
    "            relevant_topic = topics[i][0]\n",
    "            relevant_topic_prob = topics[i][1]\n",
    "            \n",
    "    #retrieve associated to topic tags present in submited text\n",
    "    potential_tags = lda_model.get_topic_terms(topicid=relevant_topic, topn=20)\n",
    "    \n",
    "    relevant_tags = [id2word[tag[0]] for tag in potential_tags if id2word[tag[0]] in text]\n",
    "    \n",
    "    return relevant_tags"
   ]
  },
  {
   "cell_type": "code",
   "execution_count": 85,
   "id": "0b82e90e",
   "metadata": {
    "ExecuteTime": {
     "end_time": "2023-05-16T10:00:27.322671Z",
     "start_time": "2023-05-16T10:00:26.589665Z"
    }
   },
   "outputs": [
    {
     "data": {
      "text/html": [
       "<div>\n",
       "<style scoped>\n",
       "    .dataframe tbody tr th:only-of-type {\n",
       "        vertical-align: middle;\n",
       "    }\n",
       "\n",
       "    .dataframe tbody tr th {\n",
       "        vertical-align: top;\n",
       "    }\n",
       "\n",
       "    .dataframe thead th {\n",
       "        text-align: right;\n",
       "    }\n",
       "</style>\n",
       "<table border=\"1\" class=\"dataframe\">\n",
       "  <thead>\n",
       "    <tr style=\"text-align: right;\">\n",
       "      <th></th>\n",
       "      <th>Post</th>\n",
       "      <th>splitted_text</th>\n",
       "      <th>splitted_tags</th>\n",
       "    </tr>\n",
       "  </thead>\n",
       "  <tbody>\n",
       "    <tr>\n",
       "      <th>0</th>\n",
       "      <td>How to convert Decimal to Double in C#? &lt;p&gt;I w...</td>\n",
       "      <td>[convert, decimal, assign, opacity, value, opa...</td>\n",
       "      <td>[floating, point, type, conversion, double, de...</td>\n",
       "    </tr>\n",
       "    <tr>\n",
       "      <th>1</th>\n",
       "      <td>Why did the width collapse in the percentage w...</td>\n",
       "      <td>[width, collapse, percentage, width, child, el...</td>\n",
       "      <td>[html, internet, explorer]</td>\n",
       "    </tr>\n",
       "    <tr>\n",
       "      <th>2</th>\n",
       "      <td>How do I calculate someone's age based on a Da...</td>\n",
       "      <td>[calculate, someone, birthday, person, calculate]</td>\n",
       "      <td>[datetime]</td>\n",
       "    </tr>\n",
       "  </tbody>\n",
       "</table>\n",
       "</div>"
      ],
      "text/plain": [
       "                                                Post  \\\n",
       "0  How to convert Decimal to Double in C#? <p>I w...   \n",
       "1  Why did the width collapse in the percentage w...   \n",
       "2  How do I calculate someone's age based on a Da...   \n",
       "\n",
       "                                       splitted_text  \\\n",
       "0  [convert, decimal, assign, opacity, value, opa...   \n",
       "1  [width, collapse, percentage, width, child, el...   \n",
       "2  [calculate, someone, birthday, person, calculate]   \n",
       "\n",
       "                                       splitted_tags  \n",
       "0  [floating, point, type, conversion, double, de...  \n",
       "1                         [html, internet, explorer]  \n",
       "2                                         [datetime]  "
      ]
     },
     "execution_count": 85,
     "metadata": {},
     "output_type": "execute_result"
    }
   ],
   "source": [
    "data = pd.read_pickle(\"./data/cleaned_corpus.pkl\")\n",
    "data.head(3)"
   ]
  },
  {
   "cell_type": "code",
   "execution_count": 98,
   "id": "8829e385",
   "metadata": {
    "ExecuteTime": {
     "end_time": "2023-05-16T10:03:53.807348Z",
     "start_time": "2023-05-16T10:03:53.772665Z"
    }
   },
   "outputs": [
    {
     "name": "stdout",
     "output_type": "stream",
     "text": [
      "tag_true = 10.0%\n",
      "tag_false = 76.67%\n",
      "tag_empty = 13.33%\n"
     ]
    }
   ],
   "source": [
    "pred_list = []\n",
    "true_list = []\n",
    "for i in range(60):\n",
    "    pred = predict_unsupervised_tags(data.loc[i,'splitted_text'])\n",
    "    pred_list.append(pred)\n",
    "    true_list.append(data.loc[i, ('splitted_tags')])\n",
    "    \n",
    "tags_values = {}\n",
    "for i in range(0, len(pred_list)):\n",
    "    if len(pred_list[i]) == 0:\n",
    "        tags_values[i] = -1\n",
    "    else:\n",
    "        for tag in pred_list[i]:\n",
    "            if tag in true_list[i]:\n",
    "                tags_values[i] = 1\n",
    "            else:\n",
    "                tags_values[i] = 0\n",
    "                break\n",
    "tag_empty = 0\n",
    "tag_false = 0 \n",
    "tag_true = 0\n",
    "for val in tags_values.values():\n",
    "    if val == -1:\n",
    "        tag_empty = tag_empty + 1\n",
    "    if val == 0:\n",
    "        tag_false = tag_false + 1\n",
    "    if val == 1:\n",
    "        tag_true = tag_true + 1\n",
    "        \n",
    "s = tag_empty + tag_false + tag_true\n",
    "\n",
    "print(f\"tag_true = {np.round(tag_true / s *100, 2)}%\")\n",
    "print(f\"tag_false = {np.round(tag_false / s *100, 2)}%\")\n",
    "print(f\"tag_empty = {np.round(tag_empty / s *100, 2)}%\")"
   ]
  },
  {
   "cell_type": "markdown",
   "id": "81ef6ff1",
   "metadata": {},
   "source": [
    "## Fonction de vérification"
   ]
  },
  {
   "cell_type": "code",
   "execution_count": 100,
   "id": "f18d63a3",
   "metadata": {
    "ExecuteTime": {
     "end_time": "2023-05-16T10:08:30.110707Z",
     "start_time": "2023-05-16T10:08:30.094316Z"
    }
   },
   "outputs": [],
   "source": [
    "def check_tag_predction(original_text, original_tags, preprocessed_text, supervised_model):\n",
    "    \"\"\"\n",
    "    Check original tags vs predicted tags for a post.\n",
    "    \n",
    "    Args:\n",
    "        post(list) : original text\n",
    "        original_tags(list) : preprocessed_tags\n",
    "    \"\"\"\n",
    "    \n",
    "    predicted_supervised_tags = predict_supervised_tags(supervised_model, mlb, preprocessed_text)\n",
    "    \n",
    "    predicted_unsupervised_tags = predict_unsupervised_tags(preprocessed_text)\n",
    "        \n",
    "    #print(\"Publication originale: \\n\")\n",
    "    #print(f\"{original_text}\")\n",
    "    #print(\"\\n\")\n",
    "    print(f\"Liste des tags pré-traités utilisés par l'utilisateur: {original_tags}\")\n",
    "    print(\"\\n\")\n",
    "    print(f\"Liste des tags prédits par le modèle supervisé: {predicted_supervised_tags}\")\n",
    "    print(\"\\n\")\n",
    "    print(f\"Liste des tags prédits par le modèle non supervisé: {predicted_unsupervised_tags}\")\n",
    "\n",
    "    print(\"Test des 10 premiers documents du corpus\\n\")\n"
   ]
  },
  {
   "cell_type": "code",
   "execution_count": 62,
   "id": "9ba43edd",
   "metadata": {
    "ExecuteTime": {
     "end_time": "2023-05-14T19:14:54.424795Z",
     "start_time": "2023-05-14T19:14:54.415563Z"
    }
   },
   "outputs": [
    {
     "data": {
      "text/plain": [
       "Index(['Post', 'splitted_text', 'splitted_tags'], dtype='object')"
      ]
     },
     "execution_count": 62,
     "metadata": {},
     "output_type": "execute_result"
    }
   ],
   "source": [
    "data.columns"
   ]
  },
  {
   "cell_type": "code",
   "execution_count": 101,
   "id": "0f2d451f",
   "metadata": {
    "ExecuteTime": {
     "end_time": "2023-05-16T10:08:39.490761Z",
     "start_time": "2023-05-16T10:08:39.253672Z"
    }
   },
   "outputs": [
    {
     "name": "stdout",
     "output_type": "stream",
     "text": [
      "Test des 10 premiers documents du corpus\n",
      "\n",
      "Document 0:\n",
      "\n",
      "\n",
      "Liste des tags pré-traités utilisés par l'utilisateur: ['floating', 'point', 'type', 'conversion', 'double', 'decimal']\n",
      "\n",
      "\n",
      "Liste des tags prédits par le modèle supervisé: []\n",
      "\n",
      "\n",
      "Liste des tags prédits par le modèle non supervisé: ['type', 'convert']\n",
      "Test des 10 premiers documents du corpus\n",
      "\n",
      "----------------------------------------------------------------------------------------------------\n",
      "\n",
      "Document 1:\n",
      "\n",
      "\n",
      "Liste des tags pré-traités utilisés par l'utilisateur: ['html', 'internet', 'explorer']\n",
      "\n",
      "\n",
      "Liste des tags prédits par le modèle supervisé: []\n",
      "\n",
      "\n",
      "Liste des tags prédits par le modèle non supervisé: ['element']\n",
      "Test des 10 premiers documents du corpus\n",
      "\n",
      "----------------------------------------------------------------------------------------------------\n",
      "\n",
      "Document 2:\n",
      "\n",
      "\n",
      "Liste des tags pré-traités utilisés par l'utilisateur: ['datetime']\n",
      "\n",
      "\n",
      "Liste des tags prédits par le modèle supervisé: []\n",
      "\n",
      "\n",
      "Liste des tags prédits par le modèle non supervisé: []\n",
      "Test des 10 premiers documents du corpus\n",
      "\n",
      "----------------------------------------------------------------------------------------------------\n",
      "\n",
      "Document 3:\n",
      "\n",
      "\n",
      "Liste des tags pré-traités utilisés par l'utilisateur: ['datetime', 'time', 'datediff', 'relative', 'time', 'span']\n",
      "\n",
      "\n",
      "Liste des tags prédits par le modèle supervisé: []\n",
      "\n",
      "\n",
      "Liste des tags prédits par le modèle non supervisé: ['time']\n",
      "Test des 10 premiers documents du corpus\n",
      "\n",
      "----------------------------------------------------------------------------------------------------\n",
      "\n",
      "Document 4:\n",
      "\n",
      "\n",
      "Liste des tags pré-traités utilisés par l'utilisateur: ['html', 'browser', 'timezone', 'user', 'agent', 'timezone', 'offset']\n",
      "\n",
      "\n",
      "Liste des tags prédits par le modèle supervisé: []\n",
      "\n",
      "\n",
      "Liste des tags prédits par le modèle non supervisé: ['server', 'user']\n",
      "Test des 10 premiers documents du corpus\n",
      "\n",
      "----------------------------------------------------------------------------------------------------\n",
      "\n",
      "Document 5:\n",
      "\n",
      "\n",
      "Liste des tags pré-traités utilisés par l'utilisateur: ['math']\n",
      "\n",
      "\n",
      "Liste des tags prédits par le modèle supervisé: []\n",
      "\n",
      "\n",
      "Liste des tags prédits par le modèle non supervisé: []\n",
      "Test des 10 premiers documents du corpus\n",
      "\n",
      "----------------------------------------------------------------------------------------------------\n",
      "\n",
      "Document 6:\n",
      "\n",
      "\n",
      "Liste des tags pré-traités utilisés par l'utilisateur: ['linq', 'service']\n",
      "\n",
      "\n",
      "Liste des tags prédits par le modèle supervisé: []\n",
      "\n",
      "\n",
      "Liste des tags prédits par le modèle non supervisé: ['return']\n",
      "Test des 10 premiers documents du corpus\n",
      "\n",
      "----------------------------------------------------------------------------------------------------\n",
      "\n",
      "Document 7:\n",
      "\n",
      "\n",
      "Liste des tags pré-traités utilisés par l'utilisateur: ['mysql', 'database', 'binary', 'data', 'data', 'storage']\n",
      "\n",
      "\n",
      "Liste des tags prédits par le modèle supervisé: ['mysql']\n",
      "\n",
      "\n",
      "Liste des tags prédits par le modèle non supervisé: ['mysql']\n",
      "Test des 10 premiers documents du corpus\n",
      "\n",
      "----------------------------------------------------------------------------------------------------\n",
      "\n",
      "Document 8:\n",
      "\n",
      "\n",
      "Liste des tags pré-traités utilisés par l'utilisateur: ['performance', 'algorithm', 'language', 'agnostic', 'unix']\n",
      "\n",
      "\n",
      "Liste des tags prédits par le modèle supervisé: []\n",
      "\n",
      "\n",
      "Liste des tags prédits par le modèle non supervisé: ['script', 'program']\n",
      "Test des 10 premiers documents du corpus\n",
      "\n",
      "----------------------------------------------------------------------------------------------------\n",
      "\n",
      "Document 9:\n",
      "\n",
      "\n",
      "Liste des tags pré-traités utilisés par l'utilisateur: ['mysql', 'database', 'trigger']\n",
      "\n",
      "\n",
      "Liste des tags prédits par le modèle supervisé: ['mysql']\n",
      "\n",
      "\n",
      "Liste des tags prédits par le modèle non supervisé: ['error']\n",
      "Test des 10 premiers documents du corpus\n",
      "\n",
      "----------------------------------------------------------------------------------------------------\n",
      "\n"
     ]
    }
   ],
   "source": [
    "supervised_model = pd.read_pickle('model/supervised_model.pkl')\n",
    "print(\"Test des 10 premiers documents du corpus\\n\")\n",
    "for i in range(10):\n",
    "    print(f\"Document {i}:\")\n",
    "    print(\"\\n\")\n",
    "    check_tag_predction(data.loc[i,'Post'],\n",
    "                        data.loc[i,'splitted_tags'],\n",
    "                        data.loc[i,'splitted_text'],\n",
    "                    supervised_model)\n",
    "    print(\"-\"*100 + \"\\n\")"
   ]
  },
  {
   "cell_type": "markdown",
   "id": "a6056167",
   "metadata": {
    "ExecuteTime": {
     "end_time": "2023-04-27T07:15:24.322868Z",
     "start_time": "2023-04-27T07:15:23.095487Z"
    }
   },
   "source": [
    "# Conclusion"
   ]
  },
  {
   "attachments": {
    "image-2.png": {
     "image/png": "[encoded data removed]"
    }
   },
   "cell_type": "markdown",
   "id": "0432fa7d",
   "metadata": {},
   "source": [
    "![image-2.png](attachment:image-2.png)"
   ]
  },
  {
   "cell_type": "markdown",
   "id": "5bed3318",
   "metadata": {},
   "source": [
    "Les seuls indicateurs de performance communs aux modèles supervisés et non supervisés sont:\n",
    "- **time_score**\n",
    "- **tag_true**: parmi les tags choisis par l'utilisateur, au moins 1 tag prédit est juste\n",
    "- **tag_false**: tous les tags prédits sont différents des tags utilisateurs\n",
    "- **tag_empty**: aucun tag n'est prédit\n",
    "\n",
    "\n",
    "Nous constatons:\n",
    "* Une différence nette dans le temps de traitement (time_score), avantage au modèle supervisé (25 secondes vs 284)\n",
    "* Des performances moyennes dans les prévisions justes (tag_true) avec un avantage pour le modèle supervisé (22% vs 10)\n",
    "* Les erreurs de prédiction (somme des 'tag_false' et 'tag_empty') sont plus nombreuses avec la modèle non supervisé (90% vs 78)\n",
    "* Le modèle supervisé prédit peu de tag faux (tag_false) mais beaucoup de tags vides (tag_empty) alors que le modèle non supervisé fait le contraire\n",
    "\n",
    "Au-delà des prédictions, il s’avère que l’approche non supervisée est soumise à moins de contraintes que l’approche supervisée  \n",
    "\n",
    "En effet le modèle supervisé nécessite un travail plus important sur le dimensionnement des données et leur pré-traitement avant entrainement  \n",
    "\n",
    "De plus l'approche supervisée nécessite de maintenir plus de ressources (modèle de PCA,  modèle de vectorisation des tags, SVM)  \n",
    "que l’approche non supervisée (modèle LDA et vocabulary)\n",
    "\n",
    "\n",
    "**Pour ces raisons, et afin de maximaliser les prévisions justes, nous choisissons une utilisation complémentaire de ces modèles pour l'API**"
   ]
  }
 ],
 "metadata": {
  "hide_input": false,
  "kernelspec": {
   "display_name": "Python 3 (ipykernel)",
   "language": "python",
   "name": "python3"
  },
  "language_info": {
   "codemirror_mode": {
    "name": "ipython",
    "version": 3
   },
   "file_extension": ".py",
   "mimetype": "text/x-python",
   "name": "python",
   "nbconvert_exporter": "python",
   "pygments_lexer": "ipython3",
   "version": "3.9.16"
  },
  "toc": {
   "base_numbering": 1,
   "nav_menu": {},
   "number_sections": true,
   "sideBar": true,
   "skip_h1_title": false,
   "title_cell": "Table of Contents",
   "title_sidebar": "Contents",
   "toc_cell": true,
   "toc_position": {
    "height": "calc(100% - 180px)",
    "left": "10px",
    "top": "150px",
    "width": "277.997px"
   },
   "toc_section_display": true,
   "toc_window_display": true
  }
 },
 "nbformat": 4,
 "nbformat_minor": 5
}

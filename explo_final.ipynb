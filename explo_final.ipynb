{
 "cells": [
  {
   "cell_type": "markdown",
   "id": "15a70509",
   "metadata": {
    "toc": true
   },
   "source": [
    "<h1>Table of Contents<span class=\"tocSkip\"></span></h1>\n",
    "<div class=\"toc\"><ul class=\"toc-item\"><li><span><a href=\"#Librairies\" data-toc-modified-id=\"Librairies-1\"><span class=\"toc-item-num\">1&nbsp;&nbsp;</span>Librairies</a></span></li><li><span><a href=\"#Préparation-data\" data-toc-modified-id=\"Préparation-data-2\"><span class=\"toc-item-num\">2&nbsp;&nbsp;</span>Préparation data</a></span><ul class=\"toc-item\"><li><span><a href=\"#Chargement-des-données\" data-toc-modified-id=\"Chargement-des-données-2.1\"><span class=\"toc-item-num\">2.1&nbsp;&nbsp;</span>Chargement des données</a></span></li><li><span><a href=\"#Fusion--'Title'-et-'Body'\" data-toc-modified-id=\"Fusion--'Title'-et-'Body'-2.2\"><span class=\"toc-item-num\">2.2&nbsp;&nbsp;</span>Fusion  'Title' et 'Body'</a></span></li><li><span><a href=\"#Retrait-des-balises-html\" data-toc-modified-id=\"Retrait-des-balises-html-2.3\"><span class=\"toc-item-num\">2.3&nbsp;&nbsp;</span>Retrait des balises html</a></span></li><li><span><a href=\"#Nettoyage-text\" data-toc-modified-id=\"Nettoyage-text-2.4\"><span class=\"toc-item-num\">2.4&nbsp;&nbsp;</span>Nettoyage text</a></span></li><li><span><a href=\"#Fonction-de-calcul-de-fréquences\" data-toc-modified-id=\"Fonction-de-calcul-de-fréquences-2.5\"><span class=\"toc-item-num\">2.5&nbsp;&nbsp;</span>Fonction de calcul de fréquences</a></span></li><li><span><a href=\"#Tokenisation\" data-toc-modified-id=\"Tokenisation-2.6\"><span class=\"toc-item-num\">2.6&nbsp;&nbsp;</span>Tokenisation</a></span></li><li><span><a href=\"#POS-tagging\" data-toc-modified-id=\"POS-tagging-2.7\"><span class=\"toc-item-num\">2.7&nbsp;&nbsp;</span>POS tagging</a></span></li><li><span><a href=\"#Lemmatisation\" data-toc-modified-id=\"Lemmatisation-2.8\"><span class=\"toc-item-num\">2.8&nbsp;&nbsp;</span>Lemmatisation</a></span></li><li><span><a href=\"#Filtrage-des-documents-vides\" data-toc-modified-id=\"Filtrage-des-documents-vides-2.9\"><span class=\"toc-item-num\">2.9&nbsp;&nbsp;</span>Filtrage des documents vides</a></span></li></ul></li><li><span><a href=\"#Sauvegarde-des-données\" data-toc-modified-id=\"Sauvegarde-des-données-3\"><span class=\"toc-item-num\">3&nbsp;&nbsp;</span>Sauvegarde des données</a></span></li><li><span><a href=\"#Analyses\" data-toc-modified-id=\"Analyses-4\"><span class=\"toc-item-num\">4&nbsp;&nbsp;</span>Analyses</a></span></li></ul></div>"
   ]
  },
  {
   "cell_type": "markdown",
   "id": "8a0c27d7",
   "metadata": {},
   "source": [
    "# Librairies"
   ]
  },
  {
   "cell_type": "code",
   "execution_count": 11,
   "id": "b63d8db7",
   "metadata": {
    "ExecuteTime": {
     "end_time": "2023-05-05T07:48:36.645921Z",
     "start_time": "2023-05-05T07:48:36.579047Z"
    }
   },
   "outputs": [
    {
     "name": "stdout",
     "output_type": "stream",
     "text": [
      "Python 3.9.16\n",
      "Version des librairies utilisées :\n",
      "NumPy                 : 1.21.4\n",
      "Pandas                : 1.5.3\n",
      "Python                : 3.9.16 (main, Mar  8 2023, 10:39:24) [MSC v.1916 64 bit (AMD64)]\n",
      "Matplotlib            : 3.7.1\n",
      "Seaborn               : 0.12.2\n"
     ]
    }
   ],
   "source": [
    "import pandas as pd\n",
    "import seaborn as sns\n",
    "import matplotlib.pyplot as plt\n",
    "import numpy as np\n",
    "import os, shutil\n",
    "\n",
    "\n",
    "from bs4 import BeautifulSoup \n",
    "import nltk\n",
    "#from nltk.corpus import stopwords \n",
    "#from nltk.stem.porter import PorterStemmer\n",
    "import re\n",
    "import pickle\n",
    "from collections import Counter\n",
    "import logging\n",
    "\n",
    "# Import des librairies\n",
    "\n",
    "#import nltk\n",
    "#import pickle\n",
    "#import time\n",
    "#from sklearn import cluster, metrics\n",
    "#from sklearn import manifold, decomposition\n",
    "\n",
    "#\n",
    "#import re\n",
    "\n",
    "from wordcloud import WordCloud\n",
    "\n",
    "logging.disable(logging.WARNING) # disable WARNING, INFO and DEBUG logging everywhere\n",
    "\n",
    "# mes fonctions\n",
    "path2 = os.getcwd()\n",
    "path1 = 'C:\\\\Users\\\\clsab\\\\noteBooks\\\\utils_ycs'\n",
    "shutil.copy(path1+'\\\\YCS_functions.py', path2)\n",
    "from YCS_functions import *\n",
    "\n",
    "# Versions\n",
    "!python --version\n",
    "import sys\n",
    "import matplotlib as mpl\n",
    "\n",
    "print('Version des librairies utilisées :')\n",
    "\n",
    "print('NumPy                 : ' + np.version.full_version)\n",
    "print('Pandas                : ' + pd.__version__)\n",
    "print('Python                : ' + sys.version)\n",
    "print('Matplotlib            : ' + mpl.__version__)\n",
    "print('Seaborn               : ' + sns.__version__)\n",
    "#%pycodestyle_on"
   ]
  },
  {
   "cell_type": "markdown",
   "id": "4a12f1de",
   "metadata": {},
   "source": [
    "# Préparation data"
   ]
  },
  {
   "cell_type": "markdown",
   "id": "7c0a5f4e",
   "metadata": {},
   "source": [
    "## Chargement des données"
   ]
  },
  {
   "cell_type": "code",
   "execution_count": 12,
   "id": "e8731468",
   "metadata": {
    "ExecuteTime": {
     "end_time": "2023-05-05T07:48:37.063727Z",
     "start_time": "2023-05-05T07:48:36.649519Z"
    }
   },
   "outputs": [],
   "source": [
    "data = pd.read_csv('data/QueryResults.csv', encoding='latin-1')"
   ]
  },
  {
   "cell_type": "code",
   "execution_count": 13,
   "id": "5c6d7e97",
   "metadata": {
    "ExecuteTime": {
     "end_time": "2023-05-05T07:48:37.079818Z",
     "start_time": "2023-05-05T07:48:37.065756Z"
    }
   },
   "outputs": [
    {
     "data": {
      "text/html": [
       "<div>\n",
       "<style scoped>\n",
       "    .dataframe tbody tr th:only-of-type {\n",
       "        vertical-align: middle;\n",
       "    }\n",
       "\n",
       "    .dataframe tbody tr th {\n",
       "        vertical-align: top;\n",
       "    }\n",
       "\n",
       "    .dataframe thead th {\n",
       "        text-align: right;\n",
       "    }\n",
       "</style>\n",
       "<table border=\"1\" class=\"dataframe\">\n",
       "  <thead>\n",
       "    <tr style=\"text-align: right;\">\n",
       "      <th></th>\n",
       "      <th>Title</th>\n",
       "      <th>Body</th>\n",
       "      <th>Tags</th>\n",
       "    </tr>\n",
       "  </thead>\n",
       "  <tbody>\n",
       "    <tr>\n",
       "      <th>0</th>\n",
       "      <td>How to convert Decimal to Double in C#?</td>\n",
       "      <td>&lt;p&gt;I want to assign the decimal variable &amp;quot...</td>\n",
       "      <td>&lt;c#&gt;&lt;floating-point&gt;&lt;type-conversion&gt;&lt;double&gt;&lt;...</td>\n",
       "    </tr>\n",
       "    <tr>\n",
       "      <th>1</th>\n",
       "      <td>Why did the width collapse in the percentage w...</td>\n",
       "      <td>&lt;p&gt;I have an absolutely positioned &lt;code&gt;div&lt;/...</td>\n",
       "      <td>&lt;html&gt;&lt;css&gt;&lt;internet-explorer-7&gt;</td>\n",
       "    </tr>\n",
       "    <tr>\n",
       "      <th>2</th>\n",
       "      <td>How do I calculate someone's age based on a Da...</td>\n",
       "      <td>&lt;p&gt;Given a &lt;code&gt;DateTime&lt;/code&gt; representing ...</td>\n",
       "      <td>&lt;c#&gt;&lt;.net&gt;&lt;datetime&gt;</td>\n",
       "    </tr>\n",
       "  </tbody>\n",
       "</table>\n",
       "</div>"
      ],
      "text/plain": [
       "                                               Title  \\\n",
       "0            How to convert Decimal to Double in C#?   \n",
       "1  Why did the width collapse in the percentage w...   \n",
       "2  How do I calculate someone's age based on a Da...   \n",
       "\n",
       "                                                Body  \\\n",
       "0  <p>I want to assign the decimal variable &quot...   \n",
       "1  <p>I have an absolutely positioned <code>div</...   \n",
       "2  <p>Given a <code>DateTime</code> representing ...   \n",
       "\n",
       "                                                Tags  \n",
       "0  <c#><floating-point><type-conversion><double><...  \n",
       "1                   <html><css><internet-explorer-7>  \n",
       "2                               <c#><.net><datetime>  "
      ]
     },
     "execution_count": 13,
     "metadata": {},
     "output_type": "execute_result"
    }
   ],
   "source": [
    "# on observe\n",
    "data.head(3)"
   ]
  },
  {
   "cell_type": "markdown",
   "id": "a6b0f294",
   "metadata": {},
   "source": [
    "## Fusion  'Title' et 'Body'"
   ]
  },
  {
   "cell_type": "markdown",
   "id": "4102c552",
   "metadata": {},
   "source": [
    "Nous allons concatener toutes les saisies de l'utilisateur en une seule variable et créer les listes  'corpus' et 'tags'"
   ]
  },
  {
   "cell_type": "code",
   "execution_count": 14,
   "id": "b30f0e34",
   "metadata": {
    "ExecuteTime": {
     "end_time": "2023-05-05T07:48:37.139139Z",
     "start_time": "2023-05-05T07:48:37.083811Z"
    }
   },
   "outputs": [
    {
     "name": "stdout",
     "output_type": "stream",
     "text": [
      "Nombre d'occurences dans la liste 'corpus': 46502\n",
      "Nombre d'occurences dans la liste 'tags': 46502\n",
      "CPU times: total: 31.2 ms\n",
      "Wall time: 40 ms\n"
     ]
    }
   ],
   "source": [
    "%%time\n",
    "# fusion colonne 'Title' et 'Body'\n",
    "data['Post'] = data['Title'] + ' ' + data['Body']\n",
    "\n",
    "# on crée les listes 'corpus et 'tags'\n",
    "corpus = data['Post'].to_list()\n",
    "tags = data['Tags'].to_list()\n",
    "\n",
    "# suppression colonnes 'Tile' et 'Body'\n",
    "data.drop(columns=['Title', 'Body'],\n",
    "         inplace=True)\n",
    "\n",
    "print(f\"Nombre d'occurences dans la liste 'corpus': {len(corpus)}\")\n",
    "print(f\"Nombre d'occurences dans la liste 'tags': {len(tags)}\")"
   ]
  },
  {
   "cell_type": "markdown",
   "id": "efcaf9b7",
   "metadata": {},
   "source": [
    "## Retrait des balises html"
   ]
  },
  {
   "cell_type": "markdown",
   "id": "30dd1ff2",
   "metadata": {},
   "source": [
    "Nous allons retirer les balises html dans la liste 'corpus'"
   ]
  },
  {
   "cell_type": "code",
   "execution_count": 15,
   "id": "3df0b27d",
   "metadata": {
    "ExecuteTime": {
     "end_time": "2023-05-05T07:48:37.152046Z",
     "start_time": "2023-05-05T07:48:37.141167Z"
    }
   },
   "outputs": [],
   "source": [
    "def drop_html(text):\n",
    "    \"\"\"\n",
    "    Retrait des balises html\n",
    "    Args: text(String)\n",
    "    Return: cleaned String\n",
    "    \"\"\"\n",
    "    import lxml\n",
    "    import html5lib\n",
    "    from bs4 import BeautifulSoup\n",
    " \n",
    "    soup = BeautifulSoup(text, \"html5lib\")\n",
    "    for elt in soup(['style', 'script']):\n",
    "            elt.decompose()\n",
    "    \n",
    "    return ' '.join(soup.stripped_strings)"
   ]
  },
  {
   "cell_type": "code",
   "execution_count": 16,
   "id": "daccbb19",
   "metadata": {
    "ExecuteTime": {
     "end_time": "2023-05-05T07:49:08.390160Z",
     "start_time": "2023-05-05T07:48:37.155595Z"
    }
   },
   "outputs": [
    {
     "name": "stdout",
     "output_type": "stream",
     "text": [
      "Nombre d'occurences dans la liste 'corpus': 46502\n",
      "Nombre d'occurences dans la liste 'tags': 46502\n",
      "CPU times: total: 31.1 s\n",
      "Wall time: 31.2 s\n"
     ]
    }
   ],
   "source": [
    "%%time\n",
    "# clean html in corpus list\n",
    "corpus = [drop_html(text) for text in corpus]\n",
    "\n",
    "print(f\"Nombre d'occurences dans la liste 'corpus': {len(corpus)}\")\n",
    "print(f\"Nombre d'occurences dans la liste 'tags': {len(tags)}\")\n"
   ]
  },
  {
   "cell_type": "markdown",
   "id": "c00ed26c",
   "metadata": {},
   "source": [
    "## Nettoyage text"
   ]
  },
  {
   "cell_type": "markdown",
   "id": "eabac49e",
   "metadata": {},
   "source": [
    "Pour les analyses futures, nous allons effectuer le traitements suivants:\n",
    "* Tout en minuscules\n",
    "* Filtrer sur les textes de plus de 3 caractères"
   ]
  },
  {
   "cell_type": "code",
   "execution_count": 18,
   "id": "0bca3bfd",
   "metadata": {
    "ExecuteTime": {
     "end_time": "2023-05-05T07:49:08.426358Z",
     "start_time": "2023-05-05T07:49:08.413898Z"
    }
   },
   "outputs": [],
   "source": [
    "def text_cleaning(text):\n",
    "    \"\"\"\n",
    "    Retrait figures, punctuation,\n",
    "    filtre sur les mots de plus de 3 lettres,\n",
    "    tout en minuscules\n",
    "    \n",
    "    Args: text(String)\n",
    "    Return: result(string): Cleaned text\n",
    "    \"\"\"\n",
    "    import re\n",
    "    \n",
    "    pattern = re.compile(r'[^\\w]|[\\d_]')\n",
    "    \n",
    "    try: \n",
    "        result = re.sub(pattern,\" \",\n",
    "                     text).lower()\n",
    "    except TypeError:\n",
    "        return text\n",
    "    \n",
    "    result = result.split(\" \")\n",
    "    result = list(filter(lambda x: len(x)>3,\n",
    "                      result))\n",
    "    result = \" \".join(result)\n",
    "    \n",
    "    return result"
   ]
  },
  {
   "cell_type": "code",
   "execution_count": 19,
   "id": "a978a182",
   "metadata": {
    "ExecuteTime": {
     "end_time": "2023-05-05T07:49:12.270344Z",
     "start_time": "2023-05-05T07:49:08.429415Z"
    }
   },
   "outputs": [
    {
     "name": "stdout",
     "output_type": "stream",
     "text": [
      "Nombre d'occurences dans la liste 'corpus': 46502\n",
      "Nombre d'occurences dans la liste 'tags': 46502\n",
      "CPU times: total: 3.7 s\n",
      "Wall time: 3.82 s\n"
     ]
    }
   ],
   "source": [
    "%%time\n",
    "corpus = [text_cleaning(text) for text in corpus]\n",
    "tags = [text_cleaning(text).strip() for text in tags]\n",
    "\n",
    "print(f\"Nombre d'occurences dans la liste 'corpus': {len(corpus)}\")\n",
    "print(f\"Nombre d'occurences dans la liste 'tags': {len(tags)}\")"
   ]
  },
  {
   "cell_type": "markdown",
   "id": "b21153ea",
   "metadata": {},
   "source": [
    "## Fonction de calcul de fréquences"
   ]
  },
  {
   "cell_type": "code",
   "execution_count": 20,
   "id": "56e808f7",
   "metadata": {
    "ExecuteTime": {
     "end_time": "2023-05-05T07:49:12.286458Z",
     "start_time": "2023-05-05T07:49:12.271572Z"
    }
   },
   "outputs": [],
   "source": [
    "def words_freq(listOfList):\n",
    "    \"\"\"\n",
    "    Build distribution of words (frequency)\n",
    "    Args: List of lists\n",
    "    Return: word_dist_df(DataFrame)with frequency\n",
    "    \n",
    "    \"\"\"\n",
    "    \n",
    "    from nltk import FreqDist\n",
    "    \n",
    "    word_list = [token for token_list in listOfList for token in token_list]\n",
    "    word_dist = FreqDist(word_list)\n",
    "    word_dist_df = pd.DataFrame(word_dist.items(), columns=['Word', 'Frequency']).set_index('Word')\n",
    "    word_dist_df.sort_values(\"Frequency\", ascending=False, inplace=True)\n",
    "\n",
    "    return word_dist_df\n",
    "\n"
   ]
  },
  {
   "cell_type": "markdown",
   "id": "633e89b9",
   "metadata": {},
   "source": [
    "## Tokenisation"
   ]
  },
  {
   "cell_type": "markdown",
   "id": "3b8d4107",
   "metadata": {},
   "source": [
    "La **'tokenisation'** permet de transformer le texte saisi par l'utilisateur en liste de termes distincts (token), les termes génériques (stop words) sont supprimés"
   ]
  },
  {
   "cell_type": "code",
   "execution_count": 10,
   "id": "1ce63d8c",
   "metadata": {
    "ExecuteTime": {
     "end_time": "2023-04-22T09:50:37.082095Z",
     "start_time": "2023-04-22T09:50:37.071071Z"
    }
   },
   "outputs": [],
   "source": [
    "def tokenize(text):\n",
    "    \"\"\"\n",
    "    Tokenize words of a text\n",
    "    \n",
    "    Args: text(String)\n",
    "    Returns: result(list): Tokenized string\n",
    "    \n",
    "    \"\"\"\n",
    "    \n",
    "    from nltk.corpus import stopwords\n",
    "    from nltk import word_tokenize\n",
    "    from nltk.tokenize import sent_tokenize\n",
    "\n",
    "    stop_words = set(stopwords.words('english'))\n",
    "    \n",
    "    try:\n",
    "        result = word_tokenize(text, language='english')\n",
    "    except TypeError:\n",
    "        return text\n",
    "    \n",
    "    result = [token for token in result if token not in stop_words]\n",
    "    \n",
    "    return result"
   ]
  },
  {
   "cell_type": "code",
   "execution_count": 11,
   "id": "b6062812",
   "metadata": {
    "ExecuteTime": {
     "end_time": "2023-04-22T09:51:11.433747Z",
     "start_time": "2023-04-22T09:50:37.085096Z"
    }
   },
   "outputs": [
    {
     "name": "stdout",
     "output_type": "stream",
     "text": [
      "Nombre d'occurences dans la liste 'corpus': 46502\n",
      "Nombre d'occurences dans la liste 'tags': 46502\n",
      "CPU times: total: 34.2 s\n",
      "Wall time: 34.3 s\n"
     ]
    }
   ],
   "source": [
    "%%time\n",
    "corpus = [tokenize(text) for text in corpus]\n",
    "tags = [tokenize(text) for text in tags]\n",
    "\n",
    "print(f\"Nombre d'occurences dans la liste 'corpus': {len(corpus)}\")\n",
    "print(f\"Nombre d'occurences dans la liste 'tags': {len(tags)}\")"
   ]
  },
  {
   "cell_type": "markdown",
   "id": "9b49c766",
   "metadata": {},
   "source": [
    "- **On décide de manière un peu arbitraire de supprimer les 200 mots les plus utilisés**"
   ]
  },
  {
   "cell_type": "code",
   "execution_count": 12,
   "id": "b3bf2777",
   "metadata": {
    "ExecuteTime": {
     "end_time": "2023-04-22T09:51:11.449600Z",
     "start_time": "2023-04-22T09:51:11.436763Z"
    }
   },
   "outputs": [],
   "source": [
    "## liste des 200 mots les plus utilisés\n",
    "#temp_list = list(words_freq(corpus).head(200).index)\n",
    "#\n",
    "## on supprime dans le corpus\n",
    "#for elt_list in corpus:\n",
    "#    for elt in elt_list:\n",
    "#        if elt in temp_list:\n",
    "#            new_list = elt_list.remove(elt)\n",
    "#            elt = new_list"
   ]
  },
  {
   "cell_type": "code",
   "execution_count": 13,
   "id": "fc3caf38",
   "metadata": {
    "ExecuteTime": {
     "end_time": "2023-04-22T09:51:13.076290Z",
     "start_time": "2023-04-22T09:51:11.452590Z"
    }
   },
   "outputs": [
    {
     "data": {
      "text/plain": [
       "<Axes: xlabel='Word'>"
      ]
     },
     "execution_count": 13,
     "metadata": {},
     "output_type": "execute_result"
    },
    {
     "data": {
      "image/png": "[encoded data removed]",
      "text/plain": [
       "<Figure size 640x480 with 1 Axes>"
      ]
     },
     "metadata": {},
     "output_type": "display_data"
    }
   ],
   "source": [
    "# on visualise\n",
    "words_freq(corpus).head(10).plot(kind='bar')"
   ]
  },
  {
   "cell_type": "code",
   "execution_count": 24,
   "id": "86983b91",
   "metadata": {
    "ExecuteTime": {
     "end_time": "2023-05-05T08:01:26.584585Z",
     "start_time": "2023-05-05T08:01:24.901206Z"
    }
   },
   "outputs": [
    {
     "data": {
      "text/plain": [
       "<Axes: xlabel='Word'>"
      ]
     },
     "execution_count": 24,
     "metadata": {},
     "output_type": "execute_result"
    },
    {
     "data": {
      "image/png": "[encoded data removed]",
      "text/plain": [
       "<Figure size 640x480 with 1 Axes>"
      ]
     },
     "metadata": {},
     "output_type": "display_data"
    }
   ],
   "source": [
    "words_freq(corpus_tk).head(10).plot(kind='bar')"
   ]
  },
  {
   "cell_type": "markdown",
   "id": "f2bb0e00",
   "metadata": {},
   "source": [
    "## POS tagging"
   ]
  },
  {
   "cell_type": "markdown",
   "id": "a95ff03a",
   "metadata": {},
   "source": [
    "Afin de mieux identifier l'importance des termes utilisés nous allons effectuer un marquage POS  \n",
    "(probabilité avec chaînes de Markov en fonction du lien grammatical).  "
   ]
  },
  {
   "cell_type": "code",
   "execution_count": 14,
   "id": "5d8ad4f3",
   "metadata": {
    "ExecuteTime": {
     "end_time": "2023-04-22T09:51:13.091561Z",
     "start_time": "2023-04-22T09:51:13.078969Z"
    }
   },
   "outputs": [],
   "source": [
    "def filtering_nouns(tokens):\n",
    "    \"\"\"\n",
    "    Filter singular nouns\n",
    "    \n",
    "    Args: tokens(list)\n",
    "    Return: result(list): Filtered token list\n",
    "    \n",
    "    \"\"\" \n",
    "    \n",
    "    import nltk\n",
    "    result = nltk.pos_tag(tokens)\n",
    "    result = [token[0] for token in result if token[1] == 'NN']\n",
    "    \n",
    "    return result"
   ]
  },
  {
   "cell_type": "code",
   "execution_count": 15,
   "id": "9ce82031",
   "metadata": {
    "ExecuteTime": {
     "end_time": "2023-04-22T09:53:33.471039Z",
     "start_time": "2023-04-22T09:51:13.094095Z"
    }
   },
   "outputs": [
    {
     "name": "stdout",
     "output_type": "stream",
     "text": [
      "Nombre d'occurences dans la liste 'corpus': 46502\n",
      "Nombre d'occurences dans la liste 'tags': 46502\n",
      "CPU times: total: 2min 20s\n",
      "Wall time: 2min 20s\n"
     ]
    }
   ],
   "source": [
    "%%time\n",
    "corpus = [filtering_nouns(tokens) for tokens in corpus]\n",
    "\n",
    "print(f\"Nombre d'occurences dans la liste 'corpus': {len(corpus)}\")\n",
    "print(f\"Nombre d'occurences dans la liste 'tags': {len(tags)}\")"
   ]
  },
  {
   "cell_type": "code",
   "execution_count": 16,
   "id": "ce9567e8",
   "metadata": {
    "ExecuteTime": {
     "end_time": "2023-04-22T09:53:34.221396Z",
     "start_time": "2023-04-22T09:53:33.474079Z"
    }
   },
   "outputs": [
    {
     "data": {
      "text/plain": [
       "<Axes: xlabel='Word'>"
      ]
     },
     "execution_count": 16,
     "metadata": {},
     "output_type": "execute_result"
    },
    {
     "data": {
      "image/png": "[encoded data removed]",
      "text/plain": [
       "<Figure size 640x480 with 1 Axes>"
      ]
     },
     "metadata": {},
     "output_type": "display_data"
    }
   ],
   "source": [
    "# on visualise\n",
    "words_freq(corpus).head(10).plot(kind='bar')"
   ]
  },
  {
   "cell_type": "markdown",
   "id": "a1b58acd",
   "metadata": {},
   "source": [
    "## Lemmatisation"
   ]
  },
  {
   "cell_type": "markdown",
   "id": "af619254",
   "metadata": {},
   "source": [
    "Suppression des multiples déclinaisons d’un même terme (conjugaisons, féminin, pluriel …)"
   ]
  },
  {
   "cell_type": "code",
   "execution_count": 17,
   "id": "f00c2ff6",
   "metadata": {
    "ExecuteTime": {
     "end_time": "2023-04-22T09:53:34.237489Z",
     "start_time": "2023-04-22T09:53:34.223672Z"
    }
   },
   "outputs": [],
   "source": [
    "def lemmatization(tokens):\n",
    "    \"\"\"\n",
    "    Transform tokens into lems \n",
    "    Args: tokens(list)   \n",
    "    Return: result(list): List of lemmatized tokens\n",
    "    \n",
    "    \"\"\"\n",
    "    import nltk\n",
    "    from nltk.stem import WordNetLemmatizer\n",
    "    \n",
    "    lemmatizer = WordNetLemmatizer()\n",
    "    \n",
    "    result = []\n",
    "    for token in tokens:\n",
    "        result.append(lemmatizer.lemmatize(token))\n",
    "        \n",
    "    return result"
   ]
  },
  {
   "cell_type": "code",
   "execution_count": 18,
   "id": "6ccba5a1",
   "metadata": {
    "ExecuteTime": {
     "end_time": "2023-04-22T09:53:39.040674Z",
     "start_time": "2023-04-22T09:53:34.239495Z"
    }
   },
   "outputs": [
    {
     "name": "stdout",
     "output_type": "stream",
     "text": [
      "Nombre d'occurences dans la liste 'corpus': 46502\n",
      "Nombre d'occurences dans la liste 'tags': 46502\n",
      "CPU times: total: 4.77 s\n",
      "Wall time: 4.78 s\n"
     ]
    }
   ],
   "source": [
    "%%time\n",
    "\n",
    "# lemmatisation\n",
    "corpus = [lemmatization(tokens) for tokens in corpus]\n",
    "tags = [lemmatization(tokens) for tokens in tags]\n",
    "\n",
    "# suppression des 'blancs'\n",
    "tags_wo_blanks = []\n",
    "\n",
    "for tokens in tags:\n",
    "    tokens = [token for token in tokens if len(token)>1]\n",
    "    tags_wo_blanks.append(tokens)\n",
    "    \n",
    "tags = tags_wo_blanks\n",
    "\n",
    "print(f\"Nombre d'occurences dans la liste 'corpus': {len(corpus)}\")\n",
    "print(f\"Nombre d'occurences dans la liste 'tags': {len(tags)}\")\n"
   ]
  },
  {
   "cell_type": "code",
   "execution_count": 19,
   "id": "3b18f02b",
   "metadata": {
    "ExecuteTime": {
     "end_time": "2023-04-22T09:53:39.996425Z",
     "start_time": "2023-04-22T09:53:39.043389Z"
    }
   },
   "outputs": [
    {
     "data": {
      "text/plain": [
       "<Axes: xlabel='word_tags'>"
      ]
     },
     "execution_count": 19,
     "metadata": {},
     "output_type": "execute_result"
    },
    {
     "data": {
      "image/png": "[encoded data removed]",
      "text/plain": [
       "<Figure size 640x480 with 1 Axes>"
      ]
     },
     "metadata": {},
     "output_type": "display_data"
    },
    {
     "data": {
      "image/png": "[encoded data removed]",
      "text/plain": [
       "<Figure size 640x480 with 1 Axes>"
      ]
     },
     "metadata": {},
     "output_type": "display_data"
    }
   ],
   "source": [
    "# onvisualise\n",
    "words_freq(corpus).head(10).plot(kind='bar', xlabel='word_corpus')\n",
    "words_freq(tags).head(10).plot(kind='bar', xlabel='word_tags')"
   ]
  },
  {
   "cell_type": "markdown",
   "id": "b43a4e2f",
   "metadata": {},
   "source": [
    "## Filtrage des documents vides"
   ]
  },
  {
   "cell_type": "markdown",
   "id": "3da7d2d7",
   "metadata": {},
   "source": [
    "Les divers traitements précédents ont généré des documents vides que nous allons supprimer"
   ]
  },
  {
   "cell_type": "code",
   "execution_count": 20,
   "id": "3b5afd7a",
   "metadata": {
    "ExecuteTime": {
     "end_time": "2023-04-22T09:53:40.246995Z",
     "start_time": "2023-04-22T09:53:39.998976Z"
    }
   },
   "outputs": [
    {
     "name": "stdout",
     "output_type": "stream",
     "text": [
      "Observations restante du corpus original: 46502\n",
      "Nombre d'observations du corpus traité:     43798\n"
     ]
    },
    {
     "data": {
      "text/html": [
       "<div>\n",
       "<style scoped>\n",
       "    .dataframe tbody tr th:only-of-type {\n",
       "        vertical-align: middle;\n",
       "    }\n",
       "\n",
       "    .dataframe tbody tr th {\n",
       "        vertical-align: top;\n",
       "    }\n",
       "\n",
       "    .dataframe thead th {\n",
       "        text-align: right;\n",
       "    }\n",
       "</style>\n",
       "<table border=\"1\" class=\"dataframe\">\n",
       "  <thead>\n",
       "    <tr style=\"text-align: right;\">\n",
       "      <th></th>\n",
       "      <th>Post</th>\n",
       "      <th>splitted_text</th>\n",
       "      <th>splitted_tags</th>\n",
       "    </tr>\n",
       "  </thead>\n",
       "  <tbody>\n",
       "    <tr>\n",
       "      <th>0</th>\n",
       "      <td>How to convert Decimal to Double in C#? &lt;p&gt;I w...</td>\n",
       "      <td>[convert, decimal, assign, opacity, value, opa...</td>\n",
       "      <td>[floating, point, type, conversion, double, de...</td>\n",
       "    </tr>\n",
       "    <tr>\n",
       "      <th>1</th>\n",
       "      <td>Why did the width collapse in the percentage w...</td>\n",
       "      <td>[width, collapse, percentage, width, child, el...</td>\n",
       "      <td>[html, internet, explorer]</td>\n",
       "    </tr>\n",
       "    <tr>\n",
       "      <th>2</th>\n",
       "      <td>How do I calculate someone's age based on a Da...</td>\n",
       "      <td>[calculate, someone, birthday, person, calculate]</td>\n",
       "      <td>[datetime]</td>\n",
       "    </tr>\n",
       "    <tr>\n",
       "      <th>3</th>\n",
       "      <td>Calculate relative time in C# &lt;p&gt;Given a speci...</td>\n",
       "      <td>[time, datetime, value, time, month]</td>\n",
       "      <td>[datetime, time, datediff, relative, time, span]</td>\n",
       "    </tr>\n",
       "    <tr>\n",
       "      <th>4</th>\n",
       "      <td>Determine a user's timezone &lt;p&gt;Is there a stan...</td>\n",
       "      <td>[user, standard, server, determine, user, time...</td>\n",
       "      <td>[html, browser, timezone, user, agent, timezon...</td>\n",
       "    </tr>\n",
       "    <tr>\n",
       "      <th>5</th>\n",
       "      <td>Difference between Math.Floor() and Math.Trunc...</td>\n",
       "      <td>[difference, math, floor, math, truncate, diff...</td>\n",
       "      <td>[math]</td>\n",
       "    </tr>\n",
       "    <tr>\n",
       "      <th>6</th>\n",
       "      <td>Filling a DataSet or a DataTable from a LINQ q...</td>\n",
       "      <td>[dataset, linq, query, result, query, asmx, se...</td>\n",
       "      <td>[linq, service]</td>\n",
       "    </tr>\n",
       "    <tr>\n",
       "      <th>7</th>\n",
       "      <td>Binary Data in MySQL &lt;p&gt;How do I store binary ...</td>\n",
       "      <td>[mysql]</td>\n",
       "      <td>[mysql, database, binary, data, data, storage]</td>\n",
       "    </tr>\n",
       "    <tr>\n",
       "      <th>8</th>\n",
       "      <td>What is the fastest way to get the value of Ï...</td>\n",
       "      <td>[value, value, challenge, define, number, prog...</td>\n",
       "      <td>[performance, algorithm, language, agnostic, u...</td>\n",
       "    </tr>\n",
       "    <tr>\n",
       "      <th>9</th>\n",
       "      <td>Throw an error preventing a table update in a ...</td>\n",
       "      <td>[error, mysql, trigger, trigger, throw, error,...</td>\n",
       "      <td>[mysql, database, trigger]</td>\n",
       "    </tr>\n",
       "  </tbody>\n",
       "</table>\n",
       "</div>"
      ],
      "text/plain": [
       "                                                Post  \\\n",
       "0  How to convert Decimal to Double in C#? <p>I w...   \n",
       "1  Why did the width collapse in the percentage w...   \n",
       "2  How do I calculate someone's age based on a Da...   \n",
       "3  Calculate relative time in C# <p>Given a speci...   \n",
       "4  Determine a user's timezone <p>Is there a stan...   \n",
       "5  Difference between Math.Floor() and Math.Trunc...   \n",
       "6  Filling a DataSet or a DataTable from a LINQ q...   \n",
       "7  Binary Data in MySQL <p>How do I store binary ...   \n",
       "8  What is the fastest way to get the value of Ï...   \n",
       "9  Throw an error preventing a table update in a ...   \n",
       "\n",
       "                                       splitted_text  \\\n",
       "0  [convert, decimal, assign, opacity, value, opa...   \n",
       "1  [width, collapse, percentage, width, child, el...   \n",
       "2  [calculate, someone, birthday, person, calculate]   \n",
       "3               [time, datetime, value, time, month]   \n",
       "4  [user, standard, server, determine, user, time...   \n",
       "5  [difference, math, floor, math, truncate, diff...   \n",
       "6  [dataset, linq, query, result, query, asmx, se...   \n",
       "7                                            [mysql]   \n",
       "8  [value, value, challenge, define, number, prog...   \n",
       "9  [error, mysql, trigger, trigger, throw, error,...   \n",
       "\n",
       "                                       splitted_tags  \n",
       "0  [floating, point, type, conversion, double, de...  \n",
       "1                         [html, internet, explorer]  \n",
       "2                                         [datetime]  \n",
       "3   [datetime, time, datediff, relative, time, span]  \n",
       "4  [html, browser, timezone, user, agent, timezon...  \n",
       "5                                             [math]  \n",
       "6                                    [linq, service]  \n",
       "7     [mysql, database, binary, data, data, storage]  \n",
       "8  [performance, algorithm, language, agnostic, u...  \n",
       "9                         [mysql, database, trigger]  "
      ]
     },
     "execution_count": 20,
     "metadata": {},
     "output_type": "execute_result"
    }
   ],
   "source": [
    "print(f\"Observations restante du corpus original: {data.shape[0]}\")\n",
    "\n",
    "joined_corpus = [\" \".join(text) for text in corpus]\n",
    "corpus_df = pd.DataFrame(joined_corpus,\n",
    "                         columns=['one_text'])\n",
    "corpus_df['len_text'] = corpus_df['one_text'].apply(lambda x: len(x))\n",
    "\n",
    "joined_tags = [\" \".join(tags) for tags in tags]\n",
    "tag_df = pd.DataFrame(joined_tags,\n",
    "                      columns=['one_tag'])\n",
    "tag_df['len_tags'] = tag_df['one_tag'].apply(lambda x: len(x))\n",
    "\n",
    "corpus_tag_df = pd.concat([corpus_df, tag_df], axis=1)\n",
    "\n",
    "empty_data_idx = corpus_tag_df[(\n",
    "    corpus_tag_df['len_text']==0)\n",
    "    | (corpus_tag_df['len_tags']==0)].index\n",
    "\n",
    "corpus_tag_df.drop(index=empty_data_idx,\n",
    "                   inplace=True)\n",
    "\n",
    "data.drop(index=empty_data_idx,\n",
    "          inplace=True)\n",
    "\n",
    "print(f\"Nombre d'observations du corpus traité: \\\n",
    "    {corpus_tag_df.shape[0]}\")\n",
    "\n",
    "corpus_tag_df['splitted_text'] = \\\n",
    "    corpus_tag_df['one_text'].apply(lambda x: x.split(' '))\n",
    "\n",
    "corpus_tag_df['splitted_tags'] = \\\n",
    "    corpus_tag_df['one_tag'].apply(lambda x: x.split(' ') )\n",
    "\n",
    "filtered_corpus = corpus_tag_df['splitted_text'].to_list()\n",
    "filtered_tags = corpus_tag_df['splitted_tags'].to_list()\n",
    "filtered_original_posts = data['Post'].to_list()\n",
    "\n",
    "cleaned_data = pd.concat([data['Post'],\n",
    "                          corpus_tag_df['splitted_text'],\n",
    "                          corpus_tag_df['splitted_tags']],\n",
    "                         axis=1)\n",
    "\n",
    "cleaned_data.head(10)"
   ]
  },
  {
   "cell_type": "markdown",
   "id": "3d65af53",
   "metadata": {},
   "source": [
    "# Sauvegarde des données"
   ]
  },
  {
   "cell_type": "code",
   "execution_count": 21,
   "id": "2d711488",
   "metadata": {
    "ExecuteTime": {
     "end_time": "2023-04-22T09:53:41.565068Z",
     "start_time": "2023-04-22T09:53:40.250358Z"
    }
   },
   "outputs": [],
   "source": [
    "cleaned_data.to_csv(\"./data/cleaned_corpus.csv\", index=False)\n",
    "cleaned_data.to_pickle('./data/cleaned_corpus.pkl')"
   ]
  },
  {
   "cell_type": "markdown",
   "id": "c5aabdbc",
   "metadata": {},
   "source": [
    "# Analyses"
   ]
  },
  {
   "cell_type": "markdown",
   "id": "d07e0437",
   "metadata": {},
   "source": [
    "* Les différentes analyses seront effectuées dans le notebook 'modelisation' préalablement aux tentatives de classification supervisée et non supervivisée\n",
    "* Les resultats de ces analyses permettront de statuer sur une réduction des données"
   ]
  }
 ],
 "metadata": {
  "hide_input": false,
  "kernelspec": {
   "display_name": "Python 3 (ipykernel)",
   "language": "python",
   "name": "python3"
  },
  "language_info": {
   "codemirror_mode": {
    "name": "ipython",
    "version": 3
   },
   "file_extension": ".py",
   "mimetype": "text/x-python",
   "name": "python",
   "nbconvert_exporter": "python",
   "pygments_lexer": "ipython3",
   "version": "3.9.16"
  },
  "toc": {
   "base_numbering": 1,
   "nav_menu": {},
   "number_sections": true,
   "sideBar": true,
   "skip_h1_title": false,
   "title_cell": "Table of Contents",
   "title_sidebar": "Contents",
   "toc_cell": true,
   "toc_position": {
    "height": "calc(100% - 180px)",
    "left": "10px",
    "top": "150px",
    "width": "225px"
   },
   "toc_section_display": true,
   "toc_window_display": true
  }
 },
 "nbformat": 4,
 "nbformat_minor": 5
}
